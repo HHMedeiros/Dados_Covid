{
 "cells": [
  {
   "cell_type": "markdown",
   "id": "01f12128",
   "metadata": {},
   "source": [
    "COVID-19 BRASIL 25/02/2020  -  27/03/2022"
   ]
  },
  {
   "cell_type": "code",
   "execution_count": 71,
   "id": "8d2c8bd7",
   "metadata": {},
   "outputs": [],
   "source": [
    "#importando bibliotecas\n",
    "import pandas as pd\n",
    "from datetime import datetime\n",
    "import statistics as sts\n",
    "import seaborn as sns\n",
    "import numpy as np\n",
    "import plotly.graph_objs as go\n",
    "import plotly as py\n",
    "import plotly.express as px\n",
    "import matplotlib.pyplot as plt\n",
    "%matplotlib inline"
   ]
  },
  {
   "cell_type": "code",
   "execution_count": 72,
   "id": "a54ceebc",
   "metadata": {},
   "outputs": [],
   "source": [
    "#importando dados\n",
    "dados = pd.read_csv(\"caso.csv\", sep = \",\")"
   ]
  },
  {
   "cell_type": "code",
   "execution_count": 73,
   "id": "6f0dc3dc",
   "metadata": {},
   "outputs": [
    {
     "data": {
      "text/plain": [
       "(27, 13)"
      ]
     },
     "execution_count": 73,
     "metadata": {},
     "output_type": "execute_result"
    }
   ],
   "source": [
    "dados.loc[(dados['place_type'] == 'state') & (dados['is_last'] == True)].shape"
   ]
  },
  {
   "cell_type": "code",
   "execution_count": 74,
   "id": "e1969484",
   "metadata": {},
   "outputs": [],
   "source": [
    "dados['date'] = pd.to_datetime(dados['date'])"
   ]
  },
  {
   "cell_type": "code",
   "execution_count": 75,
   "id": "869149d7",
   "metadata": {},
   "outputs": [
    {
     "name": "stderr",
     "output_type": "stream",
     "text": [
      "C:\\Users\\Hennrick\\AppData\\Local\\Temp\\ipykernel_19660\\432190252.py:1: FutureWarning:\n",
      "\n",
      "Dropping of nuisance columns in DataFrame reductions (with 'numeric_only=None') is deprecated; in a future version this will raise TypeError.  Select only valid columns before calling the reduction.\n",
      "\n"
     ]
    },
    {
     "data": {
      "text/plain": [
       "state                             APACAMALDFESCEBAMSMAGOMTPAPEPBPIRJMGRNRRROPRSE...\n",
       "city                                                                              0\n",
       "place_type                        statestatestatestatestatestatestatestatestates...\n",
       "confirmed                                                                  29849740\n",
       "deaths                                                                       659159\n",
       "order_for_place                                                               19762\n",
       "is_last                                                                          27\n",
       "estimated_population_2019                                               210147125.0\n",
       "estimated_population                                                    211755692.0\n",
       "city_ibge_code                                                                786.0\n",
       "confirmed_per_100k_inhabitants                                         429913.27636\n",
       "death_rate                                                                   0.5359\n",
       "dtype: object"
      ]
     },
     "execution_count": 75,
     "metadata": {},
     "output_type": "execute_result"
    }
   ],
   "source": [
    "dados.loc[(dados['place_type'] == 'state')& (dados['is_last'] == True)].sum()"
   ]
  },
  {
   "cell_type": "markdown",
   "id": "ac217d0b",
   "metadata": {},
   "source": [
    "selecionando apenas o último registro de cada mês."
   ]
  },
  {
   "cell_type": "code",
   "execution_count": 76,
   "id": "bac717ce",
   "metadata": {},
   "outputs": [],
   "source": [
    "agrupados_by_month = dados.loc[((((dados['date'].dt.day == 31) & ((dados['date'].dt.month == 1)|(dados['date'].dt.month == 3)|\n",
    "                               (dados['date'].dt.month == 5)|(dados['date'].dt.month == 7)|(dados['date'].dt.month == 8)|\n",
    "                               (dados['date'].dt.month == 10)|(dados['date'].dt.month == 12)) & (dados['date'].dt.year == 2021))) |\n",
    "                               (((dados['date'].dt.day == 30) & ((dados['date'].dt.month == 4)|(dados['date'].dt.month == 6)|\n",
    "                               (dados['date'].dt.month == 9)|(dados['date'].dt.month == 11))) & (dados['date'].dt.year == 2021))|\n",
    "                               (((dados['date'].dt.day == 28) & (dados['date'].dt.month == 2)) & (dados['date'].dt.year == 2021))|\n",
    "                           (((dados['date'].dt.day == 31) & ((dados['date'].dt.month == 1)|\n",
    "                               (dados['date'].dt.month == 5)|(dados['date'].dt.month == 7)|(dados['date'].dt.month == 8)|\n",
    "                               (dados['date'].dt.month == 10)|(dados['date'].dt.month == 12))) & (dados['date'].dt.year == 2022)) |\n",
    "                               (((dados['date'].dt.day == 30) & ((dados['date'].dt.month == 4)|(dados['date'].dt.month == 6)|\n",
    "                               (dados['date'].dt.month == 9)|(dados['date'].dt.month == 11))) & (dados['date'].dt.year == 2022))|\n",
    "                               (((dados['date'].dt.day == 28) & (dados['date'].dt.month == 2)) & (dados['date'].dt.year == 2022))|\n",
    "                                ((dados['is_last'] == True) & (dados['date'].dt.month == 3) & (dados['date'].dt.year == 2022))| \n",
    "                              (((dados['date'].dt.day == 31) & ((dados['date'].dt.month == 1)|(dados['date'].dt.month == 3)|\n",
    "                               (dados['date'].dt.month == 5)|(dados['date'].dt.month == 7)|(dados['date'].dt.month == 8)|\n",
    "                               (dados['date'].dt.month == 10)|(dados['date'].dt.month == 12))) & (dados['date'].dt.year == 2020)) |\n",
    "                               (((dados['date'].dt.day == 30) & ((dados['date'].dt.month == 4)|(dados['date'].dt.month == 6)|\n",
    "                               (dados['date'].dt.month == 9)|(dados['date'].dt.month == 11))) & (dados['date'].dt.year == 2020))|\n",
    "                               ((dados['date'].dt.day == 28) & (dados['date'].dt.month == 2) & (dados['date'].dt.year == 2020)))].copy()"
   ]
  },
  {
   "cell_type": "markdown",
   "id": "68d830b6",
   "metadata": {},
   "source": [
    "selecionando apenas os estados"
   ]
  },
  {
   "cell_type": "code",
   "execution_count": 77,
   "id": "d45566bb",
   "metadata": {},
   "outputs": [],
   "source": [
    "selecao = agrupados_by_month.loc[agrupados_by_month['place_type'] == 'state'].copy()\n",
    "\n"
   ]
  },
  {
   "cell_type": "code",
   "execution_count": 78,
   "id": "1def4694",
   "metadata": {},
   "outputs": [],
   "source": [
    "selecao.reset_index(inplace=True)"
   ]
  },
  {
   "cell_type": "code",
   "execution_count": 79,
   "id": "2935468d",
   "metadata": {},
   "outputs": [],
   "source": [
    "selecao.drop(['index'], axis = 1, inplace = True)"
   ]
  },
  {
   "cell_type": "code",
   "execution_count": 80,
   "id": "26ee976b",
   "metadata": {},
   "outputs": [
    {
     "data": {
      "text/html": [
       "<div>\n",
       "<style scoped>\n",
       "    .dataframe tbody tr th:only-of-type {\n",
       "        vertical-align: middle;\n",
       "    }\n",
       "\n",
       "    .dataframe tbody tr th {\n",
       "        vertical-align: top;\n",
       "    }\n",
       "\n",
       "    .dataframe thead th {\n",
       "        text-align: right;\n",
       "    }\n",
       "</style>\n",
       "<table border=\"1\" class=\"dataframe\">\n",
       "  <thead>\n",
       "    <tr style=\"text-align: right;\">\n",
       "      <th></th>\n",
       "      <th>date</th>\n",
       "      <th>state</th>\n",
       "      <th>city</th>\n",
       "      <th>place_type</th>\n",
       "      <th>confirmed</th>\n",
       "      <th>deaths</th>\n",
       "      <th>order_for_place</th>\n",
       "      <th>is_last</th>\n",
       "      <th>estimated_population_2019</th>\n",
       "      <th>estimated_population</th>\n",
       "      <th>city_ibge_code</th>\n",
       "      <th>confirmed_per_100k_inhabitants</th>\n",
       "      <th>death_rate</th>\n",
       "    </tr>\n",
       "  </thead>\n",
       "  <tbody>\n",
       "    <tr>\n",
       "      <th>665</th>\n",
       "      <td>2020-02-28</td>\n",
       "      <td>SP</td>\n",
       "      <td>NaN</td>\n",
       "      <td>state</td>\n",
       "      <td>2</td>\n",
       "      <td>0</td>\n",
       "      <td>4</td>\n",
       "      <td>False</td>\n",
       "      <td>45919049.0</td>\n",
       "      <td>46289333.0</td>\n",
       "      <td>35.0</td>\n",
       "      <td>0.00432</td>\n",
       "      <td>0.0000</td>\n",
       "    </tr>\n",
       "    <tr>\n",
       "      <th>467</th>\n",
       "      <td>2020-03-31</td>\n",
       "      <td>RN</td>\n",
       "      <td>NaN</td>\n",
       "      <td>state</td>\n",
       "      <td>82</td>\n",
       "      <td>1</td>\n",
       "      <td>14</td>\n",
       "      <td>False</td>\n",
       "      <td>3506853.0</td>\n",
       "      <td>3534165.0</td>\n",
       "      <td>24.0</td>\n",
       "      <td>2.32021</td>\n",
       "      <td>0.0122</td>\n",
       "    </tr>\n",
       "    <tr>\n",
       "      <th>96</th>\n",
       "      <td>2020-03-31</td>\n",
       "      <td>AL</td>\n",
       "      <td>NaN</td>\n",
       "      <td>state</td>\n",
       "      <td>18</td>\n",
       "      <td>1</td>\n",
       "      <td>21</td>\n",
       "      <td>False</td>\n",
       "      <td>3337357.0</td>\n",
       "      <td>3351543.0</td>\n",
       "      <td>27.0</td>\n",
       "      <td>0.53707</td>\n",
       "      <td>0.0556</td>\n",
       "    </tr>\n",
       "    <tr>\n",
       "      <th>320</th>\n",
       "      <td>2020-03-31</td>\n",
       "      <td>PA</td>\n",
       "      <td>NaN</td>\n",
       "      <td>state</td>\n",
       "      <td>34</td>\n",
       "      <td>0</td>\n",
       "      <td>14</td>\n",
       "      <td>False</td>\n",
       "      <td>8602865.0</td>\n",
       "      <td>8690745.0</td>\n",
       "      <td>15.0</td>\n",
       "      <td>0.39122</td>\n",
       "      <td>0.0000</td>\n",
       "    </tr>\n",
       "    <tr>\n",
       "      <th>491</th>\n",
       "      <td>2020-03-31</td>\n",
       "      <td>RR</td>\n",
       "      <td>NaN</td>\n",
       "      <td>state</td>\n",
       "      <td>16</td>\n",
       "      <td>0</td>\n",
       "      <td>11</td>\n",
       "      <td>False</td>\n",
       "      <td>605761.0</td>\n",
       "      <td>631181.0</td>\n",
       "      <td>14.0</td>\n",
       "      <td>2.53493</td>\n",
       "      <td>0.0000</td>\n",
       "    </tr>\n",
       "    <tr>\n",
       "      <th>...</th>\n",
       "      <td>...</td>\n",
       "      <td>...</td>\n",
       "      <td>...</td>\n",
       "      <td>...</td>\n",
       "      <td>...</td>\n",
       "      <td>...</td>\n",
       "      <td>...</td>\n",
       "      <td>...</td>\n",
       "      <td>...</td>\n",
       "      <td>...</td>\n",
       "      <td>...</td>\n",
       "      <td>...</td>\n",
       "      <td>...</td>\n",
       "    </tr>\n",
       "    <tr>\n",
       "      <th>146</th>\n",
       "      <td>2022-03-27</td>\n",
       "      <td>CE</td>\n",
       "      <td>NaN</td>\n",
       "      <td>state</td>\n",
       "      <td>1239746</td>\n",
       "      <td>26708</td>\n",
       "      <td>728</td>\n",
       "      <td>True</td>\n",
       "      <td>9132078.0</td>\n",
       "      <td>9187103.0</td>\n",
       "      <td>23.0</td>\n",
       "      <td>13494.41712</td>\n",
       "      <td>0.0215</td>\n",
       "    </tr>\n",
       "    <tr>\n",
       "      <th>121</th>\n",
       "      <td>2022-03-27</td>\n",
       "      <td>ES</td>\n",
       "      <td>NaN</td>\n",
       "      <td>state</td>\n",
       "      <td>1037188</td>\n",
       "      <td>14323</td>\n",
       "      <td>750</td>\n",
       "      <td>True</td>\n",
       "      <td>4018650.0</td>\n",
       "      <td>4064052.0</td>\n",
       "      <td>32.0</td>\n",
       "      <td>25521.03172</td>\n",
       "      <td>0.0138</td>\n",
       "    </tr>\n",
       "    <tr>\n",
       "      <th>567</th>\n",
       "      <td>2022-03-27</td>\n",
       "      <td>SC</td>\n",
       "      <td>NaN</td>\n",
       "      <td>state</td>\n",
       "      <td>1671175</td>\n",
       "      <td>21648</td>\n",
       "      <td>746</td>\n",
       "      <td>True</td>\n",
       "      <td>7164788.0</td>\n",
       "      <td>7252502.0</td>\n",
       "      <td>42.0</td>\n",
       "      <td>23042.73753</td>\n",
       "      <td>0.0130</td>\n",
       "    </tr>\n",
       "    <tr>\n",
       "      <th>492</th>\n",
       "      <td>2022-03-27</td>\n",
       "      <td>RO</td>\n",
       "      <td>NaN</td>\n",
       "      <td>state</td>\n",
       "      <td>391943</td>\n",
       "      <td>7172</td>\n",
       "      <td>717</td>\n",
       "      <td>True</td>\n",
       "      <td>1777225.0</td>\n",
       "      <td>1796460.0</td>\n",
       "      <td>11.0</td>\n",
       "      <td>21817.51890</td>\n",
       "      <td>0.0183</td>\n",
       "    </tr>\n",
       "    <tr>\n",
       "      <th>0</th>\n",
       "      <td>2022-03-27</td>\n",
       "      <td>AP</td>\n",
       "      <td>NaN</td>\n",
       "      <td>state</td>\n",
       "      <td>160328</td>\n",
       "      <td>2122</td>\n",
       "      <td>734</td>\n",
       "      <td>True</td>\n",
       "      <td>845731.0</td>\n",
       "      <td>861773.0</td>\n",
       "      <td>16.0</td>\n",
       "      <td>18604.43527</td>\n",
       "      <td>0.0132</td>\n",
       "    </tr>\n",
       "  </tbody>\n",
       "</table>\n",
       "<p>666 rows × 13 columns</p>\n",
       "</div>"
      ],
      "text/plain": [
       "          date state city place_type  confirmed  deaths  order_for_place  \\\n",
       "665 2020-02-28    SP  NaN      state          2       0                4   \n",
       "467 2020-03-31    RN  NaN      state         82       1               14   \n",
       "96  2020-03-31    AL  NaN      state         18       1               21   \n",
       "320 2020-03-31    PA  NaN      state         34       0               14   \n",
       "491 2020-03-31    RR  NaN      state         16       0               11   \n",
       "..         ...   ...  ...        ...        ...     ...              ...   \n",
       "146 2022-03-27    CE  NaN      state    1239746   26708              728   \n",
       "121 2022-03-27    ES  NaN      state    1037188   14323              750   \n",
       "567 2022-03-27    SC  NaN      state    1671175   21648              746   \n",
       "492 2022-03-27    RO  NaN      state     391943    7172              717   \n",
       "0   2022-03-27    AP  NaN      state     160328    2122              734   \n",
       "\n",
       "     is_last  estimated_population_2019  estimated_population  city_ibge_code  \\\n",
       "665    False                 45919049.0            46289333.0            35.0   \n",
       "467    False                  3506853.0             3534165.0            24.0   \n",
       "96     False                  3337357.0             3351543.0            27.0   \n",
       "320    False                  8602865.0             8690745.0            15.0   \n",
       "491    False                   605761.0              631181.0            14.0   \n",
       "..       ...                        ...                   ...             ...   \n",
       "146     True                  9132078.0             9187103.0            23.0   \n",
       "121     True                  4018650.0             4064052.0            32.0   \n",
       "567     True                  7164788.0             7252502.0            42.0   \n",
       "492     True                  1777225.0             1796460.0            11.0   \n",
       "0       True                   845731.0              861773.0            16.0   \n",
       "\n",
       "     confirmed_per_100k_inhabitants  death_rate  \n",
       "665                         0.00432      0.0000  \n",
       "467                         2.32021      0.0122  \n",
       "96                          0.53707      0.0556  \n",
       "320                         0.39122      0.0000  \n",
       "491                         2.53493      0.0000  \n",
       "..                              ...         ...  \n",
       "146                     13494.41712      0.0215  \n",
       "121                     25521.03172      0.0138  \n",
       "567                     23042.73753      0.0130  \n",
       "492                     21817.51890      0.0183  \n",
       "0                       18604.43527      0.0132  \n",
       "\n",
       "[666 rows x 13 columns]"
      ]
     },
     "execution_count": 80,
     "metadata": {},
     "output_type": "execute_result"
    }
   ],
   "source": [
    "selecao.sort_values(['date'])"
   ]
  },
  {
   "cell_type": "code",
   "execution_count": 81,
   "id": "8c21ce5b",
   "metadata": {},
   "outputs": [],
   "source": [
    "selecao['mes'] = selecao['date'].dt.month\n",
    "selecao['ano'] = selecao['date'].dt.year"
   ]
  },
  {
   "cell_type": "markdown",
   "id": "485187f2",
   "metadata": {},
   "source": [
    "Nota-se que temos alguns estados faltando em em alguns meses"
   ]
  },
  {
   "cell_type": "code",
   "execution_count": 82,
   "id": "d148a332",
   "metadata": {},
   "outputs": [
    {
     "data": {
      "text/plain": [
       "mes  ano \n",
       "1    2021    27\n",
       "     2022    27\n",
       "2    2020     1\n",
       "     2021    27\n",
       "     2022    25\n",
       "3    2020    27\n",
       "     2021    27\n",
       "     2022    27\n",
       "4    2020    27\n",
       "     2021    26\n",
       "5    2020    27\n",
       "     2021    27\n",
       "6    2020    27\n",
       "     2021    27\n",
       "7    2020    27\n",
       "     2021    27\n",
       "8    2020    27\n",
       "     2021    27\n",
       "9    2020    27\n",
       "     2021    27\n",
       "10   2020    25\n",
       "     2021    26\n",
       "11   2020    27\n",
       "     2021    26\n",
       "12   2020    27\n",
       "     2021    24\n",
       "dtype: int64"
      ]
     },
     "execution_count": 82,
     "metadata": {},
     "output_type": "execute_result"
    }
   ],
   "source": [
    "selecao.groupby(['mes', 'ano']).size()"
   ]
  },
  {
   "cell_type": "code",
   "execution_count": 83,
   "id": "31b74a8a",
   "metadata": {},
   "outputs": [
    {
     "data": {
      "text/html": [
       "<div>\n",
       "<style scoped>\n",
       "    .dataframe tbody tr th:only-of-type {\n",
       "        vertical-align: middle;\n",
       "    }\n",
       "\n",
       "    .dataframe tbody tr th {\n",
       "        vertical-align: top;\n",
       "    }\n",
       "\n",
       "    .dataframe thead th {\n",
       "        text-align: right;\n",
       "    }\n",
       "</style>\n",
       "<table border=\"1\" class=\"dataframe\">\n",
       "  <thead>\n",
       "    <tr style=\"text-align: right;\">\n",
       "      <th></th>\n",
       "      <th>date</th>\n",
       "      <th>state</th>\n",
       "      <th>city</th>\n",
       "      <th>place_type</th>\n",
       "      <th>confirmed</th>\n",
       "      <th>deaths</th>\n",
       "      <th>order_for_place</th>\n",
       "      <th>is_last</th>\n",
       "      <th>estimated_population_2019</th>\n",
       "      <th>estimated_population</th>\n",
       "      <th>city_ibge_code</th>\n",
       "      <th>confirmed_per_100k_inhabitants</th>\n",
       "      <th>death_rate</th>\n",
       "      <th>mes</th>\n",
       "      <th>ano</th>\n",
       "    </tr>\n",
       "  </thead>\n",
       "  <tbody>\n",
       "    <tr>\n",
       "      <th>0</th>\n",
       "      <td>2022-03-27</td>\n",
       "      <td>AP</td>\n",
       "      <td>NaN</td>\n",
       "      <td>state</td>\n",
       "      <td>160328</td>\n",
       "      <td>2122</td>\n",
       "      <td>734</td>\n",
       "      <td>True</td>\n",
       "      <td>845731.0</td>\n",
       "      <td>861773.0</td>\n",
       "      <td>16.0</td>\n",
       "      <td>18604.43527</td>\n",
       "      <td>0.0132</td>\n",
       "      <td>3</td>\n",
       "      <td>2022</td>\n",
       "    </tr>\n",
       "    <tr>\n",
       "      <th>25</th>\n",
       "      <td>2022-03-27</td>\n",
       "      <td>AC</td>\n",
       "      <td>NaN</td>\n",
       "      <td>state</td>\n",
       "      <td>123808</td>\n",
       "      <td>1992</td>\n",
       "      <td>722</td>\n",
       "      <td>True</td>\n",
       "      <td>881935.0</td>\n",
       "      <td>894470.0</td>\n",
       "      <td>12.0</td>\n",
       "      <td>13841.49273</td>\n",
       "      <td>0.0161</td>\n",
       "      <td>3</td>\n",
       "      <td>2022</td>\n",
       "    </tr>\n",
       "    <tr>\n",
       "      <th>48</th>\n",
       "      <td>2022-03-27</td>\n",
       "      <td>AM</td>\n",
       "      <td>NaN</td>\n",
       "      <td>state</td>\n",
       "      <td>581070</td>\n",
       "      <td>14151</td>\n",
       "      <td>739</td>\n",
       "      <td>True</td>\n",
       "      <td>4144597.0</td>\n",
       "      <td>4207714.0</td>\n",
       "      <td>13.0</td>\n",
       "      <td>13809.63630</td>\n",
       "      <td>0.0244</td>\n",
       "      <td>3</td>\n",
       "      <td>2022</td>\n",
       "    </tr>\n",
       "    <tr>\n",
       "      <th>72</th>\n",
       "      <td>2022-03-26</td>\n",
       "      <td>AL</td>\n",
       "      <td>NaN</td>\n",
       "      <td>state</td>\n",
       "      <td>295972</td>\n",
       "      <td>6869</td>\n",
       "      <td>746</td>\n",
       "      <td>True</td>\n",
       "      <td>3337357.0</td>\n",
       "      <td>3351543.0</td>\n",
       "      <td>27.0</td>\n",
       "      <td>8830.91758</td>\n",
       "      <td>0.0232</td>\n",
       "      <td>3</td>\n",
       "      <td>2022</td>\n",
       "    </tr>\n",
       "    <tr>\n",
       "      <th>97</th>\n",
       "      <td>2022-03-25</td>\n",
       "      <td>DF</td>\n",
       "      <td>NaN</td>\n",
       "      <td>state</td>\n",
       "      <td>691353</td>\n",
       "      <td>11573</td>\n",
       "      <td>705</td>\n",
       "      <td>True</td>\n",
       "      <td>3015268.0</td>\n",
       "      <td>3055149.0</td>\n",
       "      <td>53.0</td>\n",
       "      <td>22629.10909</td>\n",
       "      <td>0.0167</td>\n",
       "      <td>3</td>\n",
       "      <td>2022</td>\n",
       "    </tr>\n",
       "    <tr>\n",
       "      <th>121</th>\n",
       "      <td>2022-03-27</td>\n",
       "      <td>ES</td>\n",
       "      <td>NaN</td>\n",
       "      <td>state</td>\n",
       "      <td>1037188</td>\n",
       "      <td>14323</td>\n",
       "      <td>750</td>\n",
       "      <td>True</td>\n",
       "      <td>4018650.0</td>\n",
       "      <td>4064052.0</td>\n",
       "      <td>32.0</td>\n",
       "      <td>25521.03172</td>\n",
       "      <td>0.0138</td>\n",
       "      <td>3</td>\n",
       "      <td>2022</td>\n",
       "    </tr>\n",
       "    <tr>\n",
       "      <th>146</th>\n",
       "      <td>2022-03-27</td>\n",
       "      <td>CE</td>\n",
       "      <td>NaN</td>\n",
       "      <td>state</td>\n",
       "      <td>1239746</td>\n",
       "      <td>26708</td>\n",
       "      <td>728</td>\n",
       "      <td>True</td>\n",
       "      <td>9132078.0</td>\n",
       "      <td>9187103.0</td>\n",
       "      <td>23.0</td>\n",
       "      <td>13494.41712</td>\n",
       "      <td>0.0215</td>\n",
       "      <td>3</td>\n",
       "      <td>2022</td>\n",
       "    </tr>\n",
       "    <tr>\n",
       "      <th>171</th>\n",
       "      <td>2022-03-27</td>\n",
       "      <td>BA</td>\n",
       "      <td>NaN</td>\n",
       "      <td>state</td>\n",
       "      <td>1530054</td>\n",
       "      <td>29658</td>\n",
       "      <td>746</td>\n",
       "      <td>True</td>\n",
       "      <td>14873064.0</td>\n",
       "      <td>14930634.0</td>\n",
       "      <td>29.0</td>\n",
       "      <td>10247.74969</td>\n",
       "      <td>0.0194</td>\n",
       "      <td>3</td>\n",
       "      <td>2022</td>\n",
       "    </tr>\n",
       "    <tr>\n",
       "      <th>196</th>\n",
       "      <td>2022-03-26</td>\n",
       "      <td>MS</td>\n",
       "      <td>NaN</td>\n",
       "      <td>state</td>\n",
       "      <td>523565</td>\n",
       "      <td>10486</td>\n",
       "      <td>722</td>\n",
       "      <td>True</td>\n",
       "      <td>2778986.0</td>\n",
       "      <td>2809394.0</td>\n",
       "      <td>50.0</td>\n",
       "      <td>18636.22546</td>\n",
       "      <td>0.0200</td>\n",
       "      <td>3</td>\n",
       "      <td>2022</td>\n",
       "    </tr>\n",
       "    <tr>\n",
       "      <th>221</th>\n",
       "      <td>2022-03-27</td>\n",
       "      <td>MA</td>\n",
       "      <td>NaN</td>\n",
       "      <td>state</td>\n",
       "      <td>424199</td>\n",
       "      <td>10869</td>\n",
       "      <td>736</td>\n",
       "      <td>True</td>\n",
       "      <td>7075181.0</td>\n",
       "      <td>7114598.0</td>\n",
       "      <td>21.0</td>\n",
       "      <td>5962.37482</td>\n",
       "      <td>0.0256</td>\n",
       "      <td>3</td>\n",
       "      <td>2022</td>\n",
       "    </tr>\n",
       "    <tr>\n",
       "      <th>246</th>\n",
       "      <td>2022-03-27</td>\n",
       "      <td>GO</td>\n",
       "      <td>NaN</td>\n",
       "      <td>state</td>\n",
       "      <td>1269853</td>\n",
       "      <td>26212</td>\n",
       "      <td>732</td>\n",
       "      <td>True</td>\n",
       "      <td>7018354.0</td>\n",
       "      <td>7113540.0</td>\n",
       "      <td>52.0</td>\n",
       "      <td>17851.21051</td>\n",
       "      <td>0.0206</td>\n",
       "      <td>3</td>\n",
       "      <td>2022</td>\n",
       "    </tr>\n",
       "    <tr>\n",
       "      <th>271</th>\n",
       "      <td>2022-03-27</td>\n",
       "      <td>MT</td>\n",
       "      <td>NaN</td>\n",
       "      <td>state</td>\n",
       "      <td>724653</td>\n",
       "      <td>14854</td>\n",
       "      <td>734</td>\n",
       "      <td>True</td>\n",
       "      <td>3484466.0</td>\n",
       "      <td>3526220.0</td>\n",
       "      <td>51.0</td>\n",
       "      <td>20550.41943</td>\n",
       "      <td>0.0205</td>\n",
       "      <td>3</td>\n",
       "      <td>2022</td>\n",
       "    </tr>\n",
       "    <tr>\n",
       "      <th>296</th>\n",
       "      <td>2022-03-27</td>\n",
       "      <td>PA</td>\n",
       "      <td>NaN</td>\n",
       "      <td>state</td>\n",
       "      <td>751293</td>\n",
       "      <td>18079</td>\n",
       "      <td>740</td>\n",
       "      <td>True</td>\n",
       "      <td>8602865.0</td>\n",
       "      <td>8690745.0</td>\n",
       "      <td>15.0</td>\n",
       "      <td>8644.74795</td>\n",
       "      <td>0.0241</td>\n",
       "      <td>3</td>\n",
       "      <td>2022</td>\n",
       "    </tr>\n",
       "    <tr>\n",
       "      <th>321</th>\n",
       "      <td>2022-03-27</td>\n",
       "      <td>PE</td>\n",
       "      <td>NaN</td>\n",
       "      <td>state</td>\n",
       "      <td>892115</td>\n",
       "      <td>21366</td>\n",
       "      <td>746</td>\n",
       "      <td>True</td>\n",
       "      <td>9557071.0</td>\n",
       "      <td>9616621.0</td>\n",
       "      <td>26.0</td>\n",
       "      <td>9276.80315</td>\n",
       "      <td>0.0239</td>\n",
       "      <td>3</td>\n",
       "      <td>2022</td>\n",
       "    </tr>\n",
       "    <tr>\n",
       "      <th>346</th>\n",
       "      <td>2022-03-27</td>\n",
       "      <td>PB</td>\n",
       "      <td>NaN</td>\n",
       "      <td>state</td>\n",
       "      <td>594891</td>\n",
       "      <td>10189</td>\n",
       "      <td>738</td>\n",
       "      <td>True</td>\n",
       "      <td>4018127.0</td>\n",
       "      <td>4039277.0</td>\n",
       "      <td>25.0</td>\n",
       "      <td>14727.66042</td>\n",
       "      <td>0.0171</td>\n",
       "      <td>3</td>\n",
       "      <td>2022</td>\n",
       "    </tr>\n",
       "    <tr>\n",
       "      <th>371</th>\n",
       "      <td>2022-03-26</td>\n",
       "      <td>PI</td>\n",
       "      <td>NaN</td>\n",
       "      <td>state</td>\n",
       "      <td>367515</td>\n",
       "      <td>7721</td>\n",
       "      <td>738</td>\n",
       "      <td>True</td>\n",
       "      <td>3273227.0</td>\n",
       "      <td>3281480.0</td>\n",
       "      <td>22.0</td>\n",
       "      <td>11199.67210</td>\n",
       "      <td>0.0210</td>\n",
       "      <td>3</td>\n",
       "      <td>2022</td>\n",
       "    </tr>\n",
       "    <tr>\n",
       "      <th>396</th>\n",
       "      <td>2022-03-27</td>\n",
       "      <td>RJ</td>\n",
       "      <td>NaN</td>\n",
       "      <td>state</td>\n",
       "      <td>2078817</td>\n",
       "      <td>72695</td>\n",
       "      <td>737</td>\n",
       "      <td>True</td>\n",
       "      <td>17264943.0</td>\n",
       "      <td>17366189.0</td>\n",
       "      <td>33.0</td>\n",
       "      <td>11970.48472</td>\n",
       "      <td>0.0350</td>\n",
       "      <td>3</td>\n",
       "      <td>2022</td>\n",
       "    </tr>\n",
       "    <tr>\n",
       "      <th>421</th>\n",
       "      <td>2022-03-27</td>\n",
       "      <td>MG</td>\n",
       "      <td>NaN</td>\n",
       "      <td>state</td>\n",
       "      <td>3317401</td>\n",
       "      <td>60767</td>\n",
       "      <td>745</td>\n",
       "      <td>True</td>\n",
       "      <td>21168791.0</td>\n",
       "      <td>21292666.0</td>\n",
       "      <td>31.0</td>\n",
       "      <td>15580.01708</td>\n",
       "      <td>0.0183</td>\n",
       "      <td>3</td>\n",
       "      <td>2022</td>\n",
       "    </tr>\n",
       "    <tr>\n",
       "      <th>445</th>\n",
       "      <td>2022-03-26</td>\n",
       "      <td>RN</td>\n",
       "      <td>NaN</td>\n",
       "      <td>state</td>\n",
       "      <td>495749</td>\n",
       "      <td>8119</td>\n",
       "      <td>695</td>\n",
       "      <td>True</td>\n",
       "      <td>3506853.0</td>\n",
       "      <td>3534165.0</td>\n",
       "      <td>24.0</td>\n",
       "      <td>14027.33036</td>\n",
       "      <td>0.0164</td>\n",
       "      <td>3</td>\n",
       "      <td>2022</td>\n",
       "    </tr>\n",
       "    <tr>\n",
       "      <th>468</th>\n",
       "      <td>2022-03-26</td>\n",
       "      <td>RR</td>\n",
       "      <td>NaN</td>\n",
       "      <td>state</td>\n",
       "      <td>155062</td>\n",
       "      <td>2144</td>\n",
       "      <td>720</td>\n",
       "      <td>True</td>\n",
       "      <td>605761.0</td>\n",
       "      <td>631181.0</td>\n",
       "      <td>14.0</td>\n",
       "      <td>24566.96257</td>\n",
       "      <td>0.0138</td>\n",
       "      <td>3</td>\n",
       "      <td>2022</td>\n",
       "    </tr>\n",
       "    <tr>\n",
       "      <th>492</th>\n",
       "      <td>2022-03-27</td>\n",
       "      <td>RO</td>\n",
       "      <td>NaN</td>\n",
       "      <td>state</td>\n",
       "      <td>391943</td>\n",
       "      <td>7172</td>\n",
       "      <td>717</td>\n",
       "      <td>True</td>\n",
       "      <td>1777225.0</td>\n",
       "      <td>1796460.0</td>\n",
       "      <td>11.0</td>\n",
       "      <td>21817.51890</td>\n",
       "      <td>0.0183</td>\n",
       "      <td>3</td>\n",
       "      <td>2022</td>\n",
       "    </tr>\n",
       "    <tr>\n",
       "      <th>517</th>\n",
       "      <td>2022-03-27</td>\n",
       "      <td>PR</td>\n",
       "      <td>NaN</td>\n",
       "      <td>state</td>\n",
       "      <td>2407960</td>\n",
       "      <td>42896</td>\n",
       "      <td>744</td>\n",
       "      <td>True</td>\n",
       "      <td>11433957.0</td>\n",
       "      <td>11516840.0</td>\n",
       "      <td>41.0</td>\n",
       "      <td>20908.16578</td>\n",
       "      <td>0.0178</td>\n",
       "      <td>3</td>\n",
       "      <td>2022</td>\n",
       "    </tr>\n",
       "    <tr>\n",
       "      <th>542</th>\n",
       "      <td>2022-03-27</td>\n",
       "      <td>SE</td>\n",
       "      <td>NaN</td>\n",
       "      <td>state</td>\n",
       "      <td>325274</td>\n",
       "      <td>6309</td>\n",
       "      <td>733</td>\n",
       "      <td>True</td>\n",
       "      <td>2298696.0</td>\n",
       "      <td>2318822.0</td>\n",
       "      <td>28.0</td>\n",
       "      <td>14027.55365</td>\n",
       "      <td>0.0194</td>\n",
       "      <td>3</td>\n",
       "      <td>2022</td>\n",
       "    </tr>\n",
       "    <tr>\n",
       "      <th>567</th>\n",
       "      <td>2022-03-27</td>\n",
       "      <td>SC</td>\n",
       "      <td>NaN</td>\n",
       "      <td>state</td>\n",
       "      <td>1671175</td>\n",
       "      <td>21648</td>\n",
       "      <td>746</td>\n",
       "      <td>True</td>\n",
       "      <td>7164788.0</td>\n",
       "      <td>7252502.0</td>\n",
       "      <td>42.0</td>\n",
       "      <td>23042.73753</td>\n",
       "      <td>0.0130</td>\n",
       "      <td>3</td>\n",
       "      <td>2022</td>\n",
       "    </tr>\n",
       "    <tr>\n",
       "      <th>592</th>\n",
       "      <td>2022-03-25</td>\n",
       "      <td>TO</td>\n",
       "      <td>NaN</td>\n",
       "      <td>state</td>\n",
       "      <td>302502</td>\n",
       "      <td>4142</td>\n",
       "      <td>694</td>\n",
       "      <td>True</td>\n",
       "      <td>1572866.0</td>\n",
       "      <td>1590248.0</td>\n",
       "      <td>17.0</td>\n",
       "      <td>19022.31602</td>\n",
       "      <td>0.0137</td>\n",
       "      <td>3</td>\n",
       "      <td>2022</td>\n",
       "    </tr>\n",
       "    <tr>\n",
       "      <th>615</th>\n",
       "      <td>2022-03-27</td>\n",
       "      <td>RS</td>\n",
       "      <td>NaN</td>\n",
       "      <td>state</td>\n",
       "      <td>2263880</td>\n",
       "      <td>38985</td>\n",
       "      <td>732</td>\n",
       "      <td>True</td>\n",
       "      <td>11377239.0</td>\n",
       "      <td>11422973.0</td>\n",
       "      <td>43.0</td>\n",
       "      <td>19818.65842</td>\n",
       "      <td>0.0172</td>\n",
       "      <td>3</td>\n",
       "      <td>2022</td>\n",
       "    </tr>\n",
       "    <tr>\n",
       "      <th>640</th>\n",
       "      <td>2022-03-27</td>\n",
       "      <td>SP</td>\n",
       "      <td>NaN</td>\n",
       "      <td>state</td>\n",
       "      <td>5232374</td>\n",
       "      <td>167110</td>\n",
       "      <td>743</td>\n",
       "      <td>True</td>\n",
       "      <td>45919049.0</td>\n",
       "      <td>46289333.0</td>\n",
       "      <td>35.0</td>\n",
       "      <td>11303.62799</td>\n",
       "      <td>0.0319</td>\n",
       "      <td>3</td>\n",
       "      <td>2022</td>\n",
       "    </tr>\n",
       "  </tbody>\n",
       "</table>\n",
       "</div>"
      ],
      "text/plain": [
       "          date state city place_type  confirmed  deaths  order_for_place  \\\n",
       "0   2022-03-27    AP  NaN      state     160328    2122              734   \n",
       "25  2022-03-27    AC  NaN      state     123808    1992              722   \n",
       "48  2022-03-27    AM  NaN      state     581070   14151              739   \n",
       "72  2022-03-26    AL  NaN      state     295972    6869              746   \n",
       "97  2022-03-25    DF  NaN      state     691353   11573              705   \n",
       "121 2022-03-27    ES  NaN      state    1037188   14323              750   \n",
       "146 2022-03-27    CE  NaN      state    1239746   26708              728   \n",
       "171 2022-03-27    BA  NaN      state    1530054   29658              746   \n",
       "196 2022-03-26    MS  NaN      state     523565   10486              722   \n",
       "221 2022-03-27    MA  NaN      state     424199   10869              736   \n",
       "246 2022-03-27    GO  NaN      state    1269853   26212              732   \n",
       "271 2022-03-27    MT  NaN      state     724653   14854              734   \n",
       "296 2022-03-27    PA  NaN      state     751293   18079              740   \n",
       "321 2022-03-27    PE  NaN      state     892115   21366              746   \n",
       "346 2022-03-27    PB  NaN      state     594891   10189              738   \n",
       "371 2022-03-26    PI  NaN      state     367515    7721              738   \n",
       "396 2022-03-27    RJ  NaN      state    2078817   72695              737   \n",
       "421 2022-03-27    MG  NaN      state    3317401   60767              745   \n",
       "445 2022-03-26    RN  NaN      state     495749    8119              695   \n",
       "468 2022-03-26    RR  NaN      state     155062    2144              720   \n",
       "492 2022-03-27    RO  NaN      state     391943    7172              717   \n",
       "517 2022-03-27    PR  NaN      state    2407960   42896              744   \n",
       "542 2022-03-27    SE  NaN      state     325274    6309              733   \n",
       "567 2022-03-27    SC  NaN      state    1671175   21648              746   \n",
       "592 2022-03-25    TO  NaN      state     302502    4142              694   \n",
       "615 2022-03-27    RS  NaN      state    2263880   38985              732   \n",
       "640 2022-03-27    SP  NaN      state    5232374  167110              743   \n",
       "\n",
       "     is_last  estimated_population_2019  estimated_population  city_ibge_code  \\\n",
       "0       True                   845731.0              861773.0            16.0   \n",
       "25      True                   881935.0              894470.0            12.0   \n",
       "48      True                  4144597.0             4207714.0            13.0   \n",
       "72      True                  3337357.0             3351543.0            27.0   \n",
       "97      True                  3015268.0             3055149.0            53.0   \n",
       "121     True                  4018650.0             4064052.0            32.0   \n",
       "146     True                  9132078.0             9187103.0            23.0   \n",
       "171     True                 14873064.0            14930634.0            29.0   \n",
       "196     True                  2778986.0             2809394.0            50.0   \n",
       "221     True                  7075181.0             7114598.0            21.0   \n",
       "246     True                  7018354.0             7113540.0            52.0   \n",
       "271     True                  3484466.0             3526220.0            51.0   \n",
       "296     True                  8602865.0             8690745.0            15.0   \n",
       "321     True                  9557071.0             9616621.0            26.0   \n",
       "346     True                  4018127.0             4039277.0            25.0   \n",
       "371     True                  3273227.0             3281480.0            22.0   \n",
       "396     True                 17264943.0            17366189.0            33.0   \n",
       "421     True                 21168791.0            21292666.0            31.0   \n",
       "445     True                  3506853.0             3534165.0            24.0   \n",
       "468     True                   605761.0              631181.0            14.0   \n",
       "492     True                  1777225.0             1796460.0            11.0   \n",
       "517     True                 11433957.0            11516840.0            41.0   \n",
       "542     True                  2298696.0             2318822.0            28.0   \n",
       "567     True                  7164788.0             7252502.0            42.0   \n",
       "592     True                  1572866.0             1590248.0            17.0   \n",
       "615     True                 11377239.0            11422973.0            43.0   \n",
       "640     True                 45919049.0            46289333.0            35.0   \n",
       "\n",
       "     confirmed_per_100k_inhabitants  death_rate  mes   ano  \n",
       "0                       18604.43527      0.0132    3  2022  \n",
       "25                      13841.49273      0.0161    3  2022  \n",
       "48                      13809.63630      0.0244    3  2022  \n",
       "72                       8830.91758      0.0232    3  2022  \n",
       "97                      22629.10909      0.0167    3  2022  \n",
       "121                     25521.03172      0.0138    3  2022  \n",
       "146                     13494.41712      0.0215    3  2022  \n",
       "171                     10247.74969      0.0194    3  2022  \n",
       "196                     18636.22546      0.0200    3  2022  \n",
       "221                      5962.37482      0.0256    3  2022  \n",
       "246                     17851.21051      0.0206    3  2022  \n",
       "271                     20550.41943      0.0205    3  2022  \n",
       "296                      8644.74795      0.0241    3  2022  \n",
       "321                      9276.80315      0.0239    3  2022  \n",
       "346                     14727.66042      0.0171    3  2022  \n",
       "371                     11199.67210      0.0210    3  2022  \n",
       "396                     11970.48472      0.0350    3  2022  \n",
       "421                     15580.01708      0.0183    3  2022  \n",
       "445                     14027.33036      0.0164    3  2022  \n",
       "468                     24566.96257      0.0138    3  2022  \n",
       "492                     21817.51890      0.0183    3  2022  \n",
       "517                     20908.16578      0.0178    3  2022  \n",
       "542                     14027.55365      0.0194    3  2022  \n",
       "567                     23042.73753      0.0130    3  2022  \n",
       "592                     19022.31602      0.0137    3  2022  \n",
       "615                     19818.65842      0.0172    3  2022  \n",
       "640                     11303.62799      0.0319    3  2022  "
      ]
     },
     "execution_count": 83,
     "metadata": {},
     "output_type": "execute_result"
    }
   ],
   "source": [
    "selecao.loc[(selecao['mes'] == 3) & (selecao['ano'] == 2022)]"
   ]
  },
  {
   "cell_type": "markdown",
   "id": "6c5a49bd",
   "metadata": {},
   "source": [
    "12 - 21= ac to rr\n",
    "11 - 21 = df\n",
    "10 - 21 = ac\n",
    "10 - 2020 = mg rn\n",
    "04 - 2021 = rn\n",
    "02 - 2022 = to am"
   ]
  },
  {
   "cell_type": "code",
   "execution_count": 84,
   "id": "25dfb4b7",
   "metadata": {},
   "outputs": [],
   "source": [
    "faltantes = dados.loc[(dados['place_type'] == 'state') & (dados['state'] == 'AC') & (dados['date'].dt.year == 2021) &\n",
    "          (((dados['date'].dt.month == 12)&(dados['date'].dt.day == 30))|((dados['date'].dt.month == 10)& (dados['date'].dt.day==29)))].copy()"
   ]
  },
  {
   "cell_type": "code",
   "execution_count": 85,
   "id": "73e78ec9",
   "metadata": {},
   "outputs": [
    {
     "data": {
      "text/html": [
       "<div>\n",
       "<style scoped>\n",
       "    .dataframe tbody tr th:only-of-type {\n",
       "        vertical-align: middle;\n",
       "    }\n",
       "\n",
       "    .dataframe tbody tr th {\n",
       "        vertical-align: top;\n",
       "    }\n",
       "\n",
       "    .dataframe thead th {\n",
       "        text-align: right;\n",
       "    }\n",
       "</style>\n",
       "<table border=\"1\" class=\"dataframe\">\n",
       "  <thead>\n",
       "    <tr style=\"text-align: right;\">\n",
       "      <th></th>\n",
       "      <th>date</th>\n",
       "      <th>state</th>\n",
       "      <th>city</th>\n",
       "      <th>place_type</th>\n",
       "      <th>confirmed</th>\n",
       "      <th>deaths</th>\n",
       "      <th>order_for_place</th>\n",
       "      <th>is_last</th>\n",
       "      <th>estimated_population_2019</th>\n",
       "      <th>estimated_population</th>\n",
       "      <th>city_ibge_code</th>\n",
       "      <th>confirmed_per_100k_inhabitants</th>\n",
       "      <th>death_rate</th>\n",
       "    </tr>\n",
       "  </thead>\n",
       "  <tbody>\n",
       "    <tr>\n",
       "      <th>10296</th>\n",
       "      <td>2021-12-30</td>\n",
       "      <td>AC</td>\n",
       "      <td>NaN</td>\n",
       "      <td>state</td>\n",
       "      <td>88384</td>\n",
       "      <td>1851</td>\n",
       "      <td>643</td>\n",
       "      <td>False</td>\n",
       "      <td>881935.0</td>\n",
       "      <td>894470.0</td>\n",
       "      <td>12.0</td>\n",
       "      <td>9881.15867</td>\n",
       "      <td>0.0209</td>\n",
       "    </tr>\n",
       "    <tr>\n",
       "      <th>10347</th>\n",
       "      <td>2021-10-29</td>\n",
       "      <td>AC</td>\n",
       "      <td>NaN</td>\n",
       "      <td>state</td>\n",
       "      <td>88050</td>\n",
       "      <td>1845</td>\n",
       "      <td>592</td>\n",
       "      <td>False</td>\n",
       "      <td>881935.0</td>\n",
       "      <td>894470.0</td>\n",
       "      <td>12.0</td>\n",
       "      <td>9843.81813</td>\n",
       "      <td>0.0210</td>\n",
       "    </tr>\n",
       "  </tbody>\n",
       "</table>\n",
       "</div>"
      ],
      "text/plain": [
       "            date state city place_type  confirmed  deaths  order_for_place  \\\n",
       "10296 2021-12-30    AC  NaN      state      88384    1851              643   \n",
       "10347 2021-10-29    AC  NaN      state      88050    1845              592   \n",
       "\n",
       "       is_last  estimated_population_2019  estimated_population  \\\n",
       "10296    False                   881935.0              894470.0   \n",
       "10347    False                   881935.0              894470.0   \n",
       "\n",
       "       city_ibge_code  confirmed_per_100k_inhabitants  death_rate  \n",
       "10296            12.0                      9881.15867      0.0209  \n",
       "10347            12.0                      9843.81813      0.0210  "
      ]
     },
     "execution_count": 85,
     "metadata": {},
     "output_type": "execute_result"
    }
   ],
   "source": [
    "faltantes"
   ]
  },
  {
   "cell_type": "code",
   "execution_count": 124,
   "id": "14747a65",
   "metadata": {},
   "outputs": [],
   "source": [
    "faltantes_2 = dados.loc[((dados['place_type'] == 'state') & (dados['state'] == 'RR')&\n",
    "          (dados['date'].dt.year == 2021) & (dados['date'].dt.month == 12) & (dados['date'].dt.day == 30))|\n",
    "         ((dados['place_type'] == 'state') & (dados['state'] == 'TO')&\n",
    "          (dados['date'].dt.year == 2021) & (dados['date'].dt.month == 12) & (dados['date'].dt.day == 29))].copy()"
   ]
  },
  {
   "cell_type": "code",
   "execution_count": 87,
   "id": "27265655",
   "metadata": {},
   "outputs": [],
   "source": [
    "faltantes_3 = dados.loc[(dados['place_type'] == 'state') & (dados['state'] == 'DF')&\n",
    "          (dados['date'].dt.year == 2021) & (dados['date'].dt.month == 11) & (dados['date'].dt.day == 29)].copy()"
   ]
  },
  {
   "cell_type": "code",
   "execution_count": 88,
   "id": "6935c213",
   "metadata": {},
   "outputs": [],
   "source": [
    "faltantes_4 = dados.loc[(dados['place_type'] == 'state') & ((dados['state'] == 'MG')|(dados['state'] == 'RN'))&\n",
    "          (dados['date'].dt.year == 2020) & (dados['date'].dt.month == 10) & (dados['date'].dt.day == 30)].copy()"
   ]
  },
  {
   "cell_type": "code",
   "execution_count": 89,
   "id": "6c78fa45",
   "metadata": {},
   "outputs": [],
   "source": [
    "faltantes_5 = dados.loc[(dados['place_type'] == 'state') & (dados['state'] == 'RN') &\n",
    "          (dados['date'].dt.year == 2021) & (dados['date'].dt.month == 4) & (dados['date'].dt.day == 29)].copy()"
   ]
  },
  {
   "cell_type": "code",
   "execution_count": 90,
   "id": "628bef11",
   "metadata": {},
   "outputs": [],
   "source": [
    "faltantes_6 = dados.loc[(dados['place_type'] == 'state') & ((dados['state'] == 'TO')|(dados['state'] == 'AM')) &\n",
    "          (dados['date'].dt.year == 2022) & (dados['date'].dt.month == 2)&(dados['date'].dt.day == 27)].copy()"
   ]
  },
  {
   "cell_type": "code",
   "execution_count": 91,
   "id": "ab8bfb3d",
   "metadata": {},
   "outputs": [],
   "source": [
    "faltam = [faltantes, faltantes_2, faltantes_3, faltantes_4, faltantes_5, faltantes_6]\n"
   ]
  },
  {
   "cell_type": "code",
   "execution_count": 92,
   "id": "dc18ba5b",
   "metadata": {},
   "outputs": [],
   "source": [
    "faltantes_geral = pd.concat(faltam)"
   ]
  },
  {
   "cell_type": "code",
   "execution_count": 93,
   "id": "27143ae8",
   "metadata": {},
   "outputs": [
    {
     "data": {
      "text/plain": [
       "DatetimeIndex(['2021-12-31', '2021-10-31', '2021-11-30', '2020-10-31',\n",
       "               '2021-04-30', '2022-02-28', '2022-03-27'],\n",
       "              dtype='datetime64[ns]', freq=None)"
      ]
     },
     "execution_count": 93,
     "metadata": {},
     "output_type": "execute_result"
    }
   ],
   "source": [
    "data = ['31-12-2021', '31-10-2021', '30-11-2021', '31-10-2020', '30-04-2021', '28-02-2022', '27-03-2022']\n",
    "datas = pd.to_datetime(data, dayfirst=True)\n",
    "datas\n",
    "\n"
   ]
  },
  {
   "cell_type": "code",
   "execution_count": 94,
   "id": "1ec035df",
   "metadata": {},
   "outputs": [],
   "source": [
    "faltantes_geral['mes'] = faltantes_geral['date'].dt.month\n",
    "faltantes_geral['ano'] = faltantes_geral['date'].dt.year"
   ]
  },
  {
   "cell_type": "code",
   "execution_count": 95,
   "id": "4ce0b46e",
   "metadata": {},
   "outputs": [],
   "source": [
    "faltantes_geral.loc[(faltantes_geral['mes'] == 12) & (faltantes_geral['ano']== 2021), 'date'] = datas[0]\n",
    "faltantes_geral.loc[(faltantes_geral['mes'] == 10) & (faltantes_geral['ano']== 2021), 'date'] = datas[1]\n",
    "faltantes_geral.loc[(faltantes_geral['mes'] == 11) & (faltantes_geral['ano']== 2021), 'date'] = datas[2]\n",
    "faltantes_geral.loc[(faltantes_geral['mes'] == 10) & (faltantes_geral['ano']== 2020), 'date'] = datas[3]\n",
    "faltantes_geral.loc[(faltantes_geral['mes'] == 4) & (faltantes_geral['ano']== 2021), 'date'] = datas[4]\n",
    "faltantes_geral.loc[(faltantes_geral['mes'] == 2) & (faltantes_geral['ano']== 2022), 'date'] = datas[5]"
   ]
  },
  {
   "cell_type": "code",
   "execution_count": 96,
   "id": "8593635c",
   "metadata": {},
   "outputs": [
    {
     "data": {
      "text/html": [
       "<div>\n",
       "<style scoped>\n",
       "    .dataframe tbody tr th:only-of-type {\n",
       "        vertical-align: middle;\n",
       "    }\n",
       "\n",
       "    .dataframe tbody tr th {\n",
       "        vertical-align: top;\n",
       "    }\n",
       "\n",
       "    .dataframe thead th {\n",
       "        text-align: right;\n",
       "    }\n",
       "</style>\n",
       "<table border=\"1\" class=\"dataframe\">\n",
       "  <thead>\n",
       "    <tr style=\"text-align: right;\">\n",
       "      <th></th>\n",
       "      <th>date</th>\n",
       "      <th>state</th>\n",
       "      <th>city</th>\n",
       "      <th>place_type</th>\n",
       "      <th>confirmed</th>\n",
       "      <th>deaths</th>\n",
       "      <th>order_for_place</th>\n",
       "      <th>is_last</th>\n",
       "      <th>estimated_population_2019</th>\n",
       "      <th>estimated_population</th>\n",
       "      <th>city_ibge_code</th>\n",
       "      <th>confirmed_per_100k_inhabitants</th>\n",
       "      <th>death_rate</th>\n",
       "      <th>mes</th>\n",
       "      <th>ano</th>\n",
       "    </tr>\n",
       "  </thead>\n",
       "  <tbody>\n",
       "    <tr>\n",
       "      <th>10296</th>\n",
       "      <td>2021-12-31</td>\n",
       "      <td>AC</td>\n",
       "      <td>NaN</td>\n",
       "      <td>state</td>\n",
       "      <td>88384</td>\n",
       "      <td>1851</td>\n",
       "      <td>643</td>\n",
       "      <td>False</td>\n",
       "      <td>881935.0</td>\n",
       "      <td>894470.0</td>\n",
       "      <td>12.0</td>\n",
       "      <td>9881.15867</td>\n",
       "      <td>0.0209</td>\n",
       "      <td>12</td>\n",
       "      <td>2021</td>\n",
       "    </tr>\n",
       "    <tr>\n",
       "      <th>10347</th>\n",
       "      <td>2021-10-31</td>\n",
       "      <td>AC</td>\n",
       "      <td>NaN</td>\n",
       "      <td>state</td>\n",
       "      <td>88050</td>\n",
       "      <td>1845</td>\n",
       "      <td>592</td>\n",
       "      <td>False</td>\n",
       "      <td>881935.0</td>\n",
       "      <td>894470.0</td>\n",
       "      <td>12.0</td>\n",
       "      <td>9843.81813</td>\n",
       "      <td>0.0210</td>\n",
       "      <td>10</td>\n",
       "      <td>2021</td>\n",
       "    </tr>\n",
       "    <tr>\n",
       "      <th>1674770</th>\n",
       "      <td>2021-12-31</td>\n",
       "      <td>RR</td>\n",
       "      <td>NaN</td>\n",
       "      <td>state</td>\n",
       "      <td>129086</td>\n",
       "      <td>2078</td>\n",
       "      <td>637</td>\n",
       "      <td>False</td>\n",
       "      <td>605761.0</td>\n",
       "      <td>631181.0</td>\n",
       "      <td>14.0</td>\n",
       "      <td>20451.50282</td>\n",
       "      <td>0.0161</td>\n",
       "      <td>12</td>\n",
       "      <td>2021</td>\n",
       "    </tr>\n",
       "    <tr>\n",
       "      <th>2142638</th>\n",
       "      <td>2021-12-31</td>\n",
       "      <td>TO</td>\n",
       "      <td>NaN</td>\n",
       "      <td>state</td>\n",
       "      <td>235558</td>\n",
       "      <td>3939</td>\n",
       "      <td>623</td>\n",
       "      <td>False</td>\n",
       "      <td>1572866.0</td>\n",
       "      <td>1590248.0</td>\n",
       "      <td>17.0</td>\n",
       "      <td>14812.65815</td>\n",
       "      <td>0.0167</td>\n",
       "      <td>12</td>\n",
       "      <td>2021</td>\n",
       "    </tr>\n",
       "    <tr>\n",
       "      <th>129980</th>\n",
       "      <td>2021-11-30</td>\n",
       "      <td>DF</td>\n",
       "      <td>NaN</td>\n",
       "      <td>state</td>\n",
       "      <td>517746</td>\n",
       "      <td>11035</td>\n",
       "      <td>623</td>\n",
       "      <td>False</td>\n",
       "      <td>3015268.0</td>\n",
       "      <td>3055149.0</td>\n",
       "      <td>53.0</td>\n",
       "      <td>16946.66938</td>\n",
       "      <td>0.0213</td>\n",
       "      <td>11</td>\n",
       "      <td>2021</td>\n",
       "    </tr>\n",
       "    <tr>\n",
       "      <th>1295170</th>\n",
       "      <td>2020-10-31</td>\n",
       "      <td>MG</td>\n",
       "      <td>NaN</td>\n",
       "      <td>state</td>\n",
       "      <td>358971</td>\n",
       "      <td>9015</td>\n",
       "      <td>236</td>\n",
       "      <td>False</td>\n",
       "      <td>21168791.0</td>\n",
       "      <td>21292666.0</td>\n",
       "      <td>31.0</td>\n",
       "      <td>1685.89034</td>\n",
       "      <td>0.0251</td>\n",
       "      <td>10</td>\n",
       "      <td>2020</td>\n",
       "    </tr>\n",
       "    <tr>\n",
       "      <th>1594940</th>\n",
       "      <td>2020-10-31</td>\n",
       "      <td>RN</td>\n",
       "      <td>NaN</td>\n",
       "      <td>state</td>\n",
       "      <td>81518</td>\n",
       "      <td>2586</td>\n",
       "      <td>208</td>\n",
       "      <td>False</td>\n",
       "      <td>3506853.0</td>\n",
       "      <td>3534165.0</td>\n",
       "      <td>24.0</td>\n",
       "      <td>2306.57029</td>\n",
       "      <td>0.0317</td>\n",
       "      <td>10</td>\n",
       "      <td>2020</td>\n",
       "    </tr>\n",
       "    <tr>\n",
       "      <th>1594779</th>\n",
       "      <td>2021-04-30</td>\n",
       "      <td>RN</td>\n",
       "      <td>NaN</td>\n",
       "      <td>state</td>\n",
       "      <td>224880</td>\n",
       "      <td>5506</td>\n",
       "      <td>369</td>\n",
       "      <td>False</td>\n",
       "      <td>3506853.0</td>\n",
       "      <td>3534165.0</td>\n",
       "      <td>24.0</td>\n",
       "      <td>6363.03059</td>\n",
       "      <td>0.0245</td>\n",
       "      <td>4</td>\n",
       "      <td>2021</td>\n",
       "    </tr>\n",
       "    <tr>\n",
       "      <th>22701</th>\n",
       "      <td>2022-02-28</td>\n",
       "      <td>AM</td>\n",
       "      <td>NaN</td>\n",
       "      <td>state</td>\n",
       "      <td>573515</td>\n",
       "      <td>14116</td>\n",
       "      <td>712</td>\n",
       "      <td>False</td>\n",
       "      <td>4144597.0</td>\n",
       "      <td>4207714.0</td>\n",
       "      <td>13.0</td>\n",
       "      <td>13630.08512</td>\n",
       "      <td>0.0246</td>\n",
       "      <td>2</td>\n",
       "      <td>2022</td>\n",
       "    </tr>\n",
       "    <tr>\n",
       "      <th>2142589</th>\n",
       "      <td>2022-02-28</td>\n",
       "      <td>TO</td>\n",
       "      <td>NaN</td>\n",
       "      <td>state</td>\n",
       "      <td>298473</td>\n",
       "      <td>4109</td>\n",
       "      <td>672</td>\n",
       "      <td>False</td>\n",
       "      <td>1572866.0</td>\n",
       "      <td>1590248.0</td>\n",
       "      <td>17.0</td>\n",
       "      <td>18768.95931</td>\n",
       "      <td>0.0138</td>\n",
       "      <td>2</td>\n",
       "      <td>2022</td>\n",
       "    </tr>\n",
       "  </tbody>\n",
       "</table>\n",
       "</div>"
      ],
      "text/plain": [
       "              date state city place_type  confirmed  deaths  order_for_place  \\\n",
       "10296   2021-12-31    AC  NaN      state      88384    1851              643   \n",
       "10347   2021-10-31    AC  NaN      state      88050    1845              592   \n",
       "1674770 2021-12-31    RR  NaN      state     129086    2078              637   \n",
       "2142638 2021-12-31    TO  NaN      state     235558    3939              623   \n",
       "129980  2021-11-30    DF  NaN      state     517746   11035              623   \n",
       "1295170 2020-10-31    MG  NaN      state     358971    9015              236   \n",
       "1594940 2020-10-31    RN  NaN      state      81518    2586              208   \n",
       "1594779 2021-04-30    RN  NaN      state     224880    5506              369   \n",
       "22701   2022-02-28    AM  NaN      state     573515   14116              712   \n",
       "2142589 2022-02-28    TO  NaN      state     298473    4109              672   \n",
       "\n",
       "         is_last  estimated_population_2019  estimated_population  \\\n",
       "10296      False                   881935.0              894470.0   \n",
       "10347      False                   881935.0              894470.0   \n",
       "1674770    False                   605761.0              631181.0   \n",
       "2142638    False                  1572866.0             1590248.0   \n",
       "129980     False                  3015268.0             3055149.0   \n",
       "1295170    False                 21168791.0            21292666.0   \n",
       "1594940    False                  3506853.0             3534165.0   \n",
       "1594779    False                  3506853.0             3534165.0   \n",
       "22701      False                  4144597.0             4207714.0   \n",
       "2142589    False                  1572866.0             1590248.0   \n",
       "\n",
       "         city_ibge_code  confirmed_per_100k_inhabitants  death_rate  mes   ano  \n",
       "10296              12.0                      9881.15867      0.0209   12  2021  \n",
       "10347              12.0                      9843.81813      0.0210   10  2021  \n",
       "1674770            14.0                     20451.50282      0.0161   12  2021  \n",
       "2142638            17.0                     14812.65815      0.0167   12  2021  \n",
       "129980             53.0                     16946.66938      0.0213   11  2021  \n",
       "1295170            31.0                      1685.89034      0.0251   10  2020  \n",
       "1594940            24.0                      2306.57029      0.0317   10  2020  \n",
       "1594779            24.0                      6363.03059      0.0245    4  2021  \n",
       "22701              13.0                     13630.08512      0.0246    2  2022  \n",
       "2142589            17.0                     18768.95931      0.0138    2  2022  "
      ]
     },
     "execution_count": 96,
     "metadata": {},
     "output_type": "execute_result"
    }
   ],
   "source": [
    "faltantes_geral"
   ]
  },
  {
   "cell_type": "code",
   "execution_count": 97,
   "id": "9d5db800",
   "metadata": {},
   "outputs": [],
   "source": [
    "df = [selecao, faltantes_geral]\n",
    "new_selecao = pd.concat(df)"
   ]
  },
  {
   "cell_type": "code",
   "execution_count": 98,
   "id": "6fdcabc5",
   "metadata": {},
   "outputs": [
    {
     "data": {
      "text/plain": [
       "mes  ano \n",
       "1    2021    27\n",
       "     2022    27\n",
       "2    2020     1\n",
       "     2021    27\n",
       "     2022    27\n",
       "3    2020    27\n",
       "     2021    27\n",
       "     2022    27\n",
       "4    2020    27\n",
       "     2021    27\n",
       "5    2020    27\n",
       "     2021    27\n",
       "6    2020    27\n",
       "     2021    27\n",
       "7    2020    27\n",
       "     2021    27\n",
       "8    2020    27\n",
       "     2021    27\n",
       "9    2020    27\n",
       "     2021    27\n",
       "10   2020    27\n",
       "     2021    27\n",
       "11   2020    27\n",
       "     2021    27\n",
       "12   2020    27\n",
       "     2021    27\n",
       "dtype: int64"
      ]
     },
     "execution_count": 98,
     "metadata": {},
     "output_type": "execute_result"
    }
   ],
   "source": [
    "new_selecao.groupby(['mes', 'ano']).size()"
   ]
  },
  {
   "cell_type": "code",
   "execution_count": 99,
   "id": "7dee5dbb",
   "metadata": {},
   "outputs": [
    {
     "data": {
      "text/html": [
       "<div>\n",
       "<style scoped>\n",
       "    .dataframe tbody tr th:only-of-type {\n",
       "        vertical-align: middle;\n",
       "    }\n",
       "\n",
       "    .dataframe tbody tr th {\n",
       "        vertical-align: top;\n",
       "    }\n",
       "\n",
       "    .dataframe thead th {\n",
       "        text-align: right;\n",
       "    }\n",
       "</style>\n",
       "<table border=\"1\" class=\"dataframe\">\n",
       "  <thead>\n",
       "    <tr style=\"text-align: right;\">\n",
       "      <th></th>\n",
       "      <th>date</th>\n",
       "      <th>state</th>\n",
       "      <th>city</th>\n",
       "      <th>place_type</th>\n",
       "      <th>confirmed</th>\n",
       "      <th>deaths</th>\n",
       "      <th>order_for_place</th>\n",
       "      <th>is_last</th>\n",
       "      <th>estimated_population_2019</th>\n",
       "      <th>estimated_population</th>\n",
       "      <th>city_ibge_code</th>\n",
       "      <th>confirmed_per_100k_inhabitants</th>\n",
       "      <th>death_rate</th>\n",
       "      <th>mes</th>\n",
       "      <th>ano</th>\n",
       "    </tr>\n",
       "  </thead>\n",
       "  <tbody>\n",
       "    <tr>\n",
       "      <th>0</th>\n",
       "      <td>2022-03-27</td>\n",
       "      <td>AP</td>\n",
       "      <td>NaN</td>\n",
       "      <td>state</td>\n",
       "      <td>160328</td>\n",
       "      <td>2122</td>\n",
       "      <td>734</td>\n",
       "      <td>True</td>\n",
       "      <td>845731.0</td>\n",
       "      <td>861773.0</td>\n",
       "      <td>16.0</td>\n",
       "      <td>18604.43527</td>\n",
       "      <td>0.0132</td>\n",
       "      <td>3</td>\n",
       "      <td>2022</td>\n",
       "    </tr>\n",
       "    <tr>\n",
       "      <th>25</th>\n",
       "      <td>2022-03-27</td>\n",
       "      <td>AC</td>\n",
       "      <td>NaN</td>\n",
       "      <td>state</td>\n",
       "      <td>123808</td>\n",
       "      <td>1992</td>\n",
       "      <td>722</td>\n",
       "      <td>True</td>\n",
       "      <td>881935.0</td>\n",
       "      <td>894470.0</td>\n",
       "      <td>12.0</td>\n",
       "      <td>13841.49273</td>\n",
       "      <td>0.0161</td>\n",
       "      <td>3</td>\n",
       "      <td>2022</td>\n",
       "    </tr>\n",
       "    <tr>\n",
       "      <th>48</th>\n",
       "      <td>2022-03-27</td>\n",
       "      <td>AM</td>\n",
       "      <td>NaN</td>\n",
       "      <td>state</td>\n",
       "      <td>581070</td>\n",
       "      <td>14151</td>\n",
       "      <td>739</td>\n",
       "      <td>True</td>\n",
       "      <td>4144597.0</td>\n",
       "      <td>4207714.0</td>\n",
       "      <td>13.0</td>\n",
       "      <td>13809.63630</td>\n",
       "      <td>0.0244</td>\n",
       "      <td>3</td>\n",
       "      <td>2022</td>\n",
       "    </tr>\n",
       "    <tr>\n",
       "      <th>72</th>\n",
       "      <td>2022-03-26</td>\n",
       "      <td>AL</td>\n",
       "      <td>NaN</td>\n",
       "      <td>state</td>\n",
       "      <td>295972</td>\n",
       "      <td>6869</td>\n",
       "      <td>746</td>\n",
       "      <td>True</td>\n",
       "      <td>3337357.0</td>\n",
       "      <td>3351543.0</td>\n",
       "      <td>27.0</td>\n",
       "      <td>8830.91758</td>\n",
       "      <td>0.0232</td>\n",
       "      <td>3</td>\n",
       "      <td>2022</td>\n",
       "    </tr>\n",
       "    <tr>\n",
       "      <th>97</th>\n",
       "      <td>2022-03-25</td>\n",
       "      <td>DF</td>\n",
       "      <td>NaN</td>\n",
       "      <td>state</td>\n",
       "      <td>691353</td>\n",
       "      <td>11573</td>\n",
       "      <td>705</td>\n",
       "      <td>True</td>\n",
       "      <td>3015268.0</td>\n",
       "      <td>3055149.0</td>\n",
       "      <td>53.0</td>\n",
       "      <td>22629.10909</td>\n",
       "      <td>0.0167</td>\n",
       "      <td>3</td>\n",
       "      <td>2022</td>\n",
       "    </tr>\n",
       "    <tr>\n",
       "      <th>121</th>\n",
       "      <td>2022-03-27</td>\n",
       "      <td>ES</td>\n",
       "      <td>NaN</td>\n",
       "      <td>state</td>\n",
       "      <td>1037188</td>\n",
       "      <td>14323</td>\n",
       "      <td>750</td>\n",
       "      <td>True</td>\n",
       "      <td>4018650.0</td>\n",
       "      <td>4064052.0</td>\n",
       "      <td>32.0</td>\n",
       "      <td>25521.03172</td>\n",
       "      <td>0.0138</td>\n",
       "      <td>3</td>\n",
       "      <td>2022</td>\n",
       "    </tr>\n",
       "    <tr>\n",
       "      <th>146</th>\n",
       "      <td>2022-03-27</td>\n",
       "      <td>CE</td>\n",
       "      <td>NaN</td>\n",
       "      <td>state</td>\n",
       "      <td>1239746</td>\n",
       "      <td>26708</td>\n",
       "      <td>728</td>\n",
       "      <td>True</td>\n",
       "      <td>9132078.0</td>\n",
       "      <td>9187103.0</td>\n",
       "      <td>23.0</td>\n",
       "      <td>13494.41712</td>\n",
       "      <td>0.0215</td>\n",
       "      <td>3</td>\n",
       "      <td>2022</td>\n",
       "    </tr>\n",
       "    <tr>\n",
       "      <th>171</th>\n",
       "      <td>2022-03-27</td>\n",
       "      <td>BA</td>\n",
       "      <td>NaN</td>\n",
       "      <td>state</td>\n",
       "      <td>1530054</td>\n",
       "      <td>29658</td>\n",
       "      <td>746</td>\n",
       "      <td>True</td>\n",
       "      <td>14873064.0</td>\n",
       "      <td>14930634.0</td>\n",
       "      <td>29.0</td>\n",
       "      <td>10247.74969</td>\n",
       "      <td>0.0194</td>\n",
       "      <td>3</td>\n",
       "      <td>2022</td>\n",
       "    </tr>\n",
       "    <tr>\n",
       "      <th>196</th>\n",
       "      <td>2022-03-26</td>\n",
       "      <td>MS</td>\n",
       "      <td>NaN</td>\n",
       "      <td>state</td>\n",
       "      <td>523565</td>\n",
       "      <td>10486</td>\n",
       "      <td>722</td>\n",
       "      <td>True</td>\n",
       "      <td>2778986.0</td>\n",
       "      <td>2809394.0</td>\n",
       "      <td>50.0</td>\n",
       "      <td>18636.22546</td>\n",
       "      <td>0.0200</td>\n",
       "      <td>3</td>\n",
       "      <td>2022</td>\n",
       "    </tr>\n",
       "    <tr>\n",
       "      <th>221</th>\n",
       "      <td>2022-03-27</td>\n",
       "      <td>MA</td>\n",
       "      <td>NaN</td>\n",
       "      <td>state</td>\n",
       "      <td>424199</td>\n",
       "      <td>10869</td>\n",
       "      <td>736</td>\n",
       "      <td>True</td>\n",
       "      <td>7075181.0</td>\n",
       "      <td>7114598.0</td>\n",
       "      <td>21.0</td>\n",
       "      <td>5962.37482</td>\n",
       "      <td>0.0256</td>\n",
       "      <td>3</td>\n",
       "      <td>2022</td>\n",
       "    </tr>\n",
       "    <tr>\n",
       "      <th>246</th>\n",
       "      <td>2022-03-27</td>\n",
       "      <td>GO</td>\n",
       "      <td>NaN</td>\n",
       "      <td>state</td>\n",
       "      <td>1269853</td>\n",
       "      <td>26212</td>\n",
       "      <td>732</td>\n",
       "      <td>True</td>\n",
       "      <td>7018354.0</td>\n",
       "      <td>7113540.0</td>\n",
       "      <td>52.0</td>\n",
       "      <td>17851.21051</td>\n",
       "      <td>0.0206</td>\n",
       "      <td>3</td>\n",
       "      <td>2022</td>\n",
       "    </tr>\n",
       "    <tr>\n",
       "      <th>271</th>\n",
       "      <td>2022-03-27</td>\n",
       "      <td>MT</td>\n",
       "      <td>NaN</td>\n",
       "      <td>state</td>\n",
       "      <td>724653</td>\n",
       "      <td>14854</td>\n",
       "      <td>734</td>\n",
       "      <td>True</td>\n",
       "      <td>3484466.0</td>\n",
       "      <td>3526220.0</td>\n",
       "      <td>51.0</td>\n",
       "      <td>20550.41943</td>\n",
       "      <td>0.0205</td>\n",
       "      <td>3</td>\n",
       "      <td>2022</td>\n",
       "    </tr>\n",
       "    <tr>\n",
       "      <th>296</th>\n",
       "      <td>2022-03-27</td>\n",
       "      <td>PA</td>\n",
       "      <td>NaN</td>\n",
       "      <td>state</td>\n",
       "      <td>751293</td>\n",
       "      <td>18079</td>\n",
       "      <td>740</td>\n",
       "      <td>True</td>\n",
       "      <td>8602865.0</td>\n",
       "      <td>8690745.0</td>\n",
       "      <td>15.0</td>\n",
       "      <td>8644.74795</td>\n",
       "      <td>0.0241</td>\n",
       "      <td>3</td>\n",
       "      <td>2022</td>\n",
       "    </tr>\n",
       "    <tr>\n",
       "      <th>321</th>\n",
       "      <td>2022-03-27</td>\n",
       "      <td>PE</td>\n",
       "      <td>NaN</td>\n",
       "      <td>state</td>\n",
       "      <td>892115</td>\n",
       "      <td>21366</td>\n",
       "      <td>746</td>\n",
       "      <td>True</td>\n",
       "      <td>9557071.0</td>\n",
       "      <td>9616621.0</td>\n",
       "      <td>26.0</td>\n",
       "      <td>9276.80315</td>\n",
       "      <td>0.0239</td>\n",
       "      <td>3</td>\n",
       "      <td>2022</td>\n",
       "    </tr>\n",
       "    <tr>\n",
       "      <th>346</th>\n",
       "      <td>2022-03-27</td>\n",
       "      <td>PB</td>\n",
       "      <td>NaN</td>\n",
       "      <td>state</td>\n",
       "      <td>594891</td>\n",
       "      <td>10189</td>\n",
       "      <td>738</td>\n",
       "      <td>True</td>\n",
       "      <td>4018127.0</td>\n",
       "      <td>4039277.0</td>\n",
       "      <td>25.0</td>\n",
       "      <td>14727.66042</td>\n",
       "      <td>0.0171</td>\n",
       "      <td>3</td>\n",
       "      <td>2022</td>\n",
       "    </tr>\n",
       "    <tr>\n",
       "      <th>371</th>\n",
       "      <td>2022-03-26</td>\n",
       "      <td>PI</td>\n",
       "      <td>NaN</td>\n",
       "      <td>state</td>\n",
       "      <td>367515</td>\n",
       "      <td>7721</td>\n",
       "      <td>738</td>\n",
       "      <td>True</td>\n",
       "      <td>3273227.0</td>\n",
       "      <td>3281480.0</td>\n",
       "      <td>22.0</td>\n",
       "      <td>11199.67210</td>\n",
       "      <td>0.0210</td>\n",
       "      <td>3</td>\n",
       "      <td>2022</td>\n",
       "    </tr>\n",
       "    <tr>\n",
       "      <th>396</th>\n",
       "      <td>2022-03-27</td>\n",
       "      <td>RJ</td>\n",
       "      <td>NaN</td>\n",
       "      <td>state</td>\n",
       "      <td>2078817</td>\n",
       "      <td>72695</td>\n",
       "      <td>737</td>\n",
       "      <td>True</td>\n",
       "      <td>17264943.0</td>\n",
       "      <td>17366189.0</td>\n",
       "      <td>33.0</td>\n",
       "      <td>11970.48472</td>\n",
       "      <td>0.0350</td>\n",
       "      <td>3</td>\n",
       "      <td>2022</td>\n",
       "    </tr>\n",
       "    <tr>\n",
       "      <th>421</th>\n",
       "      <td>2022-03-27</td>\n",
       "      <td>MG</td>\n",
       "      <td>NaN</td>\n",
       "      <td>state</td>\n",
       "      <td>3317401</td>\n",
       "      <td>60767</td>\n",
       "      <td>745</td>\n",
       "      <td>True</td>\n",
       "      <td>21168791.0</td>\n",
       "      <td>21292666.0</td>\n",
       "      <td>31.0</td>\n",
       "      <td>15580.01708</td>\n",
       "      <td>0.0183</td>\n",
       "      <td>3</td>\n",
       "      <td>2022</td>\n",
       "    </tr>\n",
       "    <tr>\n",
       "      <th>445</th>\n",
       "      <td>2022-03-26</td>\n",
       "      <td>RN</td>\n",
       "      <td>NaN</td>\n",
       "      <td>state</td>\n",
       "      <td>495749</td>\n",
       "      <td>8119</td>\n",
       "      <td>695</td>\n",
       "      <td>True</td>\n",
       "      <td>3506853.0</td>\n",
       "      <td>3534165.0</td>\n",
       "      <td>24.0</td>\n",
       "      <td>14027.33036</td>\n",
       "      <td>0.0164</td>\n",
       "      <td>3</td>\n",
       "      <td>2022</td>\n",
       "    </tr>\n",
       "    <tr>\n",
       "      <th>468</th>\n",
       "      <td>2022-03-26</td>\n",
       "      <td>RR</td>\n",
       "      <td>NaN</td>\n",
       "      <td>state</td>\n",
       "      <td>155062</td>\n",
       "      <td>2144</td>\n",
       "      <td>720</td>\n",
       "      <td>True</td>\n",
       "      <td>605761.0</td>\n",
       "      <td>631181.0</td>\n",
       "      <td>14.0</td>\n",
       "      <td>24566.96257</td>\n",
       "      <td>0.0138</td>\n",
       "      <td>3</td>\n",
       "      <td>2022</td>\n",
       "    </tr>\n",
       "    <tr>\n",
       "      <th>492</th>\n",
       "      <td>2022-03-27</td>\n",
       "      <td>RO</td>\n",
       "      <td>NaN</td>\n",
       "      <td>state</td>\n",
       "      <td>391943</td>\n",
       "      <td>7172</td>\n",
       "      <td>717</td>\n",
       "      <td>True</td>\n",
       "      <td>1777225.0</td>\n",
       "      <td>1796460.0</td>\n",
       "      <td>11.0</td>\n",
       "      <td>21817.51890</td>\n",
       "      <td>0.0183</td>\n",
       "      <td>3</td>\n",
       "      <td>2022</td>\n",
       "    </tr>\n",
       "    <tr>\n",
       "      <th>517</th>\n",
       "      <td>2022-03-27</td>\n",
       "      <td>PR</td>\n",
       "      <td>NaN</td>\n",
       "      <td>state</td>\n",
       "      <td>2407960</td>\n",
       "      <td>42896</td>\n",
       "      <td>744</td>\n",
       "      <td>True</td>\n",
       "      <td>11433957.0</td>\n",
       "      <td>11516840.0</td>\n",
       "      <td>41.0</td>\n",
       "      <td>20908.16578</td>\n",
       "      <td>0.0178</td>\n",
       "      <td>3</td>\n",
       "      <td>2022</td>\n",
       "    </tr>\n",
       "    <tr>\n",
       "      <th>542</th>\n",
       "      <td>2022-03-27</td>\n",
       "      <td>SE</td>\n",
       "      <td>NaN</td>\n",
       "      <td>state</td>\n",
       "      <td>325274</td>\n",
       "      <td>6309</td>\n",
       "      <td>733</td>\n",
       "      <td>True</td>\n",
       "      <td>2298696.0</td>\n",
       "      <td>2318822.0</td>\n",
       "      <td>28.0</td>\n",
       "      <td>14027.55365</td>\n",
       "      <td>0.0194</td>\n",
       "      <td>3</td>\n",
       "      <td>2022</td>\n",
       "    </tr>\n",
       "    <tr>\n",
       "      <th>567</th>\n",
       "      <td>2022-03-27</td>\n",
       "      <td>SC</td>\n",
       "      <td>NaN</td>\n",
       "      <td>state</td>\n",
       "      <td>1671175</td>\n",
       "      <td>21648</td>\n",
       "      <td>746</td>\n",
       "      <td>True</td>\n",
       "      <td>7164788.0</td>\n",
       "      <td>7252502.0</td>\n",
       "      <td>42.0</td>\n",
       "      <td>23042.73753</td>\n",
       "      <td>0.0130</td>\n",
       "      <td>3</td>\n",
       "      <td>2022</td>\n",
       "    </tr>\n",
       "    <tr>\n",
       "      <th>592</th>\n",
       "      <td>2022-03-25</td>\n",
       "      <td>TO</td>\n",
       "      <td>NaN</td>\n",
       "      <td>state</td>\n",
       "      <td>302502</td>\n",
       "      <td>4142</td>\n",
       "      <td>694</td>\n",
       "      <td>True</td>\n",
       "      <td>1572866.0</td>\n",
       "      <td>1590248.0</td>\n",
       "      <td>17.0</td>\n",
       "      <td>19022.31602</td>\n",
       "      <td>0.0137</td>\n",
       "      <td>3</td>\n",
       "      <td>2022</td>\n",
       "    </tr>\n",
       "    <tr>\n",
       "      <th>615</th>\n",
       "      <td>2022-03-27</td>\n",
       "      <td>RS</td>\n",
       "      <td>NaN</td>\n",
       "      <td>state</td>\n",
       "      <td>2263880</td>\n",
       "      <td>38985</td>\n",
       "      <td>732</td>\n",
       "      <td>True</td>\n",
       "      <td>11377239.0</td>\n",
       "      <td>11422973.0</td>\n",
       "      <td>43.0</td>\n",
       "      <td>19818.65842</td>\n",
       "      <td>0.0172</td>\n",
       "      <td>3</td>\n",
       "      <td>2022</td>\n",
       "    </tr>\n",
       "    <tr>\n",
       "      <th>640</th>\n",
       "      <td>2022-03-27</td>\n",
       "      <td>SP</td>\n",
       "      <td>NaN</td>\n",
       "      <td>state</td>\n",
       "      <td>5232374</td>\n",
       "      <td>167110</td>\n",
       "      <td>743</td>\n",
       "      <td>True</td>\n",
       "      <td>45919049.0</td>\n",
       "      <td>46289333.0</td>\n",
       "      <td>35.0</td>\n",
       "      <td>11303.62799</td>\n",
       "      <td>0.0319</td>\n",
       "      <td>3</td>\n",
       "      <td>2022</td>\n",
       "    </tr>\n",
       "  </tbody>\n",
       "</table>\n",
       "</div>"
      ],
      "text/plain": [
       "          date state city place_type  confirmed  deaths  order_for_place  \\\n",
       "0   2022-03-27    AP  NaN      state     160328    2122              734   \n",
       "25  2022-03-27    AC  NaN      state     123808    1992              722   \n",
       "48  2022-03-27    AM  NaN      state     581070   14151              739   \n",
       "72  2022-03-26    AL  NaN      state     295972    6869              746   \n",
       "97  2022-03-25    DF  NaN      state     691353   11573              705   \n",
       "121 2022-03-27    ES  NaN      state    1037188   14323              750   \n",
       "146 2022-03-27    CE  NaN      state    1239746   26708              728   \n",
       "171 2022-03-27    BA  NaN      state    1530054   29658              746   \n",
       "196 2022-03-26    MS  NaN      state     523565   10486              722   \n",
       "221 2022-03-27    MA  NaN      state     424199   10869              736   \n",
       "246 2022-03-27    GO  NaN      state    1269853   26212              732   \n",
       "271 2022-03-27    MT  NaN      state     724653   14854              734   \n",
       "296 2022-03-27    PA  NaN      state     751293   18079              740   \n",
       "321 2022-03-27    PE  NaN      state     892115   21366              746   \n",
       "346 2022-03-27    PB  NaN      state     594891   10189              738   \n",
       "371 2022-03-26    PI  NaN      state     367515    7721              738   \n",
       "396 2022-03-27    RJ  NaN      state    2078817   72695              737   \n",
       "421 2022-03-27    MG  NaN      state    3317401   60767              745   \n",
       "445 2022-03-26    RN  NaN      state     495749    8119              695   \n",
       "468 2022-03-26    RR  NaN      state     155062    2144              720   \n",
       "492 2022-03-27    RO  NaN      state     391943    7172              717   \n",
       "517 2022-03-27    PR  NaN      state    2407960   42896              744   \n",
       "542 2022-03-27    SE  NaN      state     325274    6309              733   \n",
       "567 2022-03-27    SC  NaN      state    1671175   21648              746   \n",
       "592 2022-03-25    TO  NaN      state     302502    4142              694   \n",
       "615 2022-03-27    RS  NaN      state    2263880   38985              732   \n",
       "640 2022-03-27    SP  NaN      state    5232374  167110              743   \n",
       "\n",
       "     is_last  estimated_population_2019  estimated_population  city_ibge_code  \\\n",
       "0       True                   845731.0              861773.0            16.0   \n",
       "25      True                   881935.0              894470.0            12.0   \n",
       "48      True                  4144597.0             4207714.0            13.0   \n",
       "72      True                  3337357.0             3351543.0            27.0   \n",
       "97      True                  3015268.0             3055149.0            53.0   \n",
       "121     True                  4018650.0             4064052.0            32.0   \n",
       "146     True                  9132078.0             9187103.0            23.0   \n",
       "171     True                 14873064.0            14930634.0            29.0   \n",
       "196     True                  2778986.0             2809394.0            50.0   \n",
       "221     True                  7075181.0             7114598.0            21.0   \n",
       "246     True                  7018354.0             7113540.0            52.0   \n",
       "271     True                  3484466.0             3526220.0            51.0   \n",
       "296     True                  8602865.0             8690745.0            15.0   \n",
       "321     True                  9557071.0             9616621.0            26.0   \n",
       "346     True                  4018127.0             4039277.0            25.0   \n",
       "371     True                  3273227.0             3281480.0            22.0   \n",
       "396     True                 17264943.0            17366189.0            33.0   \n",
       "421     True                 21168791.0            21292666.0            31.0   \n",
       "445     True                  3506853.0             3534165.0            24.0   \n",
       "468     True                   605761.0              631181.0            14.0   \n",
       "492     True                  1777225.0             1796460.0            11.0   \n",
       "517     True                 11433957.0            11516840.0            41.0   \n",
       "542     True                  2298696.0             2318822.0            28.0   \n",
       "567     True                  7164788.0             7252502.0            42.0   \n",
       "592     True                  1572866.0             1590248.0            17.0   \n",
       "615     True                 11377239.0            11422973.0            43.0   \n",
       "640     True                 45919049.0            46289333.0            35.0   \n",
       "\n",
       "     confirmed_per_100k_inhabitants  death_rate  mes   ano  \n",
       "0                       18604.43527      0.0132    3  2022  \n",
       "25                      13841.49273      0.0161    3  2022  \n",
       "48                      13809.63630      0.0244    3  2022  \n",
       "72                       8830.91758      0.0232    3  2022  \n",
       "97                      22629.10909      0.0167    3  2022  \n",
       "121                     25521.03172      0.0138    3  2022  \n",
       "146                     13494.41712      0.0215    3  2022  \n",
       "171                     10247.74969      0.0194    3  2022  \n",
       "196                     18636.22546      0.0200    3  2022  \n",
       "221                      5962.37482      0.0256    3  2022  \n",
       "246                     17851.21051      0.0206    3  2022  \n",
       "271                     20550.41943      0.0205    3  2022  \n",
       "296                      8644.74795      0.0241    3  2022  \n",
       "321                      9276.80315      0.0239    3  2022  \n",
       "346                     14727.66042      0.0171    3  2022  \n",
       "371                     11199.67210      0.0210    3  2022  \n",
       "396                     11970.48472      0.0350    3  2022  \n",
       "421                     15580.01708      0.0183    3  2022  \n",
       "445                     14027.33036      0.0164    3  2022  \n",
       "468                     24566.96257      0.0138    3  2022  \n",
       "492                     21817.51890      0.0183    3  2022  \n",
       "517                     20908.16578      0.0178    3  2022  \n",
       "542                     14027.55365      0.0194    3  2022  \n",
       "567                     23042.73753      0.0130    3  2022  \n",
       "592                     19022.31602      0.0137    3  2022  \n",
       "615                     19818.65842      0.0172    3  2022  \n",
       "640                     11303.62799      0.0319    3  2022  "
      ]
     },
     "execution_count": 99,
     "metadata": {},
     "output_type": "execute_result"
    }
   ],
   "source": [
    "new_selecao.loc[new_selecao['is_last'] == True]"
   ]
  },
  {
   "cell_type": "code",
   "execution_count": 100,
   "id": "54f001a8",
   "metadata": {},
   "outputs": [],
   "source": [
    "new_selecao.reset_index(inplace=True)"
   ]
  },
  {
   "cell_type": "code",
   "execution_count": 101,
   "id": "a92cc541",
   "metadata": {},
   "outputs": [],
   "source": [
    "new_selecao.drop(['index'], axis = 1, inplace = True)"
   ]
  },
  {
   "cell_type": "code",
   "execution_count": 102,
   "id": "39784124",
   "metadata": {},
   "outputs": [
    {
     "name": "stderr",
     "output_type": "stream",
     "text": [
      "C:\\Users\\Hennrick\\AppData\\Local\\Temp\\ipykernel_19660\\3219302836.py:1: FutureWarning:\n",
      "\n",
      "Dropping of nuisance columns in DataFrame reductions (with 'numeric_only=None') is deprecated; in a future version this will raise TypeError.  Select only valid columns before calling the reduction.\n",
      "\n"
     ]
    },
    {
     "data": {
      "text/plain": [
       "state                             APACAMALDFESCEBAMSMAGOMTPAPEPBPIRJMGRNRRROPRSE...\n",
       "city                                                                              0\n",
       "place_type                        statestatestatestatestatestatestatestatestates...\n",
       "confirmed                                                                  29849740\n",
       "deaths                                                                       659159\n",
       "order_for_place                                                               19762\n",
       "is_last                                                                          27\n",
       "estimated_population_2019                                               210147125.0\n",
       "estimated_population                                                    211755692.0\n",
       "city_ibge_code                                                                786.0\n",
       "confirmed_per_100k_inhabitants                                         429913.27636\n",
       "death_rate                                                                   0.5359\n",
       "mes                                                                              81\n",
       "ano                                                                           54594\n",
       "dtype: object"
      ]
     },
     "execution_count": 102,
     "metadata": {},
     "output_type": "execute_result"
    }
   ],
   "source": [
    "new_selecao.loc[new_selecao['is_last'] == True].sum()"
   ]
  },
  {
   "cell_type": "code",
   "execution_count": 103,
   "id": "0535f8d3",
   "metadata": {},
   "outputs": [],
   "source": [
    "new_selecao.loc[(new_selecao['mes'] == 3) & (new_selecao['ano']== 2022), 'date'] = datas[6]"
   ]
  },
  {
   "cell_type": "code",
   "execution_count": 104,
   "id": "dfbaa512",
   "metadata": {},
   "outputs": [
    {
     "data": {
      "text/html": [
       "<div>\n",
       "<style scoped>\n",
       "    .dataframe tbody tr th:only-of-type {\n",
       "        vertical-align: middle;\n",
       "    }\n",
       "\n",
       "    .dataframe tbody tr th {\n",
       "        vertical-align: top;\n",
       "    }\n",
       "\n",
       "    .dataframe thead th {\n",
       "        text-align: right;\n",
       "    }\n",
       "</style>\n",
       "<table border=\"1\" class=\"dataframe\">\n",
       "  <thead>\n",
       "    <tr style=\"text-align: right;\">\n",
       "      <th></th>\n",
       "      <th>date</th>\n",
       "      <th>state</th>\n",
       "      <th>city</th>\n",
       "      <th>place_type</th>\n",
       "      <th>confirmed</th>\n",
       "      <th>deaths</th>\n",
       "      <th>order_for_place</th>\n",
       "      <th>is_last</th>\n",
       "      <th>estimated_population_2019</th>\n",
       "      <th>estimated_population</th>\n",
       "      <th>city_ibge_code</th>\n",
       "      <th>confirmed_per_100k_inhabitants</th>\n",
       "      <th>death_rate</th>\n",
       "    </tr>\n",
       "  </thead>\n",
       "  <tbody>\n",
       "    <tr>\n",
       "      <th>0</th>\n",
       "      <td>2022-03-27</td>\n",
       "      <td>AP</td>\n",
       "      <td>NaN</td>\n",
       "      <td>state</td>\n",
       "      <td>160328</td>\n",
       "      <td>2122</td>\n",
       "      <td>734</td>\n",
       "      <td>True</td>\n",
       "      <td>845731.0</td>\n",
       "      <td>861773.0</td>\n",
       "      <td>16.0</td>\n",
       "      <td>18604.43527</td>\n",
       "      <td>0.0132</td>\n",
       "    </tr>\n",
       "    <tr>\n",
       "      <th>734</th>\n",
       "      <td>2021-12-14</td>\n",
       "      <td>AP</td>\n",
       "      <td>Amapá</td>\n",
       "      <td>city</td>\n",
       "      <td>1424</td>\n",
       "      <td>13</td>\n",
       "      <td>586</td>\n",
       "      <td>True</td>\n",
       "      <td>9109.0</td>\n",
       "      <td>9187.0</td>\n",
       "      <td>1600105.0</td>\n",
       "      <td>15500.16327</td>\n",
       "      <td>0.0091</td>\n",
       "    </tr>\n",
       "    <tr>\n",
       "      <th>1320</th>\n",
       "      <td>2021-12-14</td>\n",
       "      <td>AP</td>\n",
       "      <td>Calçoene</td>\n",
       "      <td>city</td>\n",
       "      <td>1852</td>\n",
       "      <td>14</td>\n",
       "      <td>581</td>\n",
       "      <td>True</td>\n",
       "      <td>11117.0</td>\n",
       "      <td>11306.0</td>\n",
       "      <td>1600204.0</td>\n",
       "      <td>16380.68282</td>\n",
       "      <td>0.0076</td>\n",
       "    </tr>\n",
       "    <tr>\n",
       "      <th>1901</th>\n",
       "      <td>2021-12-14</td>\n",
       "      <td>AP</td>\n",
       "      <td>Cutias</td>\n",
       "      <td>city</td>\n",
       "      <td>874</td>\n",
       "      <td>7</td>\n",
       "      <td>577</td>\n",
       "      <td>True</td>\n",
       "      <td>5983.0</td>\n",
       "      <td>6101.0</td>\n",
       "      <td>1600212.0</td>\n",
       "      <td>14325.52041</td>\n",
       "      <td>0.0080</td>\n",
       "    </tr>\n",
       "    <tr>\n",
       "      <th>2478</th>\n",
       "      <td>2021-12-14</td>\n",
       "      <td>AP</td>\n",
       "      <td>Ferreira Gomes</td>\n",
       "      <td>city</td>\n",
       "      <td>1566</td>\n",
       "      <td>7</td>\n",
       "      <td>580</td>\n",
       "      <td>True</td>\n",
       "      <td>7780.0</td>\n",
       "      <td>7967.0</td>\n",
       "      <td>1600238.0</td>\n",
       "      <td>19656.08134</td>\n",
       "      <td>0.0045</td>\n",
       "    </tr>\n",
       "    <tr>\n",
       "      <th>...</th>\n",
       "      <td>...</td>\n",
       "      <td>...</td>\n",
       "      <td>...</td>\n",
       "      <td>...</td>\n",
       "      <td>...</td>\n",
       "      <td>...</td>\n",
       "      <td>...</td>\n",
       "      <td>...</td>\n",
       "      <td>...</td>\n",
       "      <td>...</td>\n",
       "      <td>...</td>\n",
       "      <td>...</td>\n",
       "      <td>...</td>\n",
       "    </tr>\n",
       "    <tr>\n",
       "      <th>2835558</th>\n",
       "      <td>2021-12-06</td>\n",
       "      <td>SP</td>\n",
       "      <td>Águas de São Pedro</td>\n",
       "      <td>city</td>\n",
       "      <td>461</td>\n",
       "      <td>12</td>\n",
       "      <td>522</td>\n",
       "      <td>True</td>\n",
       "      <td>3451.0</td>\n",
       "      <td>3521.0</td>\n",
       "      <td>3500600.0</td>\n",
       "      <td>13092.87134</td>\n",
       "      <td>0.0260</td>\n",
       "    </tr>\n",
       "    <tr>\n",
       "      <th>2836080</th>\n",
       "      <td>2021-12-06</td>\n",
       "      <td>SP</td>\n",
       "      <td>Álvares Florence</td>\n",
       "      <td>city</td>\n",
       "      <td>626</td>\n",
       "      <td>16</td>\n",
       "      <td>473</td>\n",
       "      <td>True</td>\n",
       "      <td>3679.0</td>\n",
       "      <td>3647.0</td>\n",
       "      <td>3501202.0</td>\n",
       "      <td>17164.79298</td>\n",
       "      <td>0.0256</td>\n",
       "    </tr>\n",
       "    <tr>\n",
       "      <th>2836553</th>\n",
       "      <td>2021-12-06</td>\n",
       "      <td>SP</td>\n",
       "      <td>Álvares Machado</td>\n",
       "      <td>city</td>\n",
       "      <td>2507</td>\n",
       "      <td>79</td>\n",
       "      <td>504</td>\n",
       "      <td>True</td>\n",
       "      <td>24915.0</td>\n",
       "      <td>24998.0</td>\n",
       "      <td>3501301.0</td>\n",
       "      <td>10028.80230</td>\n",
       "      <td>0.0315</td>\n",
       "    </tr>\n",
       "    <tr>\n",
       "      <th>2837057</th>\n",
       "      <td>2021-12-06</td>\n",
       "      <td>SP</td>\n",
       "      <td>Álvaro de Carvalho</td>\n",
       "      <td>city</td>\n",
       "      <td>292</td>\n",
       "      <td>9</td>\n",
       "      <td>494</td>\n",
       "      <td>True</td>\n",
       "      <td>5227.0</td>\n",
       "      <td>5274.0</td>\n",
       "      <td>3501400.0</td>\n",
       "      <td>5536.59462</td>\n",
       "      <td>0.0308</td>\n",
       "    </tr>\n",
       "    <tr>\n",
       "      <th>2837551</th>\n",
       "      <td>2021-12-06</td>\n",
       "      <td>SP</td>\n",
       "      <td>Óleo</td>\n",
       "      <td>city</td>\n",
       "      <td>156</td>\n",
       "      <td>5</td>\n",
       "      <td>452</td>\n",
       "      <td>True</td>\n",
       "      <td>2496.0</td>\n",
       "      <td>2471.0</td>\n",
       "      <td>3533809.0</td>\n",
       "      <td>6313.23351</td>\n",
       "      <td>0.0321</td>\n",
       "    </tr>\n",
       "  </tbody>\n",
       "</table>\n",
       "<p>5616 rows × 13 columns</p>\n",
       "</div>"
      ],
      "text/plain": [
       "              date state                city place_type  confirmed  deaths  \\\n",
       "0       2022-03-27    AP                 NaN      state     160328    2122   \n",
       "734     2021-12-14    AP               Amapá       city       1424      13   \n",
       "1320    2021-12-14    AP            Calçoene       city       1852      14   \n",
       "1901    2021-12-14    AP              Cutias       city        874       7   \n",
       "2478    2021-12-14    AP      Ferreira Gomes       city       1566       7   \n",
       "...            ...   ...                 ...        ...        ...     ...   \n",
       "2835558 2021-12-06    SP  Águas de São Pedro       city        461      12   \n",
       "2836080 2021-12-06    SP    Álvares Florence       city        626      16   \n",
       "2836553 2021-12-06    SP     Álvares Machado       city       2507      79   \n",
       "2837057 2021-12-06    SP  Álvaro de Carvalho       city        292       9   \n",
       "2837551 2021-12-06    SP                Óleo       city        156       5   \n",
       "\n",
       "         order_for_place  is_last  estimated_population_2019  \\\n",
       "0                    734     True                   845731.0   \n",
       "734                  586     True                     9109.0   \n",
       "1320                 581     True                    11117.0   \n",
       "1901                 577     True                     5983.0   \n",
       "2478                 580     True                     7780.0   \n",
       "...                  ...      ...                        ...   \n",
       "2835558              522     True                     3451.0   \n",
       "2836080              473     True                     3679.0   \n",
       "2836553              504     True                    24915.0   \n",
       "2837057              494     True                     5227.0   \n",
       "2837551              452     True                     2496.0   \n",
       "\n",
       "         estimated_population  city_ibge_code  confirmed_per_100k_inhabitants  \\\n",
       "0                    861773.0            16.0                     18604.43527   \n",
       "734                    9187.0       1600105.0                     15500.16327   \n",
       "1320                  11306.0       1600204.0                     16380.68282   \n",
       "1901                   6101.0       1600212.0                     14325.52041   \n",
       "2478                   7967.0       1600238.0                     19656.08134   \n",
       "...                       ...             ...                             ...   \n",
       "2835558                3521.0       3500600.0                     13092.87134   \n",
       "2836080                3647.0       3501202.0                     17164.79298   \n",
       "2836553               24998.0       3501301.0                     10028.80230   \n",
       "2837057                5274.0       3501400.0                      5536.59462   \n",
       "2837551                2471.0       3533809.0                      6313.23351   \n",
       "\n",
       "         death_rate  \n",
       "0            0.0132  \n",
       "734          0.0091  \n",
       "1320         0.0076  \n",
       "1901         0.0080  \n",
       "2478         0.0045  \n",
       "...             ...  \n",
       "2835558      0.0260  \n",
       "2836080      0.0256  \n",
       "2836553      0.0315  \n",
       "2837057      0.0308  \n",
       "2837551      0.0321  \n",
       "\n",
       "[5616 rows x 13 columns]"
      ]
     },
     "execution_count": 104,
     "metadata": {},
     "output_type": "execute_result"
    }
   ],
   "source": [
    "dados.loc[(dados['is_last'] == True)]"
   ]
  },
  {
   "cell_type": "code",
   "execution_count": 105,
   "id": "8b15da4f",
   "metadata": {},
   "outputs": [
    {
     "data": {
      "text/html": [
       "<div>\n",
       "<style scoped>\n",
       "    .dataframe tbody tr th:only-of-type {\n",
       "        vertical-align: middle;\n",
       "    }\n",
       "\n",
       "    .dataframe tbody tr th {\n",
       "        vertical-align: top;\n",
       "    }\n",
       "\n",
       "    .dataframe thead th {\n",
       "        text-align: right;\n",
       "    }\n",
       "</style>\n",
       "<table border=\"1\" class=\"dataframe\">\n",
       "  <thead>\n",
       "    <tr style=\"text-align: right;\">\n",
       "      <th></th>\n",
       "      <th>date</th>\n",
       "      <th>state</th>\n",
       "      <th>city</th>\n",
       "      <th>place_type</th>\n",
       "      <th>confirmed</th>\n",
       "      <th>deaths</th>\n",
       "      <th>order_for_place</th>\n",
       "      <th>is_last</th>\n",
       "      <th>estimated_population_2019</th>\n",
       "      <th>estimated_population</th>\n",
       "      <th>city_ibge_code</th>\n",
       "      <th>confirmed_per_100k_inhabitants</th>\n",
       "      <th>death_rate</th>\n",
       "      <th>mes</th>\n",
       "      <th>ano</th>\n",
       "    </tr>\n",
       "  </thead>\n",
       "  <tbody>\n",
       "    <tr>\n",
       "      <th>0</th>\n",
       "      <td>2022-03-27</td>\n",
       "      <td>AP</td>\n",
       "      <td>NaN</td>\n",
       "      <td>state</td>\n",
       "      <td>160328</td>\n",
       "      <td>2122</td>\n",
       "      <td>734</td>\n",
       "      <td>True</td>\n",
       "      <td>845731.0</td>\n",
       "      <td>861773.0</td>\n",
       "      <td>16.0</td>\n",
       "      <td>18604.43527</td>\n",
       "      <td>0.0132</td>\n",
       "      <td>3</td>\n",
       "      <td>2022</td>\n",
       "    </tr>\n",
       "    <tr>\n",
       "      <th>1</th>\n",
       "      <td>2022-02-28</td>\n",
       "      <td>AP</td>\n",
       "      <td>NaN</td>\n",
       "      <td>state</td>\n",
       "      <td>160096</td>\n",
       "      <td>2102</td>\n",
       "      <td>707</td>\n",
       "      <td>False</td>\n",
       "      <td>845731.0</td>\n",
       "      <td>861773.0</td>\n",
       "      <td>16.0</td>\n",
       "      <td>18577.51403</td>\n",
       "      <td>0.0131</td>\n",
       "      <td>2</td>\n",
       "      <td>2022</td>\n",
       "    </tr>\n",
       "    <tr>\n",
       "      <th>2</th>\n",
       "      <td>2022-01-31</td>\n",
       "      <td>AP</td>\n",
       "      <td>NaN</td>\n",
       "      <td>state</td>\n",
       "      <td>151958</td>\n",
       "      <td>2051</td>\n",
       "      <td>679</td>\n",
       "      <td>False</td>\n",
       "      <td>845731.0</td>\n",
       "      <td>861773.0</td>\n",
       "      <td>16.0</td>\n",
       "      <td>17633.18182</td>\n",
       "      <td>0.0135</td>\n",
       "      <td>1</td>\n",
       "      <td>2022</td>\n",
       "    </tr>\n",
       "    <tr>\n",
       "      <th>3</th>\n",
       "      <td>2021-12-31</td>\n",
       "      <td>AP</td>\n",
       "      <td>NaN</td>\n",
       "      <td>state</td>\n",
       "      <td>126981</td>\n",
       "      <td>2022</td>\n",
       "      <td>648</td>\n",
       "      <td>False</td>\n",
       "      <td>845731.0</td>\n",
       "      <td>861773.0</td>\n",
       "      <td>16.0</td>\n",
       "      <td>14734.85477</td>\n",
       "      <td>0.0159</td>\n",
       "      <td>12</td>\n",
       "      <td>2021</td>\n",
       "    </tr>\n",
       "    <tr>\n",
       "      <th>4</th>\n",
       "      <td>2021-11-30</td>\n",
       "      <td>AP</td>\n",
       "      <td>NaN</td>\n",
       "      <td>state</td>\n",
       "      <td>124649</td>\n",
       "      <td>2003</td>\n",
       "      <td>617</td>\n",
       "      <td>False</td>\n",
       "      <td>845731.0</td>\n",
       "      <td>861773.0</td>\n",
       "      <td>16.0</td>\n",
       "      <td>14464.24987</td>\n",
       "      <td>0.0161</td>\n",
       "      <td>11</td>\n",
       "      <td>2021</td>\n",
       "    </tr>\n",
       "    <tr>\n",
       "      <th>...</th>\n",
       "      <td>...</td>\n",
       "      <td>...</td>\n",
       "      <td>...</td>\n",
       "      <td>...</td>\n",
       "      <td>...</td>\n",
       "      <td>...</td>\n",
       "      <td>...</td>\n",
       "      <td>...</td>\n",
       "      <td>...</td>\n",
       "      <td>...</td>\n",
       "      <td>...</td>\n",
       "      <td>...</td>\n",
       "      <td>...</td>\n",
       "      <td>...</td>\n",
       "      <td>...</td>\n",
       "    </tr>\n",
       "    <tr>\n",
       "      <th>671</th>\n",
       "      <td>2020-10-31</td>\n",
       "      <td>MG</td>\n",
       "      <td>NaN</td>\n",
       "      <td>state</td>\n",
       "      <td>358971</td>\n",
       "      <td>9015</td>\n",
       "      <td>236</td>\n",
       "      <td>False</td>\n",
       "      <td>21168791.0</td>\n",
       "      <td>21292666.0</td>\n",
       "      <td>31.0</td>\n",
       "      <td>1685.89034</td>\n",
       "      <td>0.0251</td>\n",
       "      <td>10</td>\n",
       "      <td>2020</td>\n",
       "    </tr>\n",
       "    <tr>\n",
       "      <th>672</th>\n",
       "      <td>2020-10-31</td>\n",
       "      <td>RN</td>\n",
       "      <td>NaN</td>\n",
       "      <td>state</td>\n",
       "      <td>81518</td>\n",
       "      <td>2586</td>\n",
       "      <td>208</td>\n",
       "      <td>False</td>\n",
       "      <td>3506853.0</td>\n",
       "      <td>3534165.0</td>\n",
       "      <td>24.0</td>\n",
       "      <td>2306.57029</td>\n",
       "      <td>0.0317</td>\n",
       "      <td>10</td>\n",
       "      <td>2020</td>\n",
       "    </tr>\n",
       "    <tr>\n",
       "      <th>673</th>\n",
       "      <td>2021-04-30</td>\n",
       "      <td>RN</td>\n",
       "      <td>NaN</td>\n",
       "      <td>state</td>\n",
       "      <td>224880</td>\n",
       "      <td>5506</td>\n",
       "      <td>369</td>\n",
       "      <td>False</td>\n",
       "      <td>3506853.0</td>\n",
       "      <td>3534165.0</td>\n",
       "      <td>24.0</td>\n",
       "      <td>6363.03059</td>\n",
       "      <td>0.0245</td>\n",
       "      <td>4</td>\n",
       "      <td>2021</td>\n",
       "    </tr>\n",
       "    <tr>\n",
       "      <th>674</th>\n",
       "      <td>2022-02-28</td>\n",
       "      <td>AM</td>\n",
       "      <td>NaN</td>\n",
       "      <td>state</td>\n",
       "      <td>573515</td>\n",
       "      <td>14116</td>\n",
       "      <td>712</td>\n",
       "      <td>False</td>\n",
       "      <td>4144597.0</td>\n",
       "      <td>4207714.0</td>\n",
       "      <td>13.0</td>\n",
       "      <td>13630.08512</td>\n",
       "      <td>0.0246</td>\n",
       "      <td>2</td>\n",
       "      <td>2022</td>\n",
       "    </tr>\n",
       "    <tr>\n",
       "      <th>675</th>\n",
       "      <td>2022-02-28</td>\n",
       "      <td>TO</td>\n",
       "      <td>NaN</td>\n",
       "      <td>state</td>\n",
       "      <td>298473</td>\n",
       "      <td>4109</td>\n",
       "      <td>672</td>\n",
       "      <td>False</td>\n",
       "      <td>1572866.0</td>\n",
       "      <td>1590248.0</td>\n",
       "      <td>17.0</td>\n",
       "      <td>18768.95931</td>\n",
       "      <td>0.0138</td>\n",
       "      <td>2</td>\n",
       "      <td>2022</td>\n",
       "    </tr>\n",
       "  </tbody>\n",
       "</table>\n",
       "<p>676 rows × 15 columns</p>\n",
       "</div>"
      ],
      "text/plain": [
       "          date state city place_type  confirmed  deaths  order_for_place  \\\n",
       "0   2022-03-27    AP  NaN      state     160328    2122              734   \n",
       "1   2022-02-28    AP  NaN      state     160096    2102              707   \n",
       "2   2022-01-31    AP  NaN      state     151958    2051              679   \n",
       "3   2021-12-31    AP  NaN      state     126981    2022              648   \n",
       "4   2021-11-30    AP  NaN      state     124649    2003              617   \n",
       "..         ...   ...  ...        ...        ...     ...              ...   \n",
       "671 2020-10-31    MG  NaN      state     358971    9015              236   \n",
       "672 2020-10-31    RN  NaN      state      81518    2586              208   \n",
       "673 2021-04-30    RN  NaN      state     224880    5506              369   \n",
       "674 2022-02-28    AM  NaN      state     573515   14116              712   \n",
       "675 2022-02-28    TO  NaN      state     298473    4109              672   \n",
       "\n",
       "     is_last  estimated_population_2019  estimated_population  city_ibge_code  \\\n",
       "0       True                   845731.0              861773.0            16.0   \n",
       "1      False                   845731.0              861773.0            16.0   \n",
       "2      False                   845731.0              861773.0            16.0   \n",
       "3      False                   845731.0              861773.0            16.0   \n",
       "4      False                   845731.0              861773.0            16.0   \n",
       "..       ...                        ...                   ...             ...   \n",
       "671    False                 21168791.0            21292666.0            31.0   \n",
       "672    False                  3506853.0             3534165.0            24.0   \n",
       "673    False                  3506853.0             3534165.0            24.0   \n",
       "674    False                  4144597.0             4207714.0            13.0   \n",
       "675    False                  1572866.0             1590248.0            17.0   \n",
       "\n",
       "     confirmed_per_100k_inhabitants  death_rate  mes   ano  \n",
       "0                       18604.43527      0.0132    3  2022  \n",
       "1                       18577.51403      0.0131    2  2022  \n",
       "2                       17633.18182      0.0135    1  2022  \n",
       "3                       14734.85477      0.0159   12  2021  \n",
       "4                       14464.24987      0.0161   11  2021  \n",
       "..                              ...         ...  ...   ...  \n",
       "671                      1685.89034      0.0251   10  2020  \n",
       "672                      2306.57029      0.0317   10  2020  \n",
       "673                      6363.03059      0.0245    4  2021  \n",
       "674                     13630.08512      0.0246    2  2022  \n",
       "675                     18768.95931      0.0138    2  2022  \n",
       "\n",
       "[676 rows x 15 columns]"
      ]
     },
     "execution_count": 105,
     "metadata": {},
     "output_type": "execute_result"
    }
   ],
   "source": [
    "new_selecao"
   ]
  },
  {
   "cell_type": "code",
   "execution_count": 106,
   "id": "c8d533f2",
   "metadata": {},
   "outputs": [
    {
     "data": {
      "text/html": [
       "<div>\n",
       "<style scoped>\n",
       "    .dataframe tbody tr th:only-of-type {\n",
       "        vertical-align: middle;\n",
       "    }\n",
       "\n",
       "    .dataframe tbody tr th {\n",
       "        vertical-align: top;\n",
       "    }\n",
       "\n",
       "    .dataframe thead th {\n",
       "        text-align: right;\n",
       "    }\n",
       "</style>\n",
       "<table border=\"1\" class=\"dataframe\">\n",
       "  <thead>\n",
       "    <tr style=\"text-align: right;\">\n",
       "      <th></th>\n",
       "      <th>date</th>\n",
       "      <th>confirmed</th>\n",
       "      <th>deaths</th>\n",
       "    </tr>\n",
       "  </thead>\n",
       "  <tbody>\n",
       "    <tr>\n",
       "      <th>0</th>\n",
       "      <td>2020-02-28</td>\n",
       "      <td>2</td>\n",
       "      <td>0</td>\n",
       "    </tr>\n",
       "    <tr>\n",
       "      <th>1</th>\n",
       "      <td>2020-03-31</td>\n",
       "      <td>5824</td>\n",
       "      <td>202</td>\n",
       "    </tr>\n",
       "    <tr>\n",
       "      <th>2</th>\n",
       "      <td>2020-04-30</td>\n",
       "      <td>87126</td>\n",
       "      <td>5980</td>\n",
       "    </tr>\n",
       "    <tr>\n",
       "      <th>3</th>\n",
       "      <td>2020-05-31</td>\n",
       "      <td>516094</td>\n",
       "      <td>29367</td>\n",
       "    </tr>\n",
       "    <tr>\n",
       "      <th>4</th>\n",
       "      <td>2020-06-30</td>\n",
       "      <td>1412664</td>\n",
       "      <td>59791</td>\n",
       "    </tr>\n",
       "    <tr>\n",
       "      <th>5</th>\n",
       "      <td>2020-07-31</td>\n",
       "      <td>2670451</td>\n",
       "      <td>92727</td>\n",
       "    </tr>\n",
       "    <tr>\n",
       "      <th>6</th>\n",
       "      <td>2020-08-31</td>\n",
       "      <td>3914829</td>\n",
       "      <td>121618</td>\n",
       "    </tr>\n",
       "    <tr>\n",
       "      <th>7</th>\n",
       "      <td>2020-09-30</td>\n",
       "      <td>4817365</td>\n",
       "      <td>143964</td>\n",
       "    </tr>\n",
       "    <tr>\n",
       "      <th>8</th>\n",
       "      <td>2020-10-31</td>\n",
       "      <td>5537763</td>\n",
       "      <td>159972</td>\n",
       "    </tr>\n",
       "    <tr>\n",
       "      <th>9</th>\n",
       "      <td>2020-11-30</td>\n",
       "      <td>6341965</td>\n",
       "      <td>173268</td>\n",
       "    </tr>\n",
       "    <tr>\n",
       "      <th>10</th>\n",
       "      <td>2020-12-31</td>\n",
       "      <td>7681032</td>\n",
       "      <td>195072</td>\n",
       "    </tr>\n",
       "    <tr>\n",
       "      <th>11</th>\n",
       "      <td>2021-01-31</td>\n",
       "      <td>9208521</td>\n",
       "      <td>224646</td>\n",
       "    </tr>\n",
       "    <tr>\n",
       "      <th>12</th>\n",
       "      <td>2021-02-28</td>\n",
       "      <td>10558088</td>\n",
       "      <td>255175</td>\n",
       "    </tr>\n",
       "    <tr>\n",
       "      <th>13</th>\n",
       "      <td>2021-03-31</td>\n",
       "      <td>12763392</td>\n",
       "      <td>322138</td>\n",
       "    </tr>\n",
       "    <tr>\n",
       "      <th>14</th>\n",
       "      <td>2021-04-30</td>\n",
       "      <td>14675104</td>\n",
       "      <td>404530</td>\n",
       "    </tr>\n",
       "    <tr>\n",
       "      <th>15</th>\n",
       "      <td>2021-05-31</td>\n",
       "      <td>16557888</td>\n",
       "      <td>463244</td>\n",
       "    </tr>\n",
       "    <tr>\n",
       "      <th>16</th>\n",
       "      <td>2021-06-30</td>\n",
       "      <td>18570296</td>\n",
       "      <td>518488</td>\n",
       "    </tr>\n",
       "    <tr>\n",
       "      <th>17</th>\n",
       "      <td>2021-07-31</td>\n",
       "      <td>19922146</td>\n",
       "      <td>556676</td>\n",
       "    </tr>\n",
       "    <tr>\n",
       "      <th>18</th>\n",
       "      <td>2021-08-31</td>\n",
       "      <td>20785196</td>\n",
       "      <td>580763</td>\n",
       "    </tr>\n",
       "    <tr>\n",
       "      <th>19</th>\n",
       "      <td>2021-09-30</td>\n",
       "      <td>21432362</td>\n",
       "      <td>597032</td>\n",
       "    </tr>\n",
       "    <tr>\n",
       "      <th>20</th>\n",
       "      <td>2021-10-31</td>\n",
       "      <td>21814625</td>\n",
       "      <td>608081</td>\n",
       "    </tr>\n",
       "    <tr>\n",
       "      <th>21</th>\n",
       "      <td>2021-11-30</td>\n",
       "      <td>22100158</td>\n",
       "      <td>614985</td>\n",
       "    </tr>\n",
       "    <tr>\n",
       "      <th>22</th>\n",
       "      <td>2021-12-31</td>\n",
       "      <td>22292099</td>\n",
       "      <td>619335</td>\n",
       "    </tr>\n",
       "    <tr>\n",
       "      <th>23</th>\n",
       "      <td>2022-01-31</td>\n",
       "      <td>25473966</td>\n",
       "      <td>627646</td>\n",
       "    </tr>\n",
       "    <tr>\n",
       "      <th>24</th>\n",
       "      <td>2022-02-28</td>\n",
       "      <td>28798047</td>\n",
       "      <td>649686</td>\n",
       "    </tr>\n",
       "    <tr>\n",
       "      <th>25</th>\n",
       "      <td>2022-03-27</td>\n",
       "      <td>29849740</td>\n",
       "      <td>659159</td>\n",
       "    </tr>\n",
       "  </tbody>\n",
       "</table>\n",
       "</div>"
      ],
      "text/plain": [
       "         date  confirmed  deaths\n",
       "0  2020-02-28          2       0\n",
       "1  2020-03-31       5824     202\n",
       "2  2020-04-30      87126    5980\n",
       "3  2020-05-31     516094   29367\n",
       "4  2020-06-30    1412664   59791\n",
       "5  2020-07-31    2670451   92727\n",
       "6  2020-08-31    3914829  121618\n",
       "7  2020-09-30    4817365  143964\n",
       "8  2020-10-31    5537763  159972\n",
       "9  2020-11-30    6341965  173268\n",
       "10 2020-12-31    7681032  195072\n",
       "11 2021-01-31    9208521  224646\n",
       "12 2021-02-28   10558088  255175\n",
       "13 2021-03-31   12763392  322138\n",
       "14 2021-04-30   14675104  404530\n",
       "15 2021-05-31   16557888  463244\n",
       "16 2021-06-30   18570296  518488\n",
       "17 2021-07-31   19922146  556676\n",
       "18 2021-08-31   20785196  580763\n",
       "19 2021-09-30   21432362  597032\n",
       "20 2021-10-31   21814625  608081\n",
       "21 2021-11-30   22100158  614985\n",
       "22 2021-12-31   22292099  619335\n",
       "23 2022-01-31   25473966  627646\n",
       "24 2022-02-28   28798047  649686\n",
       "25 2022-03-27   29849740  659159"
      ]
     },
     "execution_count": 106,
     "metadata": {},
     "output_type": "execute_result"
    }
   ],
   "source": [
    "c = new_selecao[['date','confirmed','deaths']].groupby(['date']).sum().reset_index()\n",
    "c"
   ]
  },
  {
   "cell_type": "code",
   "execution_count": 107,
   "id": "a2262047",
   "metadata": {},
   "outputs": [
    {
     "data": {
      "application/vnd.plotly.v1+json": {
       "config": {
        "plotlyServerURL": "https://plot.ly"
       },
       "data": [
        {
         "fillpattern": {
          "shape": ""
         },
         "hovertemplate": "variable=confirmed<br>date=%{x}<br>value=%{y}<extra></extra>",
         "legendgroup": "confirmed",
         "line": {
          "color": "#636efa"
         },
         "marker": {
          "symbol": "circle"
         },
         "mode": "lines",
         "name": "confirmed",
         "orientation": "v",
         "showlegend": true,
         "stackgroup": "1",
         "type": "scatter",
         "x": [
          "2020-02-28T00:00:00",
          "2020-03-31T00:00:00",
          "2020-04-30T00:00:00",
          "2020-05-31T00:00:00",
          "2020-06-30T00:00:00",
          "2020-07-31T00:00:00",
          "2020-08-31T00:00:00",
          "2020-09-30T00:00:00",
          "2020-10-31T00:00:00",
          "2020-11-30T00:00:00",
          "2020-12-31T00:00:00",
          "2021-01-31T00:00:00",
          "2021-02-28T00:00:00",
          "2021-03-31T00:00:00",
          "2021-04-30T00:00:00",
          "2021-05-31T00:00:00",
          "2021-06-30T00:00:00",
          "2021-07-31T00:00:00",
          "2021-08-31T00:00:00",
          "2021-09-30T00:00:00",
          "2021-10-31T00:00:00",
          "2021-11-30T00:00:00",
          "2021-12-31T00:00:00",
          "2022-01-31T00:00:00",
          "2022-02-28T00:00:00",
          "2022-03-27T00:00:00"
         ],
         "xaxis": "x",
         "y": [
          2,
          5824,
          87126,
          516094,
          1412664,
          2670451,
          3914829,
          4817365,
          5537763,
          6341965,
          7681032,
          9208521,
          10558088,
          12763392,
          14675104,
          16557888,
          18570296,
          19922146,
          20785196,
          21432362,
          21814625,
          22100158,
          22292099,
          25473966,
          28798047,
          29849740
         ],
         "yaxis": "y"
        },
        {
         "fillpattern": {
          "shape": ""
         },
         "hovertemplate": "variable=deaths<br>date=%{x}<br>value=%{y}<extra></extra>",
         "legendgroup": "deaths",
         "line": {
          "color": "#EF553B"
         },
         "marker": {
          "symbol": "circle"
         },
         "mode": "lines",
         "name": "deaths",
         "orientation": "v",
         "showlegend": true,
         "stackgroup": "1",
         "type": "scatter",
         "x": [
          "2020-02-28T00:00:00",
          "2020-03-31T00:00:00",
          "2020-04-30T00:00:00",
          "2020-05-31T00:00:00",
          "2020-06-30T00:00:00",
          "2020-07-31T00:00:00",
          "2020-08-31T00:00:00",
          "2020-09-30T00:00:00",
          "2020-10-31T00:00:00",
          "2020-11-30T00:00:00",
          "2020-12-31T00:00:00",
          "2021-01-31T00:00:00",
          "2021-02-28T00:00:00",
          "2021-03-31T00:00:00",
          "2021-04-30T00:00:00",
          "2021-05-31T00:00:00",
          "2021-06-30T00:00:00",
          "2021-07-31T00:00:00",
          "2021-08-31T00:00:00",
          "2021-09-30T00:00:00",
          "2021-10-31T00:00:00",
          "2021-11-30T00:00:00",
          "2021-12-31T00:00:00",
          "2022-01-31T00:00:00",
          "2022-02-28T00:00:00",
          "2022-03-27T00:00:00"
         ],
         "xaxis": "x",
         "y": [
          0,
          202,
          5980,
          29367,
          59791,
          92727,
          121618,
          143964,
          159972,
          173268,
          195072,
          224646,
          255175,
          322138,
          404530,
          463244,
          518488,
          556676,
          580763,
          597032,
          608081,
          614985,
          619335,
          627646,
          649686,
          659159
         ],
         "yaxis": "y"
        }
       ],
       "layout": {
        "legend": {
         "title": {
          "text": "<b>COVID-19</b>"
         },
         "tracegroupgap": 0,
         "x": 0.02,
         "y": 0.98
        },
        "margin": {
         "t": 60
        },
        "template": {
         "data": {
          "bar": [
           {
            "error_x": {
             "color": "#2a3f5f"
            },
            "error_y": {
             "color": "#2a3f5f"
            },
            "marker": {
             "line": {
              "color": "#E5ECF6",
              "width": 0.5
             },
             "pattern": {
              "fillmode": "overlay",
              "size": 10,
              "solidity": 0.2
             }
            },
            "type": "bar"
           }
          ],
          "barpolar": [
           {
            "marker": {
             "line": {
              "color": "#E5ECF6",
              "width": 0.5
             },
             "pattern": {
              "fillmode": "overlay",
              "size": 10,
              "solidity": 0.2
             }
            },
            "type": "barpolar"
           }
          ],
          "carpet": [
           {
            "aaxis": {
             "endlinecolor": "#2a3f5f",
             "gridcolor": "white",
             "linecolor": "white",
             "minorgridcolor": "white",
             "startlinecolor": "#2a3f5f"
            },
            "baxis": {
             "endlinecolor": "#2a3f5f",
             "gridcolor": "white",
             "linecolor": "white",
             "minorgridcolor": "white",
             "startlinecolor": "#2a3f5f"
            },
            "type": "carpet"
           }
          ],
          "choropleth": [
           {
            "colorbar": {
             "outlinewidth": 0,
             "ticks": ""
            },
            "type": "choropleth"
           }
          ],
          "contour": [
           {
            "colorbar": {
             "outlinewidth": 0,
             "ticks": ""
            },
            "colorscale": [
             [
              0,
              "#0d0887"
             ],
             [
              0.1111111111111111,
              "#46039f"
             ],
             [
              0.2222222222222222,
              "#7201a8"
             ],
             [
              0.3333333333333333,
              "#9c179e"
             ],
             [
              0.4444444444444444,
              "#bd3786"
             ],
             [
              0.5555555555555556,
              "#d8576b"
             ],
             [
              0.6666666666666666,
              "#ed7953"
             ],
             [
              0.7777777777777778,
              "#fb9f3a"
             ],
             [
              0.8888888888888888,
              "#fdca26"
             ],
             [
              1,
              "#f0f921"
             ]
            ],
            "type": "contour"
           }
          ],
          "contourcarpet": [
           {
            "colorbar": {
             "outlinewidth": 0,
             "ticks": ""
            },
            "type": "contourcarpet"
           }
          ],
          "heatmap": [
           {
            "colorbar": {
             "outlinewidth": 0,
             "ticks": ""
            },
            "colorscale": [
             [
              0,
              "#0d0887"
             ],
             [
              0.1111111111111111,
              "#46039f"
             ],
             [
              0.2222222222222222,
              "#7201a8"
             ],
             [
              0.3333333333333333,
              "#9c179e"
             ],
             [
              0.4444444444444444,
              "#bd3786"
             ],
             [
              0.5555555555555556,
              "#d8576b"
             ],
             [
              0.6666666666666666,
              "#ed7953"
             ],
             [
              0.7777777777777778,
              "#fb9f3a"
             ],
             [
              0.8888888888888888,
              "#fdca26"
             ],
             [
              1,
              "#f0f921"
             ]
            ],
            "type": "heatmap"
           }
          ],
          "heatmapgl": [
           {
            "colorbar": {
             "outlinewidth": 0,
             "ticks": ""
            },
            "colorscale": [
             [
              0,
              "#0d0887"
             ],
             [
              0.1111111111111111,
              "#46039f"
             ],
             [
              0.2222222222222222,
              "#7201a8"
             ],
             [
              0.3333333333333333,
              "#9c179e"
             ],
             [
              0.4444444444444444,
              "#bd3786"
             ],
             [
              0.5555555555555556,
              "#d8576b"
             ],
             [
              0.6666666666666666,
              "#ed7953"
             ],
             [
              0.7777777777777778,
              "#fb9f3a"
             ],
             [
              0.8888888888888888,
              "#fdca26"
             ],
             [
              1,
              "#f0f921"
             ]
            ],
            "type": "heatmapgl"
           }
          ],
          "histogram": [
           {
            "marker": {
             "pattern": {
              "fillmode": "overlay",
              "size": 10,
              "solidity": 0.2
             }
            },
            "type": "histogram"
           }
          ],
          "histogram2d": [
           {
            "colorbar": {
             "outlinewidth": 0,
             "ticks": ""
            },
            "colorscale": [
             [
              0,
              "#0d0887"
             ],
             [
              0.1111111111111111,
              "#46039f"
             ],
             [
              0.2222222222222222,
              "#7201a8"
             ],
             [
              0.3333333333333333,
              "#9c179e"
             ],
             [
              0.4444444444444444,
              "#bd3786"
             ],
             [
              0.5555555555555556,
              "#d8576b"
             ],
             [
              0.6666666666666666,
              "#ed7953"
             ],
             [
              0.7777777777777778,
              "#fb9f3a"
             ],
             [
              0.8888888888888888,
              "#fdca26"
             ],
             [
              1,
              "#f0f921"
             ]
            ],
            "type": "histogram2d"
           }
          ],
          "histogram2dcontour": [
           {
            "colorbar": {
             "outlinewidth": 0,
             "ticks": ""
            },
            "colorscale": [
             [
              0,
              "#0d0887"
             ],
             [
              0.1111111111111111,
              "#46039f"
             ],
             [
              0.2222222222222222,
              "#7201a8"
             ],
             [
              0.3333333333333333,
              "#9c179e"
             ],
             [
              0.4444444444444444,
              "#bd3786"
             ],
             [
              0.5555555555555556,
              "#d8576b"
             ],
             [
              0.6666666666666666,
              "#ed7953"
             ],
             [
              0.7777777777777778,
              "#fb9f3a"
             ],
             [
              0.8888888888888888,
              "#fdca26"
             ],
             [
              1,
              "#f0f921"
             ]
            ],
            "type": "histogram2dcontour"
           }
          ],
          "mesh3d": [
           {
            "colorbar": {
             "outlinewidth": 0,
             "ticks": ""
            },
            "type": "mesh3d"
           }
          ],
          "parcoords": [
           {
            "line": {
             "colorbar": {
              "outlinewidth": 0,
              "ticks": ""
             }
            },
            "type": "parcoords"
           }
          ],
          "pie": [
           {
            "automargin": true,
            "type": "pie"
           }
          ],
          "scatter": [
           {
            "fillpattern": {
             "fillmode": "overlay",
             "size": 10,
             "solidity": 0.2
            },
            "type": "scatter"
           }
          ],
          "scatter3d": [
           {
            "line": {
             "colorbar": {
              "outlinewidth": 0,
              "ticks": ""
             }
            },
            "marker": {
             "colorbar": {
              "outlinewidth": 0,
              "ticks": ""
             }
            },
            "type": "scatter3d"
           }
          ],
          "scattercarpet": [
           {
            "marker": {
             "colorbar": {
              "outlinewidth": 0,
              "ticks": ""
             }
            },
            "type": "scattercarpet"
           }
          ],
          "scattergeo": [
           {
            "marker": {
             "colorbar": {
              "outlinewidth": 0,
              "ticks": ""
             }
            },
            "type": "scattergeo"
           }
          ],
          "scattergl": [
           {
            "marker": {
             "colorbar": {
              "outlinewidth": 0,
              "ticks": ""
             }
            },
            "type": "scattergl"
           }
          ],
          "scattermapbox": [
           {
            "marker": {
             "colorbar": {
              "outlinewidth": 0,
              "ticks": ""
             }
            },
            "type": "scattermapbox"
           }
          ],
          "scatterpolar": [
           {
            "marker": {
             "colorbar": {
              "outlinewidth": 0,
              "ticks": ""
             }
            },
            "type": "scatterpolar"
           }
          ],
          "scatterpolargl": [
           {
            "marker": {
             "colorbar": {
              "outlinewidth": 0,
              "ticks": ""
             }
            },
            "type": "scatterpolargl"
           }
          ],
          "scatterternary": [
           {
            "marker": {
             "colorbar": {
              "outlinewidth": 0,
              "ticks": ""
             }
            },
            "type": "scatterternary"
           }
          ],
          "surface": [
           {
            "colorbar": {
             "outlinewidth": 0,
             "ticks": ""
            },
            "colorscale": [
             [
              0,
              "#0d0887"
             ],
             [
              0.1111111111111111,
              "#46039f"
             ],
             [
              0.2222222222222222,
              "#7201a8"
             ],
             [
              0.3333333333333333,
              "#9c179e"
             ],
             [
              0.4444444444444444,
              "#bd3786"
             ],
             [
              0.5555555555555556,
              "#d8576b"
             ],
             [
              0.6666666666666666,
              "#ed7953"
             ],
             [
              0.7777777777777778,
              "#fb9f3a"
             ],
             [
              0.8888888888888888,
              "#fdca26"
             ],
             [
              1,
              "#f0f921"
             ]
            ],
            "type": "surface"
           }
          ],
          "table": [
           {
            "cells": {
             "fill": {
              "color": "#EBF0F8"
             },
             "line": {
              "color": "white"
             }
            },
            "header": {
             "fill": {
              "color": "#C8D4E3"
             },
             "line": {
              "color": "white"
             }
            },
            "type": "table"
           }
          ]
         },
         "layout": {
          "annotationdefaults": {
           "arrowcolor": "#2a3f5f",
           "arrowhead": 0,
           "arrowwidth": 1
          },
          "autotypenumbers": "strict",
          "coloraxis": {
           "colorbar": {
            "outlinewidth": 0,
            "ticks": ""
           }
          },
          "colorscale": {
           "diverging": [
            [
             0,
             "#8e0152"
            ],
            [
             0.1,
             "#c51b7d"
            ],
            [
             0.2,
             "#de77ae"
            ],
            [
             0.3,
             "#f1b6da"
            ],
            [
             0.4,
             "#fde0ef"
            ],
            [
             0.5,
             "#f7f7f7"
            ],
            [
             0.6,
             "#e6f5d0"
            ],
            [
             0.7,
             "#b8e186"
            ],
            [
             0.8,
             "#7fbc41"
            ],
            [
             0.9,
             "#4d9221"
            ],
            [
             1,
             "#276419"
            ]
           ],
           "sequential": [
            [
             0,
             "#0d0887"
            ],
            [
             0.1111111111111111,
             "#46039f"
            ],
            [
             0.2222222222222222,
             "#7201a8"
            ],
            [
             0.3333333333333333,
             "#9c179e"
            ],
            [
             0.4444444444444444,
             "#bd3786"
            ],
            [
             0.5555555555555556,
             "#d8576b"
            ],
            [
             0.6666666666666666,
             "#ed7953"
            ],
            [
             0.7777777777777778,
             "#fb9f3a"
            ],
            [
             0.8888888888888888,
             "#fdca26"
            ],
            [
             1,
             "#f0f921"
            ]
           ],
           "sequentialminus": [
            [
             0,
             "#0d0887"
            ],
            [
             0.1111111111111111,
             "#46039f"
            ],
            [
             0.2222222222222222,
             "#7201a8"
            ],
            [
             0.3333333333333333,
             "#9c179e"
            ],
            [
             0.4444444444444444,
             "#bd3786"
            ],
            [
             0.5555555555555556,
             "#d8576b"
            ],
            [
             0.6666666666666666,
             "#ed7953"
            ],
            [
             0.7777777777777778,
             "#fb9f3a"
            ],
            [
             0.8888888888888888,
             "#fdca26"
            ],
            [
             1,
             "#f0f921"
            ]
           ]
          },
          "colorway": [
           "#636efa",
           "#EF553B",
           "#00cc96",
           "#ab63fa",
           "#FFA15A",
           "#19d3f3",
           "#FF6692",
           "#B6E880",
           "#FF97FF",
           "#FECB52"
          ],
          "font": {
           "color": "#2a3f5f"
          },
          "geo": {
           "bgcolor": "white",
           "lakecolor": "white",
           "landcolor": "#E5ECF6",
           "showlakes": true,
           "showland": true,
           "subunitcolor": "white"
          },
          "hoverlabel": {
           "align": "left"
          },
          "hovermode": "closest",
          "mapbox": {
           "style": "light"
          },
          "paper_bgcolor": "white",
          "plot_bgcolor": "#E5ECF6",
          "polar": {
           "angularaxis": {
            "gridcolor": "white",
            "linecolor": "white",
            "ticks": ""
           },
           "bgcolor": "#E5ECF6",
           "radialaxis": {
            "gridcolor": "white",
            "linecolor": "white",
            "ticks": ""
           }
          },
          "scene": {
           "xaxis": {
            "backgroundcolor": "#E5ECF6",
            "gridcolor": "white",
            "gridwidth": 2,
            "linecolor": "white",
            "showbackground": true,
            "ticks": "",
            "zerolinecolor": "white"
           },
           "yaxis": {
            "backgroundcolor": "#E5ECF6",
            "gridcolor": "white",
            "gridwidth": 2,
            "linecolor": "white",
            "showbackground": true,
            "ticks": "",
            "zerolinecolor": "white"
           },
           "zaxis": {
            "backgroundcolor": "#E5ECF6",
            "gridcolor": "white",
            "gridwidth": 2,
            "linecolor": "white",
            "showbackground": true,
            "ticks": "",
            "zerolinecolor": "white"
           }
          },
          "shapedefaults": {
           "line": {
            "color": "#2a3f5f"
           }
          },
          "ternary": {
           "aaxis": {
            "gridcolor": "white",
            "linecolor": "white",
            "ticks": ""
           },
           "baxis": {
            "gridcolor": "white",
            "linecolor": "white",
            "ticks": ""
           },
           "bgcolor": "#E5ECF6",
           "caxis": {
            "gridcolor": "white",
            "linecolor": "white",
            "ticks": ""
           }
          },
          "title": {
           "x": 0.05
          },
          "xaxis": {
           "automargin": true,
           "gridcolor": "white",
           "linecolor": "white",
           "ticks": "",
           "title": {
            "standoff": 15
           },
           "zerolinecolor": "white",
           "zerolinewidth": 2
          },
          "yaxis": {
           "automargin": true,
           "gridcolor": "white",
           "linecolor": "white",
           "ticks": "",
           "title": {
            "standoff": 15
           },
           "zerolinecolor": "white",
           "zerolinewidth": 2
          }
         }
        },
        "title": {
         "text": "COVID-19 no Brasil: Total de casos e numero de mortes"
        },
        "xaxis": {
         "anchor": "y",
         "domain": [
          0,
          1
         ],
         "title": {
          "text": "Data"
         }
        },
        "yaxis": {
         "anchor": "x",
         "domain": [
          0,
          1
         ],
         "title": {
          "text": "Numero de casos"
         }
        }
       }
      },
      "text/html": [
       "<div>                            <div id=\"60ddb1fa-d56f-4e6f-bc2e-235183f857f2\" class=\"plotly-graph-div\" style=\"height:525px; width:100%;\"></div>            <script type=\"text/javascript\">                require([\"plotly\"], function(Plotly) {                    window.PLOTLYENV=window.PLOTLYENV || {};                                    if (document.getElementById(\"60ddb1fa-d56f-4e6f-bc2e-235183f857f2\")) {                    Plotly.newPlot(                        \"60ddb1fa-d56f-4e6f-bc2e-235183f857f2\",                        [{\"fillpattern\":{\"shape\":\"\"},\"hovertemplate\":\"variable=confirmed<br>date=%{x}<br>value=%{y}<extra></extra>\",\"legendgroup\":\"confirmed\",\"line\":{\"color\":\"#636efa\"},\"marker\":{\"symbol\":\"circle\"},\"mode\":\"lines\",\"name\":\"confirmed\",\"orientation\":\"v\",\"showlegend\":true,\"stackgroup\":\"1\",\"x\":[\"2020-02-28T00:00:00\",\"2020-03-31T00:00:00\",\"2020-04-30T00:00:00\",\"2020-05-31T00:00:00\",\"2020-06-30T00:00:00\",\"2020-07-31T00:00:00\",\"2020-08-31T00:00:00\",\"2020-09-30T00:00:00\",\"2020-10-31T00:00:00\",\"2020-11-30T00:00:00\",\"2020-12-31T00:00:00\",\"2021-01-31T00:00:00\",\"2021-02-28T00:00:00\",\"2021-03-31T00:00:00\",\"2021-04-30T00:00:00\",\"2021-05-31T00:00:00\",\"2021-06-30T00:00:00\",\"2021-07-31T00:00:00\",\"2021-08-31T00:00:00\",\"2021-09-30T00:00:00\",\"2021-10-31T00:00:00\",\"2021-11-30T00:00:00\",\"2021-12-31T00:00:00\",\"2022-01-31T00:00:00\",\"2022-02-28T00:00:00\",\"2022-03-27T00:00:00\"],\"xaxis\":\"x\",\"y\":[2,5824,87126,516094,1412664,2670451,3914829,4817365,5537763,6341965,7681032,9208521,10558088,12763392,14675104,16557888,18570296,19922146,20785196,21432362,21814625,22100158,22292099,25473966,28798047,29849740],\"yaxis\":\"y\",\"type\":\"scatter\"},{\"fillpattern\":{\"shape\":\"\"},\"hovertemplate\":\"variable=deaths<br>date=%{x}<br>value=%{y}<extra></extra>\",\"legendgroup\":\"deaths\",\"line\":{\"color\":\"#EF553B\"},\"marker\":{\"symbol\":\"circle\"},\"mode\":\"lines\",\"name\":\"deaths\",\"orientation\":\"v\",\"showlegend\":true,\"stackgroup\":\"1\",\"x\":[\"2020-02-28T00:00:00\",\"2020-03-31T00:00:00\",\"2020-04-30T00:00:00\",\"2020-05-31T00:00:00\",\"2020-06-30T00:00:00\",\"2020-07-31T00:00:00\",\"2020-08-31T00:00:00\",\"2020-09-30T00:00:00\",\"2020-10-31T00:00:00\",\"2020-11-30T00:00:00\",\"2020-12-31T00:00:00\",\"2021-01-31T00:00:00\",\"2021-02-28T00:00:00\",\"2021-03-31T00:00:00\",\"2021-04-30T00:00:00\",\"2021-05-31T00:00:00\",\"2021-06-30T00:00:00\",\"2021-07-31T00:00:00\",\"2021-08-31T00:00:00\",\"2021-09-30T00:00:00\",\"2021-10-31T00:00:00\",\"2021-11-30T00:00:00\",\"2021-12-31T00:00:00\",\"2022-01-31T00:00:00\",\"2022-02-28T00:00:00\",\"2022-03-27T00:00:00\"],\"xaxis\":\"x\",\"y\":[0,202,5980,29367,59791,92727,121618,143964,159972,173268,195072,224646,255175,322138,404530,463244,518488,556676,580763,597032,608081,614985,619335,627646,649686,659159],\"yaxis\":\"y\",\"type\":\"scatter\"}],                        {\"template\":{\"data\":{\"histogram2dcontour\":[{\"type\":\"histogram2dcontour\",\"colorbar\":{\"outlinewidth\":0,\"ticks\":\"\"},\"colorscale\":[[0.0,\"#0d0887\"],[0.1111111111111111,\"#46039f\"],[0.2222222222222222,\"#7201a8\"],[0.3333333333333333,\"#9c179e\"],[0.4444444444444444,\"#bd3786\"],[0.5555555555555556,\"#d8576b\"],[0.6666666666666666,\"#ed7953\"],[0.7777777777777778,\"#fb9f3a\"],[0.8888888888888888,\"#fdca26\"],[1.0,\"#f0f921\"]]}],\"choropleth\":[{\"type\":\"choropleth\",\"colorbar\":{\"outlinewidth\":0,\"ticks\":\"\"}}],\"histogram2d\":[{\"type\":\"histogram2d\",\"colorbar\":{\"outlinewidth\":0,\"ticks\":\"\"},\"colorscale\":[[0.0,\"#0d0887\"],[0.1111111111111111,\"#46039f\"],[0.2222222222222222,\"#7201a8\"],[0.3333333333333333,\"#9c179e\"],[0.4444444444444444,\"#bd3786\"],[0.5555555555555556,\"#d8576b\"],[0.6666666666666666,\"#ed7953\"],[0.7777777777777778,\"#fb9f3a\"],[0.8888888888888888,\"#fdca26\"],[1.0,\"#f0f921\"]]}],\"heatmap\":[{\"type\":\"heatmap\",\"colorbar\":{\"outlinewidth\":0,\"ticks\":\"\"},\"colorscale\":[[0.0,\"#0d0887\"],[0.1111111111111111,\"#46039f\"],[0.2222222222222222,\"#7201a8\"],[0.3333333333333333,\"#9c179e\"],[0.4444444444444444,\"#bd3786\"],[0.5555555555555556,\"#d8576b\"],[0.6666666666666666,\"#ed7953\"],[0.7777777777777778,\"#fb9f3a\"],[0.8888888888888888,\"#fdca26\"],[1.0,\"#f0f921\"]]}],\"heatmapgl\":[{\"type\":\"heatmapgl\",\"colorbar\":{\"outlinewidth\":0,\"ticks\":\"\"},\"colorscale\":[[0.0,\"#0d0887\"],[0.1111111111111111,\"#46039f\"],[0.2222222222222222,\"#7201a8\"],[0.3333333333333333,\"#9c179e\"],[0.4444444444444444,\"#bd3786\"],[0.5555555555555556,\"#d8576b\"],[0.6666666666666666,\"#ed7953\"],[0.7777777777777778,\"#fb9f3a\"],[0.8888888888888888,\"#fdca26\"],[1.0,\"#f0f921\"]]}],\"contourcarpet\":[{\"type\":\"contourcarpet\",\"colorbar\":{\"outlinewidth\":0,\"ticks\":\"\"}}],\"contour\":[{\"type\":\"contour\",\"colorbar\":{\"outlinewidth\":0,\"ticks\":\"\"},\"colorscale\":[[0.0,\"#0d0887\"],[0.1111111111111111,\"#46039f\"],[0.2222222222222222,\"#7201a8\"],[0.3333333333333333,\"#9c179e\"],[0.4444444444444444,\"#bd3786\"],[0.5555555555555556,\"#d8576b\"],[0.6666666666666666,\"#ed7953\"],[0.7777777777777778,\"#fb9f3a\"],[0.8888888888888888,\"#fdca26\"],[1.0,\"#f0f921\"]]}],\"surface\":[{\"type\":\"surface\",\"colorbar\":{\"outlinewidth\":0,\"ticks\":\"\"},\"colorscale\":[[0.0,\"#0d0887\"],[0.1111111111111111,\"#46039f\"],[0.2222222222222222,\"#7201a8\"],[0.3333333333333333,\"#9c179e\"],[0.4444444444444444,\"#bd3786\"],[0.5555555555555556,\"#d8576b\"],[0.6666666666666666,\"#ed7953\"],[0.7777777777777778,\"#fb9f3a\"],[0.8888888888888888,\"#fdca26\"],[1.0,\"#f0f921\"]]}],\"mesh3d\":[{\"type\":\"mesh3d\",\"colorbar\":{\"outlinewidth\":0,\"ticks\":\"\"}}],\"scatter\":[{\"fillpattern\":{\"fillmode\":\"overlay\",\"size\":10,\"solidity\":0.2},\"type\":\"scatter\"}],\"parcoords\":[{\"type\":\"parcoords\",\"line\":{\"colorbar\":{\"outlinewidth\":0,\"ticks\":\"\"}}}],\"scatterpolargl\":[{\"type\":\"scatterpolargl\",\"marker\":{\"colorbar\":{\"outlinewidth\":0,\"ticks\":\"\"}}}],\"bar\":[{\"error_x\":{\"color\":\"#2a3f5f\"},\"error_y\":{\"color\":\"#2a3f5f\"},\"marker\":{\"line\":{\"color\":\"#E5ECF6\",\"width\":0.5},\"pattern\":{\"fillmode\":\"overlay\",\"size\":10,\"solidity\":0.2}},\"type\":\"bar\"}],\"scattergeo\":[{\"type\":\"scattergeo\",\"marker\":{\"colorbar\":{\"outlinewidth\":0,\"ticks\":\"\"}}}],\"scatterpolar\":[{\"type\":\"scatterpolar\",\"marker\":{\"colorbar\":{\"outlinewidth\":0,\"ticks\":\"\"}}}],\"histogram\":[{\"marker\":{\"pattern\":{\"fillmode\":\"overlay\",\"size\":10,\"solidity\":0.2}},\"type\":\"histogram\"}],\"scattergl\":[{\"type\":\"scattergl\",\"marker\":{\"colorbar\":{\"outlinewidth\":0,\"ticks\":\"\"}}}],\"scatter3d\":[{\"type\":\"scatter3d\",\"line\":{\"colorbar\":{\"outlinewidth\":0,\"ticks\":\"\"}},\"marker\":{\"colorbar\":{\"outlinewidth\":0,\"ticks\":\"\"}}}],\"scattermapbox\":[{\"type\":\"scattermapbox\",\"marker\":{\"colorbar\":{\"outlinewidth\":0,\"ticks\":\"\"}}}],\"scatterternary\":[{\"type\":\"scatterternary\",\"marker\":{\"colorbar\":{\"outlinewidth\":0,\"ticks\":\"\"}}}],\"scattercarpet\":[{\"type\":\"scattercarpet\",\"marker\":{\"colorbar\":{\"outlinewidth\":0,\"ticks\":\"\"}}}],\"carpet\":[{\"aaxis\":{\"endlinecolor\":\"#2a3f5f\",\"gridcolor\":\"white\",\"linecolor\":\"white\",\"minorgridcolor\":\"white\",\"startlinecolor\":\"#2a3f5f\"},\"baxis\":{\"endlinecolor\":\"#2a3f5f\",\"gridcolor\":\"white\",\"linecolor\":\"white\",\"minorgridcolor\":\"white\",\"startlinecolor\":\"#2a3f5f\"},\"type\":\"carpet\"}],\"table\":[{\"cells\":{\"fill\":{\"color\":\"#EBF0F8\"},\"line\":{\"color\":\"white\"}},\"header\":{\"fill\":{\"color\":\"#C8D4E3\"},\"line\":{\"color\":\"white\"}},\"type\":\"table\"}],\"barpolar\":[{\"marker\":{\"line\":{\"color\":\"#E5ECF6\",\"width\":0.5},\"pattern\":{\"fillmode\":\"overlay\",\"size\":10,\"solidity\":0.2}},\"type\":\"barpolar\"}],\"pie\":[{\"automargin\":true,\"type\":\"pie\"}]},\"layout\":{\"autotypenumbers\":\"strict\",\"colorway\":[\"#636efa\",\"#EF553B\",\"#00cc96\",\"#ab63fa\",\"#FFA15A\",\"#19d3f3\",\"#FF6692\",\"#B6E880\",\"#FF97FF\",\"#FECB52\"],\"font\":{\"color\":\"#2a3f5f\"},\"hovermode\":\"closest\",\"hoverlabel\":{\"align\":\"left\"},\"paper_bgcolor\":\"white\",\"plot_bgcolor\":\"#E5ECF6\",\"polar\":{\"bgcolor\":\"#E5ECF6\",\"angularaxis\":{\"gridcolor\":\"white\",\"linecolor\":\"white\",\"ticks\":\"\"},\"radialaxis\":{\"gridcolor\":\"white\",\"linecolor\":\"white\",\"ticks\":\"\"}},\"ternary\":{\"bgcolor\":\"#E5ECF6\",\"aaxis\":{\"gridcolor\":\"white\",\"linecolor\":\"white\",\"ticks\":\"\"},\"baxis\":{\"gridcolor\":\"white\",\"linecolor\":\"white\",\"ticks\":\"\"},\"caxis\":{\"gridcolor\":\"white\",\"linecolor\":\"white\",\"ticks\":\"\"}},\"coloraxis\":{\"colorbar\":{\"outlinewidth\":0,\"ticks\":\"\"}},\"colorscale\":{\"sequential\":[[0.0,\"#0d0887\"],[0.1111111111111111,\"#46039f\"],[0.2222222222222222,\"#7201a8\"],[0.3333333333333333,\"#9c179e\"],[0.4444444444444444,\"#bd3786\"],[0.5555555555555556,\"#d8576b\"],[0.6666666666666666,\"#ed7953\"],[0.7777777777777778,\"#fb9f3a\"],[0.8888888888888888,\"#fdca26\"],[1.0,\"#f0f921\"]],\"sequentialminus\":[[0.0,\"#0d0887\"],[0.1111111111111111,\"#46039f\"],[0.2222222222222222,\"#7201a8\"],[0.3333333333333333,\"#9c179e\"],[0.4444444444444444,\"#bd3786\"],[0.5555555555555556,\"#d8576b\"],[0.6666666666666666,\"#ed7953\"],[0.7777777777777778,\"#fb9f3a\"],[0.8888888888888888,\"#fdca26\"],[1.0,\"#f0f921\"]],\"diverging\":[[0,\"#8e0152\"],[0.1,\"#c51b7d\"],[0.2,\"#de77ae\"],[0.3,\"#f1b6da\"],[0.4,\"#fde0ef\"],[0.5,\"#f7f7f7\"],[0.6,\"#e6f5d0\"],[0.7,\"#b8e186\"],[0.8,\"#7fbc41\"],[0.9,\"#4d9221\"],[1,\"#276419\"]]},\"xaxis\":{\"gridcolor\":\"white\",\"linecolor\":\"white\",\"ticks\":\"\",\"title\":{\"standoff\":15},\"zerolinecolor\":\"white\",\"automargin\":true,\"zerolinewidth\":2},\"yaxis\":{\"gridcolor\":\"white\",\"linecolor\":\"white\",\"ticks\":\"\",\"title\":{\"standoff\":15},\"zerolinecolor\":\"white\",\"automargin\":true,\"zerolinewidth\":2},\"scene\":{\"xaxis\":{\"backgroundcolor\":\"#E5ECF6\",\"gridcolor\":\"white\",\"linecolor\":\"white\",\"showbackground\":true,\"ticks\":\"\",\"zerolinecolor\":\"white\",\"gridwidth\":2},\"yaxis\":{\"backgroundcolor\":\"#E5ECF6\",\"gridcolor\":\"white\",\"linecolor\":\"white\",\"showbackground\":true,\"ticks\":\"\",\"zerolinecolor\":\"white\",\"gridwidth\":2},\"zaxis\":{\"backgroundcolor\":\"#E5ECF6\",\"gridcolor\":\"white\",\"linecolor\":\"white\",\"showbackground\":true,\"ticks\":\"\",\"zerolinecolor\":\"white\",\"gridwidth\":2}},\"shapedefaults\":{\"line\":{\"color\":\"#2a3f5f\"}},\"annotationdefaults\":{\"arrowcolor\":\"#2a3f5f\",\"arrowhead\":0,\"arrowwidth\":1},\"geo\":{\"bgcolor\":\"white\",\"landcolor\":\"#E5ECF6\",\"subunitcolor\":\"white\",\"showland\":true,\"showlakes\":true,\"lakecolor\":\"white\"},\"title\":{\"x\":0.05},\"mapbox\":{\"style\":\"light\"}}},\"xaxis\":{\"anchor\":\"y\",\"domain\":[0.0,1.0],\"title\":{\"text\":\"Data\"}},\"yaxis\":{\"anchor\":\"x\",\"domain\":[0.0,1.0],\"title\":{\"text\":\"Numero de casos\"}},\"legend\":{\"title\":{\"text\":\"<b>COVID-19</b>\"},\"tracegroupgap\":0,\"x\":0.02,\"y\":0.98},\"margin\":{\"t\":60},\"title\":{\"text\":\"COVID-19 no Brasil: Total de casos e numero de mortes\"}},                        {\"responsive\": true}                    ).then(function(){\n",
       "                            \n",
       "var gd = document.getElementById('60ddb1fa-d56f-4e6f-bc2e-235183f857f2');\n",
       "var x = new MutationObserver(function (mutations, observer) {{\n",
       "        var display = window.getComputedStyle(gd).display;\n",
       "        if (!display || display === 'none') {{\n",
       "            console.log([gd, 'removed!']);\n",
       "            Plotly.purge(gd);\n",
       "            observer.disconnect();\n",
       "        }}\n",
       "}});\n",
       "\n",
       "// Listen for the removal of the full notebook cells\n",
       "var notebookContainer = gd.closest('#notebook-container');\n",
       "if (notebookContainer) {{\n",
       "    x.observe(notebookContainer, {childList: true});\n",
       "}}\n",
       "\n",
       "// Listen for the clearing of the current output cell\n",
       "var outputEl = gd.closest('.output');\n",
       "if (outputEl) {{\n",
       "    x.observe(outputEl, {childList: true});\n",
       "}}\n",
       "\n",
       "                        })                };                });            </script>        </div>"
      ]
     },
     "metadata": {},
     "output_type": "display_data"
    }
   ],
   "source": [
    "c = c.melt(id_vars='date', value_vars=['confirmed', 'deaths'])\n",
    "\n",
    "fig = px.area(c, x='date', y='value', color='variable')\n",
    "fig.update_layout(title='COVID-19 no Brasil: Total de casos e numero de mortes',\n",
    "                  xaxis_title='Data', yaxis_title='Numero de casos',legend_title='<b>COVID-19</b>',\n",
    "                  legend=dict(x=0.02,y=0.98))\n",
    "fig.show()"
   ]
  },
  {
   "cell_type": "code",
   "execution_count": 108,
   "id": "e8989a88",
   "metadata": {},
   "outputs": [],
   "source": [
    "t= new_selecao.loc[new_selecao['is_last'] == True]\n",
    "t= t[['confirmed', 'estimated_population', 'death_rate', 'state','confirmed_per_100k_inhabitants','deaths' ]]"
   ]
  },
  {
   "cell_type": "markdown",
   "id": "5034384d",
   "metadata": {},
   "source": [
    "### Nota-se que os estados com maiores populações tiveram maior numero de casos mas que alguns tiveram um bom indice de mortalidade baixo como Minas Gerais e Rio Grande do Sul, e tivemos também os com alto indice de mortalidade como São Paulo e Rio de Janeiro.\n",
    "### Podemos ver também estados com baixo numero de casos mas que com indice de mortalidade alto como Maranhão e Pernambuco."
   ]
  },
  {
   "cell_type": "code",
   "execution_count": 109,
   "id": "8aec4657",
   "metadata": {},
   "outputs": [
    {
     "data": {
      "application/vnd.plotly.v1+json": {
       "config": {
        "plotlyServerURL": "https://plot.ly"
       },
       "data": [
        {
         "hovertemplate": "<b>%{hovertext}</b><br><br>estimated_population=%{x}<br>confirmed=%{marker.size}<br>death_rate=%{marker.color}<extra></extra>",
         "hovertext": [
          "AP",
          "AC",
          "AM",
          "AL",
          "DF",
          "ES",
          "CE",
          "BA",
          "MS",
          "MA",
          "GO",
          "MT",
          "PA",
          "PE",
          "PB",
          "PI",
          "RJ",
          "MG",
          "RN",
          "RR",
          "RO",
          "PR",
          "SE",
          "SC",
          "TO",
          "RS",
          "SP"
         ],
         "legendgroup": "",
         "marker": {
          "color": [
           0.0132,
           0.0161,
           0.0244,
           0.0232,
           0.0167,
           0.0138,
           0.0215,
           0.0194,
           0.02,
           0.0256,
           0.0206,
           0.0205,
           0.0241,
           0.0239,
           0.0171,
           0.021,
           0.035,
           0.0183,
           0.0164,
           0.0138,
           0.0183,
           0.0178,
           0.0194,
           0.013,
           0.0137,
           0.0172,
           0.0319
          ],
          "coloraxis": "coloraxis",
          "size": [
           160328,
           123808,
           581070,
           295972,
           691353,
           1037188,
           1239746,
           1530054,
           523565,
           424199,
           1269853,
           724653,
           751293,
           892115,
           594891,
           367515,
           2078817,
           3317401,
           495749,
           155062,
           391943,
           2407960,
           325274,
           1671175,
           302502,
           2263880,
           5232374
          ],
          "sizemode": "area",
          "sizeref": 1453.4372222222223,
          "symbol": "circle"
         },
         "mode": "markers",
         "name": "",
         "orientation": "v",
         "showlegend": false,
         "type": "scatter",
         "x": [
          861773,
          894470,
          4207714,
          3351543,
          3055149,
          4064052,
          9187103,
          14930634,
          2809394,
          7114598,
          7113540,
          3526220,
          8690745,
          9616621,
          4039277,
          3281480,
          17366189,
          21292666,
          3534165,
          631181,
          1796460,
          11516840,
          2318822,
          7252502,
          1590248,
          11422973,
          46289333
         ],
         "xaxis": "x",
         "y": [
          160328,
          123808,
          581070,
          295972,
          691353,
          1037188,
          1239746,
          1530054,
          523565,
          424199,
          1269853,
          724653,
          751293,
          892115,
          594891,
          367515,
          2078817,
          3317401,
          495749,
          155062,
          391943,
          2407960,
          325274,
          1671175,
          302502,
          2263880,
          5232374
         ],
         "yaxis": "y"
        }
       ],
       "layout": {
        "coloraxis": {
         "colorbar": {
          "title": {
           "text": "death_rate"
          }
         },
         "colorscale": [
          [
           0,
           "#0d0887"
          ],
          [
           0.1111111111111111,
           "#46039f"
          ],
          [
           0.2222222222222222,
           "#7201a8"
          ],
          [
           0.3333333333333333,
           "#9c179e"
          ],
          [
           0.4444444444444444,
           "#bd3786"
          ],
          [
           0.5555555555555556,
           "#d8576b"
          ],
          [
           0.6666666666666666,
           "#ed7953"
          ],
          [
           0.7777777777777778,
           "#fb9f3a"
          ],
          [
           0.8888888888888888,
           "#fdca26"
          ],
          [
           1,
           "#f0f921"
          ]
         ]
        },
        "legend": {
         "itemsizing": "constant",
         "tracegroupgap": 0
        },
        "template": {
         "data": {
          "bar": [
           {
            "error_x": {
             "color": "#2a3f5f"
            },
            "error_y": {
             "color": "#2a3f5f"
            },
            "marker": {
             "line": {
              "color": "#E5ECF6",
              "width": 0.5
             },
             "pattern": {
              "fillmode": "overlay",
              "size": 10,
              "solidity": 0.2
             }
            },
            "type": "bar"
           }
          ],
          "barpolar": [
           {
            "marker": {
             "line": {
              "color": "#E5ECF6",
              "width": 0.5
             },
             "pattern": {
              "fillmode": "overlay",
              "size": 10,
              "solidity": 0.2
             }
            },
            "type": "barpolar"
           }
          ],
          "carpet": [
           {
            "aaxis": {
             "endlinecolor": "#2a3f5f",
             "gridcolor": "white",
             "linecolor": "white",
             "minorgridcolor": "white",
             "startlinecolor": "#2a3f5f"
            },
            "baxis": {
             "endlinecolor": "#2a3f5f",
             "gridcolor": "white",
             "linecolor": "white",
             "minorgridcolor": "white",
             "startlinecolor": "#2a3f5f"
            },
            "type": "carpet"
           }
          ],
          "choropleth": [
           {
            "colorbar": {
             "outlinewidth": 0,
             "ticks": ""
            },
            "type": "choropleth"
           }
          ],
          "contour": [
           {
            "colorbar": {
             "outlinewidth": 0,
             "ticks": ""
            },
            "colorscale": [
             [
              0,
              "#0d0887"
             ],
             [
              0.1111111111111111,
              "#46039f"
             ],
             [
              0.2222222222222222,
              "#7201a8"
             ],
             [
              0.3333333333333333,
              "#9c179e"
             ],
             [
              0.4444444444444444,
              "#bd3786"
             ],
             [
              0.5555555555555556,
              "#d8576b"
             ],
             [
              0.6666666666666666,
              "#ed7953"
             ],
             [
              0.7777777777777778,
              "#fb9f3a"
             ],
             [
              0.8888888888888888,
              "#fdca26"
             ],
             [
              1,
              "#f0f921"
             ]
            ],
            "type": "contour"
           }
          ],
          "contourcarpet": [
           {
            "colorbar": {
             "outlinewidth": 0,
             "ticks": ""
            },
            "type": "contourcarpet"
           }
          ],
          "heatmap": [
           {
            "colorbar": {
             "outlinewidth": 0,
             "ticks": ""
            },
            "colorscale": [
             [
              0,
              "#0d0887"
             ],
             [
              0.1111111111111111,
              "#46039f"
             ],
             [
              0.2222222222222222,
              "#7201a8"
             ],
             [
              0.3333333333333333,
              "#9c179e"
             ],
             [
              0.4444444444444444,
              "#bd3786"
             ],
             [
              0.5555555555555556,
              "#d8576b"
             ],
             [
              0.6666666666666666,
              "#ed7953"
             ],
             [
              0.7777777777777778,
              "#fb9f3a"
             ],
             [
              0.8888888888888888,
              "#fdca26"
             ],
             [
              1,
              "#f0f921"
             ]
            ],
            "type": "heatmap"
           }
          ],
          "heatmapgl": [
           {
            "colorbar": {
             "outlinewidth": 0,
             "ticks": ""
            },
            "colorscale": [
             [
              0,
              "#0d0887"
             ],
             [
              0.1111111111111111,
              "#46039f"
             ],
             [
              0.2222222222222222,
              "#7201a8"
             ],
             [
              0.3333333333333333,
              "#9c179e"
             ],
             [
              0.4444444444444444,
              "#bd3786"
             ],
             [
              0.5555555555555556,
              "#d8576b"
             ],
             [
              0.6666666666666666,
              "#ed7953"
             ],
             [
              0.7777777777777778,
              "#fb9f3a"
             ],
             [
              0.8888888888888888,
              "#fdca26"
             ],
             [
              1,
              "#f0f921"
             ]
            ],
            "type": "heatmapgl"
           }
          ],
          "histogram": [
           {
            "marker": {
             "pattern": {
              "fillmode": "overlay",
              "size": 10,
              "solidity": 0.2
             }
            },
            "type": "histogram"
           }
          ],
          "histogram2d": [
           {
            "colorbar": {
             "outlinewidth": 0,
             "ticks": ""
            },
            "colorscale": [
             [
              0,
              "#0d0887"
             ],
             [
              0.1111111111111111,
              "#46039f"
             ],
             [
              0.2222222222222222,
              "#7201a8"
             ],
             [
              0.3333333333333333,
              "#9c179e"
             ],
             [
              0.4444444444444444,
              "#bd3786"
             ],
             [
              0.5555555555555556,
              "#d8576b"
             ],
             [
              0.6666666666666666,
              "#ed7953"
             ],
             [
              0.7777777777777778,
              "#fb9f3a"
             ],
             [
              0.8888888888888888,
              "#fdca26"
             ],
             [
              1,
              "#f0f921"
             ]
            ],
            "type": "histogram2d"
           }
          ],
          "histogram2dcontour": [
           {
            "colorbar": {
             "outlinewidth": 0,
             "ticks": ""
            },
            "colorscale": [
             [
              0,
              "#0d0887"
             ],
             [
              0.1111111111111111,
              "#46039f"
             ],
             [
              0.2222222222222222,
              "#7201a8"
             ],
             [
              0.3333333333333333,
              "#9c179e"
             ],
             [
              0.4444444444444444,
              "#bd3786"
             ],
             [
              0.5555555555555556,
              "#d8576b"
             ],
             [
              0.6666666666666666,
              "#ed7953"
             ],
             [
              0.7777777777777778,
              "#fb9f3a"
             ],
             [
              0.8888888888888888,
              "#fdca26"
             ],
             [
              1,
              "#f0f921"
             ]
            ],
            "type": "histogram2dcontour"
           }
          ],
          "mesh3d": [
           {
            "colorbar": {
             "outlinewidth": 0,
             "ticks": ""
            },
            "type": "mesh3d"
           }
          ],
          "parcoords": [
           {
            "line": {
             "colorbar": {
              "outlinewidth": 0,
              "ticks": ""
             }
            },
            "type": "parcoords"
           }
          ],
          "pie": [
           {
            "automargin": true,
            "type": "pie"
           }
          ],
          "scatter": [
           {
            "fillpattern": {
             "fillmode": "overlay",
             "size": 10,
             "solidity": 0.2
            },
            "type": "scatter"
           }
          ],
          "scatter3d": [
           {
            "line": {
             "colorbar": {
              "outlinewidth": 0,
              "ticks": ""
             }
            },
            "marker": {
             "colorbar": {
              "outlinewidth": 0,
              "ticks": ""
             }
            },
            "type": "scatter3d"
           }
          ],
          "scattercarpet": [
           {
            "marker": {
             "colorbar": {
              "outlinewidth": 0,
              "ticks": ""
             }
            },
            "type": "scattercarpet"
           }
          ],
          "scattergeo": [
           {
            "marker": {
             "colorbar": {
              "outlinewidth": 0,
              "ticks": ""
             }
            },
            "type": "scattergeo"
           }
          ],
          "scattergl": [
           {
            "marker": {
             "colorbar": {
              "outlinewidth": 0,
              "ticks": ""
             }
            },
            "type": "scattergl"
           }
          ],
          "scattermapbox": [
           {
            "marker": {
             "colorbar": {
              "outlinewidth": 0,
              "ticks": ""
             }
            },
            "type": "scattermapbox"
           }
          ],
          "scatterpolar": [
           {
            "marker": {
             "colorbar": {
              "outlinewidth": 0,
              "ticks": ""
             }
            },
            "type": "scatterpolar"
           }
          ],
          "scatterpolargl": [
           {
            "marker": {
             "colorbar": {
              "outlinewidth": 0,
              "ticks": ""
             }
            },
            "type": "scatterpolargl"
           }
          ],
          "scatterternary": [
           {
            "marker": {
             "colorbar": {
              "outlinewidth": 0,
              "ticks": ""
             }
            },
            "type": "scatterternary"
           }
          ],
          "surface": [
           {
            "colorbar": {
             "outlinewidth": 0,
             "ticks": ""
            },
            "colorscale": [
             [
              0,
              "#0d0887"
             ],
             [
              0.1111111111111111,
              "#46039f"
             ],
             [
              0.2222222222222222,
              "#7201a8"
             ],
             [
              0.3333333333333333,
              "#9c179e"
             ],
             [
              0.4444444444444444,
              "#bd3786"
             ],
             [
              0.5555555555555556,
              "#d8576b"
             ],
             [
              0.6666666666666666,
              "#ed7953"
             ],
             [
              0.7777777777777778,
              "#fb9f3a"
             ],
             [
              0.8888888888888888,
              "#fdca26"
             ],
             [
              1,
              "#f0f921"
             ]
            ],
            "type": "surface"
           }
          ],
          "table": [
           {
            "cells": {
             "fill": {
              "color": "#EBF0F8"
             },
             "line": {
              "color": "white"
             }
            },
            "header": {
             "fill": {
              "color": "#C8D4E3"
             },
             "line": {
              "color": "white"
             }
            },
            "type": "table"
           }
          ]
         },
         "layout": {
          "annotationdefaults": {
           "arrowcolor": "#2a3f5f",
           "arrowhead": 0,
           "arrowwidth": 1
          },
          "autotypenumbers": "strict",
          "coloraxis": {
           "colorbar": {
            "outlinewidth": 0,
            "ticks": ""
           }
          },
          "colorscale": {
           "diverging": [
            [
             0,
             "#8e0152"
            ],
            [
             0.1,
             "#c51b7d"
            ],
            [
             0.2,
             "#de77ae"
            ],
            [
             0.3,
             "#f1b6da"
            ],
            [
             0.4,
             "#fde0ef"
            ],
            [
             0.5,
             "#f7f7f7"
            ],
            [
             0.6,
             "#e6f5d0"
            ],
            [
             0.7,
             "#b8e186"
            ],
            [
             0.8,
             "#7fbc41"
            ],
            [
             0.9,
             "#4d9221"
            ],
            [
             1,
             "#276419"
            ]
           ],
           "sequential": [
            [
             0,
             "#0d0887"
            ],
            [
             0.1111111111111111,
             "#46039f"
            ],
            [
             0.2222222222222222,
             "#7201a8"
            ],
            [
             0.3333333333333333,
             "#9c179e"
            ],
            [
             0.4444444444444444,
             "#bd3786"
            ],
            [
             0.5555555555555556,
             "#d8576b"
            ],
            [
             0.6666666666666666,
             "#ed7953"
            ],
            [
             0.7777777777777778,
             "#fb9f3a"
            ],
            [
             0.8888888888888888,
             "#fdca26"
            ],
            [
             1,
             "#f0f921"
            ]
           ],
           "sequentialminus": [
            [
             0,
             "#0d0887"
            ],
            [
             0.1111111111111111,
             "#46039f"
            ],
            [
             0.2222222222222222,
             "#7201a8"
            ],
            [
             0.3333333333333333,
             "#9c179e"
            ],
            [
             0.4444444444444444,
             "#bd3786"
            ],
            [
             0.5555555555555556,
             "#d8576b"
            ],
            [
             0.6666666666666666,
             "#ed7953"
            ],
            [
             0.7777777777777778,
             "#fb9f3a"
            ],
            [
             0.8888888888888888,
             "#fdca26"
            ],
            [
             1,
             "#f0f921"
            ]
           ]
          },
          "colorway": [
           "#636efa",
           "#EF553B",
           "#00cc96",
           "#ab63fa",
           "#FFA15A",
           "#19d3f3",
           "#FF6692",
           "#B6E880",
           "#FF97FF",
           "#FECB52"
          ],
          "font": {
           "color": "#2a3f5f"
          },
          "geo": {
           "bgcolor": "white",
           "lakecolor": "white",
           "landcolor": "#E5ECF6",
           "showlakes": true,
           "showland": true,
           "subunitcolor": "white"
          },
          "hoverlabel": {
           "align": "left"
          },
          "hovermode": "closest",
          "mapbox": {
           "style": "light"
          },
          "paper_bgcolor": "white",
          "plot_bgcolor": "#E5ECF6",
          "polar": {
           "angularaxis": {
            "gridcolor": "white",
            "linecolor": "white",
            "ticks": ""
           },
           "bgcolor": "#E5ECF6",
           "radialaxis": {
            "gridcolor": "white",
            "linecolor": "white",
            "ticks": ""
           }
          },
          "scene": {
           "xaxis": {
            "backgroundcolor": "#E5ECF6",
            "gridcolor": "white",
            "gridwidth": 2,
            "linecolor": "white",
            "showbackground": true,
            "ticks": "",
            "zerolinecolor": "white"
           },
           "yaxis": {
            "backgroundcolor": "#E5ECF6",
            "gridcolor": "white",
            "gridwidth": 2,
            "linecolor": "white",
            "showbackground": true,
            "ticks": "",
            "zerolinecolor": "white"
           },
           "zaxis": {
            "backgroundcolor": "#E5ECF6",
            "gridcolor": "white",
            "gridwidth": 2,
            "linecolor": "white",
            "showbackground": true,
            "ticks": "",
            "zerolinecolor": "white"
           }
          },
          "shapedefaults": {
           "line": {
            "color": "#2a3f5f"
           }
          },
          "ternary": {
           "aaxis": {
            "gridcolor": "white",
            "linecolor": "white",
            "ticks": ""
           },
           "baxis": {
            "gridcolor": "white",
            "linecolor": "white",
            "ticks": ""
           },
           "bgcolor": "#E5ECF6",
           "caxis": {
            "gridcolor": "white",
            "linecolor": "white",
            "ticks": ""
           }
          },
          "title": {
           "x": 0.05
          },
          "xaxis": {
           "automargin": true,
           "gridcolor": "white",
           "linecolor": "white",
           "ticks": "",
           "title": {
            "standoff": 15
           },
           "zerolinecolor": "white",
           "zerolinewidth": 2
          },
          "yaxis": {
           "automargin": true,
           "gridcolor": "white",
           "linecolor": "white",
           "ticks": "",
           "title": {
            "standoff": 15
           },
           "zerolinecolor": "white",
           "zerolinewidth": 2
          }
         }
        },
        "title": {
         "text": "COVID-19 no Brasil: População estimada x numero de casos por estado x indice de mortalidade"
        },
        "xaxis": {
         "anchor": "y",
         "domain": [
          0,
          1
         ],
         "title": {
          "text": "estimated_population"
         },
         "type": "log"
        },
        "yaxis": {
         "anchor": "x",
         "domain": [
          0,
          1
         ],
         "title": {
          "text": "confirmed"
         },
         "type": "log"
        }
       }
      },
      "text/html": [
       "<div>                            <div id=\"ba774fa0-d2c0-4451-881c-df055d901364\" class=\"plotly-graph-div\" style=\"height:525px; width:100%;\"></div>            <script type=\"text/javascript\">                require([\"plotly\"], function(Plotly) {                    window.PLOTLYENV=window.PLOTLYENV || {};                                    if (document.getElementById(\"ba774fa0-d2c0-4451-881c-df055d901364\")) {                    Plotly.newPlot(                        \"ba774fa0-d2c0-4451-881c-df055d901364\",                        [{\"hovertemplate\":\"<b>%{hovertext}</b><br><br>estimated_population=%{x}<br>confirmed=%{marker.size}<br>death_rate=%{marker.color}<extra></extra>\",\"hovertext\":[\"AP\",\"AC\",\"AM\",\"AL\",\"DF\",\"ES\",\"CE\",\"BA\",\"MS\",\"MA\",\"GO\",\"MT\",\"PA\",\"PE\",\"PB\",\"PI\",\"RJ\",\"MG\",\"RN\",\"RR\",\"RO\",\"PR\",\"SE\",\"SC\",\"TO\",\"RS\",\"SP\"],\"legendgroup\":\"\",\"marker\":{\"color\":[0.0132,0.0161,0.0244,0.0232,0.0167,0.0138,0.0215,0.0194,0.02,0.0256,0.0206,0.0205,0.0241,0.0239,0.0171,0.021,0.035,0.0183,0.0164,0.0138,0.0183,0.0178,0.0194,0.013,0.0137,0.0172,0.0319],\"coloraxis\":\"coloraxis\",\"size\":[160328,123808,581070,295972,691353,1037188,1239746,1530054,523565,424199,1269853,724653,751293,892115,594891,367515,2078817,3317401,495749,155062,391943,2407960,325274,1671175,302502,2263880,5232374],\"sizemode\":\"area\",\"sizeref\":1453.4372222222223,\"symbol\":\"circle\"},\"mode\":\"markers\",\"name\":\"\",\"orientation\":\"v\",\"showlegend\":false,\"x\":[861773.0,894470.0,4207714.0,3351543.0,3055149.0,4064052.0,9187103.0,14930634.0,2809394.0,7114598.0,7113540.0,3526220.0,8690745.0,9616621.0,4039277.0,3281480.0,17366189.0,21292666.0,3534165.0,631181.0,1796460.0,11516840.0,2318822.0,7252502.0,1590248.0,11422973.0,46289333.0],\"xaxis\":\"x\",\"y\":[160328,123808,581070,295972,691353,1037188,1239746,1530054,523565,424199,1269853,724653,751293,892115,594891,367515,2078817,3317401,495749,155062,391943,2407960,325274,1671175,302502,2263880,5232374],\"yaxis\":\"y\",\"type\":\"scatter\"}],                        {\"template\":{\"data\":{\"histogram2dcontour\":[{\"type\":\"histogram2dcontour\",\"colorbar\":{\"outlinewidth\":0,\"ticks\":\"\"},\"colorscale\":[[0.0,\"#0d0887\"],[0.1111111111111111,\"#46039f\"],[0.2222222222222222,\"#7201a8\"],[0.3333333333333333,\"#9c179e\"],[0.4444444444444444,\"#bd3786\"],[0.5555555555555556,\"#d8576b\"],[0.6666666666666666,\"#ed7953\"],[0.7777777777777778,\"#fb9f3a\"],[0.8888888888888888,\"#fdca26\"],[1.0,\"#f0f921\"]]}],\"choropleth\":[{\"type\":\"choropleth\",\"colorbar\":{\"outlinewidth\":0,\"ticks\":\"\"}}],\"histogram2d\":[{\"type\":\"histogram2d\",\"colorbar\":{\"outlinewidth\":0,\"ticks\":\"\"},\"colorscale\":[[0.0,\"#0d0887\"],[0.1111111111111111,\"#46039f\"],[0.2222222222222222,\"#7201a8\"],[0.3333333333333333,\"#9c179e\"],[0.4444444444444444,\"#bd3786\"],[0.5555555555555556,\"#d8576b\"],[0.6666666666666666,\"#ed7953\"],[0.7777777777777778,\"#fb9f3a\"],[0.8888888888888888,\"#fdca26\"],[1.0,\"#f0f921\"]]}],\"heatmap\":[{\"type\":\"heatmap\",\"colorbar\":{\"outlinewidth\":0,\"ticks\":\"\"},\"colorscale\":[[0.0,\"#0d0887\"],[0.1111111111111111,\"#46039f\"],[0.2222222222222222,\"#7201a8\"],[0.3333333333333333,\"#9c179e\"],[0.4444444444444444,\"#bd3786\"],[0.5555555555555556,\"#d8576b\"],[0.6666666666666666,\"#ed7953\"],[0.7777777777777778,\"#fb9f3a\"],[0.8888888888888888,\"#fdca26\"],[1.0,\"#f0f921\"]]}],\"heatmapgl\":[{\"type\":\"heatmapgl\",\"colorbar\":{\"outlinewidth\":0,\"ticks\":\"\"},\"colorscale\":[[0.0,\"#0d0887\"],[0.1111111111111111,\"#46039f\"],[0.2222222222222222,\"#7201a8\"],[0.3333333333333333,\"#9c179e\"],[0.4444444444444444,\"#bd3786\"],[0.5555555555555556,\"#d8576b\"],[0.6666666666666666,\"#ed7953\"],[0.7777777777777778,\"#fb9f3a\"],[0.8888888888888888,\"#fdca26\"],[1.0,\"#f0f921\"]]}],\"contourcarpet\":[{\"type\":\"contourcarpet\",\"colorbar\":{\"outlinewidth\":0,\"ticks\":\"\"}}],\"contour\":[{\"type\":\"contour\",\"colorbar\":{\"outlinewidth\":0,\"ticks\":\"\"},\"colorscale\":[[0.0,\"#0d0887\"],[0.1111111111111111,\"#46039f\"],[0.2222222222222222,\"#7201a8\"],[0.3333333333333333,\"#9c179e\"],[0.4444444444444444,\"#bd3786\"],[0.5555555555555556,\"#d8576b\"],[0.6666666666666666,\"#ed7953\"],[0.7777777777777778,\"#fb9f3a\"],[0.8888888888888888,\"#fdca26\"],[1.0,\"#f0f921\"]]}],\"surface\":[{\"type\":\"surface\",\"colorbar\":{\"outlinewidth\":0,\"ticks\":\"\"},\"colorscale\":[[0.0,\"#0d0887\"],[0.1111111111111111,\"#46039f\"],[0.2222222222222222,\"#7201a8\"],[0.3333333333333333,\"#9c179e\"],[0.4444444444444444,\"#bd3786\"],[0.5555555555555556,\"#d8576b\"],[0.6666666666666666,\"#ed7953\"],[0.7777777777777778,\"#fb9f3a\"],[0.8888888888888888,\"#fdca26\"],[1.0,\"#f0f921\"]]}],\"mesh3d\":[{\"type\":\"mesh3d\",\"colorbar\":{\"outlinewidth\":0,\"ticks\":\"\"}}],\"scatter\":[{\"fillpattern\":{\"fillmode\":\"overlay\",\"size\":10,\"solidity\":0.2},\"type\":\"scatter\"}],\"parcoords\":[{\"type\":\"parcoords\",\"line\":{\"colorbar\":{\"outlinewidth\":0,\"ticks\":\"\"}}}],\"scatterpolargl\":[{\"type\":\"scatterpolargl\",\"marker\":{\"colorbar\":{\"outlinewidth\":0,\"ticks\":\"\"}}}],\"bar\":[{\"error_x\":{\"color\":\"#2a3f5f\"},\"error_y\":{\"color\":\"#2a3f5f\"},\"marker\":{\"line\":{\"color\":\"#E5ECF6\",\"width\":0.5},\"pattern\":{\"fillmode\":\"overlay\",\"size\":10,\"solidity\":0.2}},\"type\":\"bar\"}],\"scattergeo\":[{\"type\":\"scattergeo\",\"marker\":{\"colorbar\":{\"outlinewidth\":0,\"ticks\":\"\"}}}],\"scatterpolar\":[{\"type\":\"scatterpolar\",\"marker\":{\"colorbar\":{\"outlinewidth\":0,\"ticks\":\"\"}}}],\"histogram\":[{\"marker\":{\"pattern\":{\"fillmode\":\"overlay\",\"size\":10,\"solidity\":0.2}},\"type\":\"histogram\"}],\"scattergl\":[{\"type\":\"scattergl\",\"marker\":{\"colorbar\":{\"outlinewidth\":0,\"ticks\":\"\"}}}],\"scatter3d\":[{\"type\":\"scatter3d\",\"line\":{\"colorbar\":{\"outlinewidth\":0,\"ticks\":\"\"}},\"marker\":{\"colorbar\":{\"outlinewidth\":0,\"ticks\":\"\"}}}],\"scattermapbox\":[{\"type\":\"scattermapbox\",\"marker\":{\"colorbar\":{\"outlinewidth\":0,\"ticks\":\"\"}}}],\"scatterternary\":[{\"type\":\"scatterternary\",\"marker\":{\"colorbar\":{\"outlinewidth\":0,\"ticks\":\"\"}}}],\"scattercarpet\":[{\"type\":\"scattercarpet\",\"marker\":{\"colorbar\":{\"outlinewidth\":0,\"ticks\":\"\"}}}],\"carpet\":[{\"aaxis\":{\"endlinecolor\":\"#2a3f5f\",\"gridcolor\":\"white\",\"linecolor\":\"white\",\"minorgridcolor\":\"white\",\"startlinecolor\":\"#2a3f5f\"},\"baxis\":{\"endlinecolor\":\"#2a3f5f\",\"gridcolor\":\"white\",\"linecolor\":\"white\",\"minorgridcolor\":\"white\",\"startlinecolor\":\"#2a3f5f\"},\"type\":\"carpet\"}],\"table\":[{\"cells\":{\"fill\":{\"color\":\"#EBF0F8\"},\"line\":{\"color\":\"white\"}},\"header\":{\"fill\":{\"color\":\"#C8D4E3\"},\"line\":{\"color\":\"white\"}},\"type\":\"table\"}],\"barpolar\":[{\"marker\":{\"line\":{\"color\":\"#E5ECF6\",\"width\":0.5},\"pattern\":{\"fillmode\":\"overlay\",\"size\":10,\"solidity\":0.2}},\"type\":\"barpolar\"}],\"pie\":[{\"automargin\":true,\"type\":\"pie\"}]},\"layout\":{\"autotypenumbers\":\"strict\",\"colorway\":[\"#636efa\",\"#EF553B\",\"#00cc96\",\"#ab63fa\",\"#FFA15A\",\"#19d3f3\",\"#FF6692\",\"#B6E880\",\"#FF97FF\",\"#FECB52\"],\"font\":{\"color\":\"#2a3f5f\"},\"hovermode\":\"closest\",\"hoverlabel\":{\"align\":\"left\"},\"paper_bgcolor\":\"white\",\"plot_bgcolor\":\"#E5ECF6\",\"polar\":{\"bgcolor\":\"#E5ECF6\",\"angularaxis\":{\"gridcolor\":\"white\",\"linecolor\":\"white\",\"ticks\":\"\"},\"radialaxis\":{\"gridcolor\":\"white\",\"linecolor\":\"white\",\"ticks\":\"\"}},\"ternary\":{\"bgcolor\":\"#E5ECF6\",\"aaxis\":{\"gridcolor\":\"white\",\"linecolor\":\"white\",\"ticks\":\"\"},\"baxis\":{\"gridcolor\":\"white\",\"linecolor\":\"white\",\"ticks\":\"\"},\"caxis\":{\"gridcolor\":\"white\",\"linecolor\":\"white\",\"ticks\":\"\"}},\"coloraxis\":{\"colorbar\":{\"outlinewidth\":0,\"ticks\":\"\"}},\"colorscale\":{\"sequential\":[[0.0,\"#0d0887\"],[0.1111111111111111,\"#46039f\"],[0.2222222222222222,\"#7201a8\"],[0.3333333333333333,\"#9c179e\"],[0.4444444444444444,\"#bd3786\"],[0.5555555555555556,\"#d8576b\"],[0.6666666666666666,\"#ed7953\"],[0.7777777777777778,\"#fb9f3a\"],[0.8888888888888888,\"#fdca26\"],[1.0,\"#f0f921\"]],\"sequentialminus\":[[0.0,\"#0d0887\"],[0.1111111111111111,\"#46039f\"],[0.2222222222222222,\"#7201a8\"],[0.3333333333333333,\"#9c179e\"],[0.4444444444444444,\"#bd3786\"],[0.5555555555555556,\"#d8576b\"],[0.6666666666666666,\"#ed7953\"],[0.7777777777777778,\"#fb9f3a\"],[0.8888888888888888,\"#fdca26\"],[1.0,\"#f0f921\"]],\"diverging\":[[0,\"#8e0152\"],[0.1,\"#c51b7d\"],[0.2,\"#de77ae\"],[0.3,\"#f1b6da\"],[0.4,\"#fde0ef\"],[0.5,\"#f7f7f7\"],[0.6,\"#e6f5d0\"],[0.7,\"#b8e186\"],[0.8,\"#7fbc41\"],[0.9,\"#4d9221\"],[1,\"#276419\"]]},\"xaxis\":{\"gridcolor\":\"white\",\"linecolor\":\"white\",\"ticks\":\"\",\"title\":{\"standoff\":15},\"zerolinecolor\":\"white\",\"automargin\":true,\"zerolinewidth\":2},\"yaxis\":{\"gridcolor\":\"white\",\"linecolor\":\"white\",\"ticks\":\"\",\"title\":{\"standoff\":15},\"zerolinecolor\":\"white\",\"automargin\":true,\"zerolinewidth\":2},\"scene\":{\"xaxis\":{\"backgroundcolor\":\"#E5ECF6\",\"gridcolor\":\"white\",\"linecolor\":\"white\",\"showbackground\":true,\"ticks\":\"\",\"zerolinecolor\":\"white\",\"gridwidth\":2},\"yaxis\":{\"backgroundcolor\":\"#E5ECF6\",\"gridcolor\":\"white\",\"linecolor\":\"white\",\"showbackground\":true,\"ticks\":\"\",\"zerolinecolor\":\"white\",\"gridwidth\":2},\"zaxis\":{\"backgroundcolor\":\"#E5ECF6\",\"gridcolor\":\"white\",\"linecolor\":\"white\",\"showbackground\":true,\"ticks\":\"\",\"zerolinecolor\":\"white\",\"gridwidth\":2}},\"shapedefaults\":{\"line\":{\"color\":\"#2a3f5f\"}},\"annotationdefaults\":{\"arrowcolor\":\"#2a3f5f\",\"arrowhead\":0,\"arrowwidth\":1},\"geo\":{\"bgcolor\":\"white\",\"landcolor\":\"#E5ECF6\",\"subunitcolor\":\"white\",\"showland\":true,\"showlakes\":true,\"lakecolor\":\"white\"},\"title\":{\"x\":0.05},\"mapbox\":{\"style\":\"light\"}}},\"xaxis\":{\"anchor\":\"y\",\"domain\":[0.0,1.0],\"title\":{\"text\":\"estimated_population\"},\"type\":\"log\"},\"yaxis\":{\"anchor\":\"x\",\"domain\":[0.0,1.0],\"title\":{\"text\":\"confirmed\"},\"type\":\"log\"},\"coloraxis\":{\"colorbar\":{\"title\":{\"text\":\"death_rate\"}},\"colorscale\":[[0.0,\"#0d0887\"],[0.1111111111111111,\"#46039f\"],[0.2222222222222222,\"#7201a8\"],[0.3333333333333333,\"#9c179e\"],[0.4444444444444444,\"#bd3786\"],[0.5555555555555556,\"#d8576b\"],[0.6666666666666666,\"#ed7953\"],[0.7777777777777778,\"#fb9f3a\"],[0.8888888888888888,\"#fdca26\"],[1.0,\"#f0f921\"]]},\"legend\":{\"tracegroupgap\":0,\"itemsizing\":\"constant\"},\"title\":{\"text\":\"COVID-19 no Brasil: Popula\\u00e7\\u00e3o estimada x numero de casos por estado x indice de mortalidade\"}},                        {\"responsive\": true}                    ).then(function(){\n",
       "                            \n",
       "var gd = document.getElementById('ba774fa0-d2c0-4451-881c-df055d901364');\n",
       "var x = new MutationObserver(function (mutations, observer) {{\n",
       "        var display = window.getComputedStyle(gd).display;\n",
       "        if (!display || display === 'none') {{\n",
       "            console.log([gd, 'removed!']);\n",
       "            Plotly.purge(gd);\n",
       "            observer.disconnect();\n",
       "        }}\n",
       "}});\n",
       "\n",
       "// Listen for the removal of the full notebook cells\n",
       "var notebookContainer = gd.closest('#notebook-container');\n",
       "if (notebookContainer) {{\n",
       "    x.observe(notebookContainer, {childList: true});\n",
       "}}\n",
       "\n",
       "// Listen for the clearing of the current output cell\n",
       "var outputEl = gd.closest('.output');\n",
       "if (outputEl) {{\n",
       "    x.observe(outputEl, {childList: true});\n",
       "}}\n",
       "\n",
       "                        })                };                });            </script>        </div>"
      ]
     },
     "metadata": {},
     "output_type": "display_data"
    }
   ],
   "source": [
    "fig = px.scatter(t, x=\"estimated_population\", y=\"confirmed\", title=\"COVID-19 no Brasil: População estimada x numero de casos por estado x indice de mortalidade\",\n",
    "                 size=\"confirmed\", color=\"death_rate\",hover_name=t.state, log_x=True, log_y=True, size_max=60)\n",
    "fig.show()"
   ]
  },
  {
   "cell_type": "markdown",
   "id": "f4b13e7f",
   "metadata": {},
   "source": [
    "### No grafico abaixo vemos que o alto numero de casos nao condiz com o indice de contagio dos estados. \n",
    "### Exemplos claros disso são os estados de São Paulo e Espirito Santo."
   ]
  },
  {
   "cell_type": "code",
   "execution_count": 110,
   "id": "c0fce6ba",
   "metadata": {},
   "outputs": [
    {
     "data": {
      "application/vnd.plotly.v1+json": {
       "config": {
        "plotlyServerURL": "https://plot.ly"
       },
       "data": [
        {
         "hovertemplate": "<b>%{hovertext}</b><br><br>estimated_population=%{x}<br>confirmed=%{marker.size}<br>confirmed_per_100k_inhabitants=%{marker.color}<extra></extra>",
         "hovertext": [
          "AP",
          "AC",
          "AM",
          "AL",
          "DF",
          "ES",
          "CE",
          "BA",
          "MS",
          "MA",
          "GO",
          "MT",
          "PA",
          "PE",
          "PB",
          "PI",
          "RJ",
          "MG",
          "RN",
          "RR",
          "RO",
          "PR",
          "SE",
          "SC",
          "TO",
          "RS",
          "SP"
         ],
         "legendgroup": "",
         "marker": {
          "color": [
           18604.43527,
           13841.49273,
           13809.6363,
           8830.91758,
           22629.10909,
           25521.03172,
           13494.41712,
           10247.74969,
           18636.22546,
           5962.37482,
           17851.21051,
           20550.41943,
           8644.74795,
           9276.80315,
           14727.66042,
           11199.6721,
           11970.48472,
           15580.01708,
           14027.33036,
           24566.96257,
           21817.5189,
           20908.16578,
           14027.55365,
           23042.73753,
           19022.31602,
           19818.65842,
           11303.62799
          ],
          "coloraxis": "coloraxis",
          "size": [
           160328,
           123808,
           581070,
           295972,
           691353,
           1037188,
           1239746,
           1530054,
           523565,
           424199,
           1269853,
           724653,
           751293,
           892115,
           594891,
           367515,
           2078817,
           3317401,
           495749,
           155062,
           391943,
           2407960,
           325274,
           1671175,
           302502,
           2263880,
           5232374
          ],
          "sizemode": "area",
          "sizeref": 1453.4372222222223,
          "symbol": "circle"
         },
         "mode": "markers",
         "name": "",
         "orientation": "v",
         "showlegend": false,
         "type": "scatter",
         "x": [
          861773,
          894470,
          4207714,
          3351543,
          3055149,
          4064052,
          9187103,
          14930634,
          2809394,
          7114598,
          7113540,
          3526220,
          8690745,
          9616621,
          4039277,
          3281480,
          17366189,
          21292666,
          3534165,
          631181,
          1796460,
          11516840,
          2318822,
          7252502,
          1590248,
          11422973,
          46289333
         ],
         "xaxis": "x",
         "y": [
          160328,
          123808,
          581070,
          295972,
          691353,
          1037188,
          1239746,
          1530054,
          523565,
          424199,
          1269853,
          724653,
          751293,
          892115,
          594891,
          367515,
          2078817,
          3317401,
          495749,
          155062,
          391943,
          2407960,
          325274,
          1671175,
          302502,
          2263880,
          5232374
         ],
         "yaxis": "y"
        }
       ],
       "layout": {
        "coloraxis": {
         "colorbar": {
          "title": {
           "text": "confirmed_per_100k_inhabitants"
          }
         },
         "colorscale": [
          [
           0,
           "#0d0887"
          ],
          [
           0.1111111111111111,
           "#46039f"
          ],
          [
           0.2222222222222222,
           "#7201a8"
          ],
          [
           0.3333333333333333,
           "#9c179e"
          ],
          [
           0.4444444444444444,
           "#bd3786"
          ],
          [
           0.5555555555555556,
           "#d8576b"
          ],
          [
           0.6666666666666666,
           "#ed7953"
          ],
          [
           0.7777777777777778,
           "#fb9f3a"
          ],
          [
           0.8888888888888888,
           "#fdca26"
          ],
          [
           1,
           "#f0f921"
          ]
         ]
        },
        "legend": {
         "itemsizing": "constant",
         "tracegroupgap": 0
        },
        "template": {
         "data": {
          "bar": [
           {
            "error_x": {
             "color": "#2a3f5f"
            },
            "error_y": {
             "color": "#2a3f5f"
            },
            "marker": {
             "line": {
              "color": "#E5ECF6",
              "width": 0.5
             },
             "pattern": {
              "fillmode": "overlay",
              "size": 10,
              "solidity": 0.2
             }
            },
            "type": "bar"
           }
          ],
          "barpolar": [
           {
            "marker": {
             "line": {
              "color": "#E5ECF6",
              "width": 0.5
             },
             "pattern": {
              "fillmode": "overlay",
              "size": 10,
              "solidity": 0.2
             }
            },
            "type": "barpolar"
           }
          ],
          "carpet": [
           {
            "aaxis": {
             "endlinecolor": "#2a3f5f",
             "gridcolor": "white",
             "linecolor": "white",
             "minorgridcolor": "white",
             "startlinecolor": "#2a3f5f"
            },
            "baxis": {
             "endlinecolor": "#2a3f5f",
             "gridcolor": "white",
             "linecolor": "white",
             "minorgridcolor": "white",
             "startlinecolor": "#2a3f5f"
            },
            "type": "carpet"
           }
          ],
          "choropleth": [
           {
            "colorbar": {
             "outlinewidth": 0,
             "ticks": ""
            },
            "type": "choropleth"
           }
          ],
          "contour": [
           {
            "colorbar": {
             "outlinewidth": 0,
             "ticks": ""
            },
            "colorscale": [
             [
              0,
              "#0d0887"
             ],
             [
              0.1111111111111111,
              "#46039f"
             ],
             [
              0.2222222222222222,
              "#7201a8"
             ],
             [
              0.3333333333333333,
              "#9c179e"
             ],
             [
              0.4444444444444444,
              "#bd3786"
             ],
             [
              0.5555555555555556,
              "#d8576b"
             ],
             [
              0.6666666666666666,
              "#ed7953"
             ],
             [
              0.7777777777777778,
              "#fb9f3a"
             ],
             [
              0.8888888888888888,
              "#fdca26"
             ],
             [
              1,
              "#f0f921"
             ]
            ],
            "type": "contour"
           }
          ],
          "contourcarpet": [
           {
            "colorbar": {
             "outlinewidth": 0,
             "ticks": ""
            },
            "type": "contourcarpet"
           }
          ],
          "heatmap": [
           {
            "colorbar": {
             "outlinewidth": 0,
             "ticks": ""
            },
            "colorscale": [
             [
              0,
              "#0d0887"
             ],
             [
              0.1111111111111111,
              "#46039f"
             ],
             [
              0.2222222222222222,
              "#7201a8"
             ],
             [
              0.3333333333333333,
              "#9c179e"
             ],
             [
              0.4444444444444444,
              "#bd3786"
             ],
             [
              0.5555555555555556,
              "#d8576b"
             ],
             [
              0.6666666666666666,
              "#ed7953"
             ],
             [
              0.7777777777777778,
              "#fb9f3a"
             ],
             [
              0.8888888888888888,
              "#fdca26"
             ],
             [
              1,
              "#f0f921"
             ]
            ],
            "type": "heatmap"
           }
          ],
          "heatmapgl": [
           {
            "colorbar": {
             "outlinewidth": 0,
             "ticks": ""
            },
            "colorscale": [
             [
              0,
              "#0d0887"
             ],
             [
              0.1111111111111111,
              "#46039f"
             ],
             [
              0.2222222222222222,
              "#7201a8"
             ],
             [
              0.3333333333333333,
              "#9c179e"
             ],
             [
              0.4444444444444444,
              "#bd3786"
             ],
             [
              0.5555555555555556,
              "#d8576b"
             ],
             [
              0.6666666666666666,
              "#ed7953"
             ],
             [
              0.7777777777777778,
              "#fb9f3a"
             ],
             [
              0.8888888888888888,
              "#fdca26"
             ],
             [
              1,
              "#f0f921"
             ]
            ],
            "type": "heatmapgl"
           }
          ],
          "histogram": [
           {
            "marker": {
             "pattern": {
              "fillmode": "overlay",
              "size": 10,
              "solidity": 0.2
             }
            },
            "type": "histogram"
           }
          ],
          "histogram2d": [
           {
            "colorbar": {
             "outlinewidth": 0,
             "ticks": ""
            },
            "colorscale": [
             [
              0,
              "#0d0887"
             ],
             [
              0.1111111111111111,
              "#46039f"
             ],
             [
              0.2222222222222222,
              "#7201a8"
             ],
             [
              0.3333333333333333,
              "#9c179e"
             ],
             [
              0.4444444444444444,
              "#bd3786"
             ],
             [
              0.5555555555555556,
              "#d8576b"
             ],
             [
              0.6666666666666666,
              "#ed7953"
             ],
             [
              0.7777777777777778,
              "#fb9f3a"
             ],
             [
              0.8888888888888888,
              "#fdca26"
             ],
             [
              1,
              "#f0f921"
             ]
            ],
            "type": "histogram2d"
           }
          ],
          "histogram2dcontour": [
           {
            "colorbar": {
             "outlinewidth": 0,
             "ticks": ""
            },
            "colorscale": [
             [
              0,
              "#0d0887"
             ],
             [
              0.1111111111111111,
              "#46039f"
             ],
             [
              0.2222222222222222,
              "#7201a8"
             ],
             [
              0.3333333333333333,
              "#9c179e"
             ],
             [
              0.4444444444444444,
              "#bd3786"
             ],
             [
              0.5555555555555556,
              "#d8576b"
             ],
             [
              0.6666666666666666,
              "#ed7953"
             ],
             [
              0.7777777777777778,
              "#fb9f3a"
             ],
             [
              0.8888888888888888,
              "#fdca26"
             ],
             [
              1,
              "#f0f921"
             ]
            ],
            "type": "histogram2dcontour"
           }
          ],
          "mesh3d": [
           {
            "colorbar": {
             "outlinewidth": 0,
             "ticks": ""
            },
            "type": "mesh3d"
           }
          ],
          "parcoords": [
           {
            "line": {
             "colorbar": {
              "outlinewidth": 0,
              "ticks": ""
             }
            },
            "type": "parcoords"
           }
          ],
          "pie": [
           {
            "automargin": true,
            "type": "pie"
           }
          ],
          "scatter": [
           {
            "fillpattern": {
             "fillmode": "overlay",
             "size": 10,
             "solidity": 0.2
            },
            "type": "scatter"
           }
          ],
          "scatter3d": [
           {
            "line": {
             "colorbar": {
              "outlinewidth": 0,
              "ticks": ""
             }
            },
            "marker": {
             "colorbar": {
              "outlinewidth": 0,
              "ticks": ""
             }
            },
            "type": "scatter3d"
           }
          ],
          "scattercarpet": [
           {
            "marker": {
             "colorbar": {
              "outlinewidth": 0,
              "ticks": ""
             }
            },
            "type": "scattercarpet"
           }
          ],
          "scattergeo": [
           {
            "marker": {
             "colorbar": {
              "outlinewidth": 0,
              "ticks": ""
             }
            },
            "type": "scattergeo"
           }
          ],
          "scattergl": [
           {
            "marker": {
             "colorbar": {
              "outlinewidth": 0,
              "ticks": ""
             }
            },
            "type": "scattergl"
           }
          ],
          "scattermapbox": [
           {
            "marker": {
             "colorbar": {
              "outlinewidth": 0,
              "ticks": ""
             }
            },
            "type": "scattermapbox"
           }
          ],
          "scatterpolar": [
           {
            "marker": {
             "colorbar": {
              "outlinewidth": 0,
              "ticks": ""
             }
            },
            "type": "scatterpolar"
           }
          ],
          "scatterpolargl": [
           {
            "marker": {
             "colorbar": {
              "outlinewidth": 0,
              "ticks": ""
             }
            },
            "type": "scatterpolargl"
           }
          ],
          "scatterternary": [
           {
            "marker": {
             "colorbar": {
              "outlinewidth": 0,
              "ticks": ""
             }
            },
            "type": "scatterternary"
           }
          ],
          "surface": [
           {
            "colorbar": {
             "outlinewidth": 0,
             "ticks": ""
            },
            "colorscale": [
             [
              0,
              "#0d0887"
             ],
             [
              0.1111111111111111,
              "#46039f"
             ],
             [
              0.2222222222222222,
              "#7201a8"
             ],
             [
              0.3333333333333333,
              "#9c179e"
             ],
             [
              0.4444444444444444,
              "#bd3786"
             ],
             [
              0.5555555555555556,
              "#d8576b"
             ],
             [
              0.6666666666666666,
              "#ed7953"
             ],
             [
              0.7777777777777778,
              "#fb9f3a"
             ],
             [
              0.8888888888888888,
              "#fdca26"
             ],
             [
              1,
              "#f0f921"
             ]
            ],
            "type": "surface"
           }
          ],
          "table": [
           {
            "cells": {
             "fill": {
              "color": "#EBF0F8"
             },
             "line": {
              "color": "white"
             }
            },
            "header": {
             "fill": {
              "color": "#C8D4E3"
             },
             "line": {
              "color": "white"
             }
            },
            "type": "table"
           }
          ]
         },
         "layout": {
          "annotationdefaults": {
           "arrowcolor": "#2a3f5f",
           "arrowhead": 0,
           "arrowwidth": 1
          },
          "autotypenumbers": "strict",
          "coloraxis": {
           "colorbar": {
            "outlinewidth": 0,
            "ticks": ""
           }
          },
          "colorscale": {
           "diverging": [
            [
             0,
             "#8e0152"
            ],
            [
             0.1,
             "#c51b7d"
            ],
            [
             0.2,
             "#de77ae"
            ],
            [
             0.3,
             "#f1b6da"
            ],
            [
             0.4,
             "#fde0ef"
            ],
            [
             0.5,
             "#f7f7f7"
            ],
            [
             0.6,
             "#e6f5d0"
            ],
            [
             0.7,
             "#b8e186"
            ],
            [
             0.8,
             "#7fbc41"
            ],
            [
             0.9,
             "#4d9221"
            ],
            [
             1,
             "#276419"
            ]
           ],
           "sequential": [
            [
             0,
             "#0d0887"
            ],
            [
             0.1111111111111111,
             "#46039f"
            ],
            [
             0.2222222222222222,
             "#7201a8"
            ],
            [
             0.3333333333333333,
             "#9c179e"
            ],
            [
             0.4444444444444444,
             "#bd3786"
            ],
            [
             0.5555555555555556,
             "#d8576b"
            ],
            [
             0.6666666666666666,
             "#ed7953"
            ],
            [
             0.7777777777777778,
             "#fb9f3a"
            ],
            [
             0.8888888888888888,
             "#fdca26"
            ],
            [
             1,
             "#f0f921"
            ]
           ],
           "sequentialminus": [
            [
             0,
             "#0d0887"
            ],
            [
             0.1111111111111111,
             "#46039f"
            ],
            [
             0.2222222222222222,
             "#7201a8"
            ],
            [
             0.3333333333333333,
             "#9c179e"
            ],
            [
             0.4444444444444444,
             "#bd3786"
            ],
            [
             0.5555555555555556,
             "#d8576b"
            ],
            [
             0.6666666666666666,
             "#ed7953"
            ],
            [
             0.7777777777777778,
             "#fb9f3a"
            ],
            [
             0.8888888888888888,
             "#fdca26"
            ],
            [
             1,
             "#f0f921"
            ]
           ]
          },
          "colorway": [
           "#636efa",
           "#EF553B",
           "#00cc96",
           "#ab63fa",
           "#FFA15A",
           "#19d3f3",
           "#FF6692",
           "#B6E880",
           "#FF97FF",
           "#FECB52"
          ],
          "font": {
           "color": "#2a3f5f"
          },
          "geo": {
           "bgcolor": "white",
           "lakecolor": "white",
           "landcolor": "#E5ECF6",
           "showlakes": true,
           "showland": true,
           "subunitcolor": "white"
          },
          "hoverlabel": {
           "align": "left"
          },
          "hovermode": "closest",
          "mapbox": {
           "style": "light"
          },
          "paper_bgcolor": "white",
          "plot_bgcolor": "#E5ECF6",
          "polar": {
           "angularaxis": {
            "gridcolor": "white",
            "linecolor": "white",
            "ticks": ""
           },
           "bgcolor": "#E5ECF6",
           "radialaxis": {
            "gridcolor": "white",
            "linecolor": "white",
            "ticks": ""
           }
          },
          "scene": {
           "xaxis": {
            "backgroundcolor": "#E5ECF6",
            "gridcolor": "white",
            "gridwidth": 2,
            "linecolor": "white",
            "showbackground": true,
            "ticks": "",
            "zerolinecolor": "white"
           },
           "yaxis": {
            "backgroundcolor": "#E5ECF6",
            "gridcolor": "white",
            "gridwidth": 2,
            "linecolor": "white",
            "showbackground": true,
            "ticks": "",
            "zerolinecolor": "white"
           },
           "zaxis": {
            "backgroundcolor": "#E5ECF6",
            "gridcolor": "white",
            "gridwidth": 2,
            "linecolor": "white",
            "showbackground": true,
            "ticks": "",
            "zerolinecolor": "white"
           }
          },
          "shapedefaults": {
           "line": {
            "color": "#2a3f5f"
           }
          },
          "ternary": {
           "aaxis": {
            "gridcolor": "white",
            "linecolor": "white",
            "ticks": ""
           },
           "baxis": {
            "gridcolor": "white",
            "linecolor": "white",
            "ticks": ""
           },
           "bgcolor": "#E5ECF6",
           "caxis": {
            "gridcolor": "white",
            "linecolor": "white",
            "ticks": ""
           }
          },
          "title": {
           "x": 0.05
          },
          "xaxis": {
           "automargin": true,
           "gridcolor": "white",
           "linecolor": "white",
           "ticks": "",
           "title": {
            "standoff": 15
           },
           "zerolinecolor": "white",
           "zerolinewidth": 2
          },
          "yaxis": {
           "automargin": true,
           "gridcolor": "white",
           "linecolor": "white",
           "ticks": "",
           "title": {
            "standoff": 15
           },
           "zerolinecolor": "white",
           "zerolinewidth": 2
          }
         }
        },
        "title": {
         "text": "COVID-19 no Brasil: População estimada x numero de casos por estado x casos por 100 mil habitantes"
        },
        "xaxis": {
         "anchor": "y",
         "domain": [
          0,
          1
         ],
         "title": {
          "text": "estimated_population"
         },
         "type": "log"
        },
        "yaxis": {
         "anchor": "x",
         "domain": [
          0,
          1
         ],
         "title": {
          "text": "confirmed"
         },
         "type": "log"
        }
       }
      },
      "text/html": [
       "<div>                            <div id=\"8b13ed2f-062e-4068-aa64-774531ebdee7\" class=\"plotly-graph-div\" style=\"height:525px; width:100%;\"></div>            <script type=\"text/javascript\">                require([\"plotly\"], function(Plotly) {                    window.PLOTLYENV=window.PLOTLYENV || {};                                    if (document.getElementById(\"8b13ed2f-062e-4068-aa64-774531ebdee7\")) {                    Plotly.newPlot(                        \"8b13ed2f-062e-4068-aa64-774531ebdee7\",                        [{\"hovertemplate\":\"<b>%{hovertext}</b><br><br>estimated_population=%{x}<br>confirmed=%{marker.size}<br>confirmed_per_100k_inhabitants=%{marker.color}<extra></extra>\",\"hovertext\":[\"AP\",\"AC\",\"AM\",\"AL\",\"DF\",\"ES\",\"CE\",\"BA\",\"MS\",\"MA\",\"GO\",\"MT\",\"PA\",\"PE\",\"PB\",\"PI\",\"RJ\",\"MG\",\"RN\",\"RR\",\"RO\",\"PR\",\"SE\",\"SC\",\"TO\",\"RS\",\"SP\"],\"legendgroup\":\"\",\"marker\":{\"color\":[18604.43527,13841.49273,13809.6363,8830.91758,22629.10909,25521.03172,13494.41712,10247.74969,18636.22546,5962.37482,17851.21051,20550.41943,8644.74795,9276.80315,14727.66042,11199.6721,11970.48472,15580.01708,14027.33036,24566.96257,21817.5189,20908.16578,14027.55365,23042.73753,19022.31602,19818.65842,11303.62799],\"coloraxis\":\"coloraxis\",\"size\":[160328,123808,581070,295972,691353,1037188,1239746,1530054,523565,424199,1269853,724653,751293,892115,594891,367515,2078817,3317401,495749,155062,391943,2407960,325274,1671175,302502,2263880,5232374],\"sizemode\":\"area\",\"sizeref\":1453.4372222222223,\"symbol\":\"circle\"},\"mode\":\"markers\",\"name\":\"\",\"orientation\":\"v\",\"showlegend\":false,\"x\":[861773.0,894470.0,4207714.0,3351543.0,3055149.0,4064052.0,9187103.0,14930634.0,2809394.0,7114598.0,7113540.0,3526220.0,8690745.0,9616621.0,4039277.0,3281480.0,17366189.0,21292666.0,3534165.0,631181.0,1796460.0,11516840.0,2318822.0,7252502.0,1590248.0,11422973.0,46289333.0],\"xaxis\":\"x\",\"y\":[160328,123808,581070,295972,691353,1037188,1239746,1530054,523565,424199,1269853,724653,751293,892115,594891,367515,2078817,3317401,495749,155062,391943,2407960,325274,1671175,302502,2263880,5232374],\"yaxis\":\"y\",\"type\":\"scatter\"}],                        {\"template\":{\"data\":{\"histogram2dcontour\":[{\"type\":\"histogram2dcontour\",\"colorbar\":{\"outlinewidth\":0,\"ticks\":\"\"},\"colorscale\":[[0.0,\"#0d0887\"],[0.1111111111111111,\"#46039f\"],[0.2222222222222222,\"#7201a8\"],[0.3333333333333333,\"#9c179e\"],[0.4444444444444444,\"#bd3786\"],[0.5555555555555556,\"#d8576b\"],[0.6666666666666666,\"#ed7953\"],[0.7777777777777778,\"#fb9f3a\"],[0.8888888888888888,\"#fdca26\"],[1.0,\"#f0f921\"]]}],\"choropleth\":[{\"type\":\"choropleth\",\"colorbar\":{\"outlinewidth\":0,\"ticks\":\"\"}}],\"histogram2d\":[{\"type\":\"histogram2d\",\"colorbar\":{\"outlinewidth\":0,\"ticks\":\"\"},\"colorscale\":[[0.0,\"#0d0887\"],[0.1111111111111111,\"#46039f\"],[0.2222222222222222,\"#7201a8\"],[0.3333333333333333,\"#9c179e\"],[0.4444444444444444,\"#bd3786\"],[0.5555555555555556,\"#d8576b\"],[0.6666666666666666,\"#ed7953\"],[0.7777777777777778,\"#fb9f3a\"],[0.8888888888888888,\"#fdca26\"],[1.0,\"#f0f921\"]]}],\"heatmap\":[{\"type\":\"heatmap\",\"colorbar\":{\"outlinewidth\":0,\"ticks\":\"\"},\"colorscale\":[[0.0,\"#0d0887\"],[0.1111111111111111,\"#46039f\"],[0.2222222222222222,\"#7201a8\"],[0.3333333333333333,\"#9c179e\"],[0.4444444444444444,\"#bd3786\"],[0.5555555555555556,\"#d8576b\"],[0.6666666666666666,\"#ed7953\"],[0.7777777777777778,\"#fb9f3a\"],[0.8888888888888888,\"#fdca26\"],[1.0,\"#f0f921\"]]}],\"heatmapgl\":[{\"type\":\"heatmapgl\",\"colorbar\":{\"outlinewidth\":0,\"ticks\":\"\"},\"colorscale\":[[0.0,\"#0d0887\"],[0.1111111111111111,\"#46039f\"],[0.2222222222222222,\"#7201a8\"],[0.3333333333333333,\"#9c179e\"],[0.4444444444444444,\"#bd3786\"],[0.5555555555555556,\"#d8576b\"],[0.6666666666666666,\"#ed7953\"],[0.7777777777777778,\"#fb9f3a\"],[0.8888888888888888,\"#fdca26\"],[1.0,\"#f0f921\"]]}],\"contourcarpet\":[{\"type\":\"contourcarpet\",\"colorbar\":{\"outlinewidth\":0,\"ticks\":\"\"}}],\"contour\":[{\"type\":\"contour\",\"colorbar\":{\"outlinewidth\":0,\"ticks\":\"\"},\"colorscale\":[[0.0,\"#0d0887\"],[0.1111111111111111,\"#46039f\"],[0.2222222222222222,\"#7201a8\"],[0.3333333333333333,\"#9c179e\"],[0.4444444444444444,\"#bd3786\"],[0.5555555555555556,\"#d8576b\"],[0.6666666666666666,\"#ed7953\"],[0.7777777777777778,\"#fb9f3a\"],[0.8888888888888888,\"#fdca26\"],[1.0,\"#f0f921\"]]}],\"surface\":[{\"type\":\"surface\",\"colorbar\":{\"outlinewidth\":0,\"ticks\":\"\"},\"colorscale\":[[0.0,\"#0d0887\"],[0.1111111111111111,\"#46039f\"],[0.2222222222222222,\"#7201a8\"],[0.3333333333333333,\"#9c179e\"],[0.4444444444444444,\"#bd3786\"],[0.5555555555555556,\"#d8576b\"],[0.6666666666666666,\"#ed7953\"],[0.7777777777777778,\"#fb9f3a\"],[0.8888888888888888,\"#fdca26\"],[1.0,\"#f0f921\"]]}],\"mesh3d\":[{\"type\":\"mesh3d\",\"colorbar\":{\"outlinewidth\":0,\"ticks\":\"\"}}],\"scatter\":[{\"fillpattern\":{\"fillmode\":\"overlay\",\"size\":10,\"solidity\":0.2},\"type\":\"scatter\"}],\"parcoords\":[{\"type\":\"parcoords\",\"line\":{\"colorbar\":{\"outlinewidth\":0,\"ticks\":\"\"}}}],\"scatterpolargl\":[{\"type\":\"scatterpolargl\",\"marker\":{\"colorbar\":{\"outlinewidth\":0,\"ticks\":\"\"}}}],\"bar\":[{\"error_x\":{\"color\":\"#2a3f5f\"},\"error_y\":{\"color\":\"#2a3f5f\"},\"marker\":{\"line\":{\"color\":\"#E5ECF6\",\"width\":0.5},\"pattern\":{\"fillmode\":\"overlay\",\"size\":10,\"solidity\":0.2}},\"type\":\"bar\"}],\"scattergeo\":[{\"type\":\"scattergeo\",\"marker\":{\"colorbar\":{\"outlinewidth\":0,\"ticks\":\"\"}}}],\"scatterpolar\":[{\"type\":\"scatterpolar\",\"marker\":{\"colorbar\":{\"outlinewidth\":0,\"ticks\":\"\"}}}],\"histogram\":[{\"marker\":{\"pattern\":{\"fillmode\":\"overlay\",\"size\":10,\"solidity\":0.2}},\"type\":\"histogram\"}],\"scattergl\":[{\"type\":\"scattergl\",\"marker\":{\"colorbar\":{\"outlinewidth\":0,\"ticks\":\"\"}}}],\"scatter3d\":[{\"type\":\"scatter3d\",\"line\":{\"colorbar\":{\"outlinewidth\":0,\"ticks\":\"\"}},\"marker\":{\"colorbar\":{\"outlinewidth\":0,\"ticks\":\"\"}}}],\"scattermapbox\":[{\"type\":\"scattermapbox\",\"marker\":{\"colorbar\":{\"outlinewidth\":0,\"ticks\":\"\"}}}],\"scatterternary\":[{\"type\":\"scatterternary\",\"marker\":{\"colorbar\":{\"outlinewidth\":0,\"ticks\":\"\"}}}],\"scattercarpet\":[{\"type\":\"scattercarpet\",\"marker\":{\"colorbar\":{\"outlinewidth\":0,\"ticks\":\"\"}}}],\"carpet\":[{\"aaxis\":{\"endlinecolor\":\"#2a3f5f\",\"gridcolor\":\"white\",\"linecolor\":\"white\",\"minorgridcolor\":\"white\",\"startlinecolor\":\"#2a3f5f\"},\"baxis\":{\"endlinecolor\":\"#2a3f5f\",\"gridcolor\":\"white\",\"linecolor\":\"white\",\"minorgridcolor\":\"white\",\"startlinecolor\":\"#2a3f5f\"},\"type\":\"carpet\"}],\"table\":[{\"cells\":{\"fill\":{\"color\":\"#EBF0F8\"},\"line\":{\"color\":\"white\"}},\"header\":{\"fill\":{\"color\":\"#C8D4E3\"},\"line\":{\"color\":\"white\"}},\"type\":\"table\"}],\"barpolar\":[{\"marker\":{\"line\":{\"color\":\"#E5ECF6\",\"width\":0.5},\"pattern\":{\"fillmode\":\"overlay\",\"size\":10,\"solidity\":0.2}},\"type\":\"barpolar\"}],\"pie\":[{\"automargin\":true,\"type\":\"pie\"}]},\"layout\":{\"autotypenumbers\":\"strict\",\"colorway\":[\"#636efa\",\"#EF553B\",\"#00cc96\",\"#ab63fa\",\"#FFA15A\",\"#19d3f3\",\"#FF6692\",\"#B6E880\",\"#FF97FF\",\"#FECB52\"],\"font\":{\"color\":\"#2a3f5f\"},\"hovermode\":\"closest\",\"hoverlabel\":{\"align\":\"left\"},\"paper_bgcolor\":\"white\",\"plot_bgcolor\":\"#E5ECF6\",\"polar\":{\"bgcolor\":\"#E5ECF6\",\"angularaxis\":{\"gridcolor\":\"white\",\"linecolor\":\"white\",\"ticks\":\"\"},\"radialaxis\":{\"gridcolor\":\"white\",\"linecolor\":\"white\",\"ticks\":\"\"}},\"ternary\":{\"bgcolor\":\"#E5ECF6\",\"aaxis\":{\"gridcolor\":\"white\",\"linecolor\":\"white\",\"ticks\":\"\"},\"baxis\":{\"gridcolor\":\"white\",\"linecolor\":\"white\",\"ticks\":\"\"},\"caxis\":{\"gridcolor\":\"white\",\"linecolor\":\"white\",\"ticks\":\"\"}},\"coloraxis\":{\"colorbar\":{\"outlinewidth\":0,\"ticks\":\"\"}},\"colorscale\":{\"sequential\":[[0.0,\"#0d0887\"],[0.1111111111111111,\"#46039f\"],[0.2222222222222222,\"#7201a8\"],[0.3333333333333333,\"#9c179e\"],[0.4444444444444444,\"#bd3786\"],[0.5555555555555556,\"#d8576b\"],[0.6666666666666666,\"#ed7953\"],[0.7777777777777778,\"#fb9f3a\"],[0.8888888888888888,\"#fdca26\"],[1.0,\"#f0f921\"]],\"sequentialminus\":[[0.0,\"#0d0887\"],[0.1111111111111111,\"#46039f\"],[0.2222222222222222,\"#7201a8\"],[0.3333333333333333,\"#9c179e\"],[0.4444444444444444,\"#bd3786\"],[0.5555555555555556,\"#d8576b\"],[0.6666666666666666,\"#ed7953\"],[0.7777777777777778,\"#fb9f3a\"],[0.8888888888888888,\"#fdca26\"],[1.0,\"#f0f921\"]],\"diverging\":[[0,\"#8e0152\"],[0.1,\"#c51b7d\"],[0.2,\"#de77ae\"],[0.3,\"#f1b6da\"],[0.4,\"#fde0ef\"],[0.5,\"#f7f7f7\"],[0.6,\"#e6f5d0\"],[0.7,\"#b8e186\"],[0.8,\"#7fbc41\"],[0.9,\"#4d9221\"],[1,\"#276419\"]]},\"xaxis\":{\"gridcolor\":\"white\",\"linecolor\":\"white\",\"ticks\":\"\",\"title\":{\"standoff\":15},\"zerolinecolor\":\"white\",\"automargin\":true,\"zerolinewidth\":2},\"yaxis\":{\"gridcolor\":\"white\",\"linecolor\":\"white\",\"ticks\":\"\",\"title\":{\"standoff\":15},\"zerolinecolor\":\"white\",\"automargin\":true,\"zerolinewidth\":2},\"scene\":{\"xaxis\":{\"backgroundcolor\":\"#E5ECF6\",\"gridcolor\":\"white\",\"linecolor\":\"white\",\"showbackground\":true,\"ticks\":\"\",\"zerolinecolor\":\"white\",\"gridwidth\":2},\"yaxis\":{\"backgroundcolor\":\"#E5ECF6\",\"gridcolor\":\"white\",\"linecolor\":\"white\",\"showbackground\":true,\"ticks\":\"\",\"zerolinecolor\":\"white\",\"gridwidth\":2},\"zaxis\":{\"backgroundcolor\":\"#E5ECF6\",\"gridcolor\":\"white\",\"linecolor\":\"white\",\"showbackground\":true,\"ticks\":\"\",\"zerolinecolor\":\"white\",\"gridwidth\":2}},\"shapedefaults\":{\"line\":{\"color\":\"#2a3f5f\"}},\"annotationdefaults\":{\"arrowcolor\":\"#2a3f5f\",\"arrowhead\":0,\"arrowwidth\":1},\"geo\":{\"bgcolor\":\"white\",\"landcolor\":\"#E5ECF6\",\"subunitcolor\":\"white\",\"showland\":true,\"showlakes\":true,\"lakecolor\":\"white\"},\"title\":{\"x\":0.05},\"mapbox\":{\"style\":\"light\"}}},\"xaxis\":{\"anchor\":\"y\",\"domain\":[0.0,1.0],\"title\":{\"text\":\"estimated_population\"},\"type\":\"log\"},\"yaxis\":{\"anchor\":\"x\",\"domain\":[0.0,1.0],\"title\":{\"text\":\"confirmed\"},\"type\":\"log\"},\"coloraxis\":{\"colorbar\":{\"title\":{\"text\":\"confirmed_per_100k_inhabitants\"}},\"colorscale\":[[0.0,\"#0d0887\"],[0.1111111111111111,\"#46039f\"],[0.2222222222222222,\"#7201a8\"],[0.3333333333333333,\"#9c179e\"],[0.4444444444444444,\"#bd3786\"],[0.5555555555555556,\"#d8576b\"],[0.6666666666666666,\"#ed7953\"],[0.7777777777777778,\"#fb9f3a\"],[0.8888888888888888,\"#fdca26\"],[1.0,\"#f0f921\"]]},\"legend\":{\"tracegroupgap\":0,\"itemsizing\":\"constant\"},\"title\":{\"text\":\"COVID-19 no Brasil: Popula\\u00e7\\u00e3o estimada x numero de casos por estado x casos por 100 mil habitantes\"}},                        {\"responsive\": true}                    ).then(function(){\n",
       "                            \n",
       "var gd = document.getElementById('8b13ed2f-062e-4068-aa64-774531ebdee7');\n",
       "var x = new MutationObserver(function (mutations, observer) {{\n",
       "        var display = window.getComputedStyle(gd).display;\n",
       "        if (!display || display === 'none') {{\n",
       "            console.log([gd, 'removed!']);\n",
       "            Plotly.purge(gd);\n",
       "            observer.disconnect();\n",
       "        }}\n",
       "}});\n",
       "\n",
       "// Listen for the removal of the full notebook cells\n",
       "var notebookContainer = gd.closest('#notebook-container');\n",
       "if (notebookContainer) {{\n",
       "    x.observe(notebookContainer, {childList: true});\n",
       "}}\n",
       "\n",
       "// Listen for the clearing of the current output cell\n",
       "var outputEl = gd.closest('.output');\n",
       "if (outputEl) {{\n",
       "    x.observe(outputEl, {childList: true});\n",
       "}}\n",
       "\n",
       "                        })                };                });            </script>        </div>"
      ]
     },
     "metadata": {},
     "output_type": "display_data"
    }
   ],
   "source": [
    "fig = px.scatter(t, x=\"estimated_population\", y=\"confirmed\", title=\"COVID-19 no Brasil: População estimada x numero de casos por estado x casos por 100 mil habitantes\",\n",
    "                 size=\"confirmed\", color=\"confirmed_per_100k_inhabitants\",hover_name=t.state, log_x=True, log_y=True, size_max=60)\n",
    "fig.show()"
   ]
  },
  {
   "cell_type": "markdown",
   "id": "1f4fa5b8",
   "metadata": {},
   "source": [
    "### No grafico abaixo vemos como o covid éuma doença de contagio exponencial e o crescimento de casos por estado."
   ]
  },
  {
   "cell_type": "code",
   "execution_count": 111,
   "id": "901e073f",
   "metadata": {
    "scrolled": false
   },
   "outputs": [
    {
     "data": {
      "application/vnd.plotly.v1+json": {
       "config": {
        "plotlyServerURL": "https://plot.ly"
       },
       "data": [
        {
         "colorscale": [
          [
           0,
           "#440154"
          ],
          [
           0.1111111111111111,
           "#482878"
          ],
          [
           0.2222222222222222,
           "#3e4989"
          ],
          [
           0.3333333333333333,
           "#31688e"
          ],
          [
           0.4444444444444444,
           "#26828e"
          ],
          [
           0.5555555555555556,
           "#1f9e89"
          ],
          [
           0.6666666666666666,
           "#35b779"
          ],
          [
           0.7777777777777778,
           "#6ece58"
          ],
          [
           0.8888888888888888,
           "#b5de2b"
          ],
          [
           1,
           "#fde725"
          ]
         ],
         "type": "heatmap",
         "x": [
          "2020-02-28T00:00:00",
          "2020-03-31T00:00:00",
          "2020-03-31T00:00:00",
          "2020-03-31T00:00:00",
          "2020-03-31T00:00:00",
          "2020-03-31T00:00:00",
          "2020-03-31T00:00:00",
          "2020-03-31T00:00:00",
          "2020-03-31T00:00:00",
          "2020-03-31T00:00:00",
          "2020-03-31T00:00:00",
          "2020-03-31T00:00:00",
          "2020-03-31T00:00:00",
          "2020-03-31T00:00:00",
          "2020-03-31T00:00:00",
          "2020-03-31T00:00:00",
          "2020-03-31T00:00:00",
          "2020-03-31T00:00:00",
          "2020-03-31T00:00:00",
          "2020-03-31T00:00:00",
          "2020-03-31T00:00:00",
          "2020-03-31T00:00:00",
          "2020-03-31T00:00:00",
          "2020-03-31T00:00:00",
          "2020-03-31T00:00:00",
          "2020-03-31T00:00:00",
          "2020-03-31T00:00:00",
          "2020-03-31T00:00:00",
          "2020-04-30T00:00:00",
          "2020-04-30T00:00:00",
          "2020-04-30T00:00:00",
          "2020-04-30T00:00:00",
          "2020-04-30T00:00:00",
          "2020-04-30T00:00:00",
          "2020-04-30T00:00:00",
          "2020-04-30T00:00:00",
          "2020-04-30T00:00:00",
          "2020-04-30T00:00:00",
          "2020-04-30T00:00:00",
          "2020-04-30T00:00:00",
          "2020-04-30T00:00:00",
          "2020-04-30T00:00:00",
          "2020-04-30T00:00:00",
          "2020-04-30T00:00:00",
          "2020-04-30T00:00:00",
          "2020-04-30T00:00:00",
          "2020-04-30T00:00:00",
          "2020-04-30T00:00:00",
          "2020-04-30T00:00:00",
          "2020-04-30T00:00:00",
          "2020-04-30T00:00:00",
          "2020-04-30T00:00:00",
          "2020-04-30T00:00:00",
          "2020-04-30T00:00:00",
          "2020-04-30T00:00:00",
          "2020-05-31T00:00:00",
          "2020-05-31T00:00:00",
          "2020-05-31T00:00:00",
          "2020-05-31T00:00:00",
          "2020-05-31T00:00:00",
          "2020-05-31T00:00:00",
          "2020-05-31T00:00:00",
          "2020-05-31T00:00:00",
          "2020-05-31T00:00:00",
          "2020-05-31T00:00:00",
          "2020-05-31T00:00:00",
          "2020-05-31T00:00:00",
          "2020-05-31T00:00:00",
          "2020-05-31T00:00:00",
          "2020-05-31T00:00:00",
          "2020-05-31T00:00:00",
          "2020-05-31T00:00:00",
          "2020-05-31T00:00:00",
          "2020-05-31T00:00:00",
          "2020-05-31T00:00:00",
          "2020-05-31T00:00:00",
          "2020-05-31T00:00:00",
          "2020-05-31T00:00:00",
          "2020-05-31T00:00:00",
          "2020-05-31T00:00:00",
          "2020-05-31T00:00:00",
          "2020-05-31T00:00:00",
          "2020-06-30T00:00:00",
          "2020-06-30T00:00:00",
          "2020-06-30T00:00:00",
          "2020-06-30T00:00:00",
          "2020-06-30T00:00:00",
          "2020-06-30T00:00:00",
          "2020-06-30T00:00:00",
          "2020-06-30T00:00:00",
          "2020-06-30T00:00:00",
          "2020-06-30T00:00:00",
          "2020-06-30T00:00:00",
          "2020-06-30T00:00:00",
          "2020-06-30T00:00:00",
          "2020-06-30T00:00:00",
          "2020-06-30T00:00:00",
          "2020-06-30T00:00:00",
          "2020-06-30T00:00:00",
          "2020-06-30T00:00:00",
          "2020-06-30T00:00:00",
          "2020-06-30T00:00:00",
          "2020-06-30T00:00:00",
          "2020-06-30T00:00:00",
          "2020-06-30T00:00:00",
          "2020-06-30T00:00:00",
          "2020-06-30T00:00:00",
          "2020-06-30T00:00:00",
          "2020-06-30T00:00:00",
          "2020-07-31T00:00:00",
          "2020-07-31T00:00:00",
          "2020-07-31T00:00:00",
          "2020-07-31T00:00:00",
          "2020-07-31T00:00:00",
          "2020-07-31T00:00:00",
          "2020-07-31T00:00:00",
          "2020-07-31T00:00:00",
          "2020-07-31T00:00:00",
          "2020-07-31T00:00:00",
          "2020-07-31T00:00:00",
          "2020-07-31T00:00:00",
          "2020-07-31T00:00:00",
          "2020-07-31T00:00:00",
          "2020-07-31T00:00:00",
          "2020-07-31T00:00:00",
          "2020-07-31T00:00:00",
          "2020-07-31T00:00:00",
          "2020-07-31T00:00:00",
          "2020-07-31T00:00:00",
          "2020-07-31T00:00:00",
          "2020-07-31T00:00:00",
          "2020-07-31T00:00:00",
          "2020-07-31T00:00:00",
          "2020-07-31T00:00:00",
          "2020-07-31T00:00:00",
          "2020-07-31T00:00:00",
          "2020-08-31T00:00:00",
          "2020-08-31T00:00:00",
          "2020-08-31T00:00:00",
          "2020-08-31T00:00:00",
          "2020-08-31T00:00:00",
          "2020-08-31T00:00:00",
          "2020-08-31T00:00:00",
          "2020-08-31T00:00:00",
          "2020-08-31T00:00:00",
          "2020-08-31T00:00:00",
          "2020-08-31T00:00:00",
          "2020-08-31T00:00:00",
          "2020-08-31T00:00:00",
          "2020-08-31T00:00:00",
          "2020-08-31T00:00:00",
          "2020-08-31T00:00:00",
          "2020-08-31T00:00:00",
          "2020-08-31T00:00:00",
          "2020-08-31T00:00:00",
          "2020-08-31T00:00:00",
          "2020-08-31T00:00:00",
          "2020-08-31T00:00:00",
          "2020-08-31T00:00:00",
          "2020-08-31T00:00:00",
          "2020-08-31T00:00:00",
          "2020-08-31T00:00:00",
          "2020-08-31T00:00:00",
          "2020-09-30T00:00:00",
          "2020-09-30T00:00:00",
          "2020-09-30T00:00:00",
          "2020-09-30T00:00:00",
          "2020-09-30T00:00:00",
          "2020-09-30T00:00:00",
          "2020-09-30T00:00:00",
          "2020-09-30T00:00:00",
          "2020-09-30T00:00:00",
          "2020-09-30T00:00:00",
          "2020-09-30T00:00:00",
          "2020-09-30T00:00:00",
          "2020-09-30T00:00:00",
          "2020-09-30T00:00:00",
          "2020-09-30T00:00:00",
          "2020-09-30T00:00:00",
          "2020-09-30T00:00:00",
          "2020-09-30T00:00:00",
          "2020-09-30T00:00:00",
          "2020-09-30T00:00:00",
          "2020-09-30T00:00:00",
          "2020-09-30T00:00:00",
          "2020-09-30T00:00:00",
          "2020-09-30T00:00:00",
          "2020-09-30T00:00:00",
          "2020-09-30T00:00:00",
          "2020-09-30T00:00:00",
          "2020-10-31T00:00:00",
          "2020-10-31T00:00:00",
          "2020-10-31T00:00:00",
          "2020-10-31T00:00:00",
          "2020-10-31T00:00:00",
          "2020-10-31T00:00:00",
          "2020-10-31T00:00:00",
          "2020-10-31T00:00:00",
          "2020-10-31T00:00:00",
          "2020-10-31T00:00:00",
          "2020-10-31T00:00:00",
          "2020-10-31T00:00:00",
          "2020-10-31T00:00:00",
          "2020-10-31T00:00:00",
          "2020-10-31T00:00:00",
          "2020-10-31T00:00:00",
          "2020-10-31T00:00:00",
          "2020-10-31T00:00:00",
          "2020-10-31T00:00:00",
          "2020-10-31T00:00:00",
          "2020-10-31T00:00:00",
          "2020-10-31T00:00:00",
          "2020-10-31T00:00:00",
          "2020-10-31T00:00:00",
          "2020-10-31T00:00:00",
          "2020-10-31T00:00:00",
          "2020-10-31T00:00:00",
          "2020-11-30T00:00:00",
          "2020-11-30T00:00:00",
          "2020-11-30T00:00:00",
          "2020-11-30T00:00:00",
          "2020-11-30T00:00:00",
          "2020-11-30T00:00:00",
          "2020-11-30T00:00:00",
          "2020-11-30T00:00:00",
          "2020-11-30T00:00:00",
          "2020-11-30T00:00:00",
          "2020-11-30T00:00:00",
          "2020-11-30T00:00:00",
          "2020-11-30T00:00:00",
          "2020-11-30T00:00:00",
          "2020-11-30T00:00:00",
          "2020-11-30T00:00:00",
          "2020-11-30T00:00:00",
          "2020-11-30T00:00:00",
          "2020-11-30T00:00:00",
          "2020-11-30T00:00:00",
          "2020-11-30T00:00:00",
          "2020-11-30T00:00:00",
          "2020-11-30T00:00:00",
          "2020-11-30T00:00:00",
          "2020-11-30T00:00:00",
          "2020-11-30T00:00:00",
          "2020-11-30T00:00:00",
          "2020-12-31T00:00:00",
          "2020-12-31T00:00:00",
          "2020-12-31T00:00:00",
          "2020-12-31T00:00:00",
          "2020-12-31T00:00:00",
          "2020-12-31T00:00:00",
          "2020-12-31T00:00:00",
          "2020-12-31T00:00:00",
          "2020-12-31T00:00:00",
          "2020-12-31T00:00:00",
          "2020-12-31T00:00:00",
          "2020-12-31T00:00:00",
          "2020-12-31T00:00:00",
          "2020-12-31T00:00:00",
          "2020-12-31T00:00:00",
          "2020-12-31T00:00:00",
          "2020-12-31T00:00:00",
          "2020-12-31T00:00:00",
          "2020-12-31T00:00:00",
          "2020-12-31T00:00:00",
          "2020-12-31T00:00:00",
          "2020-12-31T00:00:00",
          "2020-12-31T00:00:00",
          "2020-12-31T00:00:00",
          "2020-12-31T00:00:00",
          "2020-12-31T00:00:00",
          "2020-12-31T00:00:00",
          "2021-01-31T00:00:00",
          "2021-01-31T00:00:00",
          "2021-01-31T00:00:00",
          "2021-01-31T00:00:00",
          "2021-01-31T00:00:00",
          "2021-01-31T00:00:00",
          "2021-01-31T00:00:00",
          "2021-01-31T00:00:00",
          "2021-01-31T00:00:00",
          "2021-01-31T00:00:00",
          "2021-01-31T00:00:00",
          "2021-01-31T00:00:00",
          "2021-01-31T00:00:00",
          "2021-01-31T00:00:00",
          "2021-01-31T00:00:00",
          "2021-01-31T00:00:00",
          "2021-01-31T00:00:00",
          "2021-01-31T00:00:00",
          "2021-01-31T00:00:00",
          "2021-01-31T00:00:00",
          "2021-01-31T00:00:00",
          "2021-01-31T00:00:00",
          "2021-01-31T00:00:00",
          "2021-01-31T00:00:00",
          "2021-01-31T00:00:00",
          "2021-01-31T00:00:00",
          "2021-01-31T00:00:00",
          "2021-02-28T00:00:00",
          "2021-02-28T00:00:00",
          "2021-02-28T00:00:00",
          "2021-02-28T00:00:00",
          "2021-02-28T00:00:00",
          "2021-02-28T00:00:00",
          "2021-02-28T00:00:00",
          "2021-02-28T00:00:00",
          "2021-02-28T00:00:00",
          "2021-02-28T00:00:00",
          "2021-02-28T00:00:00",
          "2021-02-28T00:00:00",
          "2021-02-28T00:00:00",
          "2021-02-28T00:00:00",
          "2021-02-28T00:00:00",
          "2021-02-28T00:00:00",
          "2021-02-28T00:00:00",
          "2021-02-28T00:00:00",
          "2021-02-28T00:00:00",
          "2021-02-28T00:00:00",
          "2021-02-28T00:00:00",
          "2021-02-28T00:00:00",
          "2021-02-28T00:00:00",
          "2021-02-28T00:00:00",
          "2021-02-28T00:00:00",
          "2021-02-28T00:00:00",
          "2021-02-28T00:00:00",
          "2021-03-31T00:00:00",
          "2021-03-31T00:00:00",
          "2021-03-31T00:00:00",
          "2021-03-31T00:00:00",
          "2021-03-31T00:00:00",
          "2021-03-31T00:00:00",
          "2021-03-31T00:00:00",
          "2021-03-31T00:00:00",
          "2021-03-31T00:00:00",
          "2021-03-31T00:00:00",
          "2021-03-31T00:00:00",
          "2021-03-31T00:00:00",
          "2021-03-31T00:00:00",
          "2021-03-31T00:00:00",
          "2021-03-31T00:00:00",
          "2021-03-31T00:00:00",
          "2021-03-31T00:00:00",
          "2021-03-31T00:00:00",
          "2021-03-31T00:00:00",
          "2021-03-31T00:00:00",
          "2021-03-31T00:00:00",
          "2021-03-31T00:00:00",
          "2021-03-31T00:00:00",
          "2021-03-31T00:00:00",
          "2021-03-31T00:00:00",
          "2021-03-31T00:00:00",
          "2021-03-31T00:00:00",
          "2021-04-30T00:00:00",
          "2021-04-30T00:00:00",
          "2021-04-30T00:00:00",
          "2021-04-30T00:00:00",
          "2021-04-30T00:00:00",
          "2021-04-30T00:00:00",
          "2021-04-30T00:00:00",
          "2021-04-30T00:00:00",
          "2021-04-30T00:00:00",
          "2021-04-30T00:00:00",
          "2021-04-30T00:00:00",
          "2021-04-30T00:00:00",
          "2021-04-30T00:00:00",
          "2021-04-30T00:00:00",
          "2021-04-30T00:00:00",
          "2021-04-30T00:00:00",
          "2021-04-30T00:00:00",
          "2021-04-30T00:00:00",
          "2021-04-30T00:00:00",
          "2021-04-30T00:00:00",
          "2021-04-30T00:00:00",
          "2021-04-30T00:00:00",
          "2021-04-30T00:00:00",
          "2021-04-30T00:00:00",
          "2021-04-30T00:00:00",
          "2021-04-30T00:00:00",
          "2021-04-30T00:00:00",
          "2021-05-31T00:00:00",
          "2021-05-31T00:00:00",
          "2021-05-31T00:00:00",
          "2021-05-31T00:00:00",
          "2021-05-31T00:00:00",
          "2021-05-31T00:00:00",
          "2021-05-31T00:00:00",
          "2021-05-31T00:00:00",
          "2021-05-31T00:00:00",
          "2021-05-31T00:00:00",
          "2021-05-31T00:00:00",
          "2021-05-31T00:00:00",
          "2021-05-31T00:00:00",
          "2021-05-31T00:00:00",
          "2021-05-31T00:00:00",
          "2021-05-31T00:00:00",
          "2021-05-31T00:00:00",
          "2021-05-31T00:00:00",
          "2021-05-31T00:00:00",
          "2021-05-31T00:00:00",
          "2021-05-31T00:00:00",
          "2021-05-31T00:00:00",
          "2021-05-31T00:00:00",
          "2021-05-31T00:00:00",
          "2021-05-31T00:00:00",
          "2021-05-31T00:00:00",
          "2021-05-31T00:00:00",
          "2021-06-30T00:00:00",
          "2021-06-30T00:00:00",
          "2021-06-30T00:00:00",
          "2021-06-30T00:00:00",
          "2021-06-30T00:00:00",
          "2021-06-30T00:00:00",
          "2021-06-30T00:00:00",
          "2021-06-30T00:00:00",
          "2021-06-30T00:00:00",
          "2021-06-30T00:00:00",
          "2021-06-30T00:00:00",
          "2021-06-30T00:00:00",
          "2021-06-30T00:00:00",
          "2021-06-30T00:00:00",
          "2021-06-30T00:00:00",
          "2021-06-30T00:00:00",
          "2021-06-30T00:00:00",
          "2021-06-30T00:00:00",
          "2021-06-30T00:00:00",
          "2021-06-30T00:00:00",
          "2021-06-30T00:00:00",
          "2021-06-30T00:00:00",
          "2021-06-30T00:00:00",
          "2021-06-30T00:00:00",
          "2021-06-30T00:00:00",
          "2021-06-30T00:00:00",
          "2021-06-30T00:00:00",
          "2021-07-31T00:00:00",
          "2021-07-31T00:00:00",
          "2021-07-31T00:00:00",
          "2021-07-31T00:00:00",
          "2021-07-31T00:00:00",
          "2021-07-31T00:00:00",
          "2021-07-31T00:00:00",
          "2021-07-31T00:00:00",
          "2021-07-31T00:00:00",
          "2021-07-31T00:00:00",
          "2021-07-31T00:00:00",
          "2021-07-31T00:00:00",
          "2021-07-31T00:00:00",
          "2021-07-31T00:00:00",
          "2021-07-31T00:00:00",
          "2021-07-31T00:00:00",
          "2021-07-31T00:00:00",
          "2021-07-31T00:00:00",
          "2021-07-31T00:00:00",
          "2021-07-31T00:00:00",
          "2021-07-31T00:00:00",
          "2021-07-31T00:00:00",
          "2021-07-31T00:00:00",
          "2021-07-31T00:00:00",
          "2021-07-31T00:00:00",
          "2021-07-31T00:00:00",
          "2021-07-31T00:00:00",
          "2021-08-31T00:00:00",
          "2021-08-31T00:00:00",
          "2021-08-31T00:00:00",
          "2021-08-31T00:00:00",
          "2021-08-31T00:00:00",
          "2021-08-31T00:00:00",
          "2021-08-31T00:00:00",
          "2021-08-31T00:00:00",
          "2021-08-31T00:00:00",
          "2021-08-31T00:00:00",
          "2021-08-31T00:00:00",
          "2021-08-31T00:00:00",
          "2021-08-31T00:00:00",
          "2021-08-31T00:00:00",
          "2021-08-31T00:00:00",
          "2021-08-31T00:00:00",
          "2021-08-31T00:00:00",
          "2021-08-31T00:00:00",
          "2021-08-31T00:00:00",
          "2021-08-31T00:00:00",
          "2021-08-31T00:00:00",
          "2021-08-31T00:00:00",
          "2021-08-31T00:00:00",
          "2021-08-31T00:00:00",
          "2021-08-31T00:00:00",
          "2021-08-31T00:00:00",
          "2021-08-31T00:00:00",
          "2021-09-30T00:00:00",
          "2021-09-30T00:00:00",
          "2021-09-30T00:00:00",
          "2021-09-30T00:00:00",
          "2021-09-30T00:00:00",
          "2021-09-30T00:00:00",
          "2021-09-30T00:00:00",
          "2021-09-30T00:00:00",
          "2021-09-30T00:00:00",
          "2021-09-30T00:00:00",
          "2021-09-30T00:00:00",
          "2021-09-30T00:00:00",
          "2021-09-30T00:00:00",
          "2021-09-30T00:00:00",
          "2021-09-30T00:00:00",
          "2021-09-30T00:00:00",
          "2021-09-30T00:00:00",
          "2021-09-30T00:00:00",
          "2021-09-30T00:00:00",
          "2021-09-30T00:00:00",
          "2021-09-30T00:00:00",
          "2021-09-30T00:00:00",
          "2021-09-30T00:00:00",
          "2021-09-30T00:00:00",
          "2021-09-30T00:00:00",
          "2021-09-30T00:00:00",
          "2021-09-30T00:00:00",
          "2021-10-31T00:00:00",
          "2021-10-31T00:00:00",
          "2021-10-31T00:00:00",
          "2021-10-31T00:00:00",
          "2021-10-31T00:00:00",
          "2021-10-31T00:00:00",
          "2021-10-31T00:00:00",
          "2021-10-31T00:00:00",
          "2021-10-31T00:00:00",
          "2021-10-31T00:00:00",
          "2021-10-31T00:00:00",
          "2021-10-31T00:00:00",
          "2021-10-31T00:00:00",
          "2021-10-31T00:00:00",
          "2021-10-31T00:00:00",
          "2021-10-31T00:00:00",
          "2021-10-31T00:00:00",
          "2021-10-31T00:00:00",
          "2021-10-31T00:00:00",
          "2021-10-31T00:00:00",
          "2021-10-31T00:00:00",
          "2021-10-31T00:00:00",
          "2021-10-31T00:00:00",
          "2021-10-31T00:00:00",
          "2021-10-31T00:00:00",
          "2021-10-31T00:00:00",
          "2021-10-31T00:00:00",
          "2021-11-30T00:00:00",
          "2021-11-30T00:00:00",
          "2021-11-30T00:00:00",
          "2021-11-30T00:00:00",
          "2021-11-30T00:00:00",
          "2021-11-30T00:00:00",
          "2021-11-30T00:00:00",
          "2021-11-30T00:00:00",
          "2021-11-30T00:00:00",
          "2021-11-30T00:00:00",
          "2021-11-30T00:00:00",
          "2021-11-30T00:00:00",
          "2021-11-30T00:00:00",
          "2021-11-30T00:00:00",
          "2021-11-30T00:00:00",
          "2021-11-30T00:00:00",
          "2021-11-30T00:00:00",
          "2021-11-30T00:00:00",
          "2021-11-30T00:00:00",
          "2021-11-30T00:00:00",
          "2021-11-30T00:00:00",
          "2021-11-30T00:00:00",
          "2021-11-30T00:00:00",
          "2021-11-30T00:00:00",
          "2021-11-30T00:00:00",
          "2021-11-30T00:00:00",
          "2021-11-30T00:00:00",
          "2021-12-31T00:00:00",
          "2021-12-31T00:00:00",
          "2021-12-31T00:00:00",
          "2021-12-31T00:00:00",
          "2021-12-31T00:00:00",
          "2021-12-31T00:00:00",
          "2021-12-31T00:00:00",
          "2021-12-31T00:00:00",
          "2021-12-31T00:00:00",
          "2021-12-31T00:00:00",
          "2021-12-31T00:00:00",
          "2021-12-31T00:00:00",
          "2021-12-31T00:00:00",
          "2021-12-31T00:00:00",
          "2021-12-31T00:00:00",
          "2021-12-31T00:00:00",
          "2021-12-31T00:00:00",
          "2021-12-31T00:00:00",
          "2021-12-31T00:00:00",
          "2021-12-31T00:00:00",
          "2021-12-31T00:00:00",
          "2021-12-31T00:00:00",
          "2021-12-31T00:00:00",
          "2021-12-31T00:00:00",
          "2021-12-31T00:00:00",
          "2021-12-31T00:00:00",
          "2021-12-31T00:00:00",
          "2022-01-31T00:00:00",
          "2022-01-31T00:00:00",
          "2022-01-31T00:00:00",
          "2022-01-31T00:00:00",
          "2022-01-31T00:00:00",
          "2022-01-31T00:00:00",
          "2022-01-31T00:00:00",
          "2022-01-31T00:00:00",
          "2022-01-31T00:00:00",
          "2022-01-31T00:00:00",
          "2022-01-31T00:00:00",
          "2022-01-31T00:00:00",
          "2022-01-31T00:00:00",
          "2022-01-31T00:00:00",
          "2022-01-31T00:00:00",
          "2022-01-31T00:00:00",
          "2022-01-31T00:00:00",
          "2022-01-31T00:00:00",
          "2022-01-31T00:00:00",
          "2022-01-31T00:00:00",
          "2022-01-31T00:00:00",
          "2022-01-31T00:00:00",
          "2022-01-31T00:00:00",
          "2022-01-31T00:00:00",
          "2022-01-31T00:00:00",
          "2022-01-31T00:00:00",
          "2022-01-31T00:00:00",
          "2022-02-28T00:00:00",
          "2022-02-28T00:00:00",
          "2022-02-28T00:00:00",
          "2022-02-28T00:00:00",
          "2022-02-28T00:00:00",
          "2022-02-28T00:00:00",
          "2022-02-28T00:00:00",
          "2022-02-28T00:00:00",
          "2022-02-28T00:00:00",
          "2022-02-28T00:00:00",
          "2022-02-28T00:00:00",
          "2022-02-28T00:00:00",
          "2022-02-28T00:00:00",
          "2022-02-28T00:00:00",
          "2022-02-28T00:00:00",
          "2022-02-28T00:00:00",
          "2022-02-28T00:00:00",
          "2022-02-28T00:00:00",
          "2022-02-28T00:00:00",
          "2022-02-28T00:00:00",
          "2022-02-28T00:00:00",
          "2022-02-28T00:00:00",
          "2022-02-28T00:00:00",
          "2022-02-28T00:00:00",
          "2022-02-28T00:00:00",
          "2022-02-28T00:00:00",
          "2022-02-28T00:00:00",
          "2022-03-27T00:00:00",
          "2022-03-27T00:00:00",
          "2022-03-27T00:00:00",
          "2022-03-27T00:00:00",
          "2022-03-27T00:00:00",
          "2022-03-27T00:00:00",
          "2022-03-27T00:00:00",
          "2022-03-27T00:00:00",
          "2022-03-27T00:00:00",
          "2022-03-27T00:00:00",
          "2022-03-27T00:00:00",
          "2022-03-27T00:00:00",
          "2022-03-27T00:00:00",
          "2022-03-27T00:00:00",
          "2022-03-27T00:00:00",
          "2022-03-27T00:00:00",
          "2022-03-27T00:00:00",
          "2022-03-27T00:00:00",
          "2022-03-27T00:00:00",
          "2022-03-27T00:00:00",
          "2022-03-27T00:00:00",
          "2022-03-27T00:00:00",
          "2022-03-27T00:00:00",
          "2022-03-27T00:00:00",
          "2022-03-27T00:00:00",
          "2022-03-27T00:00:00",
          "2022-03-27T00:00:00"
         ],
         "y": [
          "SP",
          "AC",
          "AL",
          "AM",
          "AP",
          "BA",
          "CE",
          "DF",
          "ES",
          "GO",
          "MA",
          "MG",
          "MS",
          "MT",
          "PA",
          "PB",
          "PE",
          "PI",
          "PR",
          "RJ",
          "RN",
          "RO",
          "RR",
          "RS",
          "SC",
          "SE",
          "SP",
          "TO",
          "AC",
          "AL",
          "AM",
          "AP",
          "BA",
          "CE",
          "DF",
          "ES",
          "GO",
          "MA",
          "MG",
          "MS",
          "MT",
          "PA",
          "PB",
          "PE",
          "PI",
          "PR",
          "RJ",
          "RN",
          "RO",
          "RR",
          "RS",
          "SC",
          "SE",
          "SP",
          "TO",
          "AC",
          "AL",
          "AM",
          "AP",
          "BA",
          "CE",
          "DF",
          "ES",
          "GO",
          "MA",
          "MG",
          "MS",
          "MT",
          "PA",
          "PB",
          "PE",
          "PI",
          "PR",
          "RJ",
          "RN",
          "RO",
          "RR",
          "RS",
          "SC",
          "SE",
          "SP",
          "TO",
          "AC",
          "AL",
          "AM",
          "AP",
          "BA",
          "CE",
          "DF",
          "ES",
          "GO",
          "MA",
          "MG",
          "MS",
          "MT",
          "PA",
          "PB",
          "PE",
          "PI",
          "PR",
          "RJ",
          "RN",
          "RO",
          "RR",
          "RS",
          "SC",
          "SE",
          "SP",
          "TO",
          "AC",
          "AL",
          "AM",
          "AP",
          "BA",
          "CE",
          "DF",
          "ES",
          "GO",
          "MA",
          "MG",
          "MS",
          "MT",
          "PA",
          "PB",
          "PE",
          "PI",
          "PR",
          "RJ",
          "RN",
          "RO",
          "RR",
          "RS",
          "SC",
          "SE",
          "SP",
          "TO",
          "AC",
          "AL",
          "AM",
          "AP",
          "BA",
          "CE",
          "DF",
          "ES",
          "GO",
          "MA",
          "MG",
          "MS",
          "MT",
          "PA",
          "PB",
          "PE",
          "PI",
          "PR",
          "RJ",
          "RN",
          "RO",
          "RR",
          "RS",
          "SC",
          "SE",
          "SP",
          "TO",
          "AC",
          "AL",
          "AM",
          "AP",
          "BA",
          "CE",
          "DF",
          "ES",
          "GO",
          "MA",
          "MG",
          "MS",
          "MT",
          "PA",
          "PB",
          "PE",
          "PI",
          "PR",
          "RJ",
          "RN",
          "RO",
          "RR",
          "RS",
          "SC",
          "SE",
          "SP",
          "TO",
          "AC",
          "AL",
          "AM",
          "AP",
          "BA",
          "CE",
          "DF",
          "ES",
          "GO",
          "MA",
          "MG",
          "MS",
          "MT",
          "PA",
          "PB",
          "PE",
          "PI",
          "PR",
          "RJ",
          "RN",
          "RO",
          "RR",
          "RS",
          "SC",
          "SE",
          "SP",
          "TO",
          "AC",
          "AL",
          "AM",
          "AP",
          "BA",
          "CE",
          "DF",
          "ES",
          "GO",
          "MA",
          "MG",
          "MS",
          "MT",
          "PA",
          "PB",
          "PE",
          "PI",
          "PR",
          "RJ",
          "RN",
          "RO",
          "RR",
          "RS",
          "SC",
          "SE",
          "SP",
          "TO",
          "AC",
          "AL",
          "AM",
          "AP",
          "BA",
          "CE",
          "DF",
          "ES",
          "GO",
          "MA",
          "MG",
          "MS",
          "MT",
          "PA",
          "PB",
          "PE",
          "PI",
          "PR",
          "RJ",
          "RN",
          "RO",
          "RR",
          "RS",
          "SC",
          "SE",
          "SP",
          "TO",
          "AC",
          "AL",
          "AM",
          "AP",
          "BA",
          "CE",
          "DF",
          "ES",
          "GO",
          "MA",
          "MG",
          "MS",
          "MT",
          "PA",
          "PB",
          "PE",
          "PI",
          "PR",
          "RJ",
          "RN",
          "RO",
          "RR",
          "RS",
          "SC",
          "SE",
          "SP",
          "TO",
          "AC",
          "AL",
          "AM",
          "AP",
          "BA",
          "CE",
          "DF",
          "ES",
          "GO",
          "MA",
          "MG",
          "MS",
          "MT",
          "PA",
          "PB",
          "PE",
          "PI",
          "PR",
          "RJ",
          "RN",
          "RO",
          "RR",
          "RS",
          "SC",
          "SE",
          "SP",
          "TO",
          "AC",
          "AL",
          "AM",
          "AP",
          "BA",
          "CE",
          "DF",
          "ES",
          "GO",
          "MA",
          "MG",
          "MS",
          "MT",
          "PA",
          "PB",
          "PE",
          "PI",
          "PR",
          "RJ",
          "RN",
          "RO",
          "RR",
          "RS",
          "SC",
          "SE",
          "SP",
          "TO",
          "AC",
          "AL",
          "AM",
          "AP",
          "BA",
          "CE",
          "DF",
          "ES",
          "GO",
          "MA",
          "MG",
          "MS",
          "MT",
          "PA",
          "PB",
          "PE",
          "PI",
          "PR",
          "RJ",
          "RN",
          "RO",
          "RR",
          "RS",
          "SC",
          "SE",
          "SP",
          "TO",
          "AC",
          "AL",
          "AM",
          "AP",
          "BA",
          "CE",
          "DF",
          "ES",
          "GO",
          "MA",
          "MG",
          "MS",
          "MT",
          "PA",
          "PB",
          "PE",
          "PI",
          "PR",
          "RJ",
          "RN",
          "RO",
          "RR",
          "RS",
          "SC",
          "SE",
          "SP",
          "TO",
          "AC",
          "AL",
          "AM",
          "AP",
          "BA",
          "CE",
          "DF",
          "ES",
          "GO",
          "MA",
          "MG",
          "MS",
          "MT",
          "PA",
          "PB",
          "PE",
          "PI",
          "PR",
          "RJ",
          "RN",
          "RO",
          "RR",
          "RS",
          "SC",
          "SE",
          "SP",
          "TO",
          "AC",
          "AL",
          "AM",
          "AP",
          "BA",
          "CE",
          "DF",
          "ES",
          "GO",
          "MA",
          "MG",
          "MS",
          "MT",
          "PA",
          "PB",
          "PE",
          "PI",
          "PR",
          "RJ",
          "RN",
          "RO",
          "RR",
          "RS",
          "SC",
          "SE",
          "SP",
          "TO",
          "AC",
          "AL",
          "AM",
          "AP",
          "BA",
          "CE",
          "DF",
          "ES",
          "GO",
          "MA",
          "MG",
          "MS",
          "MT",
          "PA",
          "PB",
          "PE",
          "PI",
          "PR",
          "RJ",
          "RN",
          "RO",
          "RR",
          "RS",
          "SC",
          "SE",
          "SP",
          "TO",
          "AC",
          "AL",
          "AM",
          "AP",
          "BA",
          "CE",
          "DF",
          "ES",
          "GO",
          "MA",
          "MG",
          "MS",
          "MT",
          "PA",
          "PB",
          "PE",
          "PI",
          "PR",
          "RJ",
          "RN",
          "RO",
          "RR",
          "RS",
          "SC",
          "SE",
          "SP",
          "TO",
          "AC",
          "AL",
          "AM",
          "AP",
          "BA",
          "CE",
          "DF",
          "ES",
          "GO",
          "MA",
          "MG",
          "MS",
          "MT",
          "PA",
          "PB",
          "PE",
          "PI",
          "PR",
          "RJ",
          "RN",
          "RO",
          "RR",
          "RS",
          "SC",
          "SE",
          "SP",
          "TO",
          "AC",
          "AL",
          "AM",
          "AP",
          "BA",
          "CE",
          "DF",
          "ES",
          "GO",
          "MA",
          "MG",
          "MS",
          "MT",
          "PA",
          "PB",
          "PE",
          "PI",
          "PR",
          "RJ",
          "RN",
          "RO",
          "RR",
          "RS",
          "SC",
          "SE",
          "SP",
          "TO",
          "AC",
          "AL",
          "AM",
          "AP",
          "BA",
          "CE",
          "DF",
          "ES",
          "GO",
          "MA",
          "MG",
          "MS",
          "MT",
          "PA",
          "PB",
          "PE",
          "PI",
          "PR",
          "RJ",
          "RN",
          "RO",
          "RR",
          "RS",
          "SC",
          "SE",
          "SP",
          "TO",
          "AC",
          "AL",
          "AM",
          "AP",
          "BA",
          "CE",
          "DF",
          "ES",
          "GO",
          "MA",
          "MG",
          "MS",
          "MT",
          "PA",
          "PB",
          "PE",
          "PI",
          "PR",
          "RJ",
          "RN",
          "RO",
          "RR",
          "RS",
          "SC",
          "SE",
          "SP",
          "TO",
          "AC",
          "AL",
          "AM",
          "AP",
          "BA",
          "CE",
          "DF",
          "ES",
          "GO",
          "MA",
          "MG",
          "MS",
          "MT",
          "PA",
          "PB",
          "PE",
          "PI",
          "PR",
          "RJ",
          "RN",
          "RO",
          "RR",
          "RS",
          "SC",
          "SE",
          "SP",
          "TO",
          "AC",
          "AL",
          "AM",
          "AP",
          "BA",
          "CE",
          "DF",
          "ES",
          "GO",
          "MA",
          "MG",
          "MS",
          "MT",
          "PA",
          "PB",
          "PE",
          "PI",
          "PR",
          "RJ",
          "RN",
          "RO",
          "RR",
          "RS",
          "SC",
          "SE",
          "SP",
          "TO"
         ],
         "z": [
          0.00432,
          4.69552,
          0.53707,
          4.15903,
          1.1604,
          1.45339,
          4.36481,
          10.89963,
          2.38678,
          0.91375,
          0.71684,
          1.29152,
          1.70855,
          0.70897,
          0.39122,
          0.44562,
          0.90468,
          0.54853,
          1.60634,
          4.07689,
          2.32021,
          0.50099,
          2.53493,
          2.67006,
          3.24026,
          0.81938,
          5.053,
          0.7546,
          45.16641,
          31.17967,
          124.8659,
          125.32303,
          19.20213,
          85.5656,
          46.57711,
          66.14089,
          10.97906,
          49.27896,
          8.58042,
          9.07669,
          8.56441,
          34.50797,
          22.92489,
          71.50121,
          18.28443,
          12.35582,
          54.43336,
          36.69891,
          27.94385,
          82.22681,
          13.38531,
          33.0093,
          19.53578,
          61.997,
          10.31286,
          695.27206,
          306.96309,
          983.38433,
          1114.21453,
          123.18298,
          527.79424,
          320.11532,
          336.85593,
          52.37898,
          496.12079,
          49.14368,
          55.81275,
          70.47206,
          436.798,
          325.85039,
          358.23394,
          155.99668,
          41.26132,
          307.42496,
          226.58818,
          275.09658,
          584.93522,
          81.69502,
          124.60527,
          301.83429,
          236.98332,
          262.60055,
          1481.65953,
          1072.99832,
          1683.17048,
          3306.20709,
          490.98384,
          1202.58802,
          1610.98526,
          1153.84843,
          350.17727,
          1130.78771,
          211.34507,
          308.82105,
          462.3648,
          1217.99685,
          1162.51002,
          612.0445,
          672.22717,
          198.63956,
          648.4497,
          904.42863,
          1182.93755,
          2400.73766,
          235.84928,
          363.37805,
          1095.85816,
          607.87223,
          705.6761,
          2194.03669,
          1782.01503,
          2398.9273,
          4231.74084,
          1112.83955,
          1901.16514,
          3479.11018,
          2049.48165,
          973.48156,
          1695.96371,
          596.94732,
          916.17623,
          1476.87892,
          1795.62281,
          2049.72325,
          987.92497,
          1598.60795,
          660.87573,
          952.97247,
          1462.86322,
          2170.49085,
          5184.40828,
          583.841,
          1159.22753,
          2532.01841,
          1171.55285,
          1593.83945,
          2755.48649,
          2351.27522,
          2858.93956,
          5012.10876,
          1719.46483,
          2339.72559,
          5303.89844,
          2737.73564,
          1880.86382,
          2131.04099,
          1017.04972,
          1773.33617,
          2616.54123,
          2312.63258,
          2618.73598,
          1305.43774,
          2372.6794,
          1145.33153,
          1287.73791,
          1760.07628,
          3070.09341,
          6924.6381,
          1101.40329,
          2451.25062,
          3127.79506,
          1737.64007,
          3246.60053,
          3155.16451,
          2592.20902,
          3311.20414,
          5599.38638,
          2079.79112,
          2624.97329,
          6292.49179,
          3235.44089,
          2969.54821,
          2439.54753,
          1386.24726,
          2500.14772,
          3518.21497,
          2666.5493,
          3002.19569,
          1530.38162,
          2951.38169,
          1553.36012,
          1524.70412,
          1979.67554,
          3668.9378,
          8029.55095,
          1668.32225,
          2971.08501,
          3339.62676,
          2129.27674,
          4314.16987,
          3442.93269,
          2708.8717,
          3842.53778,
          6054.37859,
          2365.31818,
          2984.45549,
          6979.85597,
          3831.66849,
          3593.79437,
          2611.91145,
          1685.89034,
          2940.77655,
          4073.42707,
          2912.06335,
          3296.35724,
          1693.8694,
          3460.20698,
          1853.65083,
          1784.94545,
          2306.57029,
          3989.29005,
          9095.17238,
          2167.3517,
          3570.35407,
          3636.58789,
          2411.19698,
          4755.54756,
          4053.68542,
          2834.03793,
          4235.07871,
          6861.55171,
          2699.62414,
          3279.06414,
          7500.32159,
          4675.16164,
          3934.63733,
          2715.12178,
          1955.29766,
          3564.86132,
          4508.56725,
          3120.88319,
          3596.01483,
          1896.7785,
          3891.11011,
          2431.95182,
          2040.48223,
          2719.05811,
          4483.1502,
          10071.91281,
          2819.38861,
          5023.70079,
          3887.66365,
          2682.37393,
          5154.6677,
          4653.03476,
          3127.45503,
          4777.24959,
          7914.03305,
          3304.6152,
          3657.21381,
          8238.58345,
          6108.46023,
          4345.37516,
          2824.30574,
          2549.74647,
          4796.40805,
          5117.40617,
          3380.63077,
          4121.6287,
          2310.22934,
          4363.24463,
          3617.01647,
          2502.84043,
          3367.10369,
          5328.75767,
          10885.94238,
          3936.57588,
          6791.90437,
          4851.817,
          3159.03666,
          5693.20005,
          5418.51599,
          3513.84422,
          6354.85206,
          8939.82522,
          3938.92182,
          4066.69001,
          9070.26138,
          7237.33358,
          4930.44251,
          2916.36998,
          3449.4788,
          5743.97895,
          6154.46569,
          3791.22849,
          4743.02703,
          2717.17062,
          4854.21212,
          4769.82401,
          2999.89249,
          4008.9809,
          6939.36965,
          11765.88015,
          4791.06446,
          7953.32425,
          5926.15561,
          3839.6924,
          6435.97728,
          6432.18889,
          3930.90585,
          7512.10752,
          9708.24103,
          4581.43305,
          4642.49721,
          9711.27758,
          8029.05573,
          5565.66773,
          3082.49321,
          4126.79652,
          6477.58912,
          7114.95596,
          4204.59926,
          5474.12322,
          3114.13957,
          5302.72926,
          5618.13831,
          3357.35146,
          4773.29157,
          8281.39786,
          13011.48165,
          5610.83354,
          9246.50555,
          6529.65169,
          4410.57986,
          7198.05967,
          7787.51663,
          4579.68166,
          8297.21317,
          11318.75796,
          5382.65153,
          5873.11365,
          11271.59428,
          9411.2969,
          6837.7348,
          3407.09342,
          5278.40431,
          7740.35255,
          8800.84056,
          4837.00764,
          6416.32153,
          3631.53544,
          6296.88433,
          7346.67669,
          3730.66883,
          5597.05051,
          10424.39019,
          14235.69467,
          7400.70033,
          11126.21548,
          7529.68533,
          5335.67636,
          8923.954,
          8698.22353,
          5181.55369,
          8811.81563,
          12271.67711,
          6033.50802,
          7344.17585,
          12398.18418,
          10744.96586,
          7766.33013,
          3751.58231,
          6383.12271,
          8864.296,
          10268.61625,
          5442.41029,
          7245.57885,
          4227.94035,
          7340.22453,
          8228.76761,
          4276.21167,
          6363.03059,
          11842.06718,
          15300.8408,
          8535.1598,
          12243.15416,
          8701.7891,
          6272.95494,
          10089.55836,
          9226.02211,
          5759.91416,
          9183.56143,
          13010.61881,
          6779.35043,
          8726.74444,
          13285.86593,
          11863.45549,
          8583.40573,
          4080.32892,
          7382.84252,
          10417.79829,
          11556.51094,
          5960.3866,
          8193.66931,
          5013.78811,
          8342.45523,
          9494.70514,
          4983.03341,
          7630.79822,
          12778.7983,
          16451.06554,
          9502.9814,
          13350.48236,
          10216.60999,
          7068.67606,
          11268.43109,
          9564.9938,
          6466.18587,
          9555.99644,
          13598.47663,
          7534.80395,
          9652.19395,
          14089.68924,
          12745.53082,
          9523.9501,
          4461.89651,
          8471.21727,
          11962.97137,
          12829.12013,
          6382.43327,
          9814.67723,
          5722.301,
          9032.17451,
          11155.88998,
          5517.61241,
          9715.22269,
          13783.05111,
          17846.38638,
          10641.00388,
          14511.61268,
          11364.04605,
          8052.2828,
          12460.32065,
          9742.1937,
          6861.31731,
          9903.52481,
          14066.11718,
          7994.89827,
          10005.39561,
          14734.66597,
          13361.19715,
          10440.90565,
          4738.37032,
          9235.68707,
          12688.21675,
          13904.77622,
          6587.47898,
          10448.60256,
          6143.37406,
          9442.62955,
          11973.77927,
          5941.65479,
          10179.94349,
          14352.94969,
          19031.14954,
          11975.06113,
          15356.86581,
          11827.64352,
          8766.3134,
          13227.24506,
          9818.43997,
          7034.78965,
          10083.40871,
          14206.40934,
          8176.42439,
          10139.87761,
          15399.28167,
          13853.93199,
          11520.19951,
          4906.30672,
          9704.4588,
          13130.44735,
          14755.99934,
          6723.969,
          10727.71191,
          6317.48927,
          9651.10255,
          12659.10614,
          6496.33607,
          10332.76601,
          14651.64824,
          19644.12744,
          12333.68056,
          15944.41477,
          11965.34275,
          9208.78251,
          13781.37247,
          9829.73157,
          7107.47259,
          10135.5748,
          14253.86964,
          8263.54058,
          10236.77431,
          16210.30595,
          14421.98574,
          12156.21196,
          5007.11354,
          10052.18417,
          13279.87459,
          15232.7705,
          6806.94233,
          10934.48159,
          6454.68923,
          9733.71771,
          13124.33793,
          7403.64509,
          10432.90282,
          14800.16254,
          19997.43338,
          12579.57976,
          16441.51218,
          11993.3311,
          9432.2638,
          14127.16759,
          9843.81813,
          7164.34192,
          10166.75563,
          14345.65715,
          8347.24098,
          10271.61663,
          16854.6935,
          14940.97516,
          12724.94426,
          5075.15674,
          10263.00323,
          13401.50225,
          15512.2766,
          6885.73879,
          11041.85229,
          6570.8319,
          9928.81261,
          13504.42482,
          7612.99442,
          10573.72816,
          15049.65321,
          20182.80018,
          12842.01582,
          16776.15532,
          12010.32248,
          9518.55798,
          14384.29729,
          9862.04121,
          7205.33796,
          10217.99485,
          14464.24987,
          8441.30932,
          10338.40592,
          16946.66938,
          15266.93064,
          13162.77128,
          5130.97156,
          10370.11993,
          13485.93327,
          15677.77961,
          7011.96503,
          11402.53565,
          6652.40941,
          10105.56212,
          13710.03678,
          7738.75604,
          10808.8615,
          15440.03206,
          20344.08514,
          13055.31406,
          16999.81606,
          11998.54926,
          9589.90919,
          14639.72915,
          9881.15867,
          7222.94179,
          10309.94502,
          14734.85477,
          8511.7484,
          10409.42939,
          17014.26019,
          15498.62059,
          13325.26421,
          5209.6408,
          10444.84049,
          13544.38003,
          15821.13425,
          7197.51874,
          11495.49783,
          6714.21906,
          10192.71792,
          13877.95611,
          7789.98777,
          10960.21267,
          15843.71486,
          20451.50282,
          13193.73687,
          17146.28965,
          12011.70249,
          9626.6412,
          14812.65815,
          11320.67034,
          7705.10777,
          12592.96616,
          17633.18182,
          9130.97193,
          12241.90041,
          19860.40615,
          20871.65715,
          14578.47991,
          5433.43419,
          12744.20498,
          15239.79905,
          17846.95793,
          7485.11204,
          12351.78969,
          7261.04315,
          10490.29706,
          17133.58004,
          10118.23032,
          12128.18304,
          17718.90273,
          22599.69803,
          15987.91313,
          19889.8394,
          12666.60399,
          10042.7349,
          17092.86853,
          13480.94402,
          8698.65014,
          13630.08512,
          18577.51403,
          10060.97933,
          13350.26939,
          22315.21278,
          25155.87891,
          16404.30784,
          5803.22318,
          15026.27243,
          17899.62533,
          20056.74632,
          8286.95354,
          14239.57802,
          8638.12767,
          11129.88651,
          20239.53619,
          11491.7441,
          13520.39308,
          20771.35032,
          24369.55485,
          18873.51043,
          22269.18379,
          13820.72449,
          10839.32879,
          18768.95931,
          13841.49273,
          8830.91758,
          13809.6363,
          18604.43527,
          10247.74969,
          13494.41712,
          22629.10909,
          25521.03172,
          17851.21051,
          5962.37482,
          15580.01708,
          18636.22546,
          20550.41943,
          8644.74795,
          14727.66042,
          9276.80315,
          11199.6721,
          20908.16578,
          11970.48472,
          14027.33036,
          21817.5189,
          24566.96257,
          19818.65842,
          23042.73753,
          14027.55365,
          11303.62799,
          19022.31602
         ]
        }
       ],
       "layout": {
        "height": 700,
        "template": {
         "data": {
          "bar": [
           {
            "error_x": {
             "color": "#2a3f5f"
            },
            "error_y": {
             "color": "#2a3f5f"
            },
            "marker": {
             "line": {
              "color": "#E5ECF6",
              "width": 0.5
             },
             "pattern": {
              "fillmode": "overlay",
              "size": 10,
              "solidity": 0.2
             }
            },
            "type": "bar"
           }
          ],
          "barpolar": [
           {
            "marker": {
             "line": {
              "color": "#E5ECF6",
              "width": 0.5
             },
             "pattern": {
              "fillmode": "overlay",
              "size": 10,
              "solidity": 0.2
             }
            },
            "type": "barpolar"
           }
          ],
          "carpet": [
           {
            "aaxis": {
             "endlinecolor": "#2a3f5f",
             "gridcolor": "white",
             "linecolor": "white",
             "minorgridcolor": "white",
             "startlinecolor": "#2a3f5f"
            },
            "baxis": {
             "endlinecolor": "#2a3f5f",
             "gridcolor": "white",
             "linecolor": "white",
             "minorgridcolor": "white",
             "startlinecolor": "#2a3f5f"
            },
            "type": "carpet"
           }
          ],
          "choropleth": [
           {
            "colorbar": {
             "outlinewidth": 0,
             "ticks": ""
            },
            "type": "choropleth"
           }
          ],
          "contour": [
           {
            "colorbar": {
             "outlinewidth": 0,
             "ticks": ""
            },
            "colorscale": [
             [
              0,
              "#0d0887"
             ],
             [
              0.1111111111111111,
              "#46039f"
             ],
             [
              0.2222222222222222,
              "#7201a8"
             ],
             [
              0.3333333333333333,
              "#9c179e"
             ],
             [
              0.4444444444444444,
              "#bd3786"
             ],
             [
              0.5555555555555556,
              "#d8576b"
             ],
             [
              0.6666666666666666,
              "#ed7953"
             ],
             [
              0.7777777777777778,
              "#fb9f3a"
             ],
             [
              0.8888888888888888,
              "#fdca26"
             ],
             [
              1,
              "#f0f921"
             ]
            ],
            "type": "contour"
           }
          ],
          "contourcarpet": [
           {
            "colorbar": {
             "outlinewidth": 0,
             "ticks": ""
            },
            "type": "contourcarpet"
           }
          ],
          "heatmap": [
           {
            "colorbar": {
             "outlinewidth": 0,
             "ticks": ""
            },
            "colorscale": [
             [
              0,
              "#0d0887"
             ],
             [
              0.1111111111111111,
              "#46039f"
             ],
             [
              0.2222222222222222,
              "#7201a8"
             ],
             [
              0.3333333333333333,
              "#9c179e"
             ],
             [
              0.4444444444444444,
              "#bd3786"
             ],
             [
              0.5555555555555556,
              "#d8576b"
             ],
             [
              0.6666666666666666,
              "#ed7953"
             ],
             [
              0.7777777777777778,
              "#fb9f3a"
             ],
             [
              0.8888888888888888,
              "#fdca26"
             ],
             [
              1,
              "#f0f921"
             ]
            ],
            "type": "heatmap"
           }
          ],
          "heatmapgl": [
           {
            "colorbar": {
             "outlinewidth": 0,
             "ticks": ""
            },
            "colorscale": [
             [
              0,
              "#0d0887"
             ],
             [
              0.1111111111111111,
              "#46039f"
             ],
             [
              0.2222222222222222,
              "#7201a8"
             ],
             [
              0.3333333333333333,
              "#9c179e"
             ],
             [
              0.4444444444444444,
              "#bd3786"
             ],
             [
              0.5555555555555556,
              "#d8576b"
             ],
             [
              0.6666666666666666,
              "#ed7953"
             ],
             [
              0.7777777777777778,
              "#fb9f3a"
             ],
             [
              0.8888888888888888,
              "#fdca26"
             ],
             [
              1,
              "#f0f921"
             ]
            ],
            "type": "heatmapgl"
           }
          ],
          "histogram": [
           {
            "marker": {
             "pattern": {
              "fillmode": "overlay",
              "size": 10,
              "solidity": 0.2
             }
            },
            "type": "histogram"
           }
          ],
          "histogram2d": [
           {
            "colorbar": {
             "outlinewidth": 0,
             "ticks": ""
            },
            "colorscale": [
             [
              0,
              "#0d0887"
             ],
             [
              0.1111111111111111,
              "#46039f"
             ],
             [
              0.2222222222222222,
              "#7201a8"
             ],
             [
              0.3333333333333333,
              "#9c179e"
             ],
             [
              0.4444444444444444,
              "#bd3786"
             ],
             [
              0.5555555555555556,
              "#d8576b"
             ],
             [
              0.6666666666666666,
              "#ed7953"
             ],
             [
              0.7777777777777778,
              "#fb9f3a"
             ],
             [
              0.8888888888888888,
              "#fdca26"
             ],
             [
              1,
              "#f0f921"
             ]
            ],
            "type": "histogram2d"
           }
          ],
          "histogram2dcontour": [
           {
            "colorbar": {
             "outlinewidth": 0,
             "ticks": ""
            },
            "colorscale": [
             [
              0,
              "#0d0887"
             ],
             [
              0.1111111111111111,
              "#46039f"
             ],
             [
              0.2222222222222222,
              "#7201a8"
             ],
             [
              0.3333333333333333,
              "#9c179e"
             ],
             [
              0.4444444444444444,
              "#bd3786"
             ],
             [
              0.5555555555555556,
              "#d8576b"
             ],
             [
              0.6666666666666666,
              "#ed7953"
             ],
             [
              0.7777777777777778,
              "#fb9f3a"
             ],
             [
              0.8888888888888888,
              "#fdca26"
             ],
             [
              1,
              "#f0f921"
             ]
            ],
            "type": "histogram2dcontour"
           }
          ],
          "mesh3d": [
           {
            "colorbar": {
             "outlinewidth": 0,
             "ticks": ""
            },
            "type": "mesh3d"
           }
          ],
          "parcoords": [
           {
            "line": {
             "colorbar": {
              "outlinewidth": 0,
              "ticks": ""
             }
            },
            "type": "parcoords"
           }
          ],
          "pie": [
           {
            "automargin": true,
            "type": "pie"
           }
          ],
          "scatter": [
           {
            "fillpattern": {
             "fillmode": "overlay",
             "size": 10,
             "solidity": 0.2
            },
            "type": "scatter"
           }
          ],
          "scatter3d": [
           {
            "line": {
             "colorbar": {
              "outlinewidth": 0,
              "ticks": ""
             }
            },
            "marker": {
             "colorbar": {
              "outlinewidth": 0,
              "ticks": ""
             }
            },
            "type": "scatter3d"
           }
          ],
          "scattercarpet": [
           {
            "marker": {
             "colorbar": {
              "outlinewidth": 0,
              "ticks": ""
             }
            },
            "type": "scattercarpet"
           }
          ],
          "scattergeo": [
           {
            "marker": {
             "colorbar": {
              "outlinewidth": 0,
              "ticks": ""
             }
            },
            "type": "scattergeo"
           }
          ],
          "scattergl": [
           {
            "marker": {
             "colorbar": {
              "outlinewidth": 0,
              "ticks": ""
             }
            },
            "type": "scattergl"
           }
          ],
          "scattermapbox": [
           {
            "marker": {
             "colorbar": {
              "outlinewidth": 0,
              "ticks": ""
             }
            },
            "type": "scattermapbox"
           }
          ],
          "scatterpolar": [
           {
            "marker": {
             "colorbar": {
              "outlinewidth": 0,
              "ticks": ""
             }
            },
            "type": "scatterpolar"
           }
          ],
          "scatterpolargl": [
           {
            "marker": {
             "colorbar": {
              "outlinewidth": 0,
              "ticks": ""
             }
            },
            "type": "scatterpolargl"
           }
          ],
          "scatterternary": [
           {
            "marker": {
             "colorbar": {
              "outlinewidth": 0,
              "ticks": ""
             }
            },
            "type": "scatterternary"
           }
          ],
          "surface": [
           {
            "colorbar": {
             "outlinewidth": 0,
             "ticks": ""
            },
            "colorscale": [
             [
              0,
              "#0d0887"
             ],
             [
              0.1111111111111111,
              "#46039f"
             ],
             [
              0.2222222222222222,
              "#7201a8"
             ],
             [
              0.3333333333333333,
              "#9c179e"
             ],
             [
              0.4444444444444444,
              "#bd3786"
             ],
             [
              0.5555555555555556,
              "#d8576b"
             ],
             [
              0.6666666666666666,
              "#ed7953"
             ],
             [
              0.7777777777777778,
              "#fb9f3a"
             ],
             [
              0.8888888888888888,
              "#fdca26"
             ],
             [
              1,
              "#f0f921"
             ]
            ],
            "type": "surface"
           }
          ],
          "table": [
           {
            "cells": {
             "fill": {
              "color": "#EBF0F8"
             },
             "line": {
              "color": "white"
             }
            },
            "header": {
             "fill": {
              "color": "#C8D4E3"
             },
             "line": {
              "color": "white"
             }
            },
            "type": "table"
           }
          ]
         },
         "layout": {
          "annotationdefaults": {
           "arrowcolor": "#2a3f5f",
           "arrowhead": 0,
           "arrowwidth": 1
          },
          "autotypenumbers": "strict",
          "coloraxis": {
           "colorbar": {
            "outlinewidth": 0,
            "ticks": ""
           }
          },
          "colorscale": {
           "diverging": [
            [
             0,
             "#8e0152"
            ],
            [
             0.1,
             "#c51b7d"
            ],
            [
             0.2,
             "#de77ae"
            ],
            [
             0.3,
             "#f1b6da"
            ],
            [
             0.4,
             "#fde0ef"
            ],
            [
             0.5,
             "#f7f7f7"
            ],
            [
             0.6,
             "#e6f5d0"
            ],
            [
             0.7,
             "#b8e186"
            ],
            [
             0.8,
             "#7fbc41"
            ],
            [
             0.9,
             "#4d9221"
            ],
            [
             1,
             "#276419"
            ]
           ],
           "sequential": [
            [
             0,
             "#0d0887"
            ],
            [
             0.1111111111111111,
             "#46039f"
            ],
            [
             0.2222222222222222,
             "#7201a8"
            ],
            [
             0.3333333333333333,
             "#9c179e"
            ],
            [
             0.4444444444444444,
             "#bd3786"
            ],
            [
             0.5555555555555556,
             "#d8576b"
            ],
            [
             0.6666666666666666,
             "#ed7953"
            ],
            [
             0.7777777777777778,
             "#fb9f3a"
            ],
            [
             0.8888888888888888,
             "#fdca26"
            ],
            [
             1,
             "#f0f921"
            ]
           ],
           "sequentialminus": [
            [
             0,
             "#0d0887"
            ],
            [
             0.1111111111111111,
             "#46039f"
            ],
            [
             0.2222222222222222,
             "#7201a8"
            ],
            [
             0.3333333333333333,
             "#9c179e"
            ],
            [
             0.4444444444444444,
             "#bd3786"
            ],
            [
             0.5555555555555556,
             "#d8576b"
            ],
            [
             0.6666666666666666,
             "#ed7953"
            ],
            [
             0.7777777777777778,
             "#fb9f3a"
            ],
            [
             0.8888888888888888,
             "#fdca26"
            ],
            [
             1,
             "#f0f921"
            ]
           ]
          },
          "colorway": [
           "#636efa",
           "#EF553B",
           "#00cc96",
           "#ab63fa",
           "#FFA15A",
           "#19d3f3",
           "#FF6692",
           "#B6E880",
           "#FF97FF",
           "#FECB52"
          ],
          "font": {
           "color": "#2a3f5f"
          },
          "geo": {
           "bgcolor": "white",
           "lakecolor": "white",
           "landcolor": "#E5ECF6",
           "showlakes": true,
           "showland": true,
           "subunitcolor": "white"
          },
          "hoverlabel": {
           "align": "left"
          },
          "hovermode": "closest",
          "mapbox": {
           "style": "light"
          },
          "paper_bgcolor": "white",
          "plot_bgcolor": "#E5ECF6",
          "polar": {
           "angularaxis": {
            "gridcolor": "white",
            "linecolor": "white",
            "ticks": ""
           },
           "bgcolor": "#E5ECF6",
           "radialaxis": {
            "gridcolor": "white",
            "linecolor": "white",
            "ticks": ""
           }
          },
          "scene": {
           "xaxis": {
            "backgroundcolor": "#E5ECF6",
            "gridcolor": "white",
            "gridwidth": 2,
            "linecolor": "white",
            "showbackground": true,
            "ticks": "",
            "zerolinecolor": "white"
           },
           "yaxis": {
            "backgroundcolor": "#E5ECF6",
            "gridcolor": "white",
            "gridwidth": 2,
            "linecolor": "white",
            "showbackground": true,
            "ticks": "",
            "zerolinecolor": "white"
           },
           "zaxis": {
            "backgroundcolor": "#E5ECF6",
            "gridcolor": "white",
            "gridwidth": 2,
            "linecolor": "white",
            "showbackground": true,
            "ticks": "",
            "zerolinecolor": "white"
           }
          },
          "shapedefaults": {
           "line": {
            "color": "#2a3f5f"
           }
          },
          "ternary": {
           "aaxis": {
            "gridcolor": "white",
            "linecolor": "white",
            "ticks": ""
           },
           "baxis": {
            "gridcolor": "white",
            "linecolor": "white",
            "ticks": ""
           },
           "bgcolor": "#E5ECF6",
           "caxis": {
            "gridcolor": "white",
            "linecolor": "white",
            "ticks": ""
           }
          },
          "title": {
           "x": 0.05
          },
          "xaxis": {
           "automargin": true,
           "gridcolor": "white",
           "linecolor": "white",
           "ticks": "",
           "title": {
            "standoff": 15
           },
           "zerolinecolor": "white",
           "zerolinewidth": 2
          },
          "yaxis": {
           "automargin": true,
           "gridcolor": "white",
           "linecolor": "white",
           "ticks": "",
           "title": {
            "standoff": 15
           },
           "zerolinecolor": "white",
           "zerolinewidth": 2
          }
         }
        },
        "title": {
         "text": "COVID-19 no Brasil: Casos x Tempo"
        },
        "width": 1000,
        "xaxis": {
         "nticks": 45
        }
       }
      },
      "text/html": [
       "<div>                            <div id=\"e56c3cec-e3e2-4f0a-b33d-5a58cb03c532\" class=\"plotly-graph-div\" style=\"height:700px; width:1000px;\"></div>            <script type=\"text/javascript\">                require([\"plotly\"], function(Plotly) {                    window.PLOTLYENV=window.PLOTLYENV || {};                                    if (document.getElementById(\"e56c3cec-e3e2-4f0a-b33d-5a58cb03c532\")) {                    Plotly.newPlot(                        \"e56c3cec-e3e2-4f0a-b33d-5a58cb03c532\",                        [{\"colorscale\":[[0.0,\"#440154\"],[0.1111111111111111,\"#482878\"],[0.2222222222222222,\"#3e4989\"],[0.3333333333333333,\"#31688e\"],[0.4444444444444444,\"#26828e\"],[0.5555555555555556,\"#1f9e89\"],[0.6666666666666666,\"#35b779\"],[0.7777777777777778,\"#6ece58\"],[0.8888888888888888,\"#b5de2b\"],[1.0,\"#fde725\"]],\"x\":[\"2020-02-28T00:00:00\",\"2020-03-31T00:00:00\",\"2020-03-31T00:00:00\",\"2020-03-31T00:00:00\",\"2020-03-31T00:00:00\",\"2020-03-31T00:00:00\",\"2020-03-31T00:00:00\",\"2020-03-31T00:00:00\",\"2020-03-31T00:00:00\",\"2020-03-31T00:00:00\",\"2020-03-31T00:00:00\",\"2020-03-31T00:00:00\",\"2020-03-31T00:00:00\",\"2020-03-31T00:00:00\",\"2020-03-31T00:00:00\",\"2020-03-31T00:00:00\",\"2020-03-31T00:00:00\",\"2020-03-31T00:00:00\",\"2020-03-31T00:00:00\",\"2020-03-31T00:00:00\",\"2020-03-31T00:00:00\",\"2020-03-31T00:00:00\",\"2020-03-31T00:00:00\",\"2020-03-31T00:00:00\",\"2020-03-31T00:00:00\",\"2020-03-31T00:00:00\",\"2020-03-31T00:00:00\",\"2020-03-31T00:00:00\",\"2020-04-30T00:00:00\",\"2020-04-30T00:00:00\",\"2020-04-30T00:00:00\",\"2020-04-30T00:00:00\",\"2020-04-30T00:00:00\",\"2020-04-30T00:00:00\",\"2020-04-30T00:00:00\",\"2020-04-30T00:00:00\",\"2020-04-30T00:00:00\",\"2020-04-30T00:00:00\",\"2020-04-30T00:00:00\",\"2020-04-30T00:00:00\",\"2020-04-30T00:00:00\",\"2020-04-30T00:00:00\",\"2020-04-30T00:00:00\",\"2020-04-30T00:00:00\",\"2020-04-30T00:00:00\",\"2020-04-30T00:00:00\",\"2020-04-30T00:00:00\",\"2020-04-30T00:00:00\",\"2020-04-30T00:00:00\",\"2020-04-30T00:00:00\",\"2020-04-30T00:00:00\",\"2020-04-30T00:00:00\",\"2020-04-30T00:00:00\",\"2020-04-30T00:00:00\",\"2020-04-30T00:00:00\",\"2020-05-31T00:00:00\",\"2020-05-31T00:00:00\",\"2020-05-31T00:00:00\",\"2020-05-31T00:00:00\",\"2020-05-31T00:00:00\",\"2020-05-31T00:00:00\",\"2020-05-31T00:00:00\",\"2020-05-31T00:00:00\",\"2020-05-31T00:00:00\",\"2020-05-31T00:00:00\",\"2020-05-31T00:00:00\",\"2020-05-31T00:00:00\",\"2020-05-31T00:00:00\",\"2020-05-31T00:00:00\",\"2020-05-31T00:00:00\",\"2020-05-31T00:00:00\",\"2020-05-31T00:00:00\",\"2020-05-31T00:00:00\",\"2020-05-31T00:00:00\",\"2020-05-31T00:00:00\",\"2020-05-31T00:00:00\",\"2020-05-31T00:00:00\",\"2020-05-31T00:00:00\",\"2020-05-31T00:00:00\",\"2020-05-31T00:00:00\",\"2020-05-31T00:00:00\",\"2020-05-31T00:00:00\",\"2020-06-30T00:00:00\",\"2020-06-30T00:00:00\",\"2020-06-30T00:00:00\",\"2020-06-30T00:00:00\",\"2020-06-30T00:00:00\",\"2020-06-30T00:00:00\",\"2020-06-30T00:00:00\",\"2020-06-30T00:00:00\",\"2020-06-30T00:00:00\",\"2020-06-30T00:00:00\",\"2020-06-30T00:00:00\",\"2020-06-30T00:00:00\",\"2020-06-30T00:00:00\",\"2020-06-30T00:00:00\",\"2020-06-30T00:00:00\",\"2020-06-30T00:00:00\",\"2020-06-30T00:00:00\",\"2020-06-30T00:00:00\",\"2020-06-30T00:00:00\",\"2020-06-30T00:00:00\",\"2020-06-30T00:00:00\",\"2020-06-30T00:00:00\",\"2020-06-30T00:00:00\",\"2020-06-30T00:00:00\",\"2020-06-30T00:00:00\",\"2020-06-30T00:00:00\",\"2020-06-30T00:00:00\",\"2020-07-31T00:00:00\",\"2020-07-31T00:00:00\",\"2020-07-31T00:00:00\",\"2020-07-31T00:00:00\",\"2020-07-31T00:00:00\",\"2020-07-31T00:00:00\",\"2020-07-31T00:00:00\",\"2020-07-31T00:00:00\",\"2020-07-31T00:00:00\",\"2020-07-31T00:00:00\",\"2020-07-31T00:00:00\",\"2020-07-31T00:00:00\",\"2020-07-31T00:00:00\",\"2020-07-31T00:00:00\",\"2020-07-31T00:00:00\",\"2020-07-31T00:00:00\",\"2020-07-31T00:00:00\",\"2020-07-31T00:00:00\",\"2020-07-31T00:00:00\",\"2020-07-31T00:00:00\",\"2020-07-31T00:00:00\",\"2020-07-31T00:00:00\",\"2020-07-31T00:00:00\",\"2020-07-31T00:00:00\",\"2020-07-31T00:00:00\",\"2020-07-31T00:00:00\",\"2020-07-31T00:00:00\",\"2020-08-31T00:00:00\",\"2020-08-31T00:00:00\",\"2020-08-31T00:00:00\",\"2020-08-31T00:00:00\",\"2020-08-31T00:00:00\",\"2020-08-31T00:00:00\",\"2020-08-31T00:00:00\",\"2020-08-31T00:00:00\",\"2020-08-31T00:00:00\",\"2020-08-31T00:00:00\",\"2020-08-31T00:00:00\",\"2020-08-31T00:00:00\",\"2020-08-31T00:00:00\",\"2020-08-31T00:00:00\",\"2020-08-31T00:00:00\",\"2020-08-31T00:00:00\",\"2020-08-31T00:00:00\",\"2020-08-31T00:00:00\",\"2020-08-31T00:00:00\",\"2020-08-31T00:00:00\",\"2020-08-31T00:00:00\",\"2020-08-31T00:00:00\",\"2020-08-31T00:00:00\",\"2020-08-31T00:00:00\",\"2020-08-31T00:00:00\",\"2020-08-31T00:00:00\",\"2020-08-31T00:00:00\",\"2020-09-30T00:00:00\",\"2020-09-30T00:00:00\",\"2020-09-30T00:00:00\",\"2020-09-30T00:00:00\",\"2020-09-30T00:00:00\",\"2020-09-30T00:00:00\",\"2020-09-30T00:00:00\",\"2020-09-30T00:00:00\",\"2020-09-30T00:00:00\",\"2020-09-30T00:00:00\",\"2020-09-30T00:00:00\",\"2020-09-30T00:00:00\",\"2020-09-30T00:00:00\",\"2020-09-30T00:00:00\",\"2020-09-30T00:00:00\",\"2020-09-30T00:00:00\",\"2020-09-30T00:00:00\",\"2020-09-30T00:00:00\",\"2020-09-30T00:00:00\",\"2020-09-30T00:00:00\",\"2020-09-30T00:00:00\",\"2020-09-30T00:00:00\",\"2020-09-30T00:00:00\",\"2020-09-30T00:00:00\",\"2020-09-30T00:00:00\",\"2020-09-30T00:00:00\",\"2020-09-30T00:00:00\",\"2020-10-31T00:00:00\",\"2020-10-31T00:00:00\",\"2020-10-31T00:00:00\",\"2020-10-31T00:00:00\",\"2020-10-31T00:00:00\",\"2020-10-31T00:00:00\",\"2020-10-31T00:00:00\",\"2020-10-31T00:00:00\",\"2020-10-31T00:00:00\",\"2020-10-31T00:00:00\",\"2020-10-31T00:00:00\",\"2020-10-31T00:00:00\",\"2020-10-31T00:00:00\",\"2020-10-31T00:00:00\",\"2020-10-31T00:00:00\",\"2020-10-31T00:00:00\",\"2020-10-31T00:00:00\",\"2020-10-31T00:00:00\",\"2020-10-31T00:00:00\",\"2020-10-31T00:00:00\",\"2020-10-31T00:00:00\",\"2020-10-31T00:00:00\",\"2020-10-31T00:00:00\",\"2020-10-31T00:00:00\",\"2020-10-31T00:00:00\",\"2020-10-31T00:00:00\",\"2020-10-31T00:00:00\",\"2020-11-30T00:00:00\",\"2020-11-30T00:00:00\",\"2020-11-30T00:00:00\",\"2020-11-30T00:00:00\",\"2020-11-30T00:00:00\",\"2020-11-30T00:00:00\",\"2020-11-30T00:00:00\",\"2020-11-30T00:00:00\",\"2020-11-30T00:00:00\",\"2020-11-30T00:00:00\",\"2020-11-30T00:00:00\",\"2020-11-30T00:00:00\",\"2020-11-30T00:00:00\",\"2020-11-30T00:00:00\",\"2020-11-30T00:00:00\",\"2020-11-30T00:00:00\",\"2020-11-30T00:00:00\",\"2020-11-30T00:00:00\",\"2020-11-30T00:00:00\",\"2020-11-30T00:00:00\",\"2020-11-30T00:00:00\",\"2020-11-30T00:00:00\",\"2020-11-30T00:00:00\",\"2020-11-30T00:00:00\",\"2020-11-30T00:00:00\",\"2020-11-30T00:00:00\",\"2020-11-30T00:00:00\",\"2020-12-31T00:00:00\",\"2020-12-31T00:00:00\",\"2020-12-31T00:00:00\",\"2020-12-31T00:00:00\",\"2020-12-31T00:00:00\",\"2020-12-31T00:00:00\",\"2020-12-31T00:00:00\",\"2020-12-31T00:00:00\",\"2020-12-31T00:00:00\",\"2020-12-31T00:00:00\",\"2020-12-31T00:00:00\",\"2020-12-31T00:00:00\",\"2020-12-31T00:00:00\",\"2020-12-31T00:00:00\",\"2020-12-31T00:00:00\",\"2020-12-31T00:00:00\",\"2020-12-31T00:00:00\",\"2020-12-31T00:00:00\",\"2020-12-31T00:00:00\",\"2020-12-31T00:00:00\",\"2020-12-31T00:00:00\",\"2020-12-31T00:00:00\",\"2020-12-31T00:00:00\",\"2020-12-31T00:00:00\",\"2020-12-31T00:00:00\",\"2020-12-31T00:00:00\",\"2020-12-31T00:00:00\",\"2021-01-31T00:00:00\",\"2021-01-31T00:00:00\",\"2021-01-31T00:00:00\",\"2021-01-31T00:00:00\",\"2021-01-31T00:00:00\",\"2021-01-31T00:00:00\",\"2021-01-31T00:00:00\",\"2021-01-31T00:00:00\",\"2021-01-31T00:00:00\",\"2021-01-31T00:00:00\",\"2021-01-31T00:00:00\",\"2021-01-31T00:00:00\",\"2021-01-31T00:00:00\",\"2021-01-31T00:00:00\",\"2021-01-31T00:00:00\",\"2021-01-31T00:00:00\",\"2021-01-31T00:00:00\",\"2021-01-31T00:00:00\",\"2021-01-31T00:00:00\",\"2021-01-31T00:00:00\",\"2021-01-31T00:00:00\",\"2021-01-31T00:00:00\",\"2021-01-31T00:00:00\",\"2021-01-31T00:00:00\",\"2021-01-31T00:00:00\",\"2021-01-31T00:00:00\",\"2021-01-31T00:00:00\",\"2021-02-28T00:00:00\",\"2021-02-28T00:00:00\",\"2021-02-28T00:00:00\",\"2021-02-28T00:00:00\",\"2021-02-28T00:00:00\",\"2021-02-28T00:00:00\",\"2021-02-28T00:00:00\",\"2021-02-28T00:00:00\",\"2021-02-28T00:00:00\",\"2021-02-28T00:00:00\",\"2021-02-28T00:00:00\",\"2021-02-28T00:00:00\",\"2021-02-28T00:00:00\",\"2021-02-28T00:00:00\",\"2021-02-28T00:00:00\",\"2021-02-28T00:00:00\",\"2021-02-28T00:00:00\",\"2021-02-28T00:00:00\",\"2021-02-28T00:00:00\",\"2021-02-28T00:00:00\",\"2021-02-28T00:00:00\",\"2021-02-28T00:00:00\",\"2021-02-28T00:00:00\",\"2021-02-28T00:00:00\",\"2021-02-28T00:00:00\",\"2021-02-28T00:00:00\",\"2021-02-28T00:00:00\",\"2021-03-31T00:00:00\",\"2021-03-31T00:00:00\",\"2021-03-31T00:00:00\",\"2021-03-31T00:00:00\",\"2021-03-31T00:00:00\",\"2021-03-31T00:00:00\",\"2021-03-31T00:00:00\",\"2021-03-31T00:00:00\",\"2021-03-31T00:00:00\",\"2021-03-31T00:00:00\",\"2021-03-31T00:00:00\",\"2021-03-31T00:00:00\",\"2021-03-31T00:00:00\",\"2021-03-31T00:00:00\",\"2021-03-31T00:00:00\",\"2021-03-31T00:00:00\",\"2021-03-31T00:00:00\",\"2021-03-31T00:00:00\",\"2021-03-31T00:00:00\",\"2021-03-31T00:00:00\",\"2021-03-31T00:00:00\",\"2021-03-31T00:00:00\",\"2021-03-31T00:00:00\",\"2021-03-31T00:00:00\",\"2021-03-31T00:00:00\",\"2021-03-31T00:00:00\",\"2021-03-31T00:00:00\",\"2021-04-30T00:00:00\",\"2021-04-30T00:00:00\",\"2021-04-30T00:00:00\",\"2021-04-30T00:00:00\",\"2021-04-30T00:00:00\",\"2021-04-30T00:00:00\",\"2021-04-30T00:00:00\",\"2021-04-30T00:00:00\",\"2021-04-30T00:00:00\",\"2021-04-30T00:00:00\",\"2021-04-30T00:00:00\",\"2021-04-30T00:00:00\",\"2021-04-30T00:00:00\",\"2021-04-30T00:00:00\",\"2021-04-30T00:00:00\",\"2021-04-30T00:00:00\",\"2021-04-30T00:00:00\",\"2021-04-30T00:00:00\",\"2021-04-30T00:00:00\",\"2021-04-30T00:00:00\",\"2021-04-30T00:00:00\",\"2021-04-30T00:00:00\",\"2021-04-30T00:00:00\",\"2021-04-30T00:00:00\",\"2021-04-30T00:00:00\",\"2021-04-30T00:00:00\",\"2021-04-30T00:00:00\",\"2021-05-31T00:00:00\",\"2021-05-31T00:00:00\",\"2021-05-31T00:00:00\",\"2021-05-31T00:00:00\",\"2021-05-31T00:00:00\",\"2021-05-31T00:00:00\",\"2021-05-31T00:00:00\",\"2021-05-31T00:00:00\",\"2021-05-31T00:00:00\",\"2021-05-31T00:00:00\",\"2021-05-31T00:00:00\",\"2021-05-31T00:00:00\",\"2021-05-31T00:00:00\",\"2021-05-31T00:00:00\",\"2021-05-31T00:00:00\",\"2021-05-31T00:00:00\",\"2021-05-31T00:00:00\",\"2021-05-31T00:00:00\",\"2021-05-31T00:00:00\",\"2021-05-31T00:00:00\",\"2021-05-31T00:00:00\",\"2021-05-31T00:00:00\",\"2021-05-31T00:00:00\",\"2021-05-31T00:00:00\",\"2021-05-31T00:00:00\",\"2021-05-31T00:00:00\",\"2021-05-31T00:00:00\",\"2021-06-30T00:00:00\",\"2021-06-30T00:00:00\",\"2021-06-30T00:00:00\",\"2021-06-30T00:00:00\",\"2021-06-30T00:00:00\",\"2021-06-30T00:00:00\",\"2021-06-30T00:00:00\",\"2021-06-30T00:00:00\",\"2021-06-30T00:00:00\",\"2021-06-30T00:00:00\",\"2021-06-30T00:00:00\",\"2021-06-30T00:00:00\",\"2021-06-30T00:00:00\",\"2021-06-30T00:00:00\",\"2021-06-30T00:00:00\",\"2021-06-30T00:00:00\",\"2021-06-30T00:00:00\",\"2021-06-30T00:00:00\",\"2021-06-30T00:00:00\",\"2021-06-30T00:00:00\",\"2021-06-30T00:00:00\",\"2021-06-30T00:00:00\",\"2021-06-30T00:00:00\",\"2021-06-30T00:00:00\",\"2021-06-30T00:00:00\",\"2021-06-30T00:00:00\",\"2021-06-30T00:00:00\",\"2021-07-31T00:00:00\",\"2021-07-31T00:00:00\",\"2021-07-31T00:00:00\",\"2021-07-31T00:00:00\",\"2021-07-31T00:00:00\",\"2021-07-31T00:00:00\",\"2021-07-31T00:00:00\",\"2021-07-31T00:00:00\",\"2021-07-31T00:00:00\",\"2021-07-31T00:00:00\",\"2021-07-31T00:00:00\",\"2021-07-31T00:00:00\",\"2021-07-31T00:00:00\",\"2021-07-31T00:00:00\",\"2021-07-31T00:00:00\",\"2021-07-31T00:00:00\",\"2021-07-31T00:00:00\",\"2021-07-31T00:00:00\",\"2021-07-31T00:00:00\",\"2021-07-31T00:00:00\",\"2021-07-31T00:00:00\",\"2021-07-31T00:00:00\",\"2021-07-31T00:00:00\",\"2021-07-31T00:00:00\",\"2021-07-31T00:00:00\",\"2021-07-31T00:00:00\",\"2021-07-31T00:00:00\",\"2021-08-31T00:00:00\",\"2021-08-31T00:00:00\",\"2021-08-31T00:00:00\",\"2021-08-31T00:00:00\",\"2021-08-31T00:00:00\",\"2021-08-31T00:00:00\",\"2021-08-31T00:00:00\",\"2021-08-31T00:00:00\",\"2021-08-31T00:00:00\",\"2021-08-31T00:00:00\",\"2021-08-31T00:00:00\",\"2021-08-31T00:00:00\",\"2021-08-31T00:00:00\",\"2021-08-31T00:00:00\",\"2021-08-31T00:00:00\",\"2021-08-31T00:00:00\",\"2021-08-31T00:00:00\",\"2021-08-31T00:00:00\",\"2021-08-31T00:00:00\",\"2021-08-31T00:00:00\",\"2021-08-31T00:00:00\",\"2021-08-31T00:00:00\",\"2021-08-31T00:00:00\",\"2021-08-31T00:00:00\",\"2021-08-31T00:00:00\",\"2021-08-31T00:00:00\",\"2021-08-31T00:00:00\",\"2021-09-30T00:00:00\",\"2021-09-30T00:00:00\",\"2021-09-30T00:00:00\",\"2021-09-30T00:00:00\",\"2021-09-30T00:00:00\",\"2021-09-30T00:00:00\",\"2021-09-30T00:00:00\",\"2021-09-30T00:00:00\",\"2021-09-30T00:00:00\",\"2021-09-30T00:00:00\",\"2021-09-30T00:00:00\",\"2021-09-30T00:00:00\",\"2021-09-30T00:00:00\",\"2021-09-30T00:00:00\",\"2021-09-30T00:00:00\",\"2021-09-30T00:00:00\",\"2021-09-30T00:00:00\",\"2021-09-30T00:00:00\",\"2021-09-30T00:00:00\",\"2021-09-30T00:00:00\",\"2021-09-30T00:00:00\",\"2021-09-30T00:00:00\",\"2021-09-30T00:00:00\",\"2021-09-30T00:00:00\",\"2021-09-30T00:00:00\",\"2021-09-30T00:00:00\",\"2021-09-30T00:00:00\",\"2021-10-31T00:00:00\",\"2021-10-31T00:00:00\",\"2021-10-31T00:00:00\",\"2021-10-31T00:00:00\",\"2021-10-31T00:00:00\",\"2021-10-31T00:00:00\",\"2021-10-31T00:00:00\",\"2021-10-31T00:00:00\",\"2021-10-31T00:00:00\",\"2021-10-31T00:00:00\",\"2021-10-31T00:00:00\",\"2021-10-31T00:00:00\",\"2021-10-31T00:00:00\",\"2021-10-31T00:00:00\",\"2021-10-31T00:00:00\",\"2021-10-31T00:00:00\",\"2021-10-31T00:00:00\",\"2021-10-31T00:00:00\",\"2021-10-31T00:00:00\",\"2021-10-31T00:00:00\",\"2021-10-31T00:00:00\",\"2021-10-31T00:00:00\",\"2021-10-31T00:00:00\",\"2021-10-31T00:00:00\",\"2021-10-31T00:00:00\",\"2021-10-31T00:00:00\",\"2021-10-31T00:00:00\",\"2021-11-30T00:00:00\",\"2021-11-30T00:00:00\",\"2021-11-30T00:00:00\",\"2021-11-30T00:00:00\",\"2021-11-30T00:00:00\",\"2021-11-30T00:00:00\",\"2021-11-30T00:00:00\",\"2021-11-30T00:00:00\",\"2021-11-30T00:00:00\",\"2021-11-30T00:00:00\",\"2021-11-30T00:00:00\",\"2021-11-30T00:00:00\",\"2021-11-30T00:00:00\",\"2021-11-30T00:00:00\",\"2021-11-30T00:00:00\",\"2021-11-30T00:00:00\",\"2021-11-30T00:00:00\",\"2021-11-30T00:00:00\",\"2021-11-30T00:00:00\",\"2021-11-30T00:00:00\",\"2021-11-30T00:00:00\",\"2021-11-30T00:00:00\",\"2021-11-30T00:00:00\",\"2021-11-30T00:00:00\",\"2021-11-30T00:00:00\",\"2021-11-30T00:00:00\",\"2021-11-30T00:00:00\",\"2021-12-31T00:00:00\",\"2021-12-31T00:00:00\",\"2021-12-31T00:00:00\",\"2021-12-31T00:00:00\",\"2021-12-31T00:00:00\",\"2021-12-31T00:00:00\",\"2021-12-31T00:00:00\",\"2021-12-31T00:00:00\",\"2021-12-31T00:00:00\",\"2021-12-31T00:00:00\",\"2021-12-31T00:00:00\",\"2021-12-31T00:00:00\",\"2021-12-31T00:00:00\",\"2021-12-31T00:00:00\",\"2021-12-31T00:00:00\",\"2021-12-31T00:00:00\",\"2021-12-31T00:00:00\",\"2021-12-31T00:00:00\",\"2021-12-31T00:00:00\",\"2021-12-31T00:00:00\",\"2021-12-31T00:00:00\",\"2021-12-31T00:00:00\",\"2021-12-31T00:00:00\",\"2021-12-31T00:00:00\",\"2021-12-31T00:00:00\",\"2021-12-31T00:00:00\",\"2021-12-31T00:00:00\",\"2022-01-31T00:00:00\",\"2022-01-31T00:00:00\",\"2022-01-31T00:00:00\",\"2022-01-31T00:00:00\",\"2022-01-31T00:00:00\",\"2022-01-31T00:00:00\",\"2022-01-31T00:00:00\",\"2022-01-31T00:00:00\",\"2022-01-31T00:00:00\",\"2022-01-31T00:00:00\",\"2022-01-31T00:00:00\",\"2022-01-31T00:00:00\",\"2022-01-31T00:00:00\",\"2022-01-31T00:00:00\",\"2022-01-31T00:00:00\",\"2022-01-31T00:00:00\",\"2022-01-31T00:00:00\",\"2022-01-31T00:00:00\",\"2022-01-31T00:00:00\",\"2022-01-31T00:00:00\",\"2022-01-31T00:00:00\",\"2022-01-31T00:00:00\",\"2022-01-31T00:00:00\",\"2022-01-31T00:00:00\",\"2022-01-31T00:00:00\",\"2022-01-31T00:00:00\",\"2022-01-31T00:00:00\",\"2022-02-28T00:00:00\",\"2022-02-28T00:00:00\",\"2022-02-28T00:00:00\",\"2022-02-28T00:00:00\",\"2022-02-28T00:00:00\",\"2022-02-28T00:00:00\",\"2022-02-28T00:00:00\",\"2022-02-28T00:00:00\",\"2022-02-28T00:00:00\",\"2022-02-28T00:00:00\",\"2022-02-28T00:00:00\",\"2022-02-28T00:00:00\",\"2022-02-28T00:00:00\",\"2022-02-28T00:00:00\",\"2022-02-28T00:00:00\",\"2022-02-28T00:00:00\",\"2022-02-28T00:00:00\",\"2022-02-28T00:00:00\",\"2022-02-28T00:00:00\",\"2022-02-28T00:00:00\",\"2022-02-28T00:00:00\",\"2022-02-28T00:00:00\",\"2022-02-28T00:00:00\",\"2022-02-28T00:00:00\",\"2022-02-28T00:00:00\",\"2022-02-28T00:00:00\",\"2022-02-28T00:00:00\",\"2022-03-27T00:00:00\",\"2022-03-27T00:00:00\",\"2022-03-27T00:00:00\",\"2022-03-27T00:00:00\",\"2022-03-27T00:00:00\",\"2022-03-27T00:00:00\",\"2022-03-27T00:00:00\",\"2022-03-27T00:00:00\",\"2022-03-27T00:00:00\",\"2022-03-27T00:00:00\",\"2022-03-27T00:00:00\",\"2022-03-27T00:00:00\",\"2022-03-27T00:00:00\",\"2022-03-27T00:00:00\",\"2022-03-27T00:00:00\",\"2022-03-27T00:00:00\",\"2022-03-27T00:00:00\",\"2022-03-27T00:00:00\",\"2022-03-27T00:00:00\",\"2022-03-27T00:00:00\",\"2022-03-27T00:00:00\",\"2022-03-27T00:00:00\",\"2022-03-27T00:00:00\",\"2022-03-27T00:00:00\",\"2022-03-27T00:00:00\",\"2022-03-27T00:00:00\",\"2022-03-27T00:00:00\"],\"y\":[\"SP\",\"AC\",\"AL\",\"AM\",\"AP\",\"BA\",\"CE\",\"DF\",\"ES\",\"GO\",\"MA\",\"MG\",\"MS\",\"MT\",\"PA\",\"PB\",\"PE\",\"PI\",\"PR\",\"RJ\",\"RN\",\"RO\",\"RR\",\"RS\",\"SC\",\"SE\",\"SP\",\"TO\",\"AC\",\"AL\",\"AM\",\"AP\",\"BA\",\"CE\",\"DF\",\"ES\",\"GO\",\"MA\",\"MG\",\"MS\",\"MT\",\"PA\",\"PB\",\"PE\",\"PI\",\"PR\",\"RJ\",\"RN\",\"RO\",\"RR\",\"RS\",\"SC\",\"SE\",\"SP\",\"TO\",\"AC\",\"AL\",\"AM\",\"AP\",\"BA\",\"CE\",\"DF\",\"ES\",\"GO\",\"MA\",\"MG\",\"MS\",\"MT\",\"PA\",\"PB\",\"PE\",\"PI\",\"PR\",\"RJ\",\"RN\",\"RO\",\"RR\",\"RS\",\"SC\",\"SE\",\"SP\",\"TO\",\"AC\",\"AL\",\"AM\",\"AP\",\"BA\",\"CE\",\"DF\",\"ES\",\"GO\",\"MA\",\"MG\",\"MS\",\"MT\",\"PA\",\"PB\",\"PE\",\"PI\",\"PR\",\"RJ\",\"RN\",\"RO\",\"RR\",\"RS\",\"SC\",\"SE\",\"SP\",\"TO\",\"AC\",\"AL\",\"AM\",\"AP\",\"BA\",\"CE\",\"DF\",\"ES\",\"GO\",\"MA\",\"MG\",\"MS\",\"MT\",\"PA\",\"PB\",\"PE\",\"PI\",\"PR\",\"RJ\",\"RN\",\"RO\",\"RR\",\"RS\",\"SC\",\"SE\",\"SP\",\"TO\",\"AC\",\"AL\",\"AM\",\"AP\",\"BA\",\"CE\",\"DF\",\"ES\",\"GO\",\"MA\",\"MG\",\"MS\",\"MT\",\"PA\",\"PB\",\"PE\",\"PI\",\"PR\",\"RJ\",\"RN\",\"RO\",\"RR\",\"RS\",\"SC\",\"SE\",\"SP\",\"TO\",\"AC\",\"AL\",\"AM\",\"AP\",\"BA\",\"CE\",\"DF\",\"ES\",\"GO\",\"MA\",\"MG\",\"MS\",\"MT\",\"PA\",\"PB\",\"PE\",\"PI\",\"PR\",\"RJ\",\"RN\",\"RO\",\"RR\",\"RS\",\"SC\",\"SE\",\"SP\",\"TO\",\"AC\",\"AL\",\"AM\",\"AP\",\"BA\",\"CE\",\"DF\",\"ES\",\"GO\",\"MA\",\"MG\",\"MS\",\"MT\",\"PA\",\"PB\",\"PE\",\"PI\",\"PR\",\"RJ\",\"RN\",\"RO\",\"RR\",\"RS\",\"SC\",\"SE\",\"SP\",\"TO\",\"AC\",\"AL\",\"AM\",\"AP\",\"BA\",\"CE\",\"DF\",\"ES\",\"GO\",\"MA\",\"MG\",\"MS\",\"MT\",\"PA\",\"PB\",\"PE\",\"PI\",\"PR\",\"RJ\",\"RN\",\"RO\",\"RR\",\"RS\",\"SC\",\"SE\",\"SP\",\"TO\",\"AC\",\"AL\",\"AM\",\"AP\",\"BA\",\"CE\",\"DF\",\"ES\",\"GO\",\"MA\",\"MG\",\"MS\",\"MT\",\"PA\",\"PB\",\"PE\",\"PI\",\"PR\",\"RJ\",\"RN\",\"RO\",\"RR\",\"RS\",\"SC\",\"SE\",\"SP\",\"TO\",\"AC\",\"AL\",\"AM\",\"AP\",\"BA\",\"CE\",\"DF\",\"ES\",\"GO\",\"MA\",\"MG\",\"MS\",\"MT\",\"PA\",\"PB\",\"PE\",\"PI\",\"PR\",\"RJ\",\"RN\",\"RO\",\"RR\",\"RS\",\"SC\",\"SE\",\"SP\",\"TO\",\"AC\",\"AL\",\"AM\",\"AP\",\"BA\",\"CE\",\"DF\",\"ES\",\"GO\",\"MA\",\"MG\",\"MS\",\"MT\",\"PA\",\"PB\",\"PE\",\"PI\",\"PR\",\"RJ\",\"RN\",\"RO\",\"RR\",\"RS\",\"SC\",\"SE\",\"SP\",\"TO\",\"AC\",\"AL\",\"AM\",\"AP\",\"BA\",\"CE\",\"DF\",\"ES\",\"GO\",\"MA\",\"MG\",\"MS\",\"MT\",\"PA\",\"PB\",\"PE\",\"PI\",\"PR\",\"RJ\",\"RN\",\"RO\",\"RR\",\"RS\",\"SC\",\"SE\",\"SP\",\"TO\",\"AC\",\"AL\",\"AM\",\"AP\",\"BA\",\"CE\",\"DF\",\"ES\",\"GO\",\"MA\",\"MG\",\"MS\",\"MT\",\"PA\",\"PB\",\"PE\",\"PI\",\"PR\",\"RJ\",\"RN\",\"RO\",\"RR\",\"RS\",\"SC\",\"SE\",\"SP\",\"TO\",\"AC\",\"AL\",\"AM\",\"AP\",\"BA\",\"CE\",\"DF\",\"ES\",\"GO\",\"MA\",\"MG\",\"MS\",\"MT\",\"PA\",\"PB\",\"PE\",\"PI\",\"PR\",\"RJ\",\"RN\",\"RO\",\"RR\",\"RS\",\"SC\",\"SE\",\"SP\",\"TO\",\"AC\",\"AL\",\"AM\",\"AP\",\"BA\",\"CE\",\"DF\",\"ES\",\"GO\",\"MA\",\"MG\",\"MS\",\"MT\",\"PA\",\"PB\",\"PE\",\"PI\",\"PR\",\"RJ\",\"RN\",\"RO\",\"RR\",\"RS\",\"SC\",\"SE\",\"SP\",\"TO\",\"AC\",\"AL\",\"AM\",\"AP\",\"BA\",\"CE\",\"DF\",\"ES\",\"GO\",\"MA\",\"MG\",\"MS\",\"MT\",\"PA\",\"PB\",\"PE\",\"PI\",\"PR\",\"RJ\",\"RN\",\"RO\",\"RR\",\"RS\",\"SC\",\"SE\",\"SP\",\"TO\",\"AC\",\"AL\",\"AM\",\"AP\",\"BA\",\"CE\",\"DF\",\"ES\",\"GO\",\"MA\",\"MG\",\"MS\",\"MT\",\"PA\",\"PB\",\"PE\",\"PI\",\"PR\",\"RJ\",\"RN\",\"RO\",\"RR\",\"RS\",\"SC\",\"SE\",\"SP\",\"TO\",\"AC\",\"AL\",\"AM\",\"AP\",\"BA\",\"CE\",\"DF\",\"ES\",\"GO\",\"MA\",\"MG\",\"MS\",\"MT\",\"PA\",\"PB\",\"PE\",\"PI\",\"PR\",\"RJ\",\"RN\",\"RO\",\"RR\",\"RS\",\"SC\",\"SE\",\"SP\",\"TO\",\"AC\",\"AL\",\"AM\",\"AP\",\"BA\",\"CE\",\"DF\",\"ES\",\"GO\",\"MA\",\"MG\",\"MS\",\"MT\",\"PA\",\"PB\",\"PE\",\"PI\",\"PR\",\"RJ\",\"RN\",\"RO\",\"RR\",\"RS\",\"SC\",\"SE\",\"SP\",\"TO\",\"AC\",\"AL\",\"AM\",\"AP\",\"BA\",\"CE\",\"DF\",\"ES\",\"GO\",\"MA\",\"MG\",\"MS\",\"MT\",\"PA\",\"PB\",\"PE\",\"PI\",\"PR\",\"RJ\",\"RN\",\"RO\",\"RR\",\"RS\",\"SC\",\"SE\",\"SP\",\"TO\",\"AC\",\"AL\",\"AM\",\"AP\",\"BA\",\"CE\",\"DF\",\"ES\",\"GO\",\"MA\",\"MG\",\"MS\",\"MT\",\"PA\",\"PB\",\"PE\",\"PI\",\"PR\",\"RJ\",\"RN\",\"RO\",\"RR\",\"RS\",\"SC\",\"SE\",\"SP\",\"TO\",\"AC\",\"AL\",\"AM\",\"AP\",\"BA\",\"CE\",\"DF\",\"ES\",\"GO\",\"MA\",\"MG\",\"MS\",\"MT\",\"PA\",\"PB\",\"PE\",\"PI\",\"PR\",\"RJ\",\"RN\",\"RO\",\"RR\",\"RS\",\"SC\",\"SE\",\"SP\",\"TO\",\"AC\",\"AL\",\"AM\",\"AP\",\"BA\",\"CE\",\"DF\",\"ES\",\"GO\",\"MA\",\"MG\",\"MS\",\"MT\",\"PA\",\"PB\",\"PE\",\"PI\",\"PR\",\"RJ\",\"RN\",\"RO\",\"RR\",\"RS\",\"SC\",\"SE\",\"SP\",\"TO\",\"AC\",\"AL\",\"AM\",\"AP\",\"BA\",\"CE\",\"DF\",\"ES\",\"GO\",\"MA\",\"MG\",\"MS\",\"MT\",\"PA\",\"PB\",\"PE\",\"PI\",\"PR\",\"RJ\",\"RN\",\"RO\",\"RR\",\"RS\",\"SC\",\"SE\",\"SP\",\"TO\"],\"z\":[0.00432,4.69552,0.53707,4.15903,1.1604,1.45339,4.36481,10.89963,2.38678,0.91375,0.71684,1.29152,1.70855,0.70897,0.39122,0.44562,0.90468,0.54853,1.60634,4.07689,2.32021,0.50099,2.53493,2.67006,3.24026,0.81938,5.053,0.7546,45.16641,31.17967,124.8659,125.32303,19.20213,85.5656,46.57711,66.14089,10.97906,49.27896,8.58042,9.07669,8.56441,34.50797,22.92489,71.50121,18.28443,12.35582,54.43336,36.69891,27.94385,82.22681,13.38531,33.0093,19.53578,61.997,10.31286,695.27206,306.96309,983.38433,1114.21453,123.18298,527.79424,320.11532,336.85593,52.37898,496.12079,49.14368,55.81275,70.47206,436.798,325.85039,358.23394,155.99668,41.26132,307.42496,226.58818,275.09658,584.93522,81.69502,124.60527,301.83429,236.98332,262.60055,1481.65953,1072.99832,1683.17048,3306.20709,490.98384,1202.58802,1610.98526,1153.84843,350.17727,1130.78771,211.34507,308.82105,462.3648,1217.99685,1162.51002,612.0445,672.22717,198.63956,648.4497,904.42863,1182.93755,2400.73766,235.84928,363.37805,1095.85816,607.87223,705.6761,2194.03669,1782.01503,2398.9273,4231.74084,1112.83955,1901.16514,3479.11018,2049.48165,973.48156,1695.96371,596.94732,916.17623,1476.87892,1795.62281,2049.72325,987.92497,1598.60795,660.87573,952.97247,1462.86322,2170.49085,5184.40828,583.841,1159.22753,2532.01841,1171.55285,1593.83945,2755.48649,2351.27522,2858.93956,5012.10876,1719.46483,2339.72559,5303.89844,2737.73564,1880.86382,2131.04099,1017.04972,1773.33617,2616.54123,2312.63258,2618.73598,1305.43774,2372.6794,1145.33153,1287.73791,1760.07628,3070.09341,6924.6381,1101.40329,2451.25062,3127.79506,1737.64007,3246.60053,3155.16451,2592.20902,3311.20414,5599.38638,2079.79112,2624.97329,6292.49179,3235.44089,2969.54821,2439.54753,1386.24726,2500.14772,3518.21497,2666.5493,3002.19569,1530.38162,2951.38169,1553.36012,1524.70412,1979.67554,3668.9378,8029.55095,1668.32225,2971.08501,3339.62676,2129.27674,4314.16987,3442.93269,2708.8717,3842.53778,6054.37859,2365.31818,2984.45549,6979.85597,3831.66849,3593.79437,2611.91145,1685.89034,2940.77655,4073.42707,2912.06335,3296.35724,1693.8694,3460.20698,1853.65083,1784.94545,2306.57029,3989.29005,9095.17238,2167.3517,3570.35407,3636.58789,2411.19698,4755.54756,4053.68542,2834.03793,4235.07871,6861.55171,2699.62414,3279.06414,7500.32159,4675.16164,3934.63733,2715.12178,1955.29766,3564.86132,4508.56725,3120.88319,3596.01483,1896.7785,3891.11011,2431.95182,2040.48223,2719.05811,4483.1502,10071.91281,2819.38861,5023.70079,3887.66365,2682.37393,5154.6677,4653.03476,3127.45503,4777.24959,7914.03305,3304.6152,3657.21381,8238.58345,6108.46023,4345.37516,2824.30574,2549.74647,4796.40805,5117.40617,3380.63077,4121.6287,2310.22934,4363.24463,3617.01647,2502.84043,3367.10369,5328.75767,10885.94238,3936.57588,6791.90437,4851.817,3159.03666,5693.20005,5418.51599,3513.84422,6354.85206,8939.82522,3938.92182,4066.69001,9070.26138,7237.33358,4930.44251,2916.36998,3449.4788,5743.97895,6154.46569,3791.22849,4743.02703,2717.17062,4854.21212,4769.82401,2999.89249,4008.9809,6939.36965,11765.88015,4791.06446,7953.32425,5926.15561,3839.6924,6435.97728,6432.18889,3930.90585,7512.10752,9708.24103,4581.43305,4642.49721,9711.27758,8029.05573,5565.66773,3082.49321,4126.79652,6477.58912,7114.95596,4204.59926,5474.12322,3114.13957,5302.72926,5618.13831,3357.35146,4773.29157,8281.39786,13011.48165,5610.83354,9246.50555,6529.65169,4410.57986,7198.05967,7787.51663,4579.68166,8297.21317,11318.75796,5382.65153,5873.11365,11271.59428,9411.2969,6837.7348,3407.09342,5278.40431,7740.35255,8800.84056,4837.00764,6416.32153,3631.53544,6296.88433,7346.67669,3730.66883,5597.05051,10424.39019,14235.69467,7400.70033,11126.21548,7529.68533,5335.67636,8923.954,8698.22353,5181.55369,8811.81563,12271.67711,6033.50802,7344.17585,12398.18418,10744.96586,7766.33013,3751.58231,6383.12271,8864.296,10268.61625,5442.41029,7245.57885,4227.94035,7340.22453,8228.76761,4276.21167,6363.03059,11842.06718,15300.8408,8535.1598,12243.15416,8701.7891,6272.95494,10089.55836,9226.02211,5759.91416,9183.56143,13010.61881,6779.35043,8726.74444,13285.86593,11863.45549,8583.40573,4080.32892,7382.84252,10417.79829,11556.51094,5960.3866,8193.66931,5013.78811,8342.45523,9494.70514,4983.03341,7630.79822,12778.7983,16451.06554,9502.9814,13350.48236,10216.60999,7068.67606,11268.43109,9564.9938,6466.18587,9555.99644,13598.47663,7534.80395,9652.19395,14089.68924,12745.53082,9523.9501,4461.89651,8471.21727,11962.97137,12829.12013,6382.43327,9814.67723,5722.301,9032.17451,11155.88998,5517.61241,9715.22269,13783.05111,17846.38638,10641.00388,14511.61268,11364.04605,8052.2828,12460.32065,9742.1937,6861.31731,9903.52481,14066.11718,7994.89827,10005.39561,14734.66597,13361.19715,10440.90565,4738.37032,9235.68707,12688.21675,13904.77622,6587.47898,10448.60256,6143.37406,9442.62955,11973.77927,5941.65479,10179.94349,14352.94969,19031.14954,11975.06113,15356.86581,11827.64352,8766.3134,13227.24506,9818.43997,7034.78965,10083.40871,14206.40934,8176.42439,10139.87761,15399.28167,13853.93199,11520.19951,4906.30672,9704.4588,13130.44735,14755.99934,6723.969,10727.71191,6317.48927,9651.10255,12659.10614,6496.33607,10332.76601,14651.64824,19644.12744,12333.68056,15944.41477,11965.34275,9208.78251,13781.37247,9829.73157,7107.47259,10135.5748,14253.86964,8263.54058,10236.77431,16210.30595,14421.98574,12156.21196,5007.11354,10052.18417,13279.87459,15232.7705,6806.94233,10934.48159,6454.68923,9733.71771,13124.33793,7403.64509,10432.90282,14800.16254,19997.43338,12579.57976,16441.51218,11993.3311,9432.2638,14127.16759,9843.81813,7164.34192,10166.75563,14345.65715,8347.24098,10271.61663,16854.6935,14940.97516,12724.94426,5075.15674,10263.00323,13401.50225,15512.2766,6885.73879,11041.85229,6570.8319,9928.81261,13504.42482,7612.99442,10573.72816,15049.65321,20182.80018,12842.01582,16776.15532,12010.32248,9518.55798,14384.29729,9862.04121,7205.33796,10217.99485,14464.24987,8441.30932,10338.40592,16946.66938,15266.93064,13162.77128,5130.97156,10370.11993,13485.93327,15677.77961,7011.96503,11402.53565,6652.40941,10105.56212,13710.03678,7738.75604,10808.8615,15440.03206,20344.08514,13055.31406,16999.81606,11998.54926,9589.90919,14639.72915,9881.15867,7222.94179,10309.94502,14734.85477,8511.7484,10409.42939,17014.26019,15498.62059,13325.26421,5209.6408,10444.84049,13544.38003,15821.13425,7197.51874,11495.49783,6714.21906,10192.71792,13877.95611,7789.98777,10960.21267,15843.71486,20451.50282,13193.73687,17146.28965,12011.70249,9626.6412,14812.65815,11320.67034,7705.10777,12592.96616,17633.18182,9130.97193,12241.90041,19860.40615,20871.65715,14578.47991,5433.43419,12744.20498,15239.79905,17846.95793,7485.11204,12351.78969,7261.04315,10490.29706,17133.58004,10118.23032,12128.18304,17718.90273,22599.69803,15987.91313,19889.8394,12666.60399,10042.7349,17092.86853,13480.94402,8698.65014,13630.08512,18577.51403,10060.97933,13350.26939,22315.21278,25155.87891,16404.30784,5803.22318,15026.27243,17899.62533,20056.74632,8286.95354,14239.57802,8638.12767,11129.88651,20239.53619,11491.7441,13520.39308,20771.35032,24369.55485,18873.51043,22269.18379,13820.72449,10839.32879,18768.95931,13841.49273,8830.91758,13809.6363,18604.43527,10247.74969,13494.41712,22629.10909,25521.03172,17851.21051,5962.37482,15580.01708,18636.22546,20550.41943,8644.74795,14727.66042,9276.80315,11199.6721,20908.16578,11970.48472,14027.33036,21817.5189,24566.96257,19818.65842,23042.73753,14027.55365,11303.62799,19022.31602],\"type\":\"heatmap\"}],                        {\"template\":{\"data\":{\"histogram2dcontour\":[{\"type\":\"histogram2dcontour\",\"colorbar\":{\"outlinewidth\":0,\"ticks\":\"\"},\"colorscale\":[[0.0,\"#0d0887\"],[0.1111111111111111,\"#46039f\"],[0.2222222222222222,\"#7201a8\"],[0.3333333333333333,\"#9c179e\"],[0.4444444444444444,\"#bd3786\"],[0.5555555555555556,\"#d8576b\"],[0.6666666666666666,\"#ed7953\"],[0.7777777777777778,\"#fb9f3a\"],[0.8888888888888888,\"#fdca26\"],[1.0,\"#f0f921\"]]}],\"choropleth\":[{\"type\":\"choropleth\",\"colorbar\":{\"outlinewidth\":0,\"ticks\":\"\"}}],\"histogram2d\":[{\"type\":\"histogram2d\",\"colorbar\":{\"outlinewidth\":0,\"ticks\":\"\"},\"colorscale\":[[0.0,\"#0d0887\"],[0.1111111111111111,\"#46039f\"],[0.2222222222222222,\"#7201a8\"],[0.3333333333333333,\"#9c179e\"],[0.4444444444444444,\"#bd3786\"],[0.5555555555555556,\"#d8576b\"],[0.6666666666666666,\"#ed7953\"],[0.7777777777777778,\"#fb9f3a\"],[0.8888888888888888,\"#fdca26\"],[1.0,\"#f0f921\"]]}],\"heatmap\":[{\"type\":\"heatmap\",\"colorbar\":{\"outlinewidth\":0,\"ticks\":\"\"},\"colorscale\":[[0.0,\"#0d0887\"],[0.1111111111111111,\"#46039f\"],[0.2222222222222222,\"#7201a8\"],[0.3333333333333333,\"#9c179e\"],[0.4444444444444444,\"#bd3786\"],[0.5555555555555556,\"#d8576b\"],[0.6666666666666666,\"#ed7953\"],[0.7777777777777778,\"#fb9f3a\"],[0.8888888888888888,\"#fdca26\"],[1.0,\"#f0f921\"]]}],\"heatmapgl\":[{\"type\":\"heatmapgl\",\"colorbar\":{\"outlinewidth\":0,\"ticks\":\"\"},\"colorscale\":[[0.0,\"#0d0887\"],[0.1111111111111111,\"#46039f\"],[0.2222222222222222,\"#7201a8\"],[0.3333333333333333,\"#9c179e\"],[0.4444444444444444,\"#bd3786\"],[0.5555555555555556,\"#d8576b\"],[0.6666666666666666,\"#ed7953\"],[0.7777777777777778,\"#fb9f3a\"],[0.8888888888888888,\"#fdca26\"],[1.0,\"#f0f921\"]]}],\"contourcarpet\":[{\"type\":\"contourcarpet\",\"colorbar\":{\"outlinewidth\":0,\"ticks\":\"\"}}],\"contour\":[{\"type\":\"contour\",\"colorbar\":{\"outlinewidth\":0,\"ticks\":\"\"},\"colorscale\":[[0.0,\"#0d0887\"],[0.1111111111111111,\"#46039f\"],[0.2222222222222222,\"#7201a8\"],[0.3333333333333333,\"#9c179e\"],[0.4444444444444444,\"#bd3786\"],[0.5555555555555556,\"#d8576b\"],[0.6666666666666666,\"#ed7953\"],[0.7777777777777778,\"#fb9f3a\"],[0.8888888888888888,\"#fdca26\"],[1.0,\"#f0f921\"]]}],\"surface\":[{\"type\":\"surface\",\"colorbar\":{\"outlinewidth\":0,\"ticks\":\"\"},\"colorscale\":[[0.0,\"#0d0887\"],[0.1111111111111111,\"#46039f\"],[0.2222222222222222,\"#7201a8\"],[0.3333333333333333,\"#9c179e\"],[0.4444444444444444,\"#bd3786\"],[0.5555555555555556,\"#d8576b\"],[0.6666666666666666,\"#ed7953\"],[0.7777777777777778,\"#fb9f3a\"],[0.8888888888888888,\"#fdca26\"],[1.0,\"#f0f921\"]]}],\"mesh3d\":[{\"type\":\"mesh3d\",\"colorbar\":{\"outlinewidth\":0,\"ticks\":\"\"}}],\"scatter\":[{\"fillpattern\":{\"fillmode\":\"overlay\",\"size\":10,\"solidity\":0.2},\"type\":\"scatter\"}],\"parcoords\":[{\"type\":\"parcoords\",\"line\":{\"colorbar\":{\"outlinewidth\":0,\"ticks\":\"\"}}}],\"scatterpolargl\":[{\"type\":\"scatterpolargl\",\"marker\":{\"colorbar\":{\"outlinewidth\":0,\"ticks\":\"\"}}}],\"bar\":[{\"error_x\":{\"color\":\"#2a3f5f\"},\"error_y\":{\"color\":\"#2a3f5f\"},\"marker\":{\"line\":{\"color\":\"#E5ECF6\",\"width\":0.5},\"pattern\":{\"fillmode\":\"overlay\",\"size\":10,\"solidity\":0.2}},\"type\":\"bar\"}],\"scattergeo\":[{\"type\":\"scattergeo\",\"marker\":{\"colorbar\":{\"outlinewidth\":0,\"ticks\":\"\"}}}],\"scatterpolar\":[{\"type\":\"scatterpolar\",\"marker\":{\"colorbar\":{\"outlinewidth\":0,\"ticks\":\"\"}}}],\"histogram\":[{\"marker\":{\"pattern\":{\"fillmode\":\"overlay\",\"size\":10,\"solidity\":0.2}},\"type\":\"histogram\"}],\"scattergl\":[{\"type\":\"scattergl\",\"marker\":{\"colorbar\":{\"outlinewidth\":0,\"ticks\":\"\"}}}],\"scatter3d\":[{\"type\":\"scatter3d\",\"line\":{\"colorbar\":{\"outlinewidth\":0,\"ticks\":\"\"}},\"marker\":{\"colorbar\":{\"outlinewidth\":0,\"ticks\":\"\"}}}],\"scattermapbox\":[{\"type\":\"scattermapbox\",\"marker\":{\"colorbar\":{\"outlinewidth\":0,\"ticks\":\"\"}}}],\"scatterternary\":[{\"type\":\"scatterternary\",\"marker\":{\"colorbar\":{\"outlinewidth\":0,\"ticks\":\"\"}}}],\"scattercarpet\":[{\"type\":\"scattercarpet\",\"marker\":{\"colorbar\":{\"outlinewidth\":0,\"ticks\":\"\"}}}],\"carpet\":[{\"aaxis\":{\"endlinecolor\":\"#2a3f5f\",\"gridcolor\":\"white\",\"linecolor\":\"white\",\"minorgridcolor\":\"white\",\"startlinecolor\":\"#2a3f5f\"},\"baxis\":{\"endlinecolor\":\"#2a3f5f\",\"gridcolor\":\"white\",\"linecolor\":\"white\",\"minorgridcolor\":\"white\",\"startlinecolor\":\"#2a3f5f\"},\"type\":\"carpet\"}],\"table\":[{\"cells\":{\"fill\":{\"color\":\"#EBF0F8\"},\"line\":{\"color\":\"white\"}},\"header\":{\"fill\":{\"color\":\"#C8D4E3\"},\"line\":{\"color\":\"white\"}},\"type\":\"table\"}],\"barpolar\":[{\"marker\":{\"line\":{\"color\":\"#E5ECF6\",\"width\":0.5},\"pattern\":{\"fillmode\":\"overlay\",\"size\":10,\"solidity\":0.2}},\"type\":\"barpolar\"}],\"pie\":[{\"automargin\":true,\"type\":\"pie\"}]},\"layout\":{\"autotypenumbers\":\"strict\",\"colorway\":[\"#636efa\",\"#EF553B\",\"#00cc96\",\"#ab63fa\",\"#FFA15A\",\"#19d3f3\",\"#FF6692\",\"#B6E880\",\"#FF97FF\",\"#FECB52\"],\"font\":{\"color\":\"#2a3f5f\"},\"hovermode\":\"closest\",\"hoverlabel\":{\"align\":\"left\"},\"paper_bgcolor\":\"white\",\"plot_bgcolor\":\"#E5ECF6\",\"polar\":{\"bgcolor\":\"#E5ECF6\",\"angularaxis\":{\"gridcolor\":\"white\",\"linecolor\":\"white\",\"ticks\":\"\"},\"radialaxis\":{\"gridcolor\":\"white\",\"linecolor\":\"white\",\"ticks\":\"\"}},\"ternary\":{\"bgcolor\":\"#E5ECF6\",\"aaxis\":{\"gridcolor\":\"white\",\"linecolor\":\"white\",\"ticks\":\"\"},\"baxis\":{\"gridcolor\":\"white\",\"linecolor\":\"white\",\"ticks\":\"\"},\"caxis\":{\"gridcolor\":\"white\",\"linecolor\":\"white\",\"ticks\":\"\"}},\"coloraxis\":{\"colorbar\":{\"outlinewidth\":0,\"ticks\":\"\"}},\"colorscale\":{\"sequential\":[[0.0,\"#0d0887\"],[0.1111111111111111,\"#46039f\"],[0.2222222222222222,\"#7201a8\"],[0.3333333333333333,\"#9c179e\"],[0.4444444444444444,\"#bd3786\"],[0.5555555555555556,\"#d8576b\"],[0.6666666666666666,\"#ed7953\"],[0.7777777777777778,\"#fb9f3a\"],[0.8888888888888888,\"#fdca26\"],[1.0,\"#f0f921\"]],\"sequentialminus\":[[0.0,\"#0d0887\"],[0.1111111111111111,\"#46039f\"],[0.2222222222222222,\"#7201a8\"],[0.3333333333333333,\"#9c179e\"],[0.4444444444444444,\"#bd3786\"],[0.5555555555555556,\"#d8576b\"],[0.6666666666666666,\"#ed7953\"],[0.7777777777777778,\"#fb9f3a\"],[0.8888888888888888,\"#fdca26\"],[1.0,\"#f0f921\"]],\"diverging\":[[0,\"#8e0152\"],[0.1,\"#c51b7d\"],[0.2,\"#de77ae\"],[0.3,\"#f1b6da\"],[0.4,\"#fde0ef\"],[0.5,\"#f7f7f7\"],[0.6,\"#e6f5d0\"],[0.7,\"#b8e186\"],[0.8,\"#7fbc41\"],[0.9,\"#4d9221\"],[1,\"#276419\"]]},\"xaxis\":{\"gridcolor\":\"white\",\"linecolor\":\"white\",\"ticks\":\"\",\"title\":{\"standoff\":15},\"zerolinecolor\":\"white\",\"automargin\":true,\"zerolinewidth\":2},\"yaxis\":{\"gridcolor\":\"white\",\"linecolor\":\"white\",\"ticks\":\"\",\"title\":{\"standoff\":15},\"zerolinecolor\":\"white\",\"automargin\":true,\"zerolinewidth\":2},\"scene\":{\"xaxis\":{\"backgroundcolor\":\"#E5ECF6\",\"gridcolor\":\"white\",\"linecolor\":\"white\",\"showbackground\":true,\"ticks\":\"\",\"zerolinecolor\":\"white\",\"gridwidth\":2},\"yaxis\":{\"backgroundcolor\":\"#E5ECF6\",\"gridcolor\":\"white\",\"linecolor\":\"white\",\"showbackground\":true,\"ticks\":\"\",\"zerolinecolor\":\"white\",\"gridwidth\":2},\"zaxis\":{\"backgroundcolor\":\"#E5ECF6\",\"gridcolor\":\"white\",\"linecolor\":\"white\",\"showbackground\":true,\"ticks\":\"\",\"zerolinecolor\":\"white\",\"gridwidth\":2}},\"shapedefaults\":{\"line\":{\"color\":\"#2a3f5f\"}},\"annotationdefaults\":{\"arrowcolor\":\"#2a3f5f\",\"arrowhead\":0,\"arrowwidth\":1},\"geo\":{\"bgcolor\":\"white\",\"landcolor\":\"#E5ECF6\",\"subunitcolor\":\"white\",\"showland\":true,\"showlakes\":true,\"lakecolor\":\"white\"},\"title\":{\"x\":0.05},\"mapbox\":{\"style\":\"light\"}}},\"xaxis\":{\"nticks\":45},\"title\":{\"text\":\"COVID-19 no Brasil: Casos x Tempo\"},\"width\":1000,\"height\":700},                        {\"responsive\": true}                    ).then(function(){\n",
       "                            \n",
       "var gd = document.getElementById('e56c3cec-e3e2-4f0a-b33d-5a58cb03c532');\n",
       "var x = new MutationObserver(function (mutations, observer) {{\n",
       "        var display = window.getComputedStyle(gd).display;\n",
       "        if (!display || display === 'none') {{\n",
       "            console.log([gd, 'removed!']);\n",
       "            Plotly.purge(gd);\n",
       "            observer.disconnect();\n",
       "        }}\n",
       "}});\n",
       "\n",
       "// Listen for the removal of the full notebook cells\n",
       "var notebookContainer = gd.closest('#notebook-container');\n",
       "if (notebookContainer) {{\n",
       "    x.observe(notebookContainer, {childList: true});\n",
       "}}\n",
       "\n",
       "// Listen for the clearing of the current output cell\n",
       "var outputEl = gd.closest('.output');\n",
       "if (outputEl) {{\n",
       "    x.observe(outputEl, {childList: true});\n",
       "}}\n",
       "\n",
       "                        })                };                });            </script>        </div>"
      ]
     },
     "metadata": {},
     "output_type": "display_data"
    }
   ],
   "source": [
    "h = new_selecao.sort_values(['date','state'])\n",
    "fig = go.Figure(data=go.Heatmap(\n",
    "        z=h['confirmed_per_100k_inhabitants'],\n",
    "        x=h['date'],\n",
    "        y=h['state'],\n",
    "        colorscale='Viridis'))\n",
    "\n",
    "fig.update_layout(\n",
    "    title='COVID-19 no Brasil: Casos x Tempo', xaxis_nticks=45, width=1000, height=700)\n",
    "\n",
    "fig.show()"
   ]
  },
  {
   "cell_type": "markdown",
   "id": "e4a48224",
   "metadata": {},
   "source": [
    "### No grafico abaixo verificamos que com  o avanço da ciencia e melhora nos tratamentos o indice de mortalidade foi baixando."
   ]
  },
  {
   "cell_type": "code",
   "execution_count": 112,
   "id": "62480ca3",
   "metadata": {},
   "outputs": [
    {
     "data": {
      "application/vnd.plotly.v1+json": {
       "config": {
        "plotlyServerURL": "https://plot.ly"
       },
       "data": [
        {
         "colorscale": [
          [
           0,
           "#440154"
          ],
          [
           0.1111111111111111,
           "#482878"
          ],
          [
           0.2222222222222222,
           "#3e4989"
          ],
          [
           0.3333333333333333,
           "#31688e"
          ],
          [
           0.4444444444444444,
           "#26828e"
          ],
          [
           0.5555555555555556,
           "#1f9e89"
          ],
          [
           0.6666666666666666,
           "#35b779"
          ],
          [
           0.7777777777777778,
           "#6ece58"
          ],
          [
           0.8888888888888888,
           "#b5de2b"
          ],
          [
           1,
           "#fde725"
          ]
         ],
         "type": "heatmap",
         "x": [
          "2020-03-31T00:00:00",
          "2020-03-31T00:00:00",
          "2020-03-31T00:00:00",
          "2020-03-31T00:00:00",
          "2020-03-31T00:00:00",
          "2020-03-31T00:00:00",
          "2020-03-31T00:00:00",
          "2020-03-31T00:00:00",
          "2020-03-31T00:00:00",
          "2020-03-31T00:00:00",
          "2020-03-31T00:00:00",
          "2020-03-31T00:00:00",
          "2020-03-31T00:00:00",
          "2020-03-31T00:00:00",
          "2020-03-31T00:00:00",
          "2020-04-30T00:00:00",
          "2020-04-30T00:00:00",
          "2020-04-30T00:00:00",
          "2020-04-30T00:00:00",
          "2020-04-30T00:00:00",
          "2020-04-30T00:00:00",
          "2020-04-30T00:00:00",
          "2020-04-30T00:00:00",
          "2020-04-30T00:00:00",
          "2020-04-30T00:00:00",
          "2020-04-30T00:00:00",
          "2020-04-30T00:00:00",
          "2020-04-30T00:00:00",
          "2020-04-30T00:00:00",
          "2020-04-30T00:00:00",
          "2020-04-30T00:00:00",
          "2020-04-30T00:00:00",
          "2020-04-30T00:00:00",
          "2020-04-30T00:00:00",
          "2020-04-30T00:00:00",
          "2020-04-30T00:00:00",
          "2020-04-30T00:00:00",
          "2020-04-30T00:00:00",
          "2020-04-30T00:00:00",
          "2020-04-30T00:00:00",
          "2020-04-30T00:00:00",
          "2020-04-30T00:00:00",
          "2020-05-31T00:00:00",
          "2020-05-31T00:00:00",
          "2020-05-31T00:00:00",
          "2020-05-31T00:00:00",
          "2020-05-31T00:00:00",
          "2020-05-31T00:00:00",
          "2020-05-31T00:00:00",
          "2020-05-31T00:00:00",
          "2020-05-31T00:00:00",
          "2020-05-31T00:00:00",
          "2020-05-31T00:00:00",
          "2020-05-31T00:00:00",
          "2020-05-31T00:00:00",
          "2020-05-31T00:00:00",
          "2020-05-31T00:00:00",
          "2020-05-31T00:00:00",
          "2020-05-31T00:00:00",
          "2020-05-31T00:00:00",
          "2020-05-31T00:00:00",
          "2020-05-31T00:00:00",
          "2020-05-31T00:00:00",
          "2020-05-31T00:00:00",
          "2020-05-31T00:00:00",
          "2020-05-31T00:00:00",
          "2020-05-31T00:00:00",
          "2020-05-31T00:00:00",
          "2020-05-31T00:00:00",
          "2020-06-30T00:00:00",
          "2020-06-30T00:00:00",
          "2020-06-30T00:00:00",
          "2020-06-30T00:00:00",
          "2020-06-30T00:00:00",
          "2020-06-30T00:00:00",
          "2020-06-30T00:00:00",
          "2020-06-30T00:00:00",
          "2020-06-30T00:00:00",
          "2020-06-30T00:00:00",
          "2020-06-30T00:00:00",
          "2020-06-30T00:00:00",
          "2020-06-30T00:00:00",
          "2020-06-30T00:00:00",
          "2020-06-30T00:00:00",
          "2020-06-30T00:00:00",
          "2020-06-30T00:00:00",
          "2020-06-30T00:00:00",
          "2020-06-30T00:00:00",
          "2020-06-30T00:00:00",
          "2020-06-30T00:00:00",
          "2020-06-30T00:00:00",
          "2020-06-30T00:00:00",
          "2020-06-30T00:00:00",
          "2020-06-30T00:00:00",
          "2020-06-30T00:00:00",
          "2020-06-30T00:00:00",
          "2020-07-31T00:00:00",
          "2020-07-31T00:00:00",
          "2020-07-31T00:00:00",
          "2020-07-31T00:00:00",
          "2020-07-31T00:00:00",
          "2020-07-31T00:00:00",
          "2020-07-31T00:00:00",
          "2020-07-31T00:00:00",
          "2020-07-31T00:00:00",
          "2020-07-31T00:00:00",
          "2020-07-31T00:00:00",
          "2020-07-31T00:00:00",
          "2020-07-31T00:00:00",
          "2020-07-31T00:00:00",
          "2020-07-31T00:00:00",
          "2020-07-31T00:00:00",
          "2020-07-31T00:00:00",
          "2020-07-31T00:00:00",
          "2020-07-31T00:00:00",
          "2020-07-31T00:00:00",
          "2020-07-31T00:00:00",
          "2020-07-31T00:00:00",
          "2020-07-31T00:00:00",
          "2020-07-31T00:00:00",
          "2020-07-31T00:00:00",
          "2020-07-31T00:00:00",
          "2020-07-31T00:00:00",
          "2020-08-31T00:00:00",
          "2020-08-31T00:00:00",
          "2020-08-31T00:00:00",
          "2020-08-31T00:00:00",
          "2020-08-31T00:00:00",
          "2020-08-31T00:00:00",
          "2020-08-31T00:00:00",
          "2020-08-31T00:00:00",
          "2020-08-31T00:00:00",
          "2020-08-31T00:00:00",
          "2020-08-31T00:00:00",
          "2020-08-31T00:00:00",
          "2020-08-31T00:00:00",
          "2020-08-31T00:00:00",
          "2020-08-31T00:00:00",
          "2020-08-31T00:00:00",
          "2020-08-31T00:00:00",
          "2020-08-31T00:00:00",
          "2020-08-31T00:00:00",
          "2020-08-31T00:00:00",
          "2020-08-31T00:00:00",
          "2020-08-31T00:00:00",
          "2020-08-31T00:00:00",
          "2020-08-31T00:00:00",
          "2020-08-31T00:00:00",
          "2020-08-31T00:00:00",
          "2020-08-31T00:00:00",
          "2020-09-30T00:00:00",
          "2020-09-30T00:00:00",
          "2020-09-30T00:00:00",
          "2020-09-30T00:00:00",
          "2020-09-30T00:00:00",
          "2020-09-30T00:00:00",
          "2020-09-30T00:00:00",
          "2020-09-30T00:00:00",
          "2020-09-30T00:00:00",
          "2020-09-30T00:00:00",
          "2020-09-30T00:00:00",
          "2020-09-30T00:00:00",
          "2020-09-30T00:00:00",
          "2020-09-30T00:00:00",
          "2020-09-30T00:00:00",
          "2020-09-30T00:00:00",
          "2020-09-30T00:00:00",
          "2020-09-30T00:00:00",
          "2020-09-30T00:00:00",
          "2020-09-30T00:00:00",
          "2020-09-30T00:00:00",
          "2020-09-30T00:00:00",
          "2020-09-30T00:00:00",
          "2020-09-30T00:00:00",
          "2020-09-30T00:00:00",
          "2020-09-30T00:00:00",
          "2020-09-30T00:00:00",
          "2020-10-31T00:00:00",
          "2020-10-31T00:00:00",
          "2020-10-31T00:00:00",
          "2020-10-31T00:00:00",
          "2020-10-31T00:00:00",
          "2020-10-31T00:00:00",
          "2020-10-31T00:00:00",
          "2020-10-31T00:00:00",
          "2020-10-31T00:00:00",
          "2020-10-31T00:00:00",
          "2020-10-31T00:00:00",
          "2020-10-31T00:00:00",
          "2020-10-31T00:00:00",
          "2020-10-31T00:00:00",
          "2020-10-31T00:00:00",
          "2020-10-31T00:00:00",
          "2020-10-31T00:00:00",
          "2020-10-31T00:00:00",
          "2020-10-31T00:00:00",
          "2020-10-31T00:00:00",
          "2020-10-31T00:00:00",
          "2020-10-31T00:00:00",
          "2020-10-31T00:00:00",
          "2020-10-31T00:00:00",
          "2020-10-31T00:00:00",
          "2020-10-31T00:00:00",
          "2020-10-31T00:00:00",
          "2020-11-30T00:00:00",
          "2020-11-30T00:00:00",
          "2020-11-30T00:00:00",
          "2020-11-30T00:00:00",
          "2020-11-30T00:00:00",
          "2020-11-30T00:00:00",
          "2020-11-30T00:00:00",
          "2020-11-30T00:00:00",
          "2020-11-30T00:00:00",
          "2020-11-30T00:00:00",
          "2020-11-30T00:00:00",
          "2020-11-30T00:00:00",
          "2020-11-30T00:00:00",
          "2020-11-30T00:00:00",
          "2020-11-30T00:00:00",
          "2020-11-30T00:00:00",
          "2020-11-30T00:00:00",
          "2020-11-30T00:00:00",
          "2020-11-30T00:00:00",
          "2020-11-30T00:00:00",
          "2020-11-30T00:00:00",
          "2020-11-30T00:00:00",
          "2020-11-30T00:00:00",
          "2020-11-30T00:00:00",
          "2020-11-30T00:00:00",
          "2020-11-30T00:00:00",
          "2020-11-30T00:00:00",
          "2020-12-31T00:00:00",
          "2020-12-31T00:00:00",
          "2020-12-31T00:00:00",
          "2020-12-31T00:00:00",
          "2020-12-31T00:00:00",
          "2020-12-31T00:00:00",
          "2020-12-31T00:00:00",
          "2020-12-31T00:00:00",
          "2020-12-31T00:00:00",
          "2020-12-31T00:00:00",
          "2020-12-31T00:00:00",
          "2020-12-31T00:00:00",
          "2020-12-31T00:00:00",
          "2020-12-31T00:00:00",
          "2020-12-31T00:00:00",
          "2020-12-31T00:00:00",
          "2020-12-31T00:00:00",
          "2020-12-31T00:00:00",
          "2020-12-31T00:00:00",
          "2020-12-31T00:00:00",
          "2020-12-31T00:00:00",
          "2020-12-31T00:00:00",
          "2020-12-31T00:00:00",
          "2020-12-31T00:00:00",
          "2020-12-31T00:00:00",
          "2020-12-31T00:00:00",
          "2020-12-31T00:00:00",
          "2021-01-31T00:00:00",
          "2021-01-31T00:00:00",
          "2021-01-31T00:00:00",
          "2021-01-31T00:00:00",
          "2021-01-31T00:00:00",
          "2021-01-31T00:00:00",
          "2021-01-31T00:00:00",
          "2021-01-31T00:00:00",
          "2021-01-31T00:00:00",
          "2021-01-31T00:00:00",
          "2021-01-31T00:00:00",
          "2021-01-31T00:00:00",
          "2021-01-31T00:00:00",
          "2021-01-31T00:00:00",
          "2021-01-31T00:00:00",
          "2021-01-31T00:00:00",
          "2021-01-31T00:00:00",
          "2021-01-31T00:00:00",
          "2021-01-31T00:00:00",
          "2021-01-31T00:00:00",
          "2021-01-31T00:00:00",
          "2021-01-31T00:00:00",
          "2021-01-31T00:00:00",
          "2021-01-31T00:00:00",
          "2021-01-31T00:00:00",
          "2021-01-31T00:00:00",
          "2021-01-31T00:00:00",
          "2021-02-28T00:00:00",
          "2021-02-28T00:00:00",
          "2021-02-28T00:00:00",
          "2021-02-28T00:00:00",
          "2021-02-28T00:00:00",
          "2021-02-28T00:00:00",
          "2021-02-28T00:00:00",
          "2021-02-28T00:00:00",
          "2021-02-28T00:00:00",
          "2021-02-28T00:00:00",
          "2021-02-28T00:00:00",
          "2021-02-28T00:00:00",
          "2021-02-28T00:00:00",
          "2021-02-28T00:00:00",
          "2021-02-28T00:00:00",
          "2021-02-28T00:00:00",
          "2021-02-28T00:00:00",
          "2021-02-28T00:00:00",
          "2021-02-28T00:00:00",
          "2021-02-28T00:00:00",
          "2021-02-28T00:00:00",
          "2021-02-28T00:00:00",
          "2021-02-28T00:00:00",
          "2021-02-28T00:00:00",
          "2021-02-28T00:00:00",
          "2021-02-28T00:00:00",
          "2021-02-28T00:00:00",
          "2021-03-31T00:00:00",
          "2021-03-31T00:00:00",
          "2021-03-31T00:00:00",
          "2021-03-31T00:00:00",
          "2021-03-31T00:00:00",
          "2021-03-31T00:00:00",
          "2021-03-31T00:00:00",
          "2021-03-31T00:00:00",
          "2021-03-31T00:00:00",
          "2021-03-31T00:00:00",
          "2021-03-31T00:00:00",
          "2021-03-31T00:00:00",
          "2021-03-31T00:00:00",
          "2021-03-31T00:00:00",
          "2021-03-31T00:00:00",
          "2021-03-31T00:00:00",
          "2021-03-31T00:00:00",
          "2021-03-31T00:00:00",
          "2021-03-31T00:00:00",
          "2021-03-31T00:00:00",
          "2021-03-31T00:00:00",
          "2021-03-31T00:00:00",
          "2021-03-31T00:00:00",
          "2021-03-31T00:00:00",
          "2021-03-31T00:00:00",
          "2021-03-31T00:00:00",
          "2021-03-31T00:00:00",
          "2021-04-30T00:00:00",
          "2021-04-30T00:00:00",
          "2021-04-30T00:00:00",
          "2021-04-30T00:00:00",
          "2021-04-30T00:00:00",
          "2021-04-30T00:00:00",
          "2021-04-30T00:00:00",
          "2021-04-30T00:00:00",
          "2021-04-30T00:00:00",
          "2021-04-30T00:00:00",
          "2021-04-30T00:00:00",
          "2021-04-30T00:00:00",
          "2021-04-30T00:00:00",
          "2021-04-30T00:00:00",
          "2021-04-30T00:00:00",
          "2021-04-30T00:00:00",
          "2021-04-30T00:00:00",
          "2021-04-30T00:00:00",
          "2021-04-30T00:00:00",
          "2021-04-30T00:00:00",
          "2021-04-30T00:00:00",
          "2021-04-30T00:00:00",
          "2021-04-30T00:00:00",
          "2021-04-30T00:00:00",
          "2021-04-30T00:00:00",
          "2021-04-30T00:00:00",
          "2021-04-30T00:00:00",
          "2021-05-31T00:00:00",
          "2021-05-31T00:00:00",
          "2021-05-31T00:00:00",
          "2021-05-31T00:00:00",
          "2021-05-31T00:00:00",
          "2021-05-31T00:00:00",
          "2021-05-31T00:00:00",
          "2021-05-31T00:00:00",
          "2021-05-31T00:00:00",
          "2021-05-31T00:00:00",
          "2021-05-31T00:00:00",
          "2021-05-31T00:00:00",
          "2021-05-31T00:00:00",
          "2021-05-31T00:00:00",
          "2021-05-31T00:00:00",
          "2021-05-31T00:00:00",
          "2021-05-31T00:00:00",
          "2021-05-31T00:00:00",
          "2021-05-31T00:00:00",
          "2021-05-31T00:00:00",
          "2021-05-31T00:00:00",
          "2021-05-31T00:00:00",
          "2021-05-31T00:00:00",
          "2021-05-31T00:00:00",
          "2021-05-31T00:00:00",
          "2021-05-31T00:00:00",
          "2021-05-31T00:00:00",
          "2021-06-30T00:00:00",
          "2021-06-30T00:00:00",
          "2021-06-30T00:00:00",
          "2021-06-30T00:00:00",
          "2021-06-30T00:00:00",
          "2021-06-30T00:00:00",
          "2021-06-30T00:00:00",
          "2021-06-30T00:00:00",
          "2021-06-30T00:00:00",
          "2021-06-30T00:00:00",
          "2021-06-30T00:00:00",
          "2021-06-30T00:00:00",
          "2021-06-30T00:00:00",
          "2021-06-30T00:00:00",
          "2021-06-30T00:00:00",
          "2021-06-30T00:00:00",
          "2021-06-30T00:00:00",
          "2021-06-30T00:00:00",
          "2021-06-30T00:00:00",
          "2021-06-30T00:00:00",
          "2021-06-30T00:00:00",
          "2021-06-30T00:00:00",
          "2021-06-30T00:00:00",
          "2021-06-30T00:00:00",
          "2021-06-30T00:00:00",
          "2021-06-30T00:00:00",
          "2021-06-30T00:00:00",
          "2021-07-31T00:00:00",
          "2021-07-31T00:00:00",
          "2021-07-31T00:00:00",
          "2021-07-31T00:00:00",
          "2021-07-31T00:00:00",
          "2021-07-31T00:00:00",
          "2021-07-31T00:00:00",
          "2021-07-31T00:00:00",
          "2021-07-31T00:00:00",
          "2021-07-31T00:00:00",
          "2021-07-31T00:00:00",
          "2021-07-31T00:00:00",
          "2021-07-31T00:00:00",
          "2021-07-31T00:00:00",
          "2021-07-31T00:00:00",
          "2021-07-31T00:00:00",
          "2021-07-31T00:00:00",
          "2021-07-31T00:00:00",
          "2021-07-31T00:00:00",
          "2021-07-31T00:00:00",
          "2021-07-31T00:00:00",
          "2021-07-31T00:00:00",
          "2021-07-31T00:00:00",
          "2021-07-31T00:00:00",
          "2021-07-31T00:00:00",
          "2021-07-31T00:00:00",
          "2021-07-31T00:00:00",
          "2021-08-31T00:00:00",
          "2021-08-31T00:00:00",
          "2021-08-31T00:00:00",
          "2021-08-31T00:00:00",
          "2021-08-31T00:00:00",
          "2021-08-31T00:00:00",
          "2021-08-31T00:00:00",
          "2021-08-31T00:00:00",
          "2021-08-31T00:00:00",
          "2021-08-31T00:00:00",
          "2021-08-31T00:00:00",
          "2021-08-31T00:00:00",
          "2021-08-31T00:00:00",
          "2021-08-31T00:00:00",
          "2021-08-31T00:00:00",
          "2021-08-31T00:00:00",
          "2021-08-31T00:00:00",
          "2021-08-31T00:00:00",
          "2021-08-31T00:00:00",
          "2021-08-31T00:00:00",
          "2021-08-31T00:00:00",
          "2021-08-31T00:00:00",
          "2021-08-31T00:00:00",
          "2021-08-31T00:00:00",
          "2021-08-31T00:00:00",
          "2021-08-31T00:00:00",
          "2021-08-31T00:00:00",
          "2021-09-30T00:00:00",
          "2021-09-30T00:00:00",
          "2021-09-30T00:00:00",
          "2021-09-30T00:00:00",
          "2021-09-30T00:00:00",
          "2021-09-30T00:00:00",
          "2021-09-30T00:00:00",
          "2021-09-30T00:00:00",
          "2021-09-30T00:00:00",
          "2021-09-30T00:00:00",
          "2021-09-30T00:00:00",
          "2021-09-30T00:00:00",
          "2021-09-30T00:00:00",
          "2021-09-30T00:00:00",
          "2021-09-30T00:00:00",
          "2021-09-30T00:00:00",
          "2021-09-30T00:00:00",
          "2021-09-30T00:00:00",
          "2021-09-30T00:00:00",
          "2021-09-30T00:00:00",
          "2021-09-30T00:00:00",
          "2021-09-30T00:00:00",
          "2021-09-30T00:00:00",
          "2021-09-30T00:00:00",
          "2021-09-30T00:00:00",
          "2021-09-30T00:00:00",
          "2021-09-30T00:00:00",
          "2021-10-31T00:00:00",
          "2021-10-31T00:00:00",
          "2021-10-31T00:00:00",
          "2021-10-31T00:00:00",
          "2021-10-31T00:00:00",
          "2021-10-31T00:00:00",
          "2021-10-31T00:00:00",
          "2021-10-31T00:00:00",
          "2021-10-31T00:00:00",
          "2021-10-31T00:00:00",
          "2021-10-31T00:00:00",
          "2021-10-31T00:00:00",
          "2021-10-31T00:00:00",
          "2021-10-31T00:00:00",
          "2021-10-31T00:00:00",
          "2021-10-31T00:00:00",
          "2021-10-31T00:00:00",
          "2021-10-31T00:00:00",
          "2021-10-31T00:00:00",
          "2021-10-31T00:00:00",
          "2021-10-31T00:00:00",
          "2021-10-31T00:00:00",
          "2021-10-31T00:00:00",
          "2021-10-31T00:00:00",
          "2021-10-31T00:00:00",
          "2021-10-31T00:00:00",
          "2021-10-31T00:00:00",
          "2021-11-30T00:00:00",
          "2021-11-30T00:00:00",
          "2021-11-30T00:00:00",
          "2021-11-30T00:00:00",
          "2021-11-30T00:00:00",
          "2021-11-30T00:00:00",
          "2021-11-30T00:00:00",
          "2021-11-30T00:00:00",
          "2021-11-30T00:00:00",
          "2021-11-30T00:00:00",
          "2021-11-30T00:00:00",
          "2021-11-30T00:00:00",
          "2021-11-30T00:00:00",
          "2021-11-30T00:00:00",
          "2021-11-30T00:00:00",
          "2021-11-30T00:00:00",
          "2021-11-30T00:00:00",
          "2021-11-30T00:00:00",
          "2021-11-30T00:00:00",
          "2021-11-30T00:00:00",
          "2021-11-30T00:00:00",
          "2021-11-30T00:00:00",
          "2021-11-30T00:00:00",
          "2021-11-30T00:00:00",
          "2021-11-30T00:00:00",
          "2021-11-30T00:00:00",
          "2021-11-30T00:00:00",
          "2021-12-31T00:00:00",
          "2021-12-31T00:00:00",
          "2021-12-31T00:00:00",
          "2021-12-31T00:00:00",
          "2021-12-31T00:00:00",
          "2021-12-31T00:00:00",
          "2021-12-31T00:00:00",
          "2021-12-31T00:00:00",
          "2021-12-31T00:00:00",
          "2021-12-31T00:00:00",
          "2021-12-31T00:00:00",
          "2021-12-31T00:00:00",
          "2021-12-31T00:00:00",
          "2021-12-31T00:00:00",
          "2021-12-31T00:00:00",
          "2021-12-31T00:00:00",
          "2021-12-31T00:00:00",
          "2021-12-31T00:00:00",
          "2021-12-31T00:00:00",
          "2021-12-31T00:00:00",
          "2021-12-31T00:00:00",
          "2021-12-31T00:00:00",
          "2021-12-31T00:00:00",
          "2021-12-31T00:00:00",
          "2021-12-31T00:00:00",
          "2021-12-31T00:00:00",
          "2021-12-31T00:00:00",
          "2022-01-31T00:00:00",
          "2022-01-31T00:00:00",
          "2022-01-31T00:00:00",
          "2022-01-31T00:00:00",
          "2022-01-31T00:00:00",
          "2022-01-31T00:00:00",
          "2022-01-31T00:00:00",
          "2022-01-31T00:00:00",
          "2022-01-31T00:00:00",
          "2022-01-31T00:00:00",
          "2022-01-31T00:00:00",
          "2022-01-31T00:00:00",
          "2022-01-31T00:00:00",
          "2022-01-31T00:00:00",
          "2022-01-31T00:00:00",
          "2022-01-31T00:00:00",
          "2022-01-31T00:00:00",
          "2022-01-31T00:00:00",
          "2022-01-31T00:00:00",
          "2022-01-31T00:00:00",
          "2022-01-31T00:00:00",
          "2022-01-31T00:00:00",
          "2022-01-31T00:00:00",
          "2022-01-31T00:00:00",
          "2022-01-31T00:00:00",
          "2022-01-31T00:00:00",
          "2022-01-31T00:00:00",
          "2022-02-28T00:00:00",
          "2022-02-28T00:00:00",
          "2022-02-28T00:00:00",
          "2022-02-28T00:00:00",
          "2022-02-28T00:00:00",
          "2022-02-28T00:00:00",
          "2022-02-28T00:00:00",
          "2022-02-28T00:00:00",
          "2022-02-28T00:00:00",
          "2022-02-28T00:00:00",
          "2022-02-28T00:00:00",
          "2022-02-28T00:00:00",
          "2022-02-28T00:00:00",
          "2022-02-28T00:00:00",
          "2022-02-28T00:00:00",
          "2022-02-28T00:00:00",
          "2022-02-28T00:00:00",
          "2022-02-28T00:00:00",
          "2022-02-28T00:00:00",
          "2022-02-28T00:00:00",
          "2022-02-28T00:00:00",
          "2022-02-28T00:00:00",
          "2022-02-28T00:00:00",
          "2022-02-28T00:00:00",
          "2022-02-28T00:00:00",
          "2022-02-28T00:00:00",
          "2022-02-28T00:00:00",
          "2022-03-27T00:00:00",
          "2022-03-27T00:00:00",
          "2022-03-27T00:00:00",
          "2022-03-27T00:00:00",
          "2022-03-27T00:00:00",
          "2022-03-27T00:00:00",
          "2022-03-27T00:00:00",
          "2022-03-27T00:00:00",
          "2022-03-27T00:00:00",
          "2022-03-27T00:00:00",
          "2022-03-27T00:00:00",
          "2022-03-27T00:00:00",
          "2022-03-27T00:00:00",
          "2022-03-27T00:00:00",
          "2022-03-27T00:00:00",
          "2022-03-27T00:00:00",
          "2022-03-27T00:00:00",
          "2022-03-27T00:00:00",
          "2022-03-27T00:00:00",
          "2022-03-27T00:00:00",
          "2022-03-27T00:00:00",
          "2022-03-27T00:00:00",
          "2022-03-27T00:00:00",
          "2022-03-27T00:00:00",
          "2022-03-27T00:00:00",
          "2022-03-27T00:00:00",
          "2022-03-27T00:00:00"
         ],
         "y": [
          "AM",
          "BA",
          "CE",
          "DF",
          "ES",
          "GO",
          "MA",
          "MG",
          "PE",
          "PR",
          "RJ",
          "RN",
          "RS",
          "SC",
          "SP",
          "AC",
          "AL",
          "AM",
          "AP",
          "BA",
          "CE",
          "DF",
          "ES",
          "GO",
          "MA",
          "MG",
          "MS",
          "MT",
          "PA",
          "PB",
          "PE",
          "PI",
          "PR",
          "RJ",
          "RN",
          "RO",
          "RR",
          "RS",
          "SC",
          "SE",
          "SP",
          "TO",
          "AC",
          "AL",
          "AM",
          "AP",
          "BA",
          "CE",
          "DF",
          "ES",
          "GO",
          "MA",
          "MG",
          "MS",
          "MT",
          "PA",
          "PB",
          "PE",
          "PI",
          "PR",
          "RJ",
          "RN",
          "RO",
          "RR",
          "RS",
          "SC",
          "SE",
          "SP",
          "TO",
          "AC",
          "AL",
          "AM",
          "AP",
          "BA",
          "CE",
          "DF",
          "ES",
          "GO",
          "MA",
          "MG",
          "MS",
          "MT",
          "PA",
          "PB",
          "PE",
          "PI",
          "PR",
          "RJ",
          "RN",
          "RO",
          "RR",
          "RS",
          "SC",
          "SE",
          "SP",
          "TO",
          "AC",
          "AL",
          "AM",
          "AP",
          "BA",
          "CE",
          "DF",
          "ES",
          "GO",
          "MA",
          "MG",
          "MS",
          "MT",
          "PA",
          "PB",
          "PE",
          "PI",
          "PR",
          "RJ",
          "RN",
          "RO",
          "RR",
          "RS",
          "SC",
          "SE",
          "SP",
          "TO",
          "AC",
          "AL",
          "AM",
          "AP",
          "BA",
          "CE",
          "DF",
          "ES",
          "GO",
          "MA",
          "MG",
          "MS",
          "MT",
          "PA",
          "PB",
          "PE",
          "PI",
          "PR",
          "RJ",
          "RN",
          "RO",
          "RR",
          "RS",
          "SC",
          "SE",
          "SP",
          "TO",
          "AC",
          "AL",
          "AM",
          "AP",
          "BA",
          "CE",
          "DF",
          "ES",
          "GO",
          "MA",
          "MG",
          "MS",
          "MT",
          "PA",
          "PB",
          "PE",
          "PI",
          "PR",
          "RJ",
          "RN",
          "RO",
          "RR",
          "RS",
          "SC",
          "SE",
          "SP",
          "TO",
          "AC",
          "AL",
          "AM",
          "AP",
          "BA",
          "CE",
          "DF",
          "ES",
          "GO",
          "MA",
          "MG",
          "MS",
          "MT",
          "PA",
          "PB",
          "PE",
          "PI",
          "PR",
          "RJ",
          "RN",
          "RO",
          "RR",
          "RS",
          "SC",
          "SE",
          "SP",
          "TO",
          "AC",
          "AL",
          "AM",
          "AP",
          "BA",
          "CE",
          "DF",
          "ES",
          "GO",
          "MA",
          "MG",
          "MS",
          "MT",
          "PA",
          "PB",
          "PE",
          "PI",
          "PR",
          "RJ",
          "RN",
          "RO",
          "RR",
          "RS",
          "SC",
          "SE",
          "SP",
          "TO",
          "AC",
          "AL",
          "AM",
          "AP",
          "BA",
          "CE",
          "DF",
          "ES",
          "GO",
          "MA",
          "MG",
          "MS",
          "MT",
          "PA",
          "PB",
          "PE",
          "PI",
          "PR",
          "RJ",
          "RN",
          "RO",
          "RR",
          "RS",
          "SC",
          "SE",
          "SP",
          "TO",
          "AC",
          "AL",
          "AM",
          "AP",
          "BA",
          "CE",
          "DF",
          "ES",
          "GO",
          "MA",
          "MG",
          "MS",
          "MT",
          "PA",
          "PB",
          "PE",
          "PI",
          "PR",
          "RJ",
          "RN",
          "RO",
          "RR",
          "RS",
          "SC",
          "SE",
          "SP",
          "TO",
          "AC",
          "AL",
          "AM",
          "AP",
          "BA",
          "CE",
          "DF",
          "ES",
          "GO",
          "MA",
          "MG",
          "MS",
          "MT",
          "PA",
          "PB",
          "PE",
          "PI",
          "PR",
          "RJ",
          "RN",
          "RO",
          "RR",
          "RS",
          "SC",
          "SE",
          "SP",
          "TO",
          "AC",
          "AL",
          "AM",
          "AP",
          "BA",
          "CE",
          "DF",
          "ES",
          "GO",
          "MA",
          "MG",
          "MS",
          "MT",
          "PA",
          "PB",
          "PE",
          "PI",
          "PR",
          "RJ",
          "RN",
          "RO",
          "RR",
          "RS",
          "SC",
          "SE",
          "SP",
          "TO",
          "AC",
          "AL",
          "AM",
          "AP",
          "BA",
          "CE",
          "DF",
          "ES",
          "GO",
          "MA",
          "MG",
          "MS",
          "MT",
          "PA",
          "PB",
          "PE",
          "PI",
          "PR",
          "RJ",
          "RN",
          "RO",
          "RR",
          "RS",
          "SC",
          "SE",
          "SP",
          "TO",
          "AC",
          "AL",
          "AM",
          "AP",
          "BA",
          "CE",
          "DF",
          "ES",
          "GO",
          "MA",
          "MG",
          "MS",
          "MT",
          "PA",
          "PB",
          "PE",
          "PI",
          "PR",
          "RJ",
          "RN",
          "RO",
          "RR",
          "RS",
          "SC",
          "SE",
          "SP",
          "TO",
          "AC",
          "AL",
          "AM",
          "AP",
          "BA",
          "CE",
          "DF",
          "ES",
          "GO",
          "MA",
          "MG",
          "MS",
          "MT",
          "PA",
          "PB",
          "PE",
          "PI",
          "PR",
          "RJ",
          "RN",
          "RO",
          "RR",
          "RS",
          "SC",
          "SE",
          "SP",
          "TO",
          "AC",
          "AL",
          "AM",
          "AP",
          "BA",
          "CE",
          "DF",
          "ES",
          "GO",
          "MA",
          "MG",
          "MS",
          "MT",
          "PA",
          "PB",
          "PE",
          "PI",
          "PR",
          "RJ",
          "RN",
          "RO",
          "RR",
          "RS",
          "SC",
          "SE",
          "SP",
          "TO",
          "AC",
          "AL",
          "AM",
          "AP",
          "BA",
          "CE",
          "DF",
          "ES",
          "GO",
          "MA",
          "MG",
          "MS",
          "MT",
          "PA",
          "PB",
          "PE",
          "PI",
          "PR",
          "RJ",
          "RN",
          "RO",
          "RR",
          "RS",
          "SC",
          "SE",
          "SP",
          "TO",
          "AC",
          "AL",
          "AM",
          "AP",
          "BA",
          "CE",
          "DF",
          "ES",
          "GO",
          "MA",
          "MG",
          "MS",
          "MT",
          "PA",
          "PB",
          "PE",
          "PI",
          "PR",
          "RJ",
          "RN",
          "RO",
          "RR",
          "RS",
          "SC",
          "SE",
          "SP",
          "TO",
          "AC",
          "AL",
          "AM",
          "AP",
          "BA",
          "CE",
          "DF",
          "ES",
          "GO",
          "MA",
          "MG",
          "MS",
          "MT",
          "PA",
          "PB",
          "PE",
          "PI",
          "PR",
          "RJ",
          "RN",
          "RO",
          "RR",
          "RS",
          "SC",
          "SE",
          "SP",
          "TO",
          "AC",
          "AL",
          "AM",
          "AP",
          "BA",
          "CE",
          "DF",
          "ES",
          "GO",
          "MA",
          "MG",
          "MS",
          "MT",
          "PA",
          "PB",
          "PE",
          "PI",
          "PR",
          "RJ",
          "RN",
          "RO",
          "RR",
          "RS",
          "SC",
          "SE",
          "SP",
          "TO",
          "AC",
          "AL",
          "AM",
          "AP",
          "BA",
          "CE",
          "DF",
          "ES",
          "GO",
          "MA",
          "MG",
          "MS",
          "MT",
          "PA",
          "PB",
          "PE",
          "PI",
          "PR",
          "RJ",
          "RN",
          "RO",
          "RR",
          "RS",
          "SC",
          "SE",
          "SP",
          "TO",
          "AC",
          "AL",
          "AM",
          "AP",
          "BA",
          "CE",
          "DF",
          "ES",
          "GO",
          "MA",
          "MG",
          "MS",
          "MT",
          "PA",
          "PB",
          "PE",
          "PI",
          "PR",
          "RJ",
          "RN",
          "RO",
          "RR",
          "RS",
          "SC",
          "SE",
          "SP",
          "TO",
          "AC",
          "AL",
          "AM",
          "AP",
          "BA",
          "CE",
          "DF",
          "ES",
          "GO",
          "MA",
          "MG",
          "MS",
          "MT",
          "PA",
          "PB",
          "PE",
          "PI",
          "PR",
          "RJ",
          "RN",
          "RO",
          "RR",
          "RS",
          "SC",
          "SE",
          "SP",
          "TO",
          "AC",
          "AL",
          "AM",
          "AP",
          "BA",
          "CE",
          "DF",
          "ES",
          "GO",
          "MA",
          "MG",
          "MS",
          "MT",
          "PA",
          "PB",
          "PE",
          "PI",
          "PR",
          "RJ",
          "RN",
          "RO",
          "RR",
          "RS",
          "SC",
          "SE",
          "SP",
          "TO"
         ],
         "z": [
          0.0171,
          0.0092,
          0.0175,
          0.009,
          0,
          0.0154,
          0.0196,
          0.0073,
          0.069,
          0.0162,
          0.0325,
          0.0122,
          0.0131,
          0.0085,
          0.0581,
          0.047,
          0.045,
          0.0809,
          0.0315,
          0.037,
          0.0626,
          0.0211,
          0.0346,
          0.0371,
          0.0582,
          0.0449,
          0.0353,
          0.0364,
          0.0747,
          0.0724,
          0.0822,
          0.04,
          0.0618,
          0.0903,
          0.0432,
          0.0319,
          0.0135,
          0.0379,
          0.0201,
          0.0309,
          0.0828,
          0.0183,
          0.0238,
          0.0431,
          0.0496,
          0.0231,
          0.0363,
          0.0621,
          0.0174,
          0.0441,
          0.0333,
          0.0277,
          0.0259,
          0.0128,
          0.0254,
          0.077,
          0.0274,
          0.0815,
          0.0328,
          0.0394,
          0.1001,
          0.0403,
          0.0316,
          0.0314,
          0.024,
          0.0158,
          0.0226,
          0.0694,
          0.0175,
          0.0275,
          0.0293,
          0.0399,
          0.0146,
          0.0253,
          0.0556,
          0.0119,
          0.0351,
          0.0197,
          0.0255,
          0.0214,
          0.0098,
          0.0386,
          0.0469,
          0.0208,
          0.082,
          0.0311,
          0.0284,
          0.0895,
          0.0335,
          0.0244,
          0.0207,
          0.0228,
          0.0129,
          0.0266,
          0.0525,
          0.0182,
          0.0271,
          0.0262,
          0.0324,
          0.0155,
          0.0208,
          0.044,
          0.0138,
          0.0305,
          0.0242,
          0.025,
          0.0218,
          0.0151,
          0.0354,
          0.0368,
          0.0219,
          0.069,
          0.0258,
          0.0252,
          0.0814,
          0.0365,
          0.0224,
          0.0157,
          0.0281,
          0.0131,
          0.0244,
          0.0424,
          0.0154,
          0.0248,
          0.0239,
          0.0303,
          0.0153,
          0.021,
          0.0391,
          0.0156,
          0.0284,
          0.0236,
          0.0227,
          0.0246,
          0.0178,
          0.0305,
          0.0307,
          0.0232,
          0.0605,
          0.0237,
          0.0249,
          0.0718,
          0.0365,
          0.0208,
          0.0136,
          0.0273,
          0.0127,
          0.0256,
          0.0373,
          0.0133,
          0.0234,
          0.0238,
          0.029,
          0.0147,
          0.0217,
          0.0373,
          0.0169,
          0.027,
          0.0223,
          0.0216,
          0.0249,
          0.0187,
          0.0279,
          0.0284,
          0.0233,
          0.0561,
          0.022,
          0.0251,
          0.0698,
          0.0343,
          0.0206,
          0.0129,
          0.0251,
          0.013,
          0.0263,
          0.0361,
          0.0138,
          0.0225,
          0.0247,
          0.0281,
          0.0143,
          0.0216,
          0.0341,
          0.0173,
          0.0248,
          0.0225,
          0.0218,
          0.0251,
          0.0194,
          0.0268,
          0.0267,
          0.0233,
          0.053,
          0.0212,
          0.0244,
          0.0665,
          0.0317,
          0.0203,
          0.0121,
          0.0234,
          0.012,
          0.0262,
          0.0352,
          0.0145,
          0.0199,
          0.0246,
          0.0275,
          0.0136,
          0.0205,
          0.032,
          0.0172,
          0.0225,
          0.0228,
          0.0222,
          0.0241,
          0.0178,
          0.0261,
          0.0255,
          0.0227,
          0.0495,
          0.0206,
          0.022,
          0.0637,
          0.0282,
          0.0194,
          0.0115,
          0.0212,
          0.0103,
          0.0256,
          0.0339,
          0.0142,
          0.0191,
          0.0237,
          0.0263,
          0.0136,
          0.0185,
          0.0297,
          0.0169,
          0.0205,
          0.022,
          0.0224,
          0.0219,
          0.0174,
          0.025,
          0.0245,
          0.0221,
          0.0435,
          0.0198,
          0.0191,
          0.0587,
          0.0253,
          0.019,
          0.0115,
          0.0197,
          0.0107,
          0.0221,
          0.0319,
          0.0137,
          0.0179,
          0.0233,
          0.0304,
          0.0137,
          0.0172,
          0.028,
          0.0164,
          0.0199,
          0.0213,
          0.0226,
          0.0205,
          0.0181,
          0.0236,
          0.0232,
          0.0212,
          0.0396,
          0.0192,
          0.0183,
          0.0572,
          0.0233,
          0.018,
          0.0115,
          0.0195,
          0.011,
          0.0202,
          0.0298,
          0.0135,
          0.0173,
          0.0228,
          0.0344,
          0.0136,
          0.0173,
          0.0265,
          0.0163,
          0.0196,
          0.0215,
          0.023,
          0.0211,
          0.0183,
          0.0231,
          0.0237,
          0.0203,
          0.0367,
          0.0193,
          0.018,
          0.0567,
          0.0215,
          0.0192,
          0.0134,
          0.0193,
          0.011,
          0.0196,
          0.0291,
          0.0134,
          0.0181,
          0.0232,
          0.0344,
          0.0133,
          0.0191,
          0.0262,
          0.0175,
          0.0196,
          0.0241,
          0.025,
          0.0216,
          0.0199,
          0.0247,
          0.025,
          0.0222,
          0.0349,
          0.02,
          0.0198,
          0.0567,
          0.023,
          0.0221,
          0.015,
          0.0233,
          0.0135,
          0.0201,
          0.0302,
          0.0145,
          0.0197,
          0.0243,
          0.0341,
          0.0146,
          0.0205,
          0.0263,
          0.0206,
          0.0218,
          0.0272,
          0.0273,
          0.0248,
          0.0231,
          0.027,
          0.0277,
          0.0232,
          0.0345,
          0.0213,
          0.0236,
          0.0598,
          0.0245,
          0.0243,
          0.0157,
          0.0256,
          0.0152,
          0.0212,
          0.0331,
          0.0159,
          0.0201,
          0.0246,
          0.0336,
          0.0151,
          0.021,
          0.0255,
          0.0214,
          0.0224,
          0.0281,
          0.028,
          0.0258,
          0.0235,
          0.0269,
          0.028,
          0.0232,
          0.0329,
          0.0217,
          0.0242,
          0.0585,
          0.0228,
          0.0251,
          0.0158,
          0.026,
          0.0158,
          0.0215,
          0.034,
          0.0161,
          0.0203,
          0.0246,
          0.0331,
          0.0157,
          0.0213,
          0.0255,
          0.0215,
          0.0222,
          0.0284,
          0.0285,
          0.0256,
          0.0245,
          0.0266,
          0.0279,
          0.0217,
          0.0321,
          0.0223,
          0.0239,
          0.0579,
          0.0198,
          0.0248,
          0.0155,
          0.0258,
          0.016,
          0.0216,
          0.0343,
          0.0163,
          0.0206,
          0.0253,
          0.0325,
          0.0157,
          0.0216,
          0.0256,
          0.0214,
          0.0219,
          0.028,
          0.0286,
          0.0257,
          0.0251,
          0.0261,
          0.028,
          0.0213,
          0.0318,
          0.0221,
          0.0255,
          0.0574,
          0.0197,
          0.0247,
          0.0155,
          0.0244,
          0.0161,
          0.0215,
          0.0343,
          0.0167,
          0.0207,
          0.0258,
          0.0323,
          0.016,
          0.0217,
          0.0258,
          0.0214,
          0.0218,
          0.0274,
          0.0287,
          0.0256,
          0.0254,
          0.0259,
          0.0282,
          0.0212,
          0.0319,
          0.0219,
          0.0257,
          0.0554,
          0.0199,
          0.0246,
          0.0157,
          0.0243,
          0.0162,
          0.0216,
          0.0342,
          0.0168,
          0.0209,
          0.0261,
          0.0322,
          0.0161,
          0.0218,
          0.0258,
          0.0211,
          0.0214,
          0.0272,
          0.0286,
          0.0255,
          0.0256,
          0.0257,
          0.0282,
          0.0211,
          0.0318,
          0.022,
          0.0259,
          0.0514,
          0.0199,
          0.0246,
          0.0159,
          0.0243,
          0.0162,
          0.0216,
          0.0343,
          0.0169,
          0.021,
          0.0262,
          0.0322,
          0.0161,
          0.0217,
          0.026,
          0.0211,
          0.0213,
          0.0267,
          0.0284,
          0.0254,
          0.0256,
          0.0255,
          0.028,
          0.0211,
          0.0317,
          0.0218,
          0.026,
          0.0517,
          0.0198,
          0.0243,
          0.0159,
          0.0242,
          0.0162,
          0.0217,
          0.0345,
          0.017,
          0.0209,
          0.0263,
          0.0321,
          0.0161,
          0.0217,
          0.026,
          0.0213,
          0.0212,
          0.0262,
          0.0282,
          0.0255,
          0.0256,
          0.0253,
          0.0278,
          0.0207,
          0.0316,
          0.0217,
          0.0258,
          0.0514,
          0.0196,
          0.0239,
          0.016,
          0.0242,
          0.0162,
          0.0217,
          0.0347,
          0.0168,
          0.0209,
          0.0264,
          0.0319,
          0.0159,
          0.0216,
          0.0259,
          0.0214,
          0.0212,
          0.0261,
          0.028,
          0.0255,
          0.0256,
          0.0252,
          0.0273,
          0.0207,
          0.0317,
          0.0218,
          0.0256,
          0.0513,
          0.0195,
          0.0237,
          0.0161,
          0.0242,
          0.0162,
          0.0217,
          0.0348,
          0.0167,
          0.0185,
          0.0249,
          0.0263,
          0.0135,
          0.0205,
          0.0224,
          0.0184,
          0.0159,
          0.0241,
          0.0271,
          0.0211,
          0.0231,
          0.0227,
          0.0267,
          0.0195,
          0.0296,
          0.0215,
          0.0209,
          0.0398,
          0.0181,
          0.0215,
          0.0147,
          0.0202,
          0.0143,
          0.0208,
          0.034,
          0.0147,
          0.0164,
          0.0229,
          0.0246,
          0.0131,
          0.0194,
          0.0214,
          0.0167,
          0.0138,
          0.0221,
          0.0261,
          0.0186,
          0.0206,
          0.0208,
          0.0247,
          0.0175,
          0.0254,
          0.021,
          0.0182,
          0.036,
          0.0169,
          0.0189,
          0.0139,
          0.0178,
          0.0132,
          0.0195,
          0.0328,
          0.0138,
          0.0161,
          0.0232,
          0.0244,
          0.0132,
          0.0194,
          0.0215,
          0.0167,
          0.0138,
          0.0206,
          0.0256,
          0.0183,
          0.02,
          0.0205,
          0.0241,
          0.0171,
          0.0239,
          0.021,
          0.0178,
          0.035,
          0.0164,
          0.0183,
          0.0138,
          0.0172,
          0.013,
          0.0194,
          0.0319,
          0.0137
         ]
        }
       ],
       "layout": {
        "height": 700,
        "template": {
         "data": {
          "bar": [
           {
            "error_x": {
             "color": "#2a3f5f"
            },
            "error_y": {
             "color": "#2a3f5f"
            },
            "marker": {
             "line": {
              "color": "#E5ECF6",
              "width": 0.5
             },
             "pattern": {
              "fillmode": "overlay",
              "size": 10,
              "solidity": 0.2
             }
            },
            "type": "bar"
           }
          ],
          "barpolar": [
           {
            "marker": {
             "line": {
              "color": "#E5ECF6",
              "width": 0.5
             },
             "pattern": {
              "fillmode": "overlay",
              "size": 10,
              "solidity": 0.2
             }
            },
            "type": "barpolar"
           }
          ],
          "carpet": [
           {
            "aaxis": {
             "endlinecolor": "#2a3f5f",
             "gridcolor": "white",
             "linecolor": "white",
             "minorgridcolor": "white",
             "startlinecolor": "#2a3f5f"
            },
            "baxis": {
             "endlinecolor": "#2a3f5f",
             "gridcolor": "white",
             "linecolor": "white",
             "minorgridcolor": "white",
             "startlinecolor": "#2a3f5f"
            },
            "type": "carpet"
           }
          ],
          "choropleth": [
           {
            "colorbar": {
             "outlinewidth": 0,
             "ticks": ""
            },
            "type": "choropleth"
           }
          ],
          "contour": [
           {
            "colorbar": {
             "outlinewidth": 0,
             "ticks": ""
            },
            "colorscale": [
             [
              0,
              "#0d0887"
             ],
             [
              0.1111111111111111,
              "#46039f"
             ],
             [
              0.2222222222222222,
              "#7201a8"
             ],
             [
              0.3333333333333333,
              "#9c179e"
             ],
             [
              0.4444444444444444,
              "#bd3786"
             ],
             [
              0.5555555555555556,
              "#d8576b"
             ],
             [
              0.6666666666666666,
              "#ed7953"
             ],
             [
              0.7777777777777778,
              "#fb9f3a"
             ],
             [
              0.8888888888888888,
              "#fdca26"
             ],
             [
              1,
              "#f0f921"
             ]
            ],
            "type": "contour"
           }
          ],
          "contourcarpet": [
           {
            "colorbar": {
             "outlinewidth": 0,
             "ticks": ""
            },
            "type": "contourcarpet"
           }
          ],
          "heatmap": [
           {
            "colorbar": {
             "outlinewidth": 0,
             "ticks": ""
            },
            "colorscale": [
             [
              0,
              "#0d0887"
             ],
             [
              0.1111111111111111,
              "#46039f"
             ],
             [
              0.2222222222222222,
              "#7201a8"
             ],
             [
              0.3333333333333333,
              "#9c179e"
             ],
             [
              0.4444444444444444,
              "#bd3786"
             ],
             [
              0.5555555555555556,
              "#d8576b"
             ],
             [
              0.6666666666666666,
              "#ed7953"
             ],
             [
              0.7777777777777778,
              "#fb9f3a"
             ],
             [
              0.8888888888888888,
              "#fdca26"
             ],
             [
              1,
              "#f0f921"
             ]
            ],
            "type": "heatmap"
           }
          ],
          "heatmapgl": [
           {
            "colorbar": {
             "outlinewidth": 0,
             "ticks": ""
            },
            "colorscale": [
             [
              0,
              "#0d0887"
             ],
             [
              0.1111111111111111,
              "#46039f"
             ],
             [
              0.2222222222222222,
              "#7201a8"
             ],
             [
              0.3333333333333333,
              "#9c179e"
             ],
             [
              0.4444444444444444,
              "#bd3786"
             ],
             [
              0.5555555555555556,
              "#d8576b"
             ],
             [
              0.6666666666666666,
              "#ed7953"
             ],
             [
              0.7777777777777778,
              "#fb9f3a"
             ],
             [
              0.8888888888888888,
              "#fdca26"
             ],
             [
              1,
              "#f0f921"
             ]
            ],
            "type": "heatmapgl"
           }
          ],
          "histogram": [
           {
            "marker": {
             "pattern": {
              "fillmode": "overlay",
              "size": 10,
              "solidity": 0.2
             }
            },
            "type": "histogram"
           }
          ],
          "histogram2d": [
           {
            "colorbar": {
             "outlinewidth": 0,
             "ticks": ""
            },
            "colorscale": [
             [
              0,
              "#0d0887"
             ],
             [
              0.1111111111111111,
              "#46039f"
             ],
             [
              0.2222222222222222,
              "#7201a8"
             ],
             [
              0.3333333333333333,
              "#9c179e"
             ],
             [
              0.4444444444444444,
              "#bd3786"
             ],
             [
              0.5555555555555556,
              "#d8576b"
             ],
             [
              0.6666666666666666,
              "#ed7953"
             ],
             [
              0.7777777777777778,
              "#fb9f3a"
             ],
             [
              0.8888888888888888,
              "#fdca26"
             ],
             [
              1,
              "#f0f921"
             ]
            ],
            "type": "histogram2d"
           }
          ],
          "histogram2dcontour": [
           {
            "colorbar": {
             "outlinewidth": 0,
             "ticks": ""
            },
            "colorscale": [
             [
              0,
              "#0d0887"
             ],
             [
              0.1111111111111111,
              "#46039f"
             ],
             [
              0.2222222222222222,
              "#7201a8"
             ],
             [
              0.3333333333333333,
              "#9c179e"
             ],
             [
              0.4444444444444444,
              "#bd3786"
             ],
             [
              0.5555555555555556,
              "#d8576b"
             ],
             [
              0.6666666666666666,
              "#ed7953"
             ],
             [
              0.7777777777777778,
              "#fb9f3a"
             ],
             [
              0.8888888888888888,
              "#fdca26"
             ],
             [
              1,
              "#f0f921"
             ]
            ],
            "type": "histogram2dcontour"
           }
          ],
          "mesh3d": [
           {
            "colorbar": {
             "outlinewidth": 0,
             "ticks": ""
            },
            "type": "mesh3d"
           }
          ],
          "parcoords": [
           {
            "line": {
             "colorbar": {
              "outlinewidth": 0,
              "ticks": ""
             }
            },
            "type": "parcoords"
           }
          ],
          "pie": [
           {
            "automargin": true,
            "type": "pie"
           }
          ],
          "scatter": [
           {
            "fillpattern": {
             "fillmode": "overlay",
             "size": 10,
             "solidity": 0.2
            },
            "type": "scatter"
           }
          ],
          "scatter3d": [
           {
            "line": {
             "colorbar": {
              "outlinewidth": 0,
              "ticks": ""
             }
            },
            "marker": {
             "colorbar": {
              "outlinewidth": 0,
              "ticks": ""
             }
            },
            "type": "scatter3d"
           }
          ],
          "scattercarpet": [
           {
            "marker": {
             "colorbar": {
              "outlinewidth": 0,
              "ticks": ""
             }
            },
            "type": "scattercarpet"
           }
          ],
          "scattergeo": [
           {
            "marker": {
             "colorbar": {
              "outlinewidth": 0,
              "ticks": ""
             }
            },
            "type": "scattergeo"
           }
          ],
          "scattergl": [
           {
            "marker": {
             "colorbar": {
              "outlinewidth": 0,
              "ticks": ""
             }
            },
            "type": "scattergl"
           }
          ],
          "scattermapbox": [
           {
            "marker": {
             "colorbar": {
              "outlinewidth": 0,
              "ticks": ""
             }
            },
            "type": "scattermapbox"
           }
          ],
          "scatterpolar": [
           {
            "marker": {
             "colorbar": {
              "outlinewidth": 0,
              "ticks": ""
             }
            },
            "type": "scatterpolar"
           }
          ],
          "scatterpolargl": [
           {
            "marker": {
             "colorbar": {
              "outlinewidth": 0,
              "ticks": ""
             }
            },
            "type": "scatterpolargl"
           }
          ],
          "scatterternary": [
           {
            "marker": {
             "colorbar": {
              "outlinewidth": 0,
              "ticks": ""
             }
            },
            "type": "scatterternary"
           }
          ],
          "surface": [
           {
            "colorbar": {
             "outlinewidth": 0,
             "ticks": ""
            },
            "colorscale": [
             [
              0,
              "#0d0887"
             ],
             [
              0.1111111111111111,
              "#46039f"
             ],
             [
              0.2222222222222222,
              "#7201a8"
             ],
             [
              0.3333333333333333,
              "#9c179e"
             ],
             [
              0.4444444444444444,
              "#bd3786"
             ],
             [
              0.5555555555555556,
              "#d8576b"
             ],
             [
              0.6666666666666666,
              "#ed7953"
             ],
             [
              0.7777777777777778,
              "#fb9f3a"
             ],
             [
              0.8888888888888888,
              "#fdca26"
             ],
             [
              1,
              "#f0f921"
             ]
            ],
            "type": "surface"
           }
          ],
          "table": [
           {
            "cells": {
             "fill": {
              "color": "#EBF0F8"
             },
             "line": {
              "color": "white"
             }
            },
            "header": {
             "fill": {
              "color": "#C8D4E3"
             },
             "line": {
              "color": "white"
             }
            },
            "type": "table"
           }
          ]
         },
         "layout": {
          "annotationdefaults": {
           "arrowcolor": "#2a3f5f",
           "arrowhead": 0,
           "arrowwidth": 1
          },
          "autotypenumbers": "strict",
          "coloraxis": {
           "colorbar": {
            "outlinewidth": 0,
            "ticks": ""
           }
          },
          "colorscale": {
           "diverging": [
            [
             0,
             "#8e0152"
            ],
            [
             0.1,
             "#c51b7d"
            ],
            [
             0.2,
             "#de77ae"
            ],
            [
             0.3,
             "#f1b6da"
            ],
            [
             0.4,
             "#fde0ef"
            ],
            [
             0.5,
             "#f7f7f7"
            ],
            [
             0.6,
             "#e6f5d0"
            ],
            [
             0.7,
             "#b8e186"
            ],
            [
             0.8,
             "#7fbc41"
            ],
            [
             0.9,
             "#4d9221"
            ],
            [
             1,
             "#276419"
            ]
           ],
           "sequential": [
            [
             0,
             "#0d0887"
            ],
            [
             0.1111111111111111,
             "#46039f"
            ],
            [
             0.2222222222222222,
             "#7201a8"
            ],
            [
             0.3333333333333333,
             "#9c179e"
            ],
            [
             0.4444444444444444,
             "#bd3786"
            ],
            [
             0.5555555555555556,
             "#d8576b"
            ],
            [
             0.6666666666666666,
             "#ed7953"
            ],
            [
             0.7777777777777778,
             "#fb9f3a"
            ],
            [
             0.8888888888888888,
             "#fdca26"
            ],
            [
             1,
             "#f0f921"
            ]
           ],
           "sequentialminus": [
            [
             0,
             "#0d0887"
            ],
            [
             0.1111111111111111,
             "#46039f"
            ],
            [
             0.2222222222222222,
             "#7201a8"
            ],
            [
             0.3333333333333333,
             "#9c179e"
            ],
            [
             0.4444444444444444,
             "#bd3786"
            ],
            [
             0.5555555555555556,
             "#d8576b"
            ],
            [
             0.6666666666666666,
             "#ed7953"
            ],
            [
             0.7777777777777778,
             "#fb9f3a"
            ],
            [
             0.8888888888888888,
             "#fdca26"
            ],
            [
             1,
             "#f0f921"
            ]
           ]
          },
          "colorway": [
           "#636efa",
           "#EF553B",
           "#00cc96",
           "#ab63fa",
           "#FFA15A",
           "#19d3f3",
           "#FF6692",
           "#B6E880",
           "#FF97FF",
           "#FECB52"
          ],
          "font": {
           "color": "#2a3f5f"
          },
          "geo": {
           "bgcolor": "white",
           "lakecolor": "white",
           "landcolor": "#E5ECF6",
           "showlakes": true,
           "showland": true,
           "subunitcolor": "white"
          },
          "hoverlabel": {
           "align": "left"
          },
          "hovermode": "closest",
          "mapbox": {
           "style": "light"
          },
          "paper_bgcolor": "white",
          "plot_bgcolor": "#E5ECF6",
          "polar": {
           "angularaxis": {
            "gridcolor": "white",
            "linecolor": "white",
            "ticks": ""
           },
           "bgcolor": "#E5ECF6",
           "radialaxis": {
            "gridcolor": "white",
            "linecolor": "white",
            "ticks": ""
           }
          },
          "scene": {
           "xaxis": {
            "backgroundcolor": "#E5ECF6",
            "gridcolor": "white",
            "gridwidth": 2,
            "linecolor": "white",
            "showbackground": true,
            "ticks": "",
            "zerolinecolor": "white"
           },
           "yaxis": {
            "backgroundcolor": "#E5ECF6",
            "gridcolor": "white",
            "gridwidth": 2,
            "linecolor": "white",
            "showbackground": true,
            "ticks": "",
            "zerolinecolor": "white"
           },
           "zaxis": {
            "backgroundcolor": "#E5ECF6",
            "gridcolor": "white",
            "gridwidth": 2,
            "linecolor": "white",
            "showbackground": true,
            "ticks": "",
            "zerolinecolor": "white"
           }
          },
          "shapedefaults": {
           "line": {
            "color": "#2a3f5f"
           }
          },
          "ternary": {
           "aaxis": {
            "gridcolor": "white",
            "linecolor": "white",
            "ticks": ""
           },
           "baxis": {
            "gridcolor": "white",
            "linecolor": "white",
            "ticks": ""
           },
           "bgcolor": "#E5ECF6",
           "caxis": {
            "gridcolor": "white",
            "linecolor": "white",
            "ticks": ""
           }
          },
          "title": {
           "x": 0.05
          },
          "xaxis": {
           "automargin": true,
           "gridcolor": "white",
           "linecolor": "white",
           "ticks": "",
           "title": {
            "standoff": 15
           },
           "zerolinecolor": "white",
           "zerolinewidth": 2
          },
          "yaxis": {
           "automargin": true,
           "gridcolor": "white",
           "linecolor": "white",
           "ticks": "",
           "title": {
            "standoff": 15
           },
           "zerolinecolor": "white",
           "zerolinewidth": 2
          }
         }
        },
        "title": {
         "text": "COVID-19 no Brasil: Indice de mortalidade x Tempo"
        },
        "width": 1000,
        "xaxis": {
         "nticks": 45
        }
       }
      },
      "text/html": [
       "<div>                            <div id=\"75a1069c-9f5c-48bd-b297-c3ca84827285\" class=\"plotly-graph-div\" style=\"height:700px; width:1000px;\"></div>            <script type=\"text/javascript\">                require([\"plotly\"], function(Plotly) {                    window.PLOTLYENV=window.PLOTLYENV || {};                                    if (document.getElementById(\"75a1069c-9f5c-48bd-b297-c3ca84827285\")) {                    Plotly.newPlot(                        \"75a1069c-9f5c-48bd-b297-c3ca84827285\",                        [{\"colorscale\":[[0.0,\"#440154\"],[0.1111111111111111,\"#482878\"],[0.2222222222222222,\"#3e4989\"],[0.3333333333333333,\"#31688e\"],[0.4444444444444444,\"#26828e\"],[0.5555555555555556,\"#1f9e89\"],[0.6666666666666666,\"#35b779\"],[0.7777777777777778,\"#6ece58\"],[0.8888888888888888,\"#b5de2b\"],[1.0,\"#fde725\"]],\"x\":[\"2020-03-31T00:00:00\",\"2020-03-31T00:00:00\",\"2020-03-31T00:00:00\",\"2020-03-31T00:00:00\",\"2020-03-31T00:00:00\",\"2020-03-31T00:00:00\",\"2020-03-31T00:00:00\",\"2020-03-31T00:00:00\",\"2020-03-31T00:00:00\",\"2020-03-31T00:00:00\",\"2020-03-31T00:00:00\",\"2020-03-31T00:00:00\",\"2020-03-31T00:00:00\",\"2020-03-31T00:00:00\",\"2020-03-31T00:00:00\",\"2020-04-30T00:00:00\",\"2020-04-30T00:00:00\",\"2020-04-30T00:00:00\",\"2020-04-30T00:00:00\",\"2020-04-30T00:00:00\",\"2020-04-30T00:00:00\",\"2020-04-30T00:00:00\",\"2020-04-30T00:00:00\",\"2020-04-30T00:00:00\",\"2020-04-30T00:00:00\",\"2020-04-30T00:00:00\",\"2020-04-30T00:00:00\",\"2020-04-30T00:00:00\",\"2020-04-30T00:00:00\",\"2020-04-30T00:00:00\",\"2020-04-30T00:00:00\",\"2020-04-30T00:00:00\",\"2020-04-30T00:00:00\",\"2020-04-30T00:00:00\",\"2020-04-30T00:00:00\",\"2020-04-30T00:00:00\",\"2020-04-30T00:00:00\",\"2020-04-30T00:00:00\",\"2020-04-30T00:00:00\",\"2020-04-30T00:00:00\",\"2020-04-30T00:00:00\",\"2020-04-30T00:00:00\",\"2020-05-31T00:00:00\",\"2020-05-31T00:00:00\",\"2020-05-31T00:00:00\",\"2020-05-31T00:00:00\",\"2020-05-31T00:00:00\",\"2020-05-31T00:00:00\",\"2020-05-31T00:00:00\",\"2020-05-31T00:00:00\",\"2020-05-31T00:00:00\",\"2020-05-31T00:00:00\",\"2020-05-31T00:00:00\",\"2020-05-31T00:00:00\",\"2020-05-31T00:00:00\",\"2020-05-31T00:00:00\",\"2020-05-31T00:00:00\",\"2020-05-31T00:00:00\",\"2020-05-31T00:00:00\",\"2020-05-31T00:00:00\",\"2020-05-31T00:00:00\",\"2020-05-31T00:00:00\",\"2020-05-31T00:00:00\",\"2020-05-31T00:00:00\",\"2020-05-31T00:00:00\",\"2020-05-31T00:00:00\",\"2020-05-31T00:00:00\",\"2020-05-31T00:00:00\",\"2020-05-31T00:00:00\",\"2020-06-30T00:00:00\",\"2020-06-30T00:00:00\",\"2020-06-30T00:00:00\",\"2020-06-30T00:00:00\",\"2020-06-30T00:00:00\",\"2020-06-30T00:00:00\",\"2020-06-30T00:00:00\",\"2020-06-30T00:00:00\",\"2020-06-30T00:00:00\",\"2020-06-30T00:00:00\",\"2020-06-30T00:00:00\",\"2020-06-30T00:00:00\",\"2020-06-30T00:00:00\",\"2020-06-30T00:00:00\",\"2020-06-30T00:00:00\",\"2020-06-30T00:00:00\",\"2020-06-30T00:00:00\",\"2020-06-30T00:00:00\",\"2020-06-30T00:00:00\",\"2020-06-30T00:00:00\",\"2020-06-30T00:00:00\",\"2020-06-30T00:00:00\",\"2020-06-30T00:00:00\",\"2020-06-30T00:00:00\",\"2020-06-30T00:00:00\",\"2020-06-30T00:00:00\",\"2020-06-30T00:00:00\",\"2020-07-31T00:00:00\",\"2020-07-31T00:00:00\",\"2020-07-31T00:00:00\",\"2020-07-31T00:00:00\",\"2020-07-31T00:00:00\",\"2020-07-31T00:00:00\",\"2020-07-31T00:00:00\",\"2020-07-31T00:00:00\",\"2020-07-31T00:00:00\",\"2020-07-31T00:00:00\",\"2020-07-31T00:00:00\",\"2020-07-31T00:00:00\",\"2020-07-31T00:00:00\",\"2020-07-31T00:00:00\",\"2020-07-31T00:00:00\",\"2020-07-31T00:00:00\",\"2020-07-31T00:00:00\",\"2020-07-31T00:00:00\",\"2020-07-31T00:00:00\",\"2020-07-31T00:00:00\",\"2020-07-31T00:00:00\",\"2020-07-31T00:00:00\",\"2020-07-31T00:00:00\",\"2020-07-31T00:00:00\",\"2020-07-31T00:00:00\",\"2020-07-31T00:00:00\",\"2020-07-31T00:00:00\",\"2020-08-31T00:00:00\",\"2020-08-31T00:00:00\",\"2020-08-31T00:00:00\",\"2020-08-31T00:00:00\",\"2020-08-31T00:00:00\",\"2020-08-31T00:00:00\",\"2020-08-31T00:00:00\",\"2020-08-31T00:00:00\",\"2020-08-31T00:00:00\",\"2020-08-31T00:00:00\",\"2020-08-31T00:00:00\",\"2020-08-31T00:00:00\",\"2020-08-31T00:00:00\",\"2020-08-31T00:00:00\",\"2020-08-31T00:00:00\",\"2020-08-31T00:00:00\",\"2020-08-31T00:00:00\",\"2020-08-31T00:00:00\",\"2020-08-31T00:00:00\",\"2020-08-31T00:00:00\",\"2020-08-31T00:00:00\",\"2020-08-31T00:00:00\",\"2020-08-31T00:00:00\",\"2020-08-31T00:00:00\",\"2020-08-31T00:00:00\",\"2020-08-31T00:00:00\",\"2020-08-31T00:00:00\",\"2020-09-30T00:00:00\",\"2020-09-30T00:00:00\",\"2020-09-30T00:00:00\",\"2020-09-30T00:00:00\",\"2020-09-30T00:00:00\",\"2020-09-30T00:00:00\",\"2020-09-30T00:00:00\",\"2020-09-30T00:00:00\",\"2020-09-30T00:00:00\",\"2020-09-30T00:00:00\",\"2020-09-30T00:00:00\",\"2020-09-30T00:00:00\",\"2020-09-30T00:00:00\",\"2020-09-30T00:00:00\",\"2020-09-30T00:00:00\",\"2020-09-30T00:00:00\",\"2020-09-30T00:00:00\",\"2020-09-30T00:00:00\",\"2020-09-30T00:00:00\",\"2020-09-30T00:00:00\",\"2020-09-30T00:00:00\",\"2020-09-30T00:00:00\",\"2020-09-30T00:00:00\",\"2020-09-30T00:00:00\",\"2020-09-30T00:00:00\",\"2020-09-30T00:00:00\",\"2020-09-30T00:00:00\",\"2020-10-31T00:00:00\",\"2020-10-31T00:00:00\",\"2020-10-31T00:00:00\",\"2020-10-31T00:00:00\",\"2020-10-31T00:00:00\",\"2020-10-31T00:00:00\",\"2020-10-31T00:00:00\",\"2020-10-31T00:00:00\",\"2020-10-31T00:00:00\",\"2020-10-31T00:00:00\",\"2020-10-31T00:00:00\",\"2020-10-31T00:00:00\",\"2020-10-31T00:00:00\",\"2020-10-31T00:00:00\",\"2020-10-31T00:00:00\",\"2020-10-31T00:00:00\",\"2020-10-31T00:00:00\",\"2020-10-31T00:00:00\",\"2020-10-31T00:00:00\",\"2020-10-31T00:00:00\",\"2020-10-31T00:00:00\",\"2020-10-31T00:00:00\",\"2020-10-31T00:00:00\",\"2020-10-31T00:00:00\",\"2020-10-31T00:00:00\",\"2020-10-31T00:00:00\",\"2020-10-31T00:00:00\",\"2020-11-30T00:00:00\",\"2020-11-30T00:00:00\",\"2020-11-30T00:00:00\",\"2020-11-30T00:00:00\",\"2020-11-30T00:00:00\",\"2020-11-30T00:00:00\",\"2020-11-30T00:00:00\",\"2020-11-30T00:00:00\",\"2020-11-30T00:00:00\",\"2020-11-30T00:00:00\",\"2020-11-30T00:00:00\",\"2020-11-30T00:00:00\",\"2020-11-30T00:00:00\",\"2020-11-30T00:00:00\",\"2020-11-30T00:00:00\",\"2020-11-30T00:00:00\",\"2020-11-30T00:00:00\",\"2020-11-30T00:00:00\",\"2020-11-30T00:00:00\",\"2020-11-30T00:00:00\",\"2020-11-30T00:00:00\",\"2020-11-30T00:00:00\",\"2020-11-30T00:00:00\",\"2020-11-30T00:00:00\",\"2020-11-30T00:00:00\",\"2020-11-30T00:00:00\",\"2020-11-30T00:00:00\",\"2020-12-31T00:00:00\",\"2020-12-31T00:00:00\",\"2020-12-31T00:00:00\",\"2020-12-31T00:00:00\",\"2020-12-31T00:00:00\",\"2020-12-31T00:00:00\",\"2020-12-31T00:00:00\",\"2020-12-31T00:00:00\",\"2020-12-31T00:00:00\",\"2020-12-31T00:00:00\",\"2020-12-31T00:00:00\",\"2020-12-31T00:00:00\",\"2020-12-31T00:00:00\",\"2020-12-31T00:00:00\",\"2020-12-31T00:00:00\",\"2020-12-31T00:00:00\",\"2020-12-31T00:00:00\",\"2020-12-31T00:00:00\",\"2020-12-31T00:00:00\",\"2020-12-31T00:00:00\",\"2020-12-31T00:00:00\",\"2020-12-31T00:00:00\",\"2020-12-31T00:00:00\",\"2020-12-31T00:00:00\",\"2020-12-31T00:00:00\",\"2020-12-31T00:00:00\",\"2020-12-31T00:00:00\",\"2021-01-31T00:00:00\",\"2021-01-31T00:00:00\",\"2021-01-31T00:00:00\",\"2021-01-31T00:00:00\",\"2021-01-31T00:00:00\",\"2021-01-31T00:00:00\",\"2021-01-31T00:00:00\",\"2021-01-31T00:00:00\",\"2021-01-31T00:00:00\",\"2021-01-31T00:00:00\",\"2021-01-31T00:00:00\",\"2021-01-31T00:00:00\",\"2021-01-31T00:00:00\",\"2021-01-31T00:00:00\",\"2021-01-31T00:00:00\",\"2021-01-31T00:00:00\",\"2021-01-31T00:00:00\",\"2021-01-31T00:00:00\",\"2021-01-31T00:00:00\",\"2021-01-31T00:00:00\",\"2021-01-31T00:00:00\",\"2021-01-31T00:00:00\",\"2021-01-31T00:00:00\",\"2021-01-31T00:00:00\",\"2021-01-31T00:00:00\",\"2021-01-31T00:00:00\",\"2021-01-31T00:00:00\",\"2021-02-28T00:00:00\",\"2021-02-28T00:00:00\",\"2021-02-28T00:00:00\",\"2021-02-28T00:00:00\",\"2021-02-28T00:00:00\",\"2021-02-28T00:00:00\",\"2021-02-28T00:00:00\",\"2021-02-28T00:00:00\",\"2021-02-28T00:00:00\",\"2021-02-28T00:00:00\",\"2021-02-28T00:00:00\",\"2021-02-28T00:00:00\",\"2021-02-28T00:00:00\",\"2021-02-28T00:00:00\",\"2021-02-28T00:00:00\",\"2021-02-28T00:00:00\",\"2021-02-28T00:00:00\",\"2021-02-28T00:00:00\",\"2021-02-28T00:00:00\",\"2021-02-28T00:00:00\",\"2021-02-28T00:00:00\",\"2021-02-28T00:00:00\",\"2021-02-28T00:00:00\",\"2021-02-28T00:00:00\",\"2021-02-28T00:00:00\",\"2021-02-28T00:00:00\",\"2021-02-28T00:00:00\",\"2021-03-31T00:00:00\",\"2021-03-31T00:00:00\",\"2021-03-31T00:00:00\",\"2021-03-31T00:00:00\",\"2021-03-31T00:00:00\",\"2021-03-31T00:00:00\",\"2021-03-31T00:00:00\",\"2021-03-31T00:00:00\",\"2021-03-31T00:00:00\",\"2021-03-31T00:00:00\",\"2021-03-31T00:00:00\",\"2021-03-31T00:00:00\",\"2021-03-31T00:00:00\",\"2021-03-31T00:00:00\",\"2021-03-31T00:00:00\",\"2021-03-31T00:00:00\",\"2021-03-31T00:00:00\",\"2021-03-31T00:00:00\",\"2021-03-31T00:00:00\",\"2021-03-31T00:00:00\",\"2021-03-31T00:00:00\",\"2021-03-31T00:00:00\",\"2021-03-31T00:00:00\",\"2021-03-31T00:00:00\",\"2021-03-31T00:00:00\",\"2021-03-31T00:00:00\",\"2021-03-31T00:00:00\",\"2021-04-30T00:00:00\",\"2021-04-30T00:00:00\",\"2021-04-30T00:00:00\",\"2021-04-30T00:00:00\",\"2021-04-30T00:00:00\",\"2021-04-30T00:00:00\",\"2021-04-30T00:00:00\",\"2021-04-30T00:00:00\",\"2021-04-30T00:00:00\",\"2021-04-30T00:00:00\",\"2021-04-30T00:00:00\",\"2021-04-30T00:00:00\",\"2021-04-30T00:00:00\",\"2021-04-30T00:00:00\",\"2021-04-30T00:00:00\",\"2021-04-30T00:00:00\",\"2021-04-30T00:00:00\",\"2021-04-30T00:00:00\",\"2021-04-30T00:00:00\",\"2021-04-30T00:00:00\",\"2021-04-30T00:00:00\",\"2021-04-30T00:00:00\",\"2021-04-30T00:00:00\",\"2021-04-30T00:00:00\",\"2021-04-30T00:00:00\",\"2021-04-30T00:00:00\",\"2021-04-30T00:00:00\",\"2021-05-31T00:00:00\",\"2021-05-31T00:00:00\",\"2021-05-31T00:00:00\",\"2021-05-31T00:00:00\",\"2021-05-31T00:00:00\",\"2021-05-31T00:00:00\",\"2021-05-31T00:00:00\",\"2021-05-31T00:00:00\",\"2021-05-31T00:00:00\",\"2021-05-31T00:00:00\",\"2021-05-31T00:00:00\",\"2021-05-31T00:00:00\",\"2021-05-31T00:00:00\",\"2021-05-31T00:00:00\",\"2021-05-31T00:00:00\",\"2021-05-31T00:00:00\",\"2021-05-31T00:00:00\",\"2021-05-31T00:00:00\",\"2021-05-31T00:00:00\",\"2021-05-31T00:00:00\",\"2021-05-31T00:00:00\",\"2021-05-31T00:00:00\",\"2021-05-31T00:00:00\",\"2021-05-31T00:00:00\",\"2021-05-31T00:00:00\",\"2021-05-31T00:00:00\",\"2021-05-31T00:00:00\",\"2021-06-30T00:00:00\",\"2021-06-30T00:00:00\",\"2021-06-30T00:00:00\",\"2021-06-30T00:00:00\",\"2021-06-30T00:00:00\",\"2021-06-30T00:00:00\",\"2021-06-30T00:00:00\",\"2021-06-30T00:00:00\",\"2021-06-30T00:00:00\",\"2021-06-30T00:00:00\",\"2021-06-30T00:00:00\",\"2021-06-30T00:00:00\",\"2021-06-30T00:00:00\",\"2021-06-30T00:00:00\",\"2021-06-30T00:00:00\",\"2021-06-30T00:00:00\",\"2021-06-30T00:00:00\",\"2021-06-30T00:00:00\",\"2021-06-30T00:00:00\",\"2021-06-30T00:00:00\",\"2021-06-30T00:00:00\",\"2021-06-30T00:00:00\",\"2021-06-30T00:00:00\",\"2021-06-30T00:00:00\",\"2021-06-30T00:00:00\",\"2021-06-30T00:00:00\",\"2021-06-30T00:00:00\",\"2021-07-31T00:00:00\",\"2021-07-31T00:00:00\",\"2021-07-31T00:00:00\",\"2021-07-31T00:00:00\",\"2021-07-31T00:00:00\",\"2021-07-31T00:00:00\",\"2021-07-31T00:00:00\",\"2021-07-31T00:00:00\",\"2021-07-31T00:00:00\",\"2021-07-31T00:00:00\",\"2021-07-31T00:00:00\",\"2021-07-31T00:00:00\",\"2021-07-31T00:00:00\",\"2021-07-31T00:00:00\",\"2021-07-31T00:00:00\",\"2021-07-31T00:00:00\",\"2021-07-31T00:00:00\",\"2021-07-31T00:00:00\",\"2021-07-31T00:00:00\",\"2021-07-31T00:00:00\",\"2021-07-31T00:00:00\",\"2021-07-31T00:00:00\",\"2021-07-31T00:00:00\",\"2021-07-31T00:00:00\",\"2021-07-31T00:00:00\",\"2021-07-31T00:00:00\",\"2021-07-31T00:00:00\",\"2021-08-31T00:00:00\",\"2021-08-31T00:00:00\",\"2021-08-31T00:00:00\",\"2021-08-31T00:00:00\",\"2021-08-31T00:00:00\",\"2021-08-31T00:00:00\",\"2021-08-31T00:00:00\",\"2021-08-31T00:00:00\",\"2021-08-31T00:00:00\",\"2021-08-31T00:00:00\",\"2021-08-31T00:00:00\",\"2021-08-31T00:00:00\",\"2021-08-31T00:00:00\",\"2021-08-31T00:00:00\",\"2021-08-31T00:00:00\",\"2021-08-31T00:00:00\",\"2021-08-31T00:00:00\",\"2021-08-31T00:00:00\",\"2021-08-31T00:00:00\",\"2021-08-31T00:00:00\",\"2021-08-31T00:00:00\",\"2021-08-31T00:00:00\",\"2021-08-31T00:00:00\",\"2021-08-31T00:00:00\",\"2021-08-31T00:00:00\",\"2021-08-31T00:00:00\",\"2021-08-31T00:00:00\",\"2021-09-30T00:00:00\",\"2021-09-30T00:00:00\",\"2021-09-30T00:00:00\",\"2021-09-30T00:00:00\",\"2021-09-30T00:00:00\",\"2021-09-30T00:00:00\",\"2021-09-30T00:00:00\",\"2021-09-30T00:00:00\",\"2021-09-30T00:00:00\",\"2021-09-30T00:00:00\",\"2021-09-30T00:00:00\",\"2021-09-30T00:00:00\",\"2021-09-30T00:00:00\",\"2021-09-30T00:00:00\",\"2021-09-30T00:00:00\",\"2021-09-30T00:00:00\",\"2021-09-30T00:00:00\",\"2021-09-30T00:00:00\",\"2021-09-30T00:00:00\",\"2021-09-30T00:00:00\",\"2021-09-30T00:00:00\",\"2021-09-30T00:00:00\",\"2021-09-30T00:00:00\",\"2021-09-30T00:00:00\",\"2021-09-30T00:00:00\",\"2021-09-30T00:00:00\",\"2021-09-30T00:00:00\",\"2021-10-31T00:00:00\",\"2021-10-31T00:00:00\",\"2021-10-31T00:00:00\",\"2021-10-31T00:00:00\",\"2021-10-31T00:00:00\",\"2021-10-31T00:00:00\",\"2021-10-31T00:00:00\",\"2021-10-31T00:00:00\",\"2021-10-31T00:00:00\",\"2021-10-31T00:00:00\",\"2021-10-31T00:00:00\",\"2021-10-31T00:00:00\",\"2021-10-31T00:00:00\",\"2021-10-31T00:00:00\",\"2021-10-31T00:00:00\",\"2021-10-31T00:00:00\",\"2021-10-31T00:00:00\",\"2021-10-31T00:00:00\",\"2021-10-31T00:00:00\",\"2021-10-31T00:00:00\",\"2021-10-31T00:00:00\",\"2021-10-31T00:00:00\",\"2021-10-31T00:00:00\",\"2021-10-31T00:00:00\",\"2021-10-31T00:00:00\",\"2021-10-31T00:00:00\",\"2021-10-31T00:00:00\",\"2021-11-30T00:00:00\",\"2021-11-30T00:00:00\",\"2021-11-30T00:00:00\",\"2021-11-30T00:00:00\",\"2021-11-30T00:00:00\",\"2021-11-30T00:00:00\",\"2021-11-30T00:00:00\",\"2021-11-30T00:00:00\",\"2021-11-30T00:00:00\",\"2021-11-30T00:00:00\",\"2021-11-30T00:00:00\",\"2021-11-30T00:00:00\",\"2021-11-30T00:00:00\",\"2021-11-30T00:00:00\",\"2021-11-30T00:00:00\",\"2021-11-30T00:00:00\",\"2021-11-30T00:00:00\",\"2021-11-30T00:00:00\",\"2021-11-30T00:00:00\",\"2021-11-30T00:00:00\",\"2021-11-30T00:00:00\",\"2021-11-30T00:00:00\",\"2021-11-30T00:00:00\",\"2021-11-30T00:00:00\",\"2021-11-30T00:00:00\",\"2021-11-30T00:00:00\",\"2021-11-30T00:00:00\",\"2021-12-31T00:00:00\",\"2021-12-31T00:00:00\",\"2021-12-31T00:00:00\",\"2021-12-31T00:00:00\",\"2021-12-31T00:00:00\",\"2021-12-31T00:00:00\",\"2021-12-31T00:00:00\",\"2021-12-31T00:00:00\",\"2021-12-31T00:00:00\",\"2021-12-31T00:00:00\",\"2021-12-31T00:00:00\",\"2021-12-31T00:00:00\",\"2021-12-31T00:00:00\",\"2021-12-31T00:00:00\",\"2021-12-31T00:00:00\",\"2021-12-31T00:00:00\",\"2021-12-31T00:00:00\",\"2021-12-31T00:00:00\",\"2021-12-31T00:00:00\",\"2021-12-31T00:00:00\",\"2021-12-31T00:00:00\",\"2021-12-31T00:00:00\",\"2021-12-31T00:00:00\",\"2021-12-31T00:00:00\",\"2021-12-31T00:00:00\",\"2021-12-31T00:00:00\",\"2021-12-31T00:00:00\",\"2022-01-31T00:00:00\",\"2022-01-31T00:00:00\",\"2022-01-31T00:00:00\",\"2022-01-31T00:00:00\",\"2022-01-31T00:00:00\",\"2022-01-31T00:00:00\",\"2022-01-31T00:00:00\",\"2022-01-31T00:00:00\",\"2022-01-31T00:00:00\",\"2022-01-31T00:00:00\",\"2022-01-31T00:00:00\",\"2022-01-31T00:00:00\",\"2022-01-31T00:00:00\",\"2022-01-31T00:00:00\",\"2022-01-31T00:00:00\",\"2022-01-31T00:00:00\",\"2022-01-31T00:00:00\",\"2022-01-31T00:00:00\",\"2022-01-31T00:00:00\",\"2022-01-31T00:00:00\",\"2022-01-31T00:00:00\",\"2022-01-31T00:00:00\",\"2022-01-31T00:00:00\",\"2022-01-31T00:00:00\",\"2022-01-31T00:00:00\",\"2022-01-31T00:00:00\",\"2022-01-31T00:00:00\",\"2022-02-28T00:00:00\",\"2022-02-28T00:00:00\",\"2022-02-28T00:00:00\",\"2022-02-28T00:00:00\",\"2022-02-28T00:00:00\",\"2022-02-28T00:00:00\",\"2022-02-28T00:00:00\",\"2022-02-28T00:00:00\",\"2022-02-28T00:00:00\",\"2022-02-28T00:00:00\",\"2022-02-28T00:00:00\",\"2022-02-28T00:00:00\",\"2022-02-28T00:00:00\",\"2022-02-28T00:00:00\",\"2022-02-28T00:00:00\",\"2022-02-28T00:00:00\",\"2022-02-28T00:00:00\",\"2022-02-28T00:00:00\",\"2022-02-28T00:00:00\",\"2022-02-28T00:00:00\",\"2022-02-28T00:00:00\",\"2022-02-28T00:00:00\",\"2022-02-28T00:00:00\",\"2022-02-28T00:00:00\",\"2022-02-28T00:00:00\",\"2022-02-28T00:00:00\",\"2022-02-28T00:00:00\",\"2022-03-27T00:00:00\",\"2022-03-27T00:00:00\",\"2022-03-27T00:00:00\",\"2022-03-27T00:00:00\",\"2022-03-27T00:00:00\",\"2022-03-27T00:00:00\",\"2022-03-27T00:00:00\",\"2022-03-27T00:00:00\",\"2022-03-27T00:00:00\",\"2022-03-27T00:00:00\",\"2022-03-27T00:00:00\",\"2022-03-27T00:00:00\",\"2022-03-27T00:00:00\",\"2022-03-27T00:00:00\",\"2022-03-27T00:00:00\",\"2022-03-27T00:00:00\",\"2022-03-27T00:00:00\",\"2022-03-27T00:00:00\",\"2022-03-27T00:00:00\",\"2022-03-27T00:00:00\",\"2022-03-27T00:00:00\",\"2022-03-27T00:00:00\",\"2022-03-27T00:00:00\",\"2022-03-27T00:00:00\",\"2022-03-27T00:00:00\",\"2022-03-27T00:00:00\",\"2022-03-27T00:00:00\"],\"y\":[\"AM\",\"BA\",\"CE\",\"DF\",\"ES\",\"GO\",\"MA\",\"MG\",\"PE\",\"PR\",\"RJ\",\"RN\",\"RS\",\"SC\",\"SP\",\"AC\",\"AL\",\"AM\",\"AP\",\"BA\",\"CE\",\"DF\",\"ES\",\"GO\",\"MA\",\"MG\",\"MS\",\"MT\",\"PA\",\"PB\",\"PE\",\"PI\",\"PR\",\"RJ\",\"RN\",\"RO\",\"RR\",\"RS\",\"SC\",\"SE\",\"SP\",\"TO\",\"AC\",\"AL\",\"AM\",\"AP\",\"BA\",\"CE\",\"DF\",\"ES\",\"GO\",\"MA\",\"MG\",\"MS\",\"MT\",\"PA\",\"PB\",\"PE\",\"PI\",\"PR\",\"RJ\",\"RN\",\"RO\",\"RR\",\"RS\",\"SC\",\"SE\",\"SP\",\"TO\",\"AC\",\"AL\",\"AM\",\"AP\",\"BA\",\"CE\",\"DF\",\"ES\",\"GO\",\"MA\",\"MG\",\"MS\",\"MT\",\"PA\",\"PB\",\"PE\",\"PI\",\"PR\",\"RJ\",\"RN\",\"RO\",\"RR\",\"RS\",\"SC\",\"SE\",\"SP\",\"TO\",\"AC\",\"AL\",\"AM\",\"AP\",\"BA\",\"CE\",\"DF\",\"ES\",\"GO\",\"MA\",\"MG\",\"MS\",\"MT\",\"PA\",\"PB\",\"PE\",\"PI\",\"PR\",\"RJ\",\"RN\",\"RO\",\"RR\",\"RS\",\"SC\",\"SE\",\"SP\",\"TO\",\"AC\",\"AL\",\"AM\",\"AP\",\"BA\",\"CE\",\"DF\",\"ES\",\"GO\",\"MA\",\"MG\",\"MS\",\"MT\",\"PA\",\"PB\",\"PE\",\"PI\",\"PR\",\"RJ\",\"RN\",\"RO\",\"RR\",\"RS\",\"SC\",\"SE\",\"SP\",\"TO\",\"AC\",\"AL\",\"AM\",\"AP\",\"BA\",\"CE\",\"DF\",\"ES\",\"GO\",\"MA\",\"MG\",\"MS\",\"MT\",\"PA\",\"PB\",\"PE\",\"PI\",\"PR\",\"RJ\",\"RN\",\"RO\",\"RR\",\"RS\",\"SC\",\"SE\",\"SP\",\"TO\",\"AC\",\"AL\",\"AM\",\"AP\",\"BA\",\"CE\",\"DF\",\"ES\",\"GO\",\"MA\",\"MG\",\"MS\",\"MT\",\"PA\",\"PB\",\"PE\",\"PI\",\"PR\",\"RJ\",\"RN\",\"RO\",\"RR\",\"RS\",\"SC\",\"SE\",\"SP\",\"TO\",\"AC\",\"AL\",\"AM\",\"AP\",\"BA\",\"CE\",\"DF\",\"ES\",\"GO\",\"MA\",\"MG\",\"MS\",\"MT\",\"PA\",\"PB\",\"PE\",\"PI\",\"PR\",\"RJ\",\"RN\",\"RO\",\"RR\",\"RS\",\"SC\",\"SE\",\"SP\",\"TO\",\"AC\",\"AL\",\"AM\",\"AP\",\"BA\",\"CE\",\"DF\",\"ES\",\"GO\",\"MA\",\"MG\",\"MS\",\"MT\",\"PA\",\"PB\",\"PE\",\"PI\",\"PR\",\"RJ\",\"RN\",\"RO\",\"RR\",\"RS\",\"SC\",\"SE\",\"SP\",\"TO\",\"AC\",\"AL\",\"AM\",\"AP\",\"BA\",\"CE\",\"DF\",\"ES\",\"GO\",\"MA\",\"MG\",\"MS\",\"MT\",\"PA\",\"PB\",\"PE\",\"PI\",\"PR\",\"RJ\",\"RN\",\"RO\",\"RR\",\"RS\",\"SC\",\"SE\",\"SP\",\"TO\",\"AC\",\"AL\",\"AM\",\"AP\",\"BA\",\"CE\",\"DF\",\"ES\",\"GO\",\"MA\",\"MG\",\"MS\",\"MT\",\"PA\",\"PB\",\"PE\",\"PI\",\"PR\",\"RJ\",\"RN\",\"RO\",\"RR\",\"RS\",\"SC\",\"SE\",\"SP\",\"TO\",\"AC\",\"AL\",\"AM\",\"AP\",\"BA\",\"CE\",\"DF\",\"ES\",\"GO\",\"MA\",\"MG\",\"MS\",\"MT\",\"PA\",\"PB\",\"PE\",\"PI\",\"PR\",\"RJ\",\"RN\",\"RO\",\"RR\",\"RS\",\"SC\",\"SE\",\"SP\",\"TO\",\"AC\",\"AL\",\"AM\",\"AP\",\"BA\",\"CE\",\"DF\",\"ES\",\"GO\",\"MA\",\"MG\",\"MS\",\"MT\",\"PA\",\"PB\",\"PE\",\"PI\",\"PR\",\"RJ\",\"RN\",\"RO\",\"RR\",\"RS\",\"SC\",\"SE\",\"SP\",\"TO\",\"AC\",\"AL\",\"AM\",\"AP\",\"BA\",\"CE\",\"DF\",\"ES\",\"GO\",\"MA\",\"MG\",\"MS\",\"MT\",\"PA\",\"PB\",\"PE\",\"PI\",\"PR\",\"RJ\",\"RN\",\"RO\",\"RR\",\"RS\",\"SC\",\"SE\",\"SP\",\"TO\",\"AC\",\"AL\",\"AM\",\"AP\",\"BA\",\"CE\",\"DF\",\"ES\",\"GO\",\"MA\",\"MG\",\"MS\",\"MT\",\"PA\",\"PB\",\"PE\",\"PI\",\"PR\",\"RJ\",\"RN\",\"RO\",\"RR\",\"RS\",\"SC\",\"SE\",\"SP\",\"TO\",\"AC\",\"AL\",\"AM\",\"AP\",\"BA\",\"CE\",\"DF\",\"ES\",\"GO\",\"MA\",\"MG\",\"MS\",\"MT\",\"PA\",\"PB\",\"PE\",\"PI\",\"PR\",\"RJ\",\"RN\",\"RO\",\"RR\",\"RS\",\"SC\",\"SE\",\"SP\",\"TO\",\"AC\",\"AL\",\"AM\",\"AP\",\"BA\",\"CE\",\"DF\",\"ES\",\"GO\",\"MA\",\"MG\",\"MS\",\"MT\",\"PA\",\"PB\",\"PE\",\"PI\",\"PR\",\"RJ\",\"RN\",\"RO\",\"RR\",\"RS\",\"SC\",\"SE\",\"SP\",\"TO\",\"AC\",\"AL\",\"AM\",\"AP\",\"BA\",\"CE\",\"DF\",\"ES\",\"GO\",\"MA\",\"MG\",\"MS\",\"MT\",\"PA\",\"PB\",\"PE\",\"PI\",\"PR\",\"RJ\",\"RN\",\"RO\",\"RR\",\"RS\",\"SC\",\"SE\",\"SP\",\"TO\",\"AC\",\"AL\",\"AM\",\"AP\",\"BA\",\"CE\",\"DF\",\"ES\",\"GO\",\"MA\",\"MG\",\"MS\",\"MT\",\"PA\",\"PB\",\"PE\",\"PI\",\"PR\",\"RJ\",\"RN\",\"RO\",\"RR\",\"RS\",\"SC\",\"SE\",\"SP\",\"TO\",\"AC\",\"AL\",\"AM\",\"AP\",\"BA\",\"CE\",\"DF\",\"ES\",\"GO\",\"MA\",\"MG\",\"MS\",\"MT\",\"PA\",\"PB\",\"PE\",\"PI\",\"PR\",\"RJ\",\"RN\",\"RO\",\"RR\",\"RS\",\"SC\",\"SE\",\"SP\",\"TO\",\"AC\",\"AL\",\"AM\",\"AP\",\"BA\",\"CE\",\"DF\",\"ES\",\"GO\",\"MA\",\"MG\",\"MS\",\"MT\",\"PA\",\"PB\",\"PE\",\"PI\",\"PR\",\"RJ\",\"RN\",\"RO\",\"RR\",\"RS\",\"SC\",\"SE\",\"SP\",\"TO\",\"AC\",\"AL\",\"AM\",\"AP\",\"BA\",\"CE\",\"DF\",\"ES\",\"GO\",\"MA\",\"MG\",\"MS\",\"MT\",\"PA\",\"PB\",\"PE\",\"PI\",\"PR\",\"RJ\",\"RN\",\"RO\",\"RR\",\"RS\",\"SC\",\"SE\",\"SP\",\"TO\",\"AC\",\"AL\",\"AM\",\"AP\",\"BA\",\"CE\",\"DF\",\"ES\",\"GO\",\"MA\",\"MG\",\"MS\",\"MT\",\"PA\",\"PB\",\"PE\",\"PI\",\"PR\",\"RJ\",\"RN\",\"RO\",\"RR\",\"RS\",\"SC\",\"SE\",\"SP\",\"TO\",\"AC\",\"AL\",\"AM\",\"AP\",\"BA\",\"CE\",\"DF\",\"ES\",\"GO\",\"MA\",\"MG\",\"MS\",\"MT\",\"PA\",\"PB\",\"PE\",\"PI\",\"PR\",\"RJ\",\"RN\",\"RO\",\"RR\",\"RS\",\"SC\",\"SE\",\"SP\",\"TO\"],\"z\":[0.0171,0.0092,0.0175,0.009,0.0,0.0154,0.0196,0.0073,0.069,0.0162,0.0325,0.0122,0.0131,0.0085,0.0581,0.047,0.045,0.0809,0.0315,0.037,0.0626,0.0211,0.0346,0.0371,0.0582,0.0449,0.0353,0.0364,0.0747,0.0724,0.0822,0.04,0.0618,0.0903,0.0432,0.0319,0.0135,0.0379,0.0201,0.0309,0.0828,0.0183,0.0238,0.0431,0.0496,0.0231,0.0363,0.0621,0.0174,0.0441,0.0333,0.0277,0.0259,0.0128,0.0254,0.077,0.0274,0.0815,0.0328,0.0394,0.1001,0.0403,0.0316,0.0314,0.024,0.0158,0.0226,0.0694,0.0175,0.0275,0.0293,0.0399,0.0146,0.0253,0.0556,0.0119,0.0351,0.0197,0.0255,0.0214,0.0098,0.0386,0.0469,0.0208,0.082,0.0311,0.0284,0.0895,0.0335,0.0244,0.0207,0.0228,0.0129,0.0266,0.0525,0.0182,0.0271,0.0262,0.0324,0.0155,0.0208,0.044,0.0138,0.0305,0.0242,0.025,0.0218,0.0151,0.0354,0.0368,0.0219,0.069,0.0258,0.0252,0.0814,0.0365,0.0224,0.0157,0.0281,0.0131,0.0244,0.0424,0.0154,0.0248,0.0239,0.0303,0.0153,0.021,0.0391,0.0156,0.0284,0.0236,0.0227,0.0246,0.0178,0.0305,0.0307,0.0232,0.0605,0.0237,0.0249,0.0718,0.0365,0.0208,0.0136,0.0273,0.0127,0.0256,0.0373,0.0133,0.0234,0.0238,0.029,0.0147,0.0217,0.0373,0.0169,0.027,0.0223,0.0216,0.0249,0.0187,0.0279,0.0284,0.0233,0.0561,0.022,0.0251,0.0698,0.0343,0.0206,0.0129,0.0251,0.013,0.0263,0.0361,0.0138,0.0225,0.0247,0.0281,0.0143,0.0216,0.0341,0.0173,0.0248,0.0225,0.0218,0.0251,0.0194,0.0268,0.0267,0.0233,0.053,0.0212,0.0244,0.0665,0.0317,0.0203,0.0121,0.0234,0.012,0.0262,0.0352,0.0145,0.0199,0.0246,0.0275,0.0136,0.0205,0.032,0.0172,0.0225,0.0228,0.0222,0.0241,0.0178,0.0261,0.0255,0.0227,0.0495,0.0206,0.022,0.0637,0.0282,0.0194,0.0115,0.0212,0.0103,0.0256,0.0339,0.0142,0.0191,0.0237,0.0263,0.0136,0.0185,0.0297,0.0169,0.0205,0.022,0.0224,0.0219,0.0174,0.025,0.0245,0.0221,0.0435,0.0198,0.0191,0.0587,0.0253,0.019,0.0115,0.0197,0.0107,0.0221,0.0319,0.0137,0.0179,0.0233,0.0304,0.0137,0.0172,0.028,0.0164,0.0199,0.0213,0.0226,0.0205,0.0181,0.0236,0.0232,0.0212,0.0396,0.0192,0.0183,0.0572,0.0233,0.018,0.0115,0.0195,0.011,0.0202,0.0298,0.0135,0.0173,0.0228,0.0344,0.0136,0.0173,0.0265,0.0163,0.0196,0.0215,0.023,0.0211,0.0183,0.0231,0.0237,0.0203,0.0367,0.0193,0.018,0.0567,0.0215,0.0192,0.0134,0.0193,0.011,0.0196,0.0291,0.0134,0.0181,0.0232,0.0344,0.0133,0.0191,0.0262,0.0175,0.0196,0.0241,0.025,0.0216,0.0199,0.0247,0.025,0.0222,0.0349,0.02,0.0198,0.0567,0.023,0.0221,0.015,0.0233,0.0135,0.0201,0.0302,0.0145,0.0197,0.0243,0.0341,0.0146,0.0205,0.0263,0.0206,0.0218,0.0272,0.0273,0.0248,0.0231,0.027,0.0277,0.0232,0.0345,0.0213,0.0236,0.0598,0.0245,0.0243,0.0157,0.0256,0.0152,0.0212,0.0331,0.0159,0.0201,0.0246,0.0336,0.0151,0.021,0.0255,0.0214,0.0224,0.0281,0.028,0.0258,0.0235,0.0269,0.028,0.0232,0.0329,0.0217,0.0242,0.0585,0.0228,0.0251,0.0158,0.026,0.0158,0.0215,0.034,0.0161,0.0203,0.0246,0.0331,0.0157,0.0213,0.0255,0.0215,0.0222,0.0284,0.0285,0.0256,0.0245,0.0266,0.0279,0.0217,0.0321,0.0223,0.0239,0.0579,0.0198,0.0248,0.0155,0.0258,0.016,0.0216,0.0343,0.0163,0.0206,0.0253,0.0325,0.0157,0.0216,0.0256,0.0214,0.0219,0.028,0.0286,0.0257,0.0251,0.0261,0.028,0.0213,0.0318,0.0221,0.0255,0.0574,0.0197,0.0247,0.0155,0.0244,0.0161,0.0215,0.0343,0.0167,0.0207,0.0258,0.0323,0.016,0.0217,0.0258,0.0214,0.0218,0.0274,0.0287,0.0256,0.0254,0.0259,0.0282,0.0212,0.0319,0.0219,0.0257,0.0554,0.0199,0.0246,0.0157,0.0243,0.0162,0.0216,0.0342,0.0168,0.0209,0.0261,0.0322,0.0161,0.0218,0.0258,0.0211,0.0214,0.0272,0.0286,0.0255,0.0256,0.0257,0.0282,0.0211,0.0318,0.022,0.0259,0.0514,0.0199,0.0246,0.0159,0.0243,0.0162,0.0216,0.0343,0.0169,0.021,0.0262,0.0322,0.0161,0.0217,0.026,0.0211,0.0213,0.0267,0.0284,0.0254,0.0256,0.0255,0.028,0.0211,0.0317,0.0218,0.026,0.0517,0.0198,0.0243,0.0159,0.0242,0.0162,0.0217,0.0345,0.017,0.0209,0.0263,0.0321,0.0161,0.0217,0.026,0.0213,0.0212,0.0262,0.0282,0.0255,0.0256,0.0253,0.0278,0.0207,0.0316,0.0217,0.0258,0.0514,0.0196,0.0239,0.016,0.0242,0.0162,0.0217,0.0347,0.0168,0.0209,0.0264,0.0319,0.0159,0.0216,0.0259,0.0214,0.0212,0.0261,0.028,0.0255,0.0256,0.0252,0.0273,0.0207,0.0317,0.0218,0.0256,0.0513,0.0195,0.0237,0.0161,0.0242,0.0162,0.0217,0.0348,0.0167,0.0185,0.0249,0.0263,0.0135,0.0205,0.0224,0.0184,0.0159,0.0241,0.0271,0.0211,0.0231,0.0227,0.0267,0.0195,0.0296,0.0215,0.0209,0.0398,0.0181,0.0215,0.0147,0.0202,0.0143,0.0208,0.034,0.0147,0.0164,0.0229,0.0246,0.0131,0.0194,0.0214,0.0167,0.0138,0.0221,0.0261,0.0186,0.0206,0.0208,0.0247,0.0175,0.0254,0.021,0.0182,0.036,0.0169,0.0189,0.0139,0.0178,0.0132,0.0195,0.0328,0.0138,0.0161,0.0232,0.0244,0.0132,0.0194,0.0215,0.0167,0.0138,0.0206,0.0256,0.0183,0.02,0.0205,0.0241,0.0171,0.0239,0.021,0.0178,0.035,0.0164,0.0183,0.0138,0.0172,0.013,0.0194,0.0319,0.0137],\"type\":\"heatmap\"}],                        {\"template\":{\"data\":{\"histogram2dcontour\":[{\"type\":\"histogram2dcontour\",\"colorbar\":{\"outlinewidth\":0,\"ticks\":\"\"},\"colorscale\":[[0.0,\"#0d0887\"],[0.1111111111111111,\"#46039f\"],[0.2222222222222222,\"#7201a8\"],[0.3333333333333333,\"#9c179e\"],[0.4444444444444444,\"#bd3786\"],[0.5555555555555556,\"#d8576b\"],[0.6666666666666666,\"#ed7953\"],[0.7777777777777778,\"#fb9f3a\"],[0.8888888888888888,\"#fdca26\"],[1.0,\"#f0f921\"]]}],\"choropleth\":[{\"type\":\"choropleth\",\"colorbar\":{\"outlinewidth\":0,\"ticks\":\"\"}}],\"histogram2d\":[{\"type\":\"histogram2d\",\"colorbar\":{\"outlinewidth\":0,\"ticks\":\"\"},\"colorscale\":[[0.0,\"#0d0887\"],[0.1111111111111111,\"#46039f\"],[0.2222222222222222,\"#7201a8\"],[0.3333333333333333,\"#9c179e\"],[0.4444444444444444,\"#bd3786\"],[0.5555555555555556,\"#d8576b\"],[0.6666666666666666,\"#ed7953\"],[0.7777777777777778,\"#fb9f3a\"],[0.8888888888888888,\"#fdca26\"],[1.0,\"#f0f921\"]]}],\"heatmap\":[{\"type\":\"heatmap\",\"colorbar\":{\"outlinewidth\":0,\"ticks\":\"\"},\"colorscale\":[[0.0,\"#0d0887\"],[0.1111111111111111,\"#46039f\"],[0.2222222222222222,\"#7201a8\"],[0.3333333333333333,\"#9c179e\"],[0.4444444444444444,\"#bd3786\"],[0.5555555555555556,\"#d8576b\"],[0.6666666666666666,\"#ed7953\"],[0.7777777777777778,\"#fb9f3a\"],[0.8888888888888888,\"#fdca26\"],[1.0,\"#f0f921\"]]}],\"heatmapgl\":[{\"type\":\"heatmapgl\",\"colorbar\":{\"outlinewidth\":0,\"ticks\":\"\"},\"colorscale\":[[0.0,\"#0d0887\"],[0.1111111111111111,\"#46039f\"],[0.2222222222222222,\"#7201a8\"],[0.3333333333333333,\"#9c179e\"],[0.4444444444444444,\"#bd3786\"],[0.5555555555555556,\"#d8576b\"],[0.6666666666666666,\"#ed7953\"],[0.7777777777777778,\"#fb9f3a\"],[0.8888888888888888,\"#fdca26\"],[1.0,\"#f0f921\"]]}],\"contourcarpet\":[{\"type\":\"contourcarpet\",\"colorbar\":{\"outlinewidth\":0,\"ticks\":\"\"}}],\"contour\":[{\"type\":\"contour\",\"colorbar\":{\"outlinewidth\":0,\"ticks\":\"\"},\"colorscale\":[[0.0,\"#0d0887\"],[0.1111111111111111,\"#46039f\"],[0.2222222222222222,\"#7201a8\"],[0.3333333333333333,\"#9c179e\"],[0.4444444444444444,\"#bd3786\"],[0.5555555555555556,\"#d8576b\"],[0.6666666666666666,\"#ed7953\"],[0.7777777777777778,\"#fb9f3a\"],[0.8888888888888888,\"#fdca26\"],[1.0,\"#f0f921\"]]}],\"surface\":[{\"type\":\"surface\",\"colorbar\":{\"outlinewidth\":0,\"ticks\":\"\"},\"colorscale\":[[0.0,\"#0d0887\"],[0.1111111111111111,\"#46039f\"],[0.2222222222222222,\"#7201a8\"],[0.3333333333333333,\"#9c179e\"],[0.4444444444444444,\"#bd3786\"],[0.5555555555555556,\"#d8576b\"],[0.6666666666666666,\"#ed7953\"],[0.7777777777777778,\"#fb9f3a\"],[0.8888888888888888,\"#fdca26\"],[1.0,\"#f0f921\"]]}],\"mesh3d\":[{\"type\":\"mesh3d\",\"colorbar\":{\"outlinewidth\":0,\"ticks\":\"\"}}],\"scatter\":[{\"fillpattern\":{\"fillmode\":\"overlay\",\"size\":10,\"solidity\":0.2},\"type\":\"scatter\"}],\"parcoords\":[{\"type\":\"parcoords\",\"line\":{\"colorbar\":{\"outlinewidth\":0,\"ticks\":\"\"}}}],\"scatterpolargl\":[{\"type\":\"scatterpolargl\",\"marker\":{\"colorbar\":{\"outlinewidth\":0,\"ticks\":\"\"}}}],\"bar\":[{\"error_x\":{\"color\":\"#2a3f5f\"},\"error_y\":{\"color\":\"#2a3f5f\"},\"marker\":{\"line\":{\"color\":\"#E5ECF6\",\"width\":0.5},\"pattern\":{\"fillmode\":\"overlay\",\"size\":10,\"solidity\":0.2}},\"type\":\"bar\"}],\"scattergeo\":[{\"type\":\"scattergeo\",\"marker\":{\"colorbar\":{\"outlinewidth\":0,\"ticks\":\"\"}}}],\"scatterpolar\":[{\"type\":\"scatterpolar\",\"marker\":{\"colorbar\":{\"outlinewidth\":0,\"ticks\":\"\"}}}],\"histogram\":[{\"marker\":{\"pattern\":{\"fillmode\":\"overlay\",\"size\":10,\"solidity\":0.2}},\"type\":\"histogram\"}],\"scattergl\":[{\"type\":\"scattergl\",\"marker\":{\"colorbar\":{\"outlinewidth\":0,\"ticks\":\"\"}}}],\"scatter3d\":[{\"type\":\"scatter3d\",\"line\":{\"colorbar\":{\"outlinewidth\":0,\"ticks\":\"\"}},\"marker\":{\"colorbar\":{\"outlinewidth\":0,\"ticks\":\"\"}}}],\"scattermapbox\":[{\"type\":\"scattermapbox\",\"marker\":{\"colorbar\":{\"outlinewidth\":0,\"ticks\":\"\"}}}],\"scatterternary\":[{\"type\":\"scatterternary\",\"marker\":{\"colorbar\":{\"outlinewidth\":0,\"ticks\":\"\"}}}],\"scattercarpet\":[{\"type\":\"scattercarpet\",\"marker\":{\"colorbar\":{\"outlinewidth\":0,\"ticks\":\"\"}}}],\"carpet\":[{\"aaxis\":{\"endlinecolor\":\"#2a3f5f\",\"gridcolor\":\"white\",\"linecolor\":\"white\",\"minorgridcolor\":\"white\",\"startlinecolor\":\"#2a3f5f\"},\"baxis\":{\"endlinecolor\":\"#2a3f5f\",\"gridcolor\":\"white\",\"linecolor\":\"white\",\"minorgridcolor\":\"white\",\"startlinecolor\":\"#2a3f5f\"},\"type\":\"carpet\"}],\"table\":[{\"cells\":{\"fill\":{\"color\":\"#EBF0F8\"},\"line\":{\"color\":\"white\"}},\"header\":{\"fill\":{\"color\":\"#C8D4E3\"},\"line\":{\"color\":\"white\"}},\"type\":\"table\"}],\"barpolar\":[{\"marker\":{\"line\":{\"color\":\"#E5ECF6\",\"width\":0.5},\"pattern\":{\"fillmode\":\"overlay\",\"size\":10,\"solidity\":0.2}},\"type\":\"barpolar\"}],\"pie\":[{\"automargin\":true,\"type\":\"pie\"}]},\"layout\":{\"autotypenumbers\":\"strict\",\"colorway\":[\"#636efa\",\"#EF553B\",\"#00cc96\",\"#ab63fa\",\"#FFA15A\",\"#19d3f3\",\"#FF6692\",\"#B6E880\",\"#FF97FF\",\"#FECB52\"],\"font\":{\"color\":\"#2a3f5f\"},\"hovermode\":\"closest\",\"hoverlabel\":{\"align\":\"left\"},\"paper_bgcolor\":\"white\",\"plot_bgcolor\":\"#E5ECF6\",\"polar\":{\"bgcolor\":\"#E5ECF6\",\"angularaxis\":{\"gridcolor\":\"white\",\"linecolor\":\"white\",\"ticks\":\"\"},\"radialaxis\":{\"gridcolor\":\"white\",\"linecolor\":\"white\",\"ticks\":\"\"}},\"ternary\":{\"bgcolor\":\"#E5ECF6\",\"aaxis\":{\"gridcolor\":\"white\",\"linecolor\":\"white\",\"ticks\":\"\"},\"baxis\":{\"gridcolor\":\"white\",\"linecolor\":\"white\",\"ticks\":\"\"},\"caxis\":{\"gridcolor\":\"white\",\"linecolor\":\"white\",\"ticks\":\"\"}},\"coloraxis\":{\"colorbar\":{\"outlinewidth\":0,\"ticks\":\"\"}},\"colorscale\":{\"sequential\":[[0.0,\"#0d0887\"],[0.1111111111111111,\"#46039f\"],[0.2222222222222222,\"#7201a8\"],[0.3333333333333333,\"#9c179e\"],[0.4444444444444444,\"#bd3786\"],[0.5555555555555556,\"#d8576b\"],[0.6666666666666666,\"#ed7953\"],[0.7777777777777778,\"#fb9f3a\"],[0.8888888888888888,\"#fdca26\"],[1.0,\"#f0f921\"]],\"sequentialminus\":[[0.0,\"#0d0887\"],[0.1111111111111111,\"#46039f\"],[0.2222222222222222,\"#7201a8\"],[0.3333333333333333,\"#9c179e\"],[0.4444444444444444,\"#bd3786\"],[0.5555555555555556,\"#d8576b\"],[0.6666666666666666,\"#ed7953\"],[0.7777777777777778,\"#fb9f3a\"],[0.8888888888888888,\"#fdca26\"],[1.0,\"#f0f921\"]],\"diverging\":[[0,\"#8e0152\"],[0.1,\"#c51b7d\"],[0.2,\"#de77ae\"],[0.3,\"#f1b6da\"],[0.4,\"#fde0ef\"],[0.5,\"#f7f7f7\"],[0.6,\"#e6f5d0\"],[0.7,\"#b8e186\"],[0.8,\"#7fbc41\"],[0.9,\"#4d9221\"],[1,\"#276419\"]]},\"xaxis\":{\"gridcolor\":\"white\",\"linecolor\":\"white\",\"ticks\":\"\",\"title\":{\"standoff\":15},\"zerolinecolor\":\"white\",\"automargin\":true,\"zerolinewidth\":2},\"yaxis\":{\"gridcolor\":\"white\",\"linecolor\":\"white\",\"ticks\":\"\",\"title\":{\"standoff\":15},\"zerolinecolor\":\"white\",\"automargin\":true,\"zerolinewidth\":2},\"scene\":{\"xaxis\":{\"backgroundcolor\":\"#E5ECF6\",\"gridcolor\":\"white\",\"linecolor\":\"white\",\"showbackground\":true,\"ticks\":\"\",\"zerolinecolor\":\"white\",\"gridwidth\":2},\"yaxis\":{\"backgroundcolor\":\"#E5ECF6\",\"gridcolor\":\"white\",\"linecolor\":\"white\",\"showbackground\":true,\"ticks\":\"\",\"zerolinecolor\":\"white\",\"gridwidth\":2},\"zaxis\":{\"backgroundcolor\":\"#E5ECF6\",\"gridcolor\":\"white\",\"linecolor\":\"white\",\"showbackground\":true,\"ticks\":\"\",\"zerolinecolor\":\"white\",\"gridwidth\":2}},\"shapedefaults\":{\"line\":{\"color\":\"#2a3f5f\"}},\"annotationdefaults\":{\"arrowcolor\":\"#2a3f5f\",\"arrowhead\":0,\"arrowwidth\":1},\"geo\":{\"bgcolor\":\"white\",\"landcolor\":\"#E5ECF6\",\"subunitcolor\":\"white\",\"showland\":true,\"showlakes\":true,\"lakecolor\":\"white\"},\"title\":{\"x\":0.05},\"mapbox\":{\"style\":\"light\"}}},\"xaxis\":{\"nticks\":45},\"title\":{\"text\":\"COVID-19 no Brasil: Indice de mortalidade x Tempo\"},\"width\":1000,\"height\":700},                        {\"responsive\": true}                    ).then(function(){\n",
       "                            \n",
       "var gd = document.getElementById('75a1069c-9f5c-48bd-b297-c3ca84827285');\n",
       "var x = new MutationObserver(function (mutations, observer) {{\n",
       "        var display = window.getComputedStyle(gd).display;\n",
       "        if (!display || display === 'none') {{\n",
       "            console.log([gd, 'removed!']);\n",
       "            Plotly.purge(gd);\n",
       "            observer.disconnect();\n",
       "        }}\n",
       "}});\n",
       "\n",
       "// Listen for the removal of the full notebook cells\n",
       "var notebookContainer = gd.closest('#notebook-container');\n",
       "if (notebookContainer) {{\n",
       "    x.observe(notebookContainer, {childList: true});\n",
       "}}\n",
       "\n",
       "// Listen for the clearing of the current output cell\n",
       "var outputEl = gd.closest('.output');\n",
       "if (outputEl) {{\n",
       "    x.observe(outputEl, {childList: true});\n",
       "}}\n",
       "\n",
       "                        })                };                });            </script>        </div>"
      ]
     },
     "metadata": {},
     "output_type": "display_data"
    }
   ],
   "source": [
    "h = new_selecao[(new_selecao['confirmed'] >= 50)].sort_values(['date','state'])\n",
    "fig = go.Figure(data=go.Heatmap(\n",
    "        z=h['death_rate'],\n",
    "        x=h['date'],\n",
    "        y=h['state'],\n",
    "        colorscale='Viridis'))\n",
    "\n",
    "fig.update_layout(\n",
    "    title='COVID-19 no Brasil: Indice de mortalidade x Tempo', xaxis_nticks=45, width=1000, height=700)\n",
    "\n",
    "fig.show()"
   ]
  },
  {
   "cell_type": "code",
   "execution_count": 113,
   "id": "3236c46d",
   "metadata": {},
   "outputs": [],
   "source": [
    "t = t.sort_values('confirmed')"
   ]
  },
  {
   "cell_type": "code",
   "execution_count": 114,
   "id": "e096747b",
   "metadata": {},
   "outputs": [
    {
     "data": {
      "application/vnd.plotly.v1+json": {
       "config": {
        "plotlyServerURL": "https://plot.ly"
       },
       "data": [
        {
         "name": "Confirmed",
         "type": "bar",
         "x": [
          "AC",
          "RR",
          "AP",
          "AL",
          "TO",
          "SE",
          "PI",
          "RO",
          "MA",
          "RN",
          "MS",
          "AM",
          "PB",
          "DF",
          "MT",
          "PA",
          "PE",
          "ES",
          "CE",
          "GO",
          "BA",
          "SC",
          "RJ",
          "RS",
          "PR",
          "MG",
          "SP"
         ],
         "y": [
          123808,
          155062,
          160328,
          295972,
          302502,
          325274,
          367515,
          391943,
          424199,
          495749,
          523565,
          581070,
          594891,
          691353,
          724653,
          751293,
          892115,
          1037188,
          1239746,
          1269853,
          1530054,
          1671175,
          2078817,
          2263880,
          2407960,
          3317401,
          5232374
         ]
        },
        {
         "name": "Deaths",
         "type": "bar",
         "x": [
          "AC",
          "RR",
          "AP",
          "AL",
          "TO",
          "SE",
          "PI",
          "RO",
          "MA",
          "RN",
          "MS",
          "AM",
          "PB",
          "DF",
          "MT",
          "PA",
          "PE",
          "ES",
          "CE",
          "GO",
          "BA",
          "SC",
          "RJ",
          "RS",
          "PR",
          "MG",
          "SP"
         ],
         "y": [
          1992,
          2144,
          2122,
          6869,
          4142,
          6309,
          7721,
          7172,
          10869,
          8119,
          10486,
          14151,
          10189,
          11573,
          14854,
          18079,
          21366,
          14323,
          26708,
          26212,
          29658,
          21648,
          72695,
          38985,
          42896,
          60767,
          167110
         ]
        }
       ],
       "layout": {
        "barmode": "stack",
        "height": 900,
        "legend": {
         "title": {
          "text": "<b>COVID-19</b>"
         },
         "x": 0.75,
         "y": 0.5
        },
        "template": {
         "data": {
          "bar": [
           {
            "error_x": {
             "color": "#2a3f5f"
            },
            "error_y": {
             "color": "#2a3f5f"
            },
            "marker": {
             "line": {
              "color": "#E5ECF6",
              "width": 0.5
             },
             "pattern": {
              "fillmode": "overlay",
              "size": 10,
              "solidity": 0.2
             }
            },
            "type": "bar"
           }
          ],
          "barpolar": [
           {
            "marker": {
             "line": {
              "color": "#E5ECF6",
              "width": 0.5
             },
             "pattern": {
              "fillmode": "overlay",
              "size": 10,
              "solidity": 0.2
             }
            },
            "type": "barpolar"
           }
          ],
          "carpet": [
           {
            "aaxis": {
             "endlinecolor": "#2a3f5f",
             "gridcolor": "white",
             "linecolor": "white",
             "minorgridcolor": "white",
             "startlinecolor": "#2a3f5f"
            },
            "baxis": {
             "endlinecolor": "#2a3f5f",
             "gridcolor": "white",
             "linecolor": "white",
             "minorgridcolor": "white",
             "startlinecolor": "#2a3f5f"
            },
            "type": "carpet"
           }
          ],
          "choropleth": [
           {
            "colorbar": {
             "outlinewidth": 0,
             "ticks": ""
            },
            "type": "choropleth"
           }
          ],
          "contour": [
           {
            "colorbar": {
             "outlinewidth": 0,
             "ticks": ""
            },
            "colorscale": [
             [
              0,
              "#0d0887"
             ],
             [
              0.1111111111111111,
              "#46039f"
             ],
             [
              0.2222222222222222,
              "#7201a8"
             ],
             [
              0.3333333333333333,
              "#9c179e"
             ],
             [
              0.4444444444444444,
              "#bd3786"
             ],
             [
              0.5555555555555556,
              "#d8576b"
             ],
             [
              0.6666666666666666,
              "#ed7953"
             ],
             [
              0.7777777777777778,
              "#fb9f3a"
             ],
             [
              0.8888888888888888,
              "#fdca26"
             ],
             [
              1,
              "#f0f921"
             ]
            ],
            "type": "contour"
           }
          ],
          "contourcarpet": [
           {
            "colorbar": {
             "outlinewidth": 0,
             "ticks": ""
            },
            "type": "contourcarpet"
           }
          ],
          "heatmap": [
           {
            "colorbar": {
             "outlinewidth": 0,
             "ticks": ""
            },
            "colorscale": [
             [
              0,
              "#0d0887"
             ],
             [
              0.1111111111111111,
              "#46039f"
             ],
             [
              0.2222222222222222,
              "#7201a8"
             ],
             [
              0.3333333333333333,
              "#9c179e"
             ],
             [
              0.4444444444444444,
              "#bd3786"
             ],
             [
              0.5555555555555556,
              "#d8576b"
             ],
             [
              0.6666666666666666,
              "#ed7953"
             ],
             [
              0.7777777777777778,
              "#fb9f3a"
             ],
             [
              0.8888888888888888,
              "#fdca26"
             ],
             [
              1,
              "#f0f921"
             ]
            ],
            "type": "heatmap"
           }
          ],
          "heatmapgl": [
           {
            "colorbar": {
             "outlinewidth": 0,
             "ticks": ""
            },
            "colorscale": [
             [
              0,
              "#0d0887"
             ],
             [
              0.1111111111111111,
              "#46039f"
             ],
             [
              0.2222222222222222,
              "#7201a8"
             ],
             [
              0.3333333333333333,
              "#9c179e"
             ],
             [
              0.4444444444444444,
              "#bd3786"
             ],
             [
              0.5555555555555556,
              "#d8576b"
             ],
             [
              0.6666666666666666,
              "#ed7953"
             ],
             [
              0.7777777777777778,
              "#fb9f3a"
             ],
             [
              0.8888888888888888,
              "#fdca26"
             ],
             [
              1,
              "#f0f921"
             ]
            ],
            "type": "heatmapgl"
           }
          ],
          "histogram": [
           {
            "marker": {
             "pattern": {
              "fillmode": "overlay",
              "size": 10,
              "solidity": 0.2
             }
            },
            "type": "histogram"
           }
          ],
          "histogram2d": [
           {
            "colorbar": {
             "outlinewidth": 0,
             "ticks": ""
            },
            "colorscale": [
             [
              0,
              "#0d0887"
             ],
             [
              0.1111111111111111,
              "#46039f"
             ],
             [
              0.2222222222222222,
              "#7201a8"
             ],
             [
              0.3333333333333333,
              "#9c179e"
             ],
             [
              0.4444444444444444,
              "#bd3786"
             ],
             [
              0.5555555555555556,
              "#d8576b"
             ],
             [
              0.6666666666666666,
              "#ed7953"
             ],
             [
              0.7777777777777778,
              "#fb9f3a"
             ],
             [
              0.8888888888888888,
              "#fdca26"
             ],
             [
              1,
              "#f0f921"
             ]
            ],
            "type": "histogram2d"
           }
          ],
          "histogram2dcontour": [
           {
            "colorbar": {
             "outlinewidth": 0,
             "ticks": ""
            },
            "colorscale": [
             [
              0,
              "#0d0887"
             ],
             [
              0.1111111111111111,
              "#46039f"
             ],
             [
              0.2222222222222222,
              "#7201a8"
             ],
             [
              0.3333333333333333,
              "#9c179e"
             ],
             [
              0.4444444444444444,
              "#bd3786"
             ],
             [
              0.5555555555555556,
              "#d8576b"
             ],
             [
              0.6666666666666666,
              "#ed7953"
             ],
             [
              0.7777777777777778,
              "#fb9f3a"
             ],
             [
              0.8888888888888888,
              "#fdca26"
             ],
             [
              1,
              "#f0f921"
             ]
            ],
            "type": "histogram2dcontour"
           }
          ],
          "mesh3d": [
           {
            "colorbar": {
             "outlinewidth": 0,
             "ticks": ""
            },
            "type": "mesh3d"
           }
          ],
          "parcoords": [
           {
            "line": {
             "colorbar": {
              "outlinewidth": 0,
              "ticks": ""
             }
            },
            "type": "parcoords"
           }
          ],
          "pie": [
           {
            "automargin": true,
            "type": "pie"
           }
          ],
          "scatter": [
           {
            "fillpattern": {
             "fillmode": "overlay",
             "size": 10,
             "solidity": 0.2
            },
            "type": "scatter"
           }
          ],
          "scatter3d": [
           {
            "line": {
             "colorbar": {
              "outlinewidth": 0,
              "ticks": ""
             }
            },
            "marker": {
             "colorbar": {
              "outlinewidth": 0,
              "ticks": ""
             }
            },
            "type": "scatter3d"
           }
          ],
          "scattercarpet": [
           {
            "marker": {
             "colorbar": {
              "outlinewidth": 0,
              "ticks": ""
             }
            },
            "type": "scattercarpet"
           }
          ],
          "scattergeo": [
           {
            "marker": {
             "colorbar": {
              "outlinewidth": 0,
              "ticks": ""
             }
            },
            "type": "scattergeo"
           }
          ],
          "scattergl": [
           {
            "marker": {
             "colorbar": {
              "outlinewidth": 0,
              "ticks": ""
             }
            },
            "type": "scattergl"
           }
          ],
          "scattermapbox": [
           {
            "marker": {
             "colorbar": {
              "outlinewidth": 0,
              "ticks": ""
             }
            },
            "type": "scattermapbox"
           }
          ],
          "scatterpolar": [
           {
            "marker": {
             "colorbar": {
              "outlinewidth": 0,
              "ticks": ""
             }
            },
            "type": "scatterpolar"
           }
          ],
          "scatterpolargl": [
           {
            "marker": {
             "colorbar": {
              "outlinewidth": 0,
              "ticks": ""
             }
            },
            "type": "scatterpolargl"
           }
          ],
          "scatterternary": [
           {
            "marker": {
             "colorbar": {
              "outlinewidth": 0,
              "ticks": ""
             }
            },
            "type": "scatterternary"
           }
          ],
          "surface": [
           {
            "colorbar": {
             "outlinewidth": 0,
             "ticks": ""
            },
            "colorscale": [
             [
              0,
              "#0d0887"
             ],
             [
              0.1111111111111111,
              "#46039f"
             ],
             [
              0.2222222222222222,
              "#7201a8"
             ],
             [
              0.3333333333333333,
              "#9c179e"
             ],
             [
              0.4444444444444444,
              "#bd3786"
             ],
             [
              0.5555555555555556,
              "#d8576b"
             ],
             [
              0.6666666666666666,
              "#ed7953"
             ],
             [
              0.7777777777777778,
              "#fb9f3a"
             ],
             [
              0.8888888888888888,
              "#fdca26"
             ],
             [
              1,
              "#f0f921"
             ]
            ],
            "type": "surface"
           }
          ],
          "table": [
           {
            "cells": {
             "fill": {
              "color": "#EBF0F8"
             },
             "line": {
              "color": "white"
             }
            },
            "header": {
             "fill": {
              "color": "#C8D4E3"
             },
             "line": {
              "color": "white"
             }
            },
            "type": "table"
           }
          ]
         },
         "layout": {
          "annotationdefaults": {
           "arrowcolor": "#2a3f5f",
           "arrowhead": 0,
           "arrowwidth": 1
          },
          "autotypenumbers": "strict",
          "coloraxis": {
           "colorbar": {
            "outlinewidth": 0,
            "ticks": ""
           }
          },
          "colorscale": {
           "diverging": [
            [
             0,
             "#8e0152"
            ],
            [
             0.1,
             "#c51b7d"
            ],
            [
             0.2,
             "#de77ae"
            ],
            [
             0.3,
             "#f1b6da"
            ],
            [
             0.4,
             "#fde0ef"
            ],
            [
             0.5,
             "#f7f7f7"
            ],
            [
             0.6,
             "#e6f5d0"
            ],
            [
             0.7,
             "#b8e186"
            ],
            [
             0.8,
             "#7fbc41"
            ],
            [
             0.9,
             "#4d9221"
            ],
            [
             1,
             "#276419"
            ]
           ],
           "sequential": [
            [
             0,
             "#0d0887"
            ],
            [
             0.1111111111111111,
             "#46039f"
            ],
            [
             0.2222222222222222,
             "#7201a8"
            ],
            [
             0.3333333333333333,
             "#9c179e"
            ],
            [
             0.4444444444444444,
             "#bd3786"
            ],
            [
             0.5555555555555556,
             "#d8576b"
            ],
            [
             0.6666666666666666,
             "#ed7953"
            ],
            [
             0.7777777777777778,
             "#fb9f3a"
            ],
            [
             0.8888888888888888,
             "#fdca26"
            ],
            [
             1,
             "#f0f921"
            ]
           ],
           "sequentialminus": [
            [
             0,
             "#0d0887"
            ],
            [
             0.1111111111111111,
             "#46039f"
            ],
            [
             0.2222222222222222,
             "#7201a8"
            ],
            [
             0.3333333333333333,
             "#9c179e"
            ],
            [
             0.4444444444444444,
             "#bd3786"
            ],
            [
             0.5555555555555556,
             "#d8576b"
            ],
            [
             0.6666666666666666,
             "#ed7953"
            ],
            [
             0.7777777777777778,
             "#fb9f3a"
            ],
            [
             0.8888888888888888,
             "#fdca26"
            ],
            [
             1,
             "#f0f921"
            ]
           ]
          },
          "colorway": [
           "#636efa",
           "#EF553B",
           "#00cc96",
           "#ab63fa",
           "#FFA15A",
           "#19d3f3",
           "#FF6692",
           "#B6E880",
           "#FF97FF",
           "#FECB52"
          ],
          "font": {
           "color": "#2a3f5f"
          },
          "geo": {
           "bgcolor": "white",
           "lakecolor": "white",
           "landcolor": "#E5ECF6",
           "showlakes": true,
           "showland": true,
           "subunitcolor": "white"
          },
          "hoverlabel": {
           "align": "left"
          },
          "hovermode": "closest",
          "mapbox": {
           "style": "light"
          },
          "paper_bgcolor": "white",
          "plot_bgcolor": "#E5ECF6",
          "polar": {
           "angularaxis": {
            "gridcolor": "white",
            "linecolor": "white",
            "ticks": ""
           },
           "bgcolor": "#E5ECF6",
           "radialaxis": {
            "gridcolor": "white",
            "linecolor": "white",
            "ticks": ""
           }
          },
          "scene": {
           "xaxis": {
            "backgroundcolor": "#E5ECF6",
            "gridcolor": "white",
            "gridwidth": 2,
            "linecolor": "white",
            "showbackground": true,
            "ticks": "",
            "zerolinecolor": "white"
           },
           "yaxis": {
            "backgroundcolor": "#E5ECF6",
            "gridcolor": "white",
            "gridwidth": 2,
            "linecolor": "white",
            "showbackground": true,
            "ticks": "",
            "zerolinecolor": "white"
           },
           "zaxis": {
            "backgroundcolor": "#E5ECF6",
            "gridcolor": "white",
            "gridwidth": 2,
            "linecolor": "white",
            "showbackground": true,
            "ticks": "",
            "zerolinecolor": "white"
           }
          },
          "shapedefaults": {
           "line": {
            "color": "#2a3f5f"
           }
          },
          "ternary": {
           "aaxis": {
            "gridcolor": "white",
            "linecolor": "white",
            "ticks": ""
           },
           "baxis": {
            "gridcolor": "white",
            "linecolor": "white",
            "ticks": ""
           },
           "bgcolor": "#E5ECF6",
           "caxis": {
            "gridcolor": "white",
            "linecolor": "white",
            "ticks": ""
           }
          },
          "title": {
           "x": 0.05
          },
          "xaxis": {
           "automargin": true,
           "gridcolor": "white",
           "linecolor": "white",
           "ticks": "",
           "title": {
            "standoff": 15
           },
           "zerolinecolor": "white",
           "zerolinewidth": 2
          },
          "yaxis": {
           "automargin": true,
           "gridcolor": "white",
           "linecolor": "white",
           "ticks": "",
           "title": {
            "standoff": 15
           },
           "zerolinecolor": "white",
           "zerolinewidth": 2
          }
         }
        },
        "title": {
         "text": "COVID-19 in Brazil: caso.csvs e mortes por estado"
        },
        "width": 1000,
        "xaxis": {
         "title": {
          "text": "Estados"
         }
        },
        "yaxis": {
         "title": {
          "text": "Confirmados"
         }
        }
       }
      },
      "text/html": [
       "<div>                            <div id=\"5b362490-1eed-4d32-9f86-f0a7d3a1afcf\" class=\"plotly-graph-div\" style=\"height:900px; width:1000px;\"></div>            <script type=\"text/javascript\">                require([\"plotly\"], function(Plotly) {                    window.PLOTLYENV=window.PLOTLYENV || {};                                    if (document.getElementById(\"5b362490-1eed-4d32-9f86-f0a7d3a1afcf\")) {                    Plotly.newPlot(                        \"5b362490-1eed-4d32-9f86-f0a7d3a1afcf\",                        [{\"name\":\"Confirmed\",\"x\":[\"AC\",\"RR\",\"AP\",\"AL\",\"TO\",\"SE\",\"PI\",\"RO\",\"MA\",\"RN\",\"MS\",\"AM\",\"PB\",\"DF\",\"MT\",\"PA\",\"PE\",\"ES\",\"CE\",\"GO\",\"BA\",\"SC\",\"RJ\",\"RS\",\"PR\",\"MG\",\"SP\"],\"y\":[123808,155062,160328,295972,302502,325274,367515,391943,424199,495749,523565,581070,594891,691353,724653,751293,892115,1037188,1239746,1269853,1530054,1671175,2078817,2263880,2407960,3317401,5232374],\"type\":\"bar\"},{\"name\":\"Deaths\",\"x\":[\"AC\",\"RR\",\"AP\",\"AL\",\"TO\",\"SE\",\"PI\",\"RO\",\"MA\",\"RN\",\"MS\",\"AM\",\"PB\",\"DF\",\"MT\",\"PA\",\"PE\",\"ES\",\"CE\",\"GO\",\"BA\",\"SC\",\"RJ\",\"RS\",\"PR\",\"MG\",\"SP\"],\"y\":[1992,2144,2122,6869,4142,6309,7721,7172,10869,8119,10486,14151,10189,11573,14854,18079,21366,14323,26708,26212,29658,21648,72695,38985,42896,60767,167110],\"type\":\"bar\"}],                        {\"template\":{\"data\":{\"histogram2dcontour\":[{\"type\":\"histogram2dcontour\",\"colorbar\":{\"outlinewidth\":0,\"ticks\":\"\"},\"colorscale\":[[0.0,\"#0d0887\"],[0.1111111111111111,\"#46039f\"],[0.2222222222222222,\"#7201a8\"],[0.3333333333333333,\"#9c179e\"],[0.4444444444444444,\"#bd3786\"],[0.5555555555555556,\"#d8576b\"],[0.6666666666666666,\"#ed7953\"],[0.7777777777777778,\"#fb9f3a\"],[0.8888888888888888,\"#fdca26\"],[1.0,\"#f0f921\"]]}],\"choropleth\":[{\"type\":\"choropleth\",\"colorbar\":{\"outlinewidth\":0,\"ticks\":\"\"}}],\"histogram2d\":[{\"type\":\"histogram2d\",\"colorbar\":{\"outlinewidth\":0,\"ticks\":\"\"},\"colorscale\":[[0.0,\"#0d0887\"],[0.1111111111111111,\"#46039f\"],[0.2222222222222222,\"#7201a8\"],[0.3333333333333333,\"#9c179e\"],[0.4444444444444444,\"#bd3786\"],[0.5555555555555556,\"#d8576b\"],[0.6666666666666666,\"#ed7953\"],[0.7777777777777778,\"#fb9f3a\"],[0.8888888888888888,\"#fdca26\"],[1.0,\"#f0f921\"]]}],\"heatmap\":[{\"type\":\"heatmap\",\"colorbar\":{\"outlinewidth\":0,\"ticks\":\"\"},\"colorscale\":[[0.0,\"#0d0887\"],[0.1111111111111111,\"#46039f\"],[0.2222222222222222,\"#7201a8\"],[0.3333333333333333,\"#9c179e\"],[0.4444444444444444,\"#bd3786\"],[0.5555555555555556,\"#d8576b\"],[0.6666666666666666,\"#ed7953\"],[0.7777777777777778,\"#fb9f3a\"],[0.8888888888888888,\"#fdca26\"],[1.0,\"#f0f921\"]]}],\"heatmapgl\":[{\"type\":\"heatmapgl\",\"colorbar\":{\"outlinewidth\":0,\"ticks\":\"\"},\"colorscale\":[[0.0,\"#0d0887\"],[0.1111111111111111,\"#46039f\"],[0.2222222222222222,\"#7201a8\"],[0.3333333333333333,\"#9c179e\"],[0.4444444444444444,\"#bd3786\"],[0.5555555555555556,\"#d8576b\"],[0.6666666666666666,\"#ed7953\"],[0.7777777777777778,\"#fb9f3a\"],[0.8888888888888888,\"#fdca26\"],[1.0,\"#f0f921\"]]}],\"contourcarpet\":[{\"type\":\"contourcarpet\",\"colorbar\":{\"outlinewidth\":0,\"ticks\":\"\"}}],\"contour\":[{\"type\":\"contour\",\"colorbar\":{\"outlinewidth\":0,\"ticks\":\"\"},\"colorscale\":[[0.0,\"#0d0887\"],[0.1111111111111111,\"#46039f\"],[0.2222222222222222,\"#7201a8\"],[0.3333333333333333,\"#9c179e\"],[0.4444444444444444,\"#bd3786\"],[0.5555555555555556,\"#d8576b\"],[0.6666666666666666,\"#ed7953\"],[0.7777777777777778,\"#fb9f3a\"],[0.8888888888888888,\"#fdca26\"],[1.0,\"#f0f921\"]]}],\"surface\":[{\"type\":\"surface\",\"colorbar\":{\"outlinewidth\":0,\"ticks\":\"\"},\"colorscale\":[[0.0,\"#0d0887\"],[0.1111111111111111,\"#46039f\"],[0.2222222222222222,\"#7201a8\"],[0.3333333333333333,\"#9c179e\"],[0.4444444444444444,\"#bd3786\"],[0.5555555555555556,\"#d8576b\"],[0.6666666666666666,\"#ed7953\"],[0.7777777777777778,\"#fb9f3a\"],[0.8888888888888888,\"#fdca26\"],[1.0,\"#f0f921\"]]}],\"mesh3d\":[{\"type\":\"mesh3d\",\"colorbar\":{\"outlinewidth\":0,\"ticks\":\"\"}}],\"scatter\":[{\"fillpattern\":{\"fillmode\":\"overlay\",\"size\":10,\"solidity\":0.2},\"type\":\"scatter\"}],\"parcoords\":[{\"type\":\"parcoords\",\"line\":{\"colorbar\":{\"outlinewidth\":0,\"ticks\":\"\"}}}],\"scatterpolargl\":[{\"type\":\"scatterpolargl\",\"marker\":{\"colorbar\":{\"outlinewidth\":0,\"ticks\":\"\"}}}],\"bar\":[{\"error_x\":{\"color\":\"#2a3f5f\"},\"error_y\":{\"color\":\"#2a3f5f\"},\"marker\":{\"line\":{\"color\":\"#E5ECF6\",\"width\":0.5},\"pattern\":{\"fillmode\":\"overlay\",\"size\":10,\"solidity\":0.2}},\"type\":\"bar\"}],\"scattergeo\":[{\"type\":\"scattergeo\",\"marker\":{\"colorbar\":{\"outlinewidth\":0,\"ticks\":\"\"}}}],\"scatterpolar\":[{\"type\":\"scatterpolar\",\"marker\":{\"colorbar\":{\"outlinewidth\":0,\"ticks\":\"\"}}}],\"histogram\":[{\"marker\":{\"pattern\":{\"fillmode\":\"overlay\",\"size\":10,\"solidity\":0.2}},\"type\":\"histogram\"}],\"scattergl\":[{\"type\":\"scattergl\",\"marker\":{\"colorbar\":{\"outlinewidth\":0,\"ticks\":\"\"}}}],\"scatter3d\":[{\"type\":\"scatter3d\",\"line\":{\"colorbar\":{\"outlinewidth\":0,\"ticks\":\"\"}},\"marker\":{\"colorbar\":{\"outlinewidth\":0,\"ticks\":\"\"}}}],\"scattermapbox\":[{\"type\":\"scattermapbox\",\"marker\":{\"colorbar\":{\"outlinewidth\":0,\"ticks\":\"\"}}}],\"scatterternary\":[{\"type\":\"scatterternary\",\"marker\":{\"colorbar\":{\"outlinewidth\":0,\"ticks\":\"\"}}}],\"scattercarpet\":[{\"type\":\"scattercarpet\",\"marker\":{\"colorbar\":{\"outlinewidth\":0,\"ticks\":\"\"}}}],\"carpet\":[{\"aaxis\":{\"endlinecolor\":\"#2a3f5f\",\"gridcolor\":\"white\",\"linecolor\":\"white\",\"minorgridcolor\":\"white\",\"startlinecolor\":\"#2a3f5f\"},\"baxis\":{\"endlinecolor\":\"#2a3f5f\",\"gridcolor\":\"white\",\"linecolor\":\"white\",\"minorgridcolor\":\"white\",\"startlinecolor\":\"#2a3f5f\"},\"type\":\"carpet\"}],\"table\":[{\"cells\":{\"fill\":{\"color\":\"#EBF0F8\"},\"line\":{\"color\":\"white\"}},\"header\":{\"fill\":{\"color\":\"#C8D4E3\"},\"line\":{\"color\":\"white\"}},\"type\":\"table\"}],\"barpolar\":[{\"marker\":{\"line\":{\"color\":\"#E5ECF6\",\"width\":0.5},\"pattern\":{\"fillmode\":\"overlay\",\"size\":10,\"solidity\":0.2}},\"type\":\"barpolar\"}],\"pie\":[{\"automargin\":true,\"type\":\"pie\"}]},\"layout\":{\"autotypenumbers\":\"strict\",\"colorway\":[\"#636efa\",\"#EF553B\",\"#00cc96\",\"#ab63fa\",\"#FFA15A\",\"#19d3f3\",\"#FF6692\",\"#B6E880\",\"#FF97FF\",\"#FECB52\"],\"font\":{\"color\":\"#2a3f5f\"},\"hovermode\":\"closest\",\"hoverlabel\":{\"align\":\"left\"},\"paper_bgcolor\":\"white\",\"plot_bgcolor\":\"#E5ECF6\",\"polar\":{\"bgcolor\":\"#E5ECF6\",\"angularaxis\":{\"gridcolor\":\"white\",\"linecolor\":\"white\",\"ticks\":\"\"},\"radialaxis\":{\"gridcolor\":\"white\",\"linecolor\":\"white\",\"ticks\":\"\"}},\"ternary\":{\"bgcolor\":\"#E5ECF6\",\"aaxis\":{\"gridcolor\":\"white\",\"linecolor\":\"white\",\"ticks\":\"\"},\"baxis\":{\"gridcolor\":\"white\",\"linecolor\":\"white\",\"ticks\":\"\"},\"caxis\":{\"gridcolor\":\"white\",\"linecolor\":\"white\",\"ticks\":\"\"}},\"coloraxis\":{\"colorbar\":{\"outlinewidth\":0,\"ticks\":\"\"}},\"colorscale\":{\"sequential\":[[0.0,\"#0d0887\"],[0.1111111111111111,\"#46039f\"],[0.2222222222222222,\"#7201a8\"],[0.3333333333333333,\"#9c179e\"],[0.4444444444444444,\"#bd3786\"],[0.5555555555555556,\"#d8576b\"],[0.6666666666666666,\"#ed7953\"],[0.7777777777777778,\"#fb9f3a\"],[0.8888888888888888,\"#fdca26\"],[1.0,\"#f0f921\"]],\"sequentialminus\":[[0.0,\"#0d0887\"],[0.1111111111111111,\"#46039f\"],[0.2222222222222222,\"#7201a8\"],[0.3333333333333333,\"#9c179e\"],[0.4444444444444444,\"#bd3786\"],[0.5555555555555556,\"#d8576b\"],[0.6666666666666666,\"#ed7953\"],[0.7777777777777778,\"#fb9f3a\"],[0.8888888888888888,\"#fdca26\"],[1.0,\"#f0f921\"]],\"diverging\":[[0,\"#8e0152\"],[0.1,\"#c51b7d\"],[0.2,\"#de77ae\"],[0.3,\"#f1b6da\"],[0.4,\"#fde0ef\"],[0.5,\"#f7f7f7\"],[0.6,\"#e6f5d0\"],[0.7,\"#b8e186\"],[0.8,\"#7fbc41\"],[0.9,\"#4d9221\"],[1,\"#276419\"]]},\"xaxis\":{\"gridcolor\":\"white\",\"linecolor\":\"white\",\"ticks\":\"\",\"title\":{\"standoff\":15},\"zerolinecolor\":\"white\",\"automargin\":true,\"zerolinewidth\":2},\"yaxis\":{\"gridcolor\":\"white\",\"linecolor\":\"white\",\"ticks\":\"\",\"title\":{\"standoff\":15},\"zerolinecolor\":\"white\",\"automargin\":true,\"zerolinewidth\":2},\"scene\":{\"xaxis\":{\"backgroundcolor\":\"#E5ECF6\",\"gridcolor\":\"white\",\"linecolor\":\"white\",\"showbackground\":true,\"ticks\":\"\",\"zerolinecolor\":\"white\",\"gridwidth\":2},\"yaxis\":{\"backgroundcolor\":\"#E5ECF6\",\"gridcolor\":\"white\",\"linecolor\":\"white\",\"showbackground\":true,\"ticks\":\"\",\"zerolinecolor\":\"white\",\"gridwidth\":2},\"zaxis\":{\"backgroundcolor\":\"#E5ECF6\",\"gridcolor\":\"white\",\"linecolor\":\"white\",\"showbackground\":true,\"ticks\":\"\",\"zerolinecolor\":\"white\",\"gridwidth\":2}},\"shapedefaults\":{\"line\":{\"color\":\"#2a3f5f\"}},\"annotationdefaults\":{\"arrowcolor\":\"#2a3f5f\",\"arrowhead\":0,\"arrowwidth\":1},\"geo\":{\"bgcolor\":\"white\",\"landcolor\":\"#E5ECF6\",\"subunitcolor\":\"white\",\"showland\":true,\"showlakes\":true,\"lakecolor\":\"white\"},\"title\":{\"x\":0.05},\"mapbox\":{\"style\":\"light\"}}},\"legend\":{\"title\":{\"text\":\"<b>COVID-19</b>\"},\"x\":0.75,\"y\":0.5},\"barmode\":\"stack\",\"title\":{\"text\":\"COVID-19 in Brazil: caso.csvs e mortes por estado\"},\"xaxis\":{\"title\":{\"text\":\"Estados\"}},\"yaxis\":{\"title\":{\"text\":\"Confirmados\"}},\"width\":1000,\"height\":900},                        {\"responsive\": true}                    ).then(function(){\n",
       "                            \n",
       "var gd = document.getElementById('5b362490-1eed-4d32-9f86-f0a7d3a1afcf');\n",
       "var x = new MutationObserver(function (mutations, observer) {{\n",
       "        var display = window.getComputedStyle(gd).display;\n",
       "        if (!display || display === 'none') {{\n",
       "            console.log([gd, 'removed!']);\n",
       "            Plotly.purge(gd);\n",
       "            observer.disconnect();\n",
       "        }}\n",
       "}});\n",
       "\n",
       "// Listen for the removal of the full notebook cells\n",
       "var notebookContainer = gd.closest('#notebook-container');\n",
       "if (notebookContainer) {{\n",
       "    x.observe(notebookContainer, {childList: true});\n",
       "}}\n",
       "\n",
       "// Listen for the clearing of the current output cell\n",
       "var outputEl = gd.closest('.output');\n",
       "if (outputEl) {{\n",
       "    x.observe(outputEl, {childList: true});\n",
       "}}\n",
       "\n",
       "                        })                };                });            </script>        </div>"
      ]
     },
     "metadata": {},
     "output_type": "display_data"
    }
   ],
   "source": [
    "fig = go.Figure(data=[\n",
    "    go.Bar(name='Confirmed', x=t['state'], y=t['confirmed']),\n",
    "    go.Bar(name='Deaths', x=t['state'], y=t['deaths'])\n",
    "])\n",
    "fig.update_layout(barmode='stack', title=\"COVID-19 in Brazil: caso.csvs e mortes por estado\", \n",
    "                  xaxis_title=\"Estados\", yaxis_title=\"Confirmados\", legend_title='<b>COVID-19</b>',\n",
    "                  legend=dict(x=0.75,y=0.5), width=1000, height=900)\n",
    "fig.show()"
   ]
  },
  {
   "cell_type": "code",
   "execution_count": 115,
   "id": "48da581b",
   "metadata": {},
   "outputs": [],
   "source": [
    "quant = new_selecao.loc[new_selecao['is_last'] == True].copy()\n"
   ]
  },
  {
   "cell_type": "code",
   "execution_count": 116,
   "id": "a24afe4f",
   "metadata": {},
   "outputs": [],
   "source": [
    "ultimo = new_selecao.loc[new_selecao['is_last'] == True].copy()"
   ]
  },
  {
   "cell_type": "code",
   "execution_count": 117,
   "id": "9801ed5e",
   "metadata": {},
   "outputs": [],
   "source": [
    "quant = quant[['confirmed', 'deaths', 'order_for_place', 'estimated_population','death_rate']]"
   ]
  },
  {
   "cell_type": "markdown",
   "id": "944df74d",
   "metadata": {},
   "source": [
    "### na tabela abaixo tentei identificar uma correlção forte entre algumas variaveis. tivemos apenas uma forte que é dada entre confirmados e mortes.\n",
    "\n",
    "### obs: coloquei de 0 a 1 pois nenhuma ficou inversamente proporcional a outra portando melhora a visualização"
   ]
  },
  {
   "cell_type": "code",
   "execution_count": 126,
   "id": "24ad9709",
   "metadata": {},
   "outputs": [
    {
     "data": {
      "image/png": "[encoded data removed]",
      "text/plain": [
       "<Figure size 900x700 with 2 Axes>"
      ]
     },
     "metadata": {},
     "output_type": "display_data"
    }
   ],
   "source": [
    "fig, ax = plt.subplots(figsize=(9,7))\n",
    "sns.heatmap(quant.corr(), vmin=0, cmap='YlGnBu')\n",
    "plt.show();"
   ]
  },
  {
   "cell_type": "markdown",
   "id": "34db2d4f",
   "metadata": {},
   "source": [
    "### nesses boxplots abaixo podemos visualizar alguns dados estatisticos importantes. nesse grafico podemos observar que usar media como medida referencia para o numero de casos nao seria correto devido a grande dispersão dos dados, a mediana seria mais adequada."
   ]
  },
  {
   "cell_type": "code",
   "execution_count": 119,
   "id": "39e34344",
   "metadata": {},
   "outputs": [
    {
     "data": {
      "application/vnd.plotly.v1+json": {
       "config": {
        "plotlyServerURL": "https://plot.ly"
       },
       "data": [
        {
         "alignmentgroup": "True",
         "hovertemplate": "variable=%{x}<br>value=%{y}<extra></extra>",
         "legendgroup": "",
         "marker": {
          "color": "#636efa"
         },
         "name": "",
         "notched": false,
         "offsetgroup": "",
         "orientation": "v",
         "showlegend": false,
         "type": "box",
         "x": [
          "confirmed",
          "confirmed",
          "confirmed",
          "confirmed",
          "confirmed",
          "confirmed",
          "confirmed",
          "confirmed",
          "confirmed",
          "confirmed",
          "confirmed",
          "confirmed",
          "confirmed",
          "confirmed",
          "confirmed",
          "confirmed",
          "confirmed",
          "confirmed",
          "confirmed",
          "confirmed",
          "confirmed",
          "confirmed",
          "confirmed",
          "confirmed",
          "confirmed",
          "confirmed",
          "confirmed"
         ],
         "x0": " ",
         "xaxis": "x",
         "y": [
          160328,
          123808,
          581070,
          295972,
          691353,
          1037188,
          1239746,
          1530054,
          523565,
          424199,
          1269853,
          724653,
          751293,
          892115,
          594891,
          367515,
          2078817,
          3317401,
          495749,
          155062,
          391943,
          2407960,
          325274,
          1671175,
          302502,
          2263880,
          5232374
         ],
         "y0": " ",
         "yaxis": "y"
        }
       ],
       "layout": {
        "boxmode": "group",
        "height": 600,
        "legend": {
         "title": {
          "text": "<b>COVID-19</b>"
         },
         "tracegroupgap": 0,
         "x": 0.75,
         "y": 0.5
        },
        "margin": {
         "t": 60
        },
        "template": {
         "data": {
          "bar": [
           {
            "error_x": {
             "color": "#2a3f5f"
            },
            "error_y": {
             "color": "#2a3f5f"
            },
            "marker": {
             "line": {
              "color": "#E5ECF6",
              "width": 0.5
             },
             "pattern": {
              "fillmode": "overlay",
              "size": 10,
              "solidity": 0.2
             }
            },
            "type": "bar"
           }
          ],
          "barpolar": [
           {
            "marker": {
             "line": {
              "color": "#E5ECF6",
              "width": 0.5
             },
             "pattern": {
              "fillmode": "overlay",
              "size": 10,
              "solidity": 0.2
             }
            },
            "type": "barpolar"
           }
          ],
          "carpet": [
           {
            "aaxis": {
             "endlinecolor": "#2a3f5f",
             "gridcolor": "white",
             "linecolor": "white",
             "minorgridcolor": "white",
             "startlinecolor": "#2a3f5f"
            },
            "baxis": {
             "endlinecolor": "#2a3f5f",
             "gridcolor": "white",
             "linecolor": "white",
             "minorgridcolor": "white",
             "startlinecolor": "#2a3f5f"
            },
            "type": "carpet"
           }
          ],
          "choropleth": [
           {
            "colorbar": {
             "outlinewidth": 0,
             "ticks": ""
            },
            "type": "choropleth"
           }
          ],
          "contour": [
           {
            "colorbar": {
             "outlinewidth": 0,
             "ticks": ""
            },
            "colorscale": [
             [
              0,
              "#0d0887"
             ],
             [
              0.1111111111111111,
              "#46039f"
             ],
             [
              0.2222222222222222,
              "#7201a8"
             ],
             [
              0.3333333333333333,
              "#9c179e"
             ],
             [
              0.4444444444444444,
              "#bd3786"
             ],
             [
              0.5555555555555556,
              "#d8576b"
             ],
             [
              0.6666666666666666,
              "#ed7953"
             ],
             [
              0.7777777777777778,
              "#fb9f3a"
             ],
             [
              0.8888888888888888,
              "#fdca26"
             ],
             [
              1,
              "#f0f921"
             ]
            ],
            "type": "contour"
           }
          ],
          "contourcarpet": [
           {
            "colorbar": {
             "outlinewidth": 0,
             "ticks": ""
            },
            "type": "contourcarpet"
           }
          ],
          "heatmap": [
           {
            "colorbar": {
             "outlinewidth": 0,
             "ticks": ""
            },
            "colorscale": [
             [
              0,
              "#0d0887"
             ],
             [
              0.1111111111111111,
              "#46039f"
             ],
             [
              0.2222222222222222,
              "#7201a8"
             ],
             [
              0.3333333333333333,
              "#9c179e"
             ],
             [
              0.4444444444444444,
              "#bd3786"
             ],
             [
              0.5555555555555556,
              "#d8576b"
             ],
             [
              0.6666666666666666,
              "#ed7953"
             ],
             [
              0.7777777777777778,
              "#fb9f3a"
             ],
             [
              0.8888888888888888,
              "#fdca26"
             ],
             [
              1,
              "#f0f921"
             ]
            ],
            "type": "heatmap"
           }
          ],
          "heatmapgl": [
           {
            "colorbar": {
             "outlinewidth": 0,
             "ticks": ""
            },
            "colorscale": [
             [
              0,
              "#0d0887"
             ],
             [
              0.1111111111111111,
              "#46039f"
             ],
             [
              0.2222222222222222,
              "#7201a8"
             ],
             [
              0.3333333333333333,
              "#9c179e"
             ],
             [
              0.4444444444444444,
              "#bd3786"
             ],
             [
              0.5555555555555556,
              "#d8576b"
             ],
             [
              0.6666666666666666,
              "#ed7953"
             ],
             [
              0.7777777777777778,
              "#fb9f3a"
             ],
             [
              0.8888888888888888,
              "#fdca26"
             ],
             [
              1,
              "#f0f921"
             ]
            ],
            "type": "heatmapgl"
           }
          ],
          "histogram": [
           {
            "marker": {
             "pattern": {
              "fillmode": "overlay",
              "size": 10,
              "solidity": 0.2
             }
            },
            "type": "histogram"
           }
          ],
          "histogram2d": [
           {
            "colorbar": {
             "outlinewidth": 0,
             "ticks": ""
            },
            "colorscale": [
             [
              0,
              "#0d0887"
             ],
             [
              0.1111111111111111,
              "#46039f"
             ],
             [
              0.2222222222222222,
              "#7201a8"
             ],
             [
              0.3333333333333333,
              "#9c179e"
             ],
             [
              0.4444444444444444,
              "#bd3786"
             ],
             [
              0.5555555555555556,
              "#d8576b"
             ],
             [
              0.6666666666666666,
              "#ed7953"
             ],
             [
              0.7777777777777778,
              "#fb9f3a"
             ],
             [
              0.8888888888888888,
              "#fdca26"
             ],
             [
              1,
              "#f0f921"
             ]
            ],
            "type": "histogram2d"
           }
          ],
          "histogram2dcontour": [
           {
            "colorbar": {
             "outlinewidth": 0,
             "ticks": ""
            },
            "colorscale": [
             [
              0,
              "#0d0887"
             ],
             [
              0.1111111111111111,
              "#46039f"
             ],
             [
              0.2222222222222222,
              "#7201a8"
             ],
             [
              0.3333333333333333,
              "#9c179e"
             ],
             [
              0.4444444444444444,
              "#bd3786"
             ],
             [
              0.5555555555555556,
              "#d8576b"
             ],
             [
              0.6666666666666666,
              "#ed7953"
             ],
             [
              0.7777777777777778,
              "#fb9f3a"
             ],
             [
              0.8888888888888888,
              "#fdca26"
             ],
             [
              1,
              "#f0f921"
             ]
            ],
            "type": "histogram2dcontour"
           }
          ],
          "mesh3d": [
           {
            "colorbar": {
             "outlinewidth": 0,
             "ticks": ""
            },
            "type": "mesh3d"
           }
          ],
          "parcoords": [
           {
            "line": {
             "colorbar": {
              "outlinewidth": 0,
              "ticks": ""
             }
            },
            "type": "parcoords"
           }
          ],
          "pie": [
           {
            "automargin": true,
            "type": "pie"
           }
          ],
          "scatter": [
           {
            "fillpattern": {
             "fillmode": "overlay",
             "size": 10,
             "solidity": 0.2
            },
            "type": "scatter"
           }
          ],
          "scatter3d": [
           {
            "line": {
             "colorbar": {
              "outlinewidth": 0,
              "ticks": ""
             }
            },
            "marker": {
             "colorbar": {
              "outlinewidth": 0,
              "ticks": ""
             }
            },
            "type": "scatter3d"
           }
          ],
          "scattercarpet": [
           {
            "marker": {
             "colorbar": {
              "outlinewidth": 0,
              "ticks": ""
             }
            },
            "type": "scattercarpet"
           }
          ],
          "scattergeo": [
           {
            "marker": {
             "colorbar": {
              "outlinewidth": 0,
              "ticks": ""
             }
            },
            "type": "scattergeo"
           }
          ],
          "scattergl": [
           {
            "marker": {
             "colorbar": {
              "outlinewidth": 0,
              "ticks": ""
             }
            },
            "type": "scattergl"
           }
          ],
          "scattermapbox": [
           {
            "marker": {
             "colorbar": {
              "outlinewidth": 0,
              "ticks": ""
             }
            },
            "type": "scattermapbox"
           }
          ],
          "scatterpolar": [
           {
            "marker": {
             "colorbar": {
              "outlinewidth": 0,
              "ticks": ""
             }
            },
            "type": "scatterpolar"
           }
          ],
          "scatterpolargl": [
           {
            "marker": {
             "colorbar": {
              "outlinewidth": 0,
              "ticks": ""
             }
            },
            "type": "scatterpolargl"
           }
          ],
          "scatterternary": [
           {
            "marker": {
             "colorbar": {
              "outlinewidth": 0,
              "ticks": ""
             }
            },
            "type": "scatterternary"
           }
          ],
          "surface": [
           {
            "colorbar": {
             "outlinewidth": 0,
             "ticks": ""
            },
            "colorscale": [
             [
              0,
              "#0d0887"
             ],
             [
              0.1111111111111111,
              "#46039f"
             ],
             [
              0.2222222222222222,
              "#7201a8"
             ],
             [
              0.3333333333333333,
              "#9c179e"
             ],
             [
              0.4444444444444444,
              "#bd3786"
             ],
             [
              0.5555555555555556,
              "#d8576b"
             ],
             [
              0.6666666666666666,
              "#ed7953"
             ],
             [
              0.7777777777777778,
              "#fb9f3a"
             ],
             [
              0.8888888888888888,
              "#fdca26"
             ],
             [
              1,
              "#f0f921"
             ]
            ],
            "type": "surface"
           }
          ],
          "table": [
           {
            "cells": {
             "fill": {
              "color": "#EBF0F8"
             },
             "line": {
              "color": "white"
             }
            },
            "header": {
             "fill": {
              "color": "#C8D4E3"
             },
             "line": {
              "color": "white"
             }
            },
            "type": "table"
           }
          ]
         },
         "layout": {
          "annotationdefaults": {
           "arrowcolor": "#2a3f5f",
           "arrowhead": 0,
           "arrowwidth": 1
          },
          "autotypenumbers": "strict",
          "coloraxis": {
           "colorbar": {
            "outlinewidth": 0,
            "ticks": ""
           }
          },
          "colorscale": {
           "diverging": [
            [
             0,
             "#8e0152"
            ],
            [
             0.1,
             "#c51b7d"
            ],
            [
             0.2,
             "#de77ae"
            ],
            [
             0.3,
             "#f1b6da"
            ],
            [
             0.4,
             "#fde0ef"
            ],
            [
             0.5,
             "#f7f7f7"
            ],
            [
             0.6,
             "#e6f5d0"
            ],
            [
             0.7,
             "#b8e186"
            ],
            [
             0.8,
             "#7fbc41"
            ],
            [
             0.9,
             "#4d9221"
            ],
            [
             1,
             "#276419"
            ]
           ],
           "sequential": [
            [
             0,
             "#0d0887"
            ],
            [
             0.1111111111111111,
             "#46039f"
            ],
            [
             0.2222222222222222,
             "#7201a8"
            ],
            [
             0.3333333333333333,
             "#9c179e"
            ],
            [
             0.4444444444444444,
             "#bd3786"
            ],
            [
             0.5555555555555556,
             "#d8576b"
            ],
            [
             0.6666666666666666,
             "#ed7953"
            ],
            [
             0.7777777777777778,
             "#fb9f3a"
            ],
            [
             0.8888888888888888,
             "#fdca26"
            ],
            [
             1,
             "#f0f921"
            ]
           ],
           "sequentialminus": [
            [
             0,
             "#0d0887"
            ],
            [
             0.1111111111111111,
             "#46039f"
            ],
            [
             0.2222222222222222,
             "#7201a8"
            ],
            [
             0.3333333333333333,
             "#9c179e"
            ],
            [
             0.4444444444444444,
             "#bd3786"
            ],
            [
             0.5555555555555556,
             "#d8576b"
            ],
            [
             0.6666666666666666,
             "#ed7953"
            ],
            [
             0.7777777777777778,
             "#fb9f3a"
            ],
            [
             0.8888888888888888,
             "#fdca26"
            ],
            [
             1,
             "#f0f921"
            ]
           ]
          },
          "colorway": [
           "#636efa",
           "#EF553B",
           "#00cc96",
           "#ab63fa",
           "#FFA15A",
           "#19d3f3",
           "#FF6692",
           "#B6E880",
           "#FF97FF",
           "#FECB52"
          ],
          "font": {
           "color": "#2a3f5f"
          },
          "geo": {
           "bgcolor": "white",
           "lakecolor": "white",
           "landcolor": "#E5ECF6",
           "showlakes": true,
           "showland": true,
           "subunitcolor": "white"
          },
          "hoverlabel": {
           "align": "left"
          },
          "hovermode": "closest",
          "mapbox": {
           "style": "light"
          },
          "paper_bgcolor": "white",
          "plot_bgcolor": "#E5ECF6",
          "polar": {
           "angularaxis": {
            "gridcolor": "white",
            "linecolor": "white",
            "ticks": ""
           },
           "bgcolor": "#E5ECF6",
           "radialaxis": {
            "gridcolor": "white",
            "linecolor": "white",
            "ticks": ""
           }
          },
          "scene": {
           "xaxis": {
            "backgroundcolor": "#E5ECF6",
            "gridcolor": "white",
            "gridwidth": 2,
            "linecolor": "white",
            "showbackground": true,
            "ticks": "",
            "zerolinecolor": "white"
           },
           "yaxis": {
            "backgroundcolor": "#E5ECF6",
            "gridcolor": "white",
            "gridwidth": 2,
            "linecolor": "white",
            "showbackground": true,
            "ticks": "",
            "zerolinecolor": "white"
           },
           "zaxis": {
            "backgroundcolor": "#E5ECF6",
            "gridcolor": "white",
            "gridwidth": 2,
            "linecolor": "white",
            "showbackground": true,
            "ticks": "",
            "zerolinecolor": "white"
           }
          },
          "shapedefaults": {
           "line": {
            "color": "#2a3f5f"
           }
          },
          "ternary": {
           "aaxis": {
            "gridcolor": "white",
            "linecolor": "white",
            "ticks": ""
           },
           "baxis": {
            "gridcolor": "white",
            "linecolor": "white",
            "ticks": ""
           },
           "bgcolor": "#E5ECF6",
           "caxis": {
            "gridcolor": "white",
            "linecolor": "white",
            "ticks": ""
           }
          },
          "title": {
           "x": 0.05
          },
          "xaxis": {
           "automargin": true,
           "gridcolor": "white",
           "linecolor": "white",
           "ticks": "",
           "title": {
            "standoff": 15
           },
           "zerolinecolor": "white",
           "zerolinewidth": 2
          },
          "yaxis": {
           "automargin": true,
           "gridcolor": "white",
           "linecolor": "white",
           "ticks": "",
           "title": {
            "standoff": 15
           },
           "zerolinecolor": "white",
           "zerolinewidth": 2
          }
         }
        },
        "title": {
         "text": "COVID-19 in Brazil: Boxplot casos"
        },
        "width": 900,
        "xaxis": {
         "anchor": "y",
         "domain": [
          0,
          1
         ],
         "title": {
          "text": "Brasil"
         }
        },
        "yaxis": {
         "anchor": "x",
         "domain": [
          0,
          1
         ],
         "title": {
          "text": "Confirmados"
         }
        }
       }
      },
      "text/html": [
       "<div>                            <div id=\"25604f43-0713-4426-aac2-9b27ff2f0a1e\" class=\"plotly-graph-div\" style=\"height:600px; width:900px;\"></div>            <script type=\"text/javascript\">                require([\"plotly\"], function(Plotly) {                    window.PLOTLYENV=window.PLOTLYENV || {};                                    if (document.getElementById(\"25604f43-0713-4426-aac2-9b27ff2f0a1e\")) {                    Plotly.newPlot(                        \"25604f43-0713-4426-aac2-9b27ff2f0a1e\",                        [{\"alignmentgroup\":\"True\",\"hovertemplate\":\"variable=%{x}<br>value=%{y}<extra></extra>\",\"legendgroup\":\"\",\"marker\":{\"color\":\"#636efa\"},\"name\":\"\",\"notched\":false,\"offsetgroup\":\"\",\"orientation\":\"v\",\"showlegend\":false,\"x\":[\"confirmed\",\"confirmed\",\"confirmed\",\"confirmed\",\"confirmed\",\"confirmed\",\"confirmed\",\"confirmed\",\"confirmed\",\"confirmed\",\"confirmed\",\"confirmed\",\"confirmed\",\"confirmed\",\"confirmed\",\"confirmed\",\"confirmed\",\"confirmed\",\"confirmed\",\"confirmed\",\"confirmed\",\"confirmed\",\"confirmed\",\"confirmed\",\"confirmed\",\"confirmed\",\"confirmed\"],\"x0\":\" \",\"xaxis\":\"x\",\"y\":[160328,123808,581070,295972,691353,1037188,1239746,1530054,523565,424199,1269853,724653,751293,892115,594891,367515,2078817,3317401,495749,155062,391943,2407960,325274,1671175,302502,2263880,5232374],\"y0\":\" \",\"yaxis\":\"y\",\"type\":\"box\"}],                        {\"template\":{\"data\":{\"histogram2dcontour\":[{\"type\":\"histogram2dcontour\",\"colorbar\":{\"outlinewidth\":0,\"ticks\":\"\"},\"colorscale\":[[0.0,\"#0d0887\"],[0.1111111111111111,\"#46039f\"],[0.2222222222222222,\"#7201a8\"],[0.3333333333333333,\"#9c179e\"],[0.4444444444444444,\"#bd3786\"],[0.5555555555555556,\"#d8576b\"],[0.6666666666666666,\"#ed7953\"],[0.7777777777777778,\"#fb9f3a\"],[0.8888888888888888,\"#fdca26\"],[1.0,\"#f0f921\"]]}],\"choropleth\":[{\"type\":\"choropleth\",\"colorbar\":{\"outlinewidth\":0,\"ticks\":\"\"}}],\"histogram2d\":[{\"type\":\"histogram2d\",\"colorbar\":{\"outlinewidth\":0,\"ticks\":\"\"},\"colorscale\":[[0.0,\"#0d0887\"],[0.1111111111111111,\"#46039f\"],[0.2222222222222222,\"#7201a8\"],[0.3333333333333333,\"#9c179e\"],[0.4444444444444444,\"#bd3786\"],[0.5555555555555556,\"#d8576b\"],[0.6666666666666666,\"#ed7953\"],[0.7777777777777778,\"#fb9f3a\"],[0.8888888888888888,\"#fdca26\"],[1.0,\"#f0f921\"]]}],\"heatmap\":[{\"type\":\"heatmap\",\"colorbar\":{\"outlinewidth\":0,\"ticks\":\"\"},\"colorscale\":[[0.0,\"#0d0887\"],[0.1111111111111111,\"#46039f\"],[0.2222222222222222,\"#7201a8\"],[0.3333333333333333,\"#9c179e\"],[0.4444444444444444,\"#bd3786\"],[0.5555555555555556,\"#d8576b\"],[0.6666666666666666,\"#ed7953\"],[0.7777777777777778,\"#fb9f3a\"],[0.8888888888888888,\"#fdca26\"],[1.0,\"#f0f921\"]]}],\"heatmapgl\":[{\"type\":\"heatmapgl\",\"colorbar\":{\"outlinewidth\":0,\"ticks\":\"\"},\"colorscale\":[[0.0,\"#0d0887\"],[0.1111111111111111,\"#46039f\"],[0.2222222222222222,\"#7201a8\"],[0.3333333333333333,\"#9c179e\"],[0.4444444444444444,\"#bd3786\"],[0.5555555555555556,\"#d8576b\"],[0.6666666666666666,\"#ed7953\"],[0.7777777777777778,\"#fb9f3a\"],[0.8888888888888888,\"#fdca26\"],[1.0,\"#f0f921\"]]}],\"contourcarpet\":[{\"type\":\"contourcarpet\",\"colorbar\":{\"outlinewidth\":0,\"ticks\":\"\"}}],\"contour\":[{\"type\":\"contour\",\"colorbar\":{\"outlinewidth\":0,\"ticks\":\"\"},\"colorscale\":[[0.0,\"#0d0887\"],[0.1111111111111111,\"#46039f\"],[0.2222222222222222,\"#7201a8\"],[0.3333333333333333,\"#9c179e\"],[0.4444444444444444,\"#bd3786\"],[0.5555555555555556,\"#d8576b\"],[0.6666666666666666,\"#ed7953\"],[0.7777777777777778,\"#fb9f3a\"],[0.8888888888888888,\"#fdca26\"],[1.0,\"#f0f921\"]]}],\"surface\":[{\"type\":\"surface\",\"colorbar\":{\"outlinewidth\":0,\"ticks\":\"\"},\"colorscale\":[[0.0,\"#0d0887\"],[0.1111111111111111,\"#46039f\"],[0.2222222222222222,\"#7201a8\"],[0.3333333333333333,\"#9c179e\"],[0.4444444444444444,\"#bd3786\"],[0.5555555555555556,\"#d8576b\"],[0.6666666666666666,\"#ed7953\"],[0.7777777777777778,\"#fb9f3a\"],[0.8888888888888888,\"#fdca26\"],[1.0,\"#f0f921\"]]}],\"mesh3d\":[{\"type\":\"mesh3d\",\"colorbar\":{\"outlinewidth\":0,\"ticks\":\"\"}}],\"scatter\":[{\"fillpattern\":{\"fillmode\":\"overlay\",\"size\":10,\"solidity\":0.2},\"type\":\"scatter\"}],\"parcoords\":[{\"type\":\"parcoords\",\"line\":{\"colorbar\":{\"outlinewidth\":0,\"ticks\":\"\"}}}],\"scatterpolargl\":[{\"type\":\"scatterpolargl\",\"marker\":{\"colorbar\":{\"outlinewidth\":0,\"ticks\":\"\"}}}],\"bar\":[{\"error_x\":{\"color\":\"#2a3f5f\"},\"error_y\":{\"color\":\"#2a3f5f\"},\"marker\":{\"line\":{\"color\":\"#E5ECF6\",\"width\":0.5},\"pattern\":{\"fillmode\":\"overlay\",\"size\":10,\"solidity\":0.2}},\"type\":\"bar\"}],\"scattergeo\":[{\"type\":\"scattergeo\",\"marker\":{\"colorbar\":{\"outlinewidth\":0,\"ticks\":\"\"}}}],\"scatterpolar\":[{\"type\":\"scatterpolar\",\"marker\":{\"colorbar\":{\"outlinewidth\":0,\"ticks\":\"\"}}}],\"histogram\":[{\"marker\":{\"pattern\":{\"fillmode\":\"overlay\",\"size\":10,\"solidity\":0.2}},\"type\":\"histogram\"}],\"scattergl\":[{\"type\":\"scattergl\",\"marker\":{\"colorbar\":{\"outlinewidth\":0,\"ticks\":\"\"}}}],\"scatter3d\":[{\"type\":\"scatter3d\",\"line\":{\"colorbar\":{\"outlinewidth\":0,\"ticks\":\"\"}},\"marker\":{\"colorbar\":{\"outlinewidth\":0,\"ticks\":\"\"}}}],\"scattermapbox\":[{\"type\":\"scattermapbox\",\"marker\":{\"colorbar\":{\"outlinewidth\":0,\"ticks\":\"\"}}}],\"scatterternary\":[{\"type\":\"scatterternary\",\"marker\":{\"colorbar\":{\"outlinewidth\":0,\"ticks\":\"\"}}}],\"scattercarpet\":[{\"type\":\"scattercarpet\",\"marker\":{\"colorbar\":{\"outlinewidth\":0,\"ticks\":\"\"}}}],\"carpet\":[{\"aaxis\":{\"endlinecolor\":\"#2a3f5f\",\"gridcolor\":\"white\",\"linecolor\":\"white\",\"minorgridcolor\":\"white\",\"startlinecolor\":\"#2a3f5f\"},\"baxis\":{\"endlinecolor\":\"#2a3f5f\",\"gridcolor\":\"white\",\"linecolor\":\"white\",\"minorgridcolor\":\"white\",\"startlinecolor\":\"#2a3f5f\"},\"type\":\"carpet\"}],\"table\":[{\"cells\":{\"fill\":{\"color\":\"#EBF0F8\"},\"line\":{\"color\":\"white\"}},\"header\":{\"fill\":{\"color\":\"#C8D4E3\"},\"line\":{\"color\":\"white\"}},\"type\":\"table\"}],\"barpolar\":[{\"marker\":{\"line\":{\"color\":\"#E5ECF6\",\"width\":0.5},\"pattern\":{\"fillmode\":\"overlay\",\"size\":10,\"solidity\":0.2}},\"type\":\"barpolar\"}],\"pie\":[{\"automargin\":true,\"type\":\"pie\"}]},\"layout\":{\"autotypenumbers\":\"strict\",\"colorway\":[\"#636efa\",\"#EF553B\",\"#00cc96\",\"#ab63fa\",\"#FFA15A\",\"#19d3f3\",\"#FF6692\",\"#B6E880\",\"#FF97FF\",\"#FECB52\"],\"font\":{\"color\":\"#2a3f5f\"},\"hovermode\":\"closest\",\"hoverlabel\":{\"align\":\"left\"},\"paper_bgcolor\":\"white\",\"plot_bgcolor\":\"#E5ECF6\",\"polar\":{\"bgcolor\":\"#E5ECF6\",\"angularaxis\":{\"gridcolor\":\"white\",\"linecolor\":\"white\",\"ticks\":\"\"},\"radialaxis\":{\"gridcolor\":\"white\",\"linecolor\":\"white\",\"ticks\":\"\"}},\"ternary\":{\"bgcolor\":\"#E5ECF6\",\"aaxis\":{\"gridcolor\":\"white\",\"linecolor\":\"white\",\"ticks\":\"\"},\"baxis\":{\"gridcolor\":\"white\",\"linecolor\":\"white\",\"ticks\":\"\"},\"caxis\":{\"gridcolor\":\"white\",\"linecolor\":\"white\",\"ticks\":\"\"}},\"coloraxis\":{\"colorbar\":{\"outlinewidth\":0,\"ticks\":\"\"}},\"colorscale\":{\"sequential\":[[0.0,\"#0d0887\"],[0.1111111111111111,\"#46039f\"],[0.2222222222222222,\"#7201a8\"],[0.3333333333333333,\"#9c179e\"],[0.4444444444444444,\"#bd3786\"],[0.5555555555555556,\"#d8576b\"],[0.6666666666666666,\"#ed7953\"],[0.7777777777777778,\"#fb9f3a\"],[0.8888888888888888,\"#fdca26\"],[1.0,\"#f0f921\"]],\"sequentialminus\":[[0.0,\"#0d0887\"],[0.1111111111111111,\"#46039f\"],[0.2222222222222222,\"#7201a8\"],[0.3333333333333333,\"#9c179e\"],[0.4444444444444444,\"#bd3786\"],[0.5555555555555556,\"#d8576b\"],[0.6666666666666666,\"#ed7953\"],[0.7777777777777778,\"#fb9f3a\"],[0.8888888888888888,\"#fdca26\"],[1.0,\"#f0f921\"]],\"diverging\":[[0,\"#8e0152\"],[0.1,\"#c51b7d\"],[0.2,\"#de77ae\"],[0.3,\"#f1b6da\"],[0.4,\"#fde0ef\"],[0.5,\"#f7f7f7\"],[0.6,\"#e6f5d0\"],[0.7,\"#b8e186\"],[0.8,\"#7fbc41\"],[0.9,\"#4d9221\"],[1,\"#276419\"]]},\"xaxis\":{\"gridcolor\":\"white\",\"linecolor\":\"white\",\"ticks\":\"\",\"title\":{\"standoff\":15},\"zerolinecolor\":\"white\",\"automargin\":true,\"zerolinewidth\":2},\"yaxis\":{\"gridcolor\":\"white\",\"linecolor\":\"white\",\"ticks\":\"\",\"title\":{\"standoff\":15},\"zerolinecolor\":\"white\",\"automargin\":true,\"zerolinewidth\":2},\"scene\":{\"xaxis\":{\"backgroundcolor\":\"#E5ECF6\",\"gridcolor\":\"white\",\"linecolor\":\"white\",\"showbackground\":true,\"ticks\":\"\",\"zerolinecolor\":\"white\",\"gridwidth\":2},\"yaxis\":{\"backgroundcolor\":\"#E5ECF6\",\"gridcolor\":\"white\",\"linecolor\":\"white\",\"showbackground\":true,\"ticks\":\"\",\"zerolinecolor\":\"white\",\"gridwidth\":2},\"zaxis\":{\"backgroundcolor\":\"#E5ECF6\",\"gridcolor\":\"white\",\"linecolor\":\"white\",\"showbackground\":true,\"ticks\":\"\",\"zerolinecolor\":\"white\",\"gridwidth\":2}},\"shapedefaults\":{\"line\":{\"color\":\"#2a3f5f\"}},\"annotationdefaults\":{\"arrowcolor\":\"#2a3f5f\",\"arrowhead\":0,\"arrowwidth\":1},\"geo\":{\"bgcolor\":\"white\",\"landcolor\":\"#E5ECF6\",\"subunitcolor\":\"white\",\"showland\":true,\"showlakes\":true,\"lakecolor\":\"white\"},\"title\":{\"x\":0.05},\"mapbox\":{\"style\":\"light\"}}},\"xaxis\":{\"anchor\":\"y\",\"domain\":[0.0,1.0],\"title\":{\"text\":\"Brasil\"}},\"yaxis\":{\"anchor\":\"x\",\"domain\":[0.0,1.0],\"title\":{\"text\":\"Confirmados\"}},\"legend\":{\"tracegroupgap\":0,\"title\":{\"text\":\"<b>COVID-19</b>\"},\"x\":0.75,\"y\":0.5},\"margin\":{\"t\":60},\"boxmode\":\"group\",\"title\":{\"text\":\"COVID-19 in Brazil: Boxplot casos\"},\"width\":900,\"height\":600},                        {\"responsive\": true}                    ).then(function(){\n",
       "                            \n",
       "var gd = document.getElementById('25604f43-0713-4426-aac2-9b27ff2f0a1e');\n",
       "var x = new MutationObserver(function (mutations, observer) {{\n",
       "        var display = window.getComputedStyle(gd).display;\n",
       "        if (!display || display === 'none') {{\n",
       "            console.log([gd, 'removed!']);\n",
       "            Plotly.purge(gd);\n",
       "            observer.disconnect();\n",
       "        }}\n",
       "}});\n",
       "\n",
       "// Listen for the removal of the full notebook cells\n",
       "var notebookContainer = gd.closest('#notebook-container');\n",
       "if (notebookContainer) {{\n",
       "    x.observe(notebookContainer, {childList: true});\n",
       "}}\n",
       "\n",
       "// Listen for the clearing of the current output cell\n",
       "var outputEl = gd.closest('.output');\n",
       "if (outputEl) {{\n",
       "    x.observe(outputEl, {childList: true});\n",
       "}}\n",
       "\n",
       "                        })                };                });            </script>        </div>"
      ]
     },
     "metadata": {},
     "output_type": "display_data"
    }
   ],
   "source": [
    "fig = px.box(ultimo['confirmed'])\n",
    "fig.update_layout( title=\"COVID-19 in Brazil: Boxplot casos\", \n",
    "                  xaxis_title=\"Brasil\", yaxis_title=\"Confirmados\", legend_title='<b>COVID-19</b>',\n",
    "                  legend=dict(x=0.75,y=0.5), width=900, height=600)\n",
    "fig.show()"
   ]
  },
  {
   "cell_type": "code",
   "execution_count": 120,
   "id": "b6023a35",
   "metadata": {},
   "outputs": [
    {
     "data": {
      "application/vnd.plotly.v1+json": {
       "config": {
        "plotlyServerURL": "https://plot.ly"
       },
       "data": [
        {
         "alignmentgroup": "True",
         "hovertemplate": "variable=%{x}<br>value=%{y}<extra></extra>",
         "legendgroup": "",
         "marker": {
          "color": "#636efa"
         },
         "name": "",
         "notched": false,
         "offsetgroup": "",
         "orientation": "v",
         "showlegend": false,
         "type": "box",
         "x": [
          "deaths",
          "deaths",
          "deaths",
          "deaths",
          "deaths",
          "deaths",
          "deaths",
          "deaths",
          "deaths",
          "deaths",
          "deaths",
          "deaths",
          "deaths",
          "deaths",
          "deaths",
          "deaths",
          "deaths",
          "deaths",
          "deaths",
          "deaths",
          "deaths",
          "deaths",
          "deaths",
          "deaths",
          "deaths",
          "deaths",
          "deaths"
         ],
         "x0": " ",
         "xaxis": "x",
         "y": [
          2122,
          1992,
          14151,
          6869,
          11573,
          14323,
          26708,
          29658,
          10486,
          10869,
          26212,
          14854,
          18079,
          21366,
          10189,
          7721,
          72695,
          60767,
          8119,
          2144,
          7172,
          42896,
          6309,
          21648,
          4142,
          38985,
          167110
         ],
         "y0": " ",
         "yaxis": "y"
        }
       ],
       "layout": {
        "boxmode": "group",
        "height": 600,
        "legend": {
         "title": {
          "text": "<b>COVID-19</b>"
         },
         "tracegroupgap": 0,
         "x": 0.75,
         "y": 0.5
        },
        "margin": {
         "t": 60
        },
        "template": {
         "data": {
          "bar": [
           {
            "error_x": {
             "color": "#2a3f5f"
            },
            "error_y": {
             "color": "#2a3f5f"
            },
            "marker": {
             "line": {
              "color": "#E5ECF6",
              "width": 0.5
             },
             "pattern": {
              "fillmode": "overlay",
              "size": 10,
              "solidity": 0.2
             }
            },
            "type": "bar"
           }
          ],
          "barpolar": [
           {
            "marker": {
             "line": {
              "color": "#E5ECF6",
              "width": 0.5
             },
             "pattern": {
              "fillmode": "overlay",
              "size": 10,
              "solidity": 0.2
             }
            },
            "type": "barpolar"
           }
          ],
          "carpet": [
           {
            "aaxis": {
             "endlinecolor": "#2a3f5f",
             "gridcolor": "white",
             "linecolor": "white",
             "minorgridcolor": "white",
             "startlinecolor": "#2a3f5f"
            },
            "baxis": {
             "endlinecolor": "#2a3f5f",
             "gridcolor": "white",
             "linecolor": "white",
             "minorgridcolor": "white",
             "startlinecolor": "#2a3f5f"
            },
            "type": "carpet"
           }
          ],
          "choropleth": [
           {
            "colorbar": {
             "outlinewidth": 0,
             "ticks": ""
            },
            "type": "choropleth"
           }
          ],
          "contour": [
           {
            "colorbar": {
             "outlinewidth": 0,
             "ticks": ""
            },
            "colorscale": [
             [
              0,
              "#0d0887"
             ],
             [
              0.1111111111111111,
              "#46039f"
             ],
             [
              0.2222222222222222,
              "#7201a8"
             ],
             [
              0.3333333333333333,
              "#9c179e"
             ],
             [
              0.4444444444444444,
              "#bd3786"
             ],
             [
              0.5555555555555556,
              "#d8576b"
             ],
             [
              0.6666666666666666,
              "#ed7953"
             ],
             [
              0.7777777777777778,
              "#fb9f3a"
             ],
             [
              0.8888888888888888,
              "#fdca26"
             ],
             [
              1,
              "#f0f921"
             ]
            ],
            "type": "contour"
           }
          ],
          "contourcarpet": [
           {
            "colorbar": {
             "outlinewidth": 0,
             "ticks": ""
            },
            "type": "contourcarpet"
           }
          ],
          "heatmap": [
           {
            "colorbar": {
             "outlinewidth": 0,
             "ticks": ""
            },
            "colorscale": [
             [
              0,
              "#0d0887"
             ],
             [
              0.1111111111111111,
              "#46039f"
             ],
             [
              0.2222222222222222,
              "#7201a8"
             ],
             [
              0.3333333333333333,
              "#9c179e"
             ],
             [
              0.4444444444444444,
              "#bd3786"
             ],
             [
              0.5555555555555556,
              "#d8576b"
             ],
             [
              0.6666666666666666,
              "#ed7953"
             ],
             [
              0.7777777777777778,
              "#fb9f3a"
             ],
             [
              0.8888888888888888,
              "#fdca26"
             ],
             [
              1,
              "#f0f921"
             ]
            ],
            "type": "heatmap"
           }
          ],
          "heatmapgl": [
           {
            "colorbar": {
             "outlinewidth": 0,
             "ticks": ""
            },
            "colorscale": [
             [
              0,
              "#0d0887"
             ],
             [
              0.1111111111111111,
              "#46039f"
             ],
             [
              0.2222222222222222,
              "#7201a8"
             ],
             [
              0.3333333333333333,
              "#9c179e"
             ],
             [
              0.4444444444444444,
              "#bd3786"
             ],
             [
              0.5555555555555556,
              "#d8576b"
             ],
             [
              0.6666666666666666,
              "#ed7953"
             ],
             [
              0.7777777777777778,
              "#fb9f3a"
             ],
             [
              0.8888888888888888,
              "#fdca26"
             ],
             [
              1,
              "#f0f921"
             ]
            ],
            "type": "heatmapgl"
           }
          ],
          "histogram": [
           {
            "marker": {
             "pattern": {
              "fillmode": "overlay",
              "size": 10,
              "solidity": 0.2
             }
            },
            "type": "histogram"
           }
          ],
          "histogram2d": [
           {
            "colorbar": {
             "outlinewidth": 0,
             "ticks": ""
            },
            "colorscale": [
             [
              0,
              "#0d0887"
             ],
             [
              0.1111111111111111,
              "#46039f"
             ],
             [
              0.2222222222222222,
              "#7201a8"
             ],
             [
              0.3333333333333333,
              "#9c179e"
             ],
             [
              0.4444444444444444,
              "#bd3786"
             ],
             [
              0.5555555555555556,
              "#d8576b"
             ],
             [
              0.6666666666666666,
              "#ed7953"
             ],
             [
              0.7777777777777778,
              "#fb9f3a"
             ],
             [
              0.8888888888888888,
              "#fdca26"
             ],
             [
              1,
              "#f0f921"
             ]
            ],
            "type": "histogram2d"
           }
          ],
          "histogram2dcontour": [
           {
            "colorbar": {
             "outlinewidth": 0,
             "ticks": ""
            },
            "colorscale": [
             [
              0,
              "#0d0887"
             ],
             [
              0.1111111111111111,
              "#46039f"
             ],
             [
              0.2222222222222222,
              "#7201a8"
             ],
             [
              0.3333333333333333,
              "#9c179e"
             ],
             [
              0.4444444444444444,
              "#bd3786"
             ],
             [
              0.5555555555555556,
              "#d8576b"
             ],
             [
              0.6666666666666666,
              "#ed7953"
             ],
             [
              0.7777777777777778,
              "#fb9f3a"
             ],
             [
              0.8888888888888888,
              "#fdca26"
             ],
             [
              1,
              "#f0f921"
             ]
            ],
            "type": "histogram2dcontour"
           }
          ],
          "mesh3d": [
           {
            "colorbar": {
             "outlinewidth": 0,
             "ticks": ""
            },
            "type": "mesh3d"
           }
          ],
          "parcoords": [
           {
            "line": {
             "colorbar": {
              "outlinewidth": 0,
              "ticks": ""
             }
            },
            "type": "parcoords"
           }
          ],
          "pie": [
           {
            "automargin": true,
            "type": "pie"
           }
          ],
          "scatter": [
           {
            "fillpattern": {
             "fillmode": "overlay",
             "size": 10,
             "solidity": 0.2
            },
            "type": "scatter"
           }
          ],
          "scatter3d": [
           {
            "line": {
             "colorbar": {
              "outlinewidth": 0,
              "ticks": ""
             }
            },
            "marker": {
             "colorbar": {
              "outlinewidth": 0,
              "ticks": ""
             }
            },
            "type": "scatter3d"
           }
          ],
          "scattercarpet": [
           {
            "marker": {
             "colorbar": {
              "outlinewidth": 0,
              "ticks": ""
             }
            },
            "type": "scattercarpet"
           }
          ],
          "scattergeo": [
           {
            "marker": {
             "colorbar": {
              "outlinewidth": 0,
              "ticks": ""
             }
            },
            "type": "scattergeo"
           }
          ],
          "scattergl": [
           {
            "marker": {
             "colorbar": {
              "outlinewidth": 0,
              "ticks": ""
             }
            },
            "type": "scattergl"
           }
          ],
          "scattermapbox": [
           {
            "marker": {
             "colorbar": {
              "outlinewidth": 0,
              "ticks": ""
             }
            },
            "type": "scattermapbox"
           }
          ],
          "scatterpolar": [
           {
            "marker": {
             "colorbar": {
              "outlinewidth": 0,
              "ticks": ""
             }
            },
            "type": "scatterpolar"
           }
          ],
          "scatterpolargl": [
           {
            "marker": {
             "colorbar": {
              "outlinewidth": 0,
              "ticks": ""
             }
            },
            "type": "scatterpolargl"
           }
          ],
          "scatterternary": [
           {
            "marker": {
             "colorbar": {
              "outlinewidth": 0,
              "ticks": ""
             }
            },
            "type": "scatterternary"
           }
          ],
          "surface": [
           {
            "colorbar": {
             "outlinewidth": 0,
             "ticks": ""
            },
            "colorscale": [
             [
              0,
              "#0d0887"
             ],
             [
              0.1111111111111111,
              "#46039f"
             ],
             [
              0.2222222222222222,
              "#7201a8"
             ],
             [
              0.3333333333333333,
              "#9c179e"
             ],
             [
              0.4444444444444444,
              "#bd3786"
             ],
             [
              0.5555555555555556,
              "#d8576b"
             ],
             [
              0.6666666666666666,
              "#ed7953"
             ],
             [
              0.7777777777777778,
              "#fb9f3a"
             ],
             [
              0.8888888888888888,
              "#fdca26"
             ],
             [
              1,
              "#f0f921"
             ]
            ],
            "type": "surface"
           }
          ],
          "table": [
           {
            "cells": {
             "fill": {
              "color": "#EBF0F8"
             },
             "line": {
              "color": "white"
             }
            },
            "header": {
             "fill": {
              "color": "#C8D4E3"
             },
             "line": {
              "color": "white"
             }
            },
            "type": "table"
           }
          ]
         },
         "layout": {
          "annotationdefaults": {
           "arrowcolor": "#2a3f5f",
           "arrowhead": 0,
           "arrowwidth": 1
          },
          "autotypenumbers": "strict",
          "coloraxis": {
           "colorbar": {
            "outlinewidth": 0,
            "ticks": ""
           }
          },
          "colorscale": {
           "diverging": [
            [
             0,
             "#8e0152"
            ],
            [
             0.1,
             "#c51b7d"
            ],
            [
             0.2,
             "#de77ae"
            ],
            [
             0.3,
             "#f1b6da"
            ],
            [
             0.4,
             "#fde0ef"
            ],
            [
             0.5,
             "#f7f7f7"
            ],
            [
             0.6,
             "#e6f5d0"
            ],
            [
             0.7,
             "#b8e186"
            ],
            [
             0.8,
             "#7fbc41"
            ],
            [
             0.9,
             "#4d9221"
            ],
            [
             1,
             "#276419"
            ]
           ],
           "sequential": [
            [
             0,
             "#0d0887"
            ],
            [
             0.1111111111111111,
             "#46039f"
            ],
            [
             0.2222222222222222,
             "#7201a8"
            ],
            [
             0.3333333333333333,
             "#9c179e"
            ],
            [
             0.4444444444444444,
             "#bd3786"
            ],
            [
             0.5555555555555556,
             "#d8576b"
            ],
            [
             0.6666666666666666,
             "#ed7953"
            ],
            [
             0.7777777777777778,
             "#fb9f3a"
            ],
            [
             0.8888888888888888,
             "#fdca26"
            ],
            [
             1,
             "#f0f921"
            ]
           ],
           "sequentialminus": [
            [
             0,
             "#0d0887"
            ],
            [
             0.1111111111111111,
             "#46039f"
            ],
            [
             0.2222222222222222,
             "#7201a8"
            ],
            [
             0.3333333333333333,
             "#9c179e"
            ],
            [
             0.4444444444444444,
             "#bd3786"
            ],
            [
             0.5555555555555556,
             "#d8576b"
            ],
            [
             0.6666666666666666,
             "#ed7953"
            ],
            [
             0.7777777777777778,
             "#fb9f3a"
            ],
            [
             0.8888888888888888,
             "#fdca26"
            ],
            [
             1,
             "#f0f921"
            ]
           ]
          },
          "colorway": [
           "#636efa",
           "#EF553B",
           "#00cc96",
           "#ab63fa",
           "#FFA15A",
           "#19d3f3",
           "#FF6692",
           "#B6E880",
           "#FF97FF",
           "#FECB52"
          ],
          "font": {
           "color": "#2a3f5f"
          },
          "geo": {
           "bgcolor": "white",
           "lakecolor": "white",
           "landcolor": "#E5ECF6",
           "showlakes": true,
           "showland": true,
           "subunitcolor": "white"
          },
          "hoverlabel": {
           "align": "left"
          },
          "hovermode": "closest",
          "mapbox": {
           "style": "light"
          },
          "paper_bgcolor": "white",
          "plot_bgcolor": "#E5ECF6",
          "polar": {
           "angularaxis": {
            "gridcolor": "white",
            "linecolor": "white",
            "ticks": ""
           },
           "bgcolor": "#E5ECF6",
           "radialaxis": {
            "gridcolor": "white",
            "linecolor": "white",
            "ticks": ""
           }
          },
          "scene": {
           "xaxis": {
            "backgroundcolor": "#E5ECF6",
            "gridcolor": "white",
            "gridwidth": 2,
            "linecolor": "white",
            "showbackground": true,
            "ticks": "",
            "zerolinecolor": "white"
           },
           "yaxis": {
            "backgroundcolor": "#E5ECF6",
            "gridcolor": "white",
            "gridwidth": 2,
            "linecolor": "white",
            "showbackground": true,
            "ticks": "",
            "zerolinecolor": "white"
           },
           "zaxis": {
            "backgroundcolor": "#E5ECF6",
            "gridcolor": "white",
            "gridwidth": 2,
            "linecolor": "white",
            "showbackground": true,
            "ticks": "",
            "zerolinecolor": "white"
           }
          },
          "shapedefaults": {
           "line": {
            "color": "#2a3f5f"
           }
          },
          "ternary": {
           "aaxis": {
            "gridcolor": "white",
            "linecolor": "white",
            "ticks": ""
           },
           "baxis": {
            "gridcolor": "white",
            "linecolor": "white",
            "ticks": ""
           },
           "bgcolor": "#E5ECF6",
           "caxis": {
            "gridcolor": "white",
            "linecolor": "white",
            "ticks": ""
           }
          },
          "title": {
           "x": 0.05
          },
          "xaxis": {
           "automargin": true,
           "gridcolor": "white",
           "linecolor": "white",
           "ticks": "",
           "title": {
            "standoff": 15
           },
           "zerolinecolor": "white",
           "zerolinewidth": 2
          },
          "yaxis": {
           "automargin": true,
           "gridcolor": "white",
           "linecolor": "white",
           "ticks": "",
           "title": {
            "standoff": 15
           },
           "zerolinecolor": "white",
           "zerolinewidth": 2
          }
         }
        },
        "title": {
         "text": "COVID-19 in Brazil: Boxplot casos"
        },
        "width": 900,
        "xaxis": {
         "anchor": "y",
         "domain": [
          0,
          1
         ],
         "title": {
          "text": "Brasil"
         }
        },
        "yaxis": {
         "anchor": "x",
         "domain": [
          0,
          1
         ],
         "title": {
          "text": "Mortes"
         }
        }
       }
      },
      "text/html": [
       "<div>                            <div id=\"f2b5aa83-3da6-4cbe-9930-17f394a76725\" class=\"plotly-graph-div\" style=\"height:600px; width:900px;\"></div>            <script type=\"text/javascript\">                require([\"plotly\"], function(Plotly) {                    window.PLOTLYENV=window.PLOTLYENV || {};                                    if (document.getElementById(\"f2b5aa83-3da6-4cbe-9930-17f394a76725\")) {                    Plotly.newPlot(                        \"f2b5aa83-3da6-4cbe-9930-17f394a76725\",                        [{\"alignmentgroup\":\"True\",\"hovertemplate\":\"variable=%{x}<br>value=%{y}<extra></extra>\",\"legendgroup\":\"\",\"marker\":{\"color\":\"#636efa\"},\"name\":\"\",\"notched\":false,\"offsetgroup\":\"\",\"orientation\":\"v\",\"showlegend\":false,\"x\":[\"deaths\",\"deaths\",\"deaths\",\"deaths\",\"deaths\",\"deaths\",\"deaths\",\"deaths\",\"deaths\",\"deaths\",\"deaths\",\"deaths\",\"deaths\",\"deaths\",\"deaths\",\"deaths\",\"deaths\",\"deaths\",\"deaths\",\"deaths\",\"deaths\",\"deaths\",\"deaths\",\"deaths\",\"deaths\",\"deaths\",\"deaths\"],\"x0\":\" \",\"xaxis\":\"x\",\"y\":[2122,1992,14151,6869,11573,14323,26708,29658,10486,10869,26212,14854,18079,21366,10189,7721,72695,60767,8119,2144,7172,42896,6309,21648,4142,38985,167110],\"y0\":\" \",\"yaxis\":\"y\",\"type\":\"box\"}],                        {\"template\":{\"data\":{\"histogram2dcontour\":[{\"type\":\"histogram2dcontour\",\"colorbar\":{\"outlinewidth\":0,\"ticks\":\"\"},\"colorscale\":[[0.0,\"#0d0887\"],[0.1111111111111111,\"#46039f\"],[0.2222222222222222,\"#7201a8\"],[0.3333333333333333,\"#9c179e\"],[0.4444444444444444,\"#bd3786\"],[0.5555555555555556,\"#d8576b\"],[0.6666666666666666,\"#ed7953\"],[0.7777777777777778,\"#fb9f3a\"],[0.8888888888888888,\"#fdca26\"],[1.0,\"#f0f921\"]]}],\"choropleth\":[{\"type\":\"choropleth\",\"colorbar\":{\"outlinewidth\":0,\"ticks\":\"\"}}],\"histogram2d\":[{\"type\":\"histogram2d\",\"colorbar\":{\"outlinewidth\":0,\"ticks\":\"\"},\"colorscale\":[[0.0,\"#0d0887\"],[0.1111111111111111,\"#46039f\"],[0.2222222222222222,\"#7201a8\"],[0.3333333333333333,\"#9c179e\"],[0.4444444444444444,\"#bd3786\"],[0.5555555555555556,\"#d8576b\"],[0.6666666666666666,\"#ed7953\"],[0.7777777777777778,\"#fb9f3a\"],[0.8888888888888888,\"#fdca26\"],[1.0,\"#f0f921\"]]}],\"heatmap\":[{\"type\":\"heatmap\",\"colorbar\":{\"outlinewidth\":0,\"ticks\":\"\"},\"colorscale\":[[0.0,\"#0d0887\"],[0.1111111111111111,\"#46039f\"],[0.2222222222222222,\"#7201a8\"],[0.3333333333333333,\"#9c179e\"],[0.4444444444444444,\"#bd3786\"],[0.5555555555555556,\"#d8576b\"],[0.6666666666666666,\"#ed7953\"],[0.7777777777777778,\"#fb9f3a\"],[0.8888888888888888,\"#fdca26\"],[1.0,\"#f0f921\"]]}],\"heatmapgl\":[{\"type\":\"heatmapgl\",\"colorbar\":{\"outlinewidth\":0,\"ticks\":\"\"},\"colorscale\":[[0.0,\"#0d0887\"],[0.1111111111111111,\"#46039f\"],[0.2222222222222222,\"#7201a8\"],[0.3333333333333333,\"#9c179e\"],[0.4444444444444444,\"#bd3786\"],[0.5555555555555556,\"#d8576b\"],[0.6666666666666666,\"#ed7953\"],[0.7777777777777778,\"#fb9f3a\"],[0.8888888888888888,\"#fdca26\"],[1.0,\"#f0f921\"]]}],\"contourcarpet\":[{\"type\":\"contourcarpet\",\"colorbar\":{\"outlinewidth\":0,\"ticks\":\"\"}}],\"contour\":[{\"type\":\"contour\",\"colorbar\":{\"outlinewidth\":0,\"ticks\":\"\"},\"colorscale\":[[0.0,\"#0d0887\"],[0.1111111111111111,\"#46039f\"],[0.2222222222222222,\"#7201a8\"],[0.3333333333333333,\"#9c179e\"],[0.4444444444444444,\"#bd3786\"],[0.5555555555555556,\"#d8576b\"],[0.6666666666666666,\"#ed7953\"],[0.7777777777777778,\"#fb9f3a\"],[0.8888888888888888,\"#fdca26\"],[1.0,\"#f0f921\"]]}],\"surface\":[{\"type\":\"surface\",\"colorbar\":{\"outlinewidth\":0,\"ticks\":\"\"},\"colorscale\":[[0.0,\"#0d0887\"],[0.1111111111111111,\"#46039f\"],[0.2222222222222222,\"#7201a8\"],[0.3333333333333333,\"#9c179e\"],[0.4444444444444444,\"#bd3786\"],[0.5555555555555556,\"#d8576b\"],[0.6666666666666666,\"#ed7953\"],[0.7777777777777778,\"#fb9f3a\"],[0.8888888888888888,\"#fdca26\"],[1.0,\"#f0f921\"]]}],\"mesh3d\":[{\"type\":\"mesh3d\",\"colorbar\":{\"outlinewidth\":0,\"ticks\":\"\"}}],\"scatter\":[{\"fillpattern\":{\"fillmode\":\"overlay\",\"size\":10,\"solidity\":0.2},\"type\":\"scatter\"}],\"parcoords\":[{\"type\":\"parcoords\",\"line\":{\"colorbar\":{\"outlinewidth\":0,\"ticks\":\"\"}}}],\"scatterpolargl\":[{\"type\":\"scatterpolargl\",\"marker\":{\"colorbar\":{\"outlinewidth\":0,\"ticks\":\"\"}}}],\"bar\":[{\"error_x\":{\"color\":\"#2a3f5f\"},\"error_y\":{\"color\":\"#2a3f5f\"},\"marker\":{\"line\":{\"color\":\"#E5ECF6\",\"width\":0.5},\"pattern\":{\"fillmode\":\"overlay\",\"size\":10,\"solidity\":0.2}},\"type\":\"bar\"}],\"scattergeo\":[{\"type\":\"scattergeo\",\"marker\":{\"colorbar\":{\"outlinewidth\":0,\"ticks\":\"\"}}}],\"scatterpolar\":[{\"type\":\"scatterpolar\",\"marker\":{\"colorbar\":{\"outlinewidth\":0,\"ticks\":\"\"}}}],\"histogram\":[{\"marker\":{\"pattern\":{\"fillmode\":\"overlay\",\"size\":10,\"solidity\":0.2}},\"type\":\"histogram\"}],\"scattergl\":[{\"type\":\"scattergl\",\"marker\":{\"colorbar\":{\"outlinewidth\":0,\"ticks\":\"\"}}}],\"scatter3d\":[{\"type\":\"scatter3d\",\"line\":{\"colorbar\":{\"outlinewidth\":0,\"ticks\":\"\"}},\"marker\":{\"colorbar\":{\"outlinewidth\":0,\"ticks\":\"\"}}}],\"scattermapbox\":[{\"type\":\"scattermapbox\",\"marker\":{\"colorbar\":{\"outlinewidth\":0,\"ticks\":\"\"}}}],\"scatterternary\":[{\"type\":\"scatterternary\",\"marker\":{\"colorbar\":{\"outlinewidth\":0,\"ticks\":\"\"}}}],\"scattercarpet\":[{\"type\":\"scattercarpet\",\"marker\":{\"colorbar\":{\"outlinewidth\":0,\"ticks\":\"\"}}}],\"carpet\":[{\"aaxis\":{\"endlinecolor\":\"#2a3f5f\",\"gridcolor\":\"white\",\"linecolor\":\"white\",\"minorgridcolor\":\"white\",\"startlinecolor\":\"#2a3f5f\"},\"baxis\":{\"endlinecolor\":\"#2a3f5f\",\"gridcolor\":\"white\",\"linecolor\":\"white\",\"minorgridcolor\":\"white\",\"startlinecolor\":\"#2a3f5f\"},\"type\":\"carpet\"}],\"table\":[{\"cells\":{\"fill\":{\"color\":\"#EBF0F8\"},\"line\":{\"color\":\"white\"}},\"header\":{\"fill\":{\"color\":\"#C8D4E3\"},\"line\":{\"color\":\"white\"}},\"type\":\"table\"}],\"barpolar\":[{\"marker\":{\"line\":{\"color\":\"#E5ECF6\",\"width\":0.5},\"pattern\":{\"fillmode\":\"overlay\",\"size\":10,\"solidity\":0.2}},\"type\":\"barpolar\"}],\"pie\":[{\"automargin\":true,\"type\":\"pie\"}]},\"layout\":{\"autotypenumbers\":\"strict\",\"colorway\":[\"#636efa\",\"#EF553B\",\"#00cc96\",\"#ab63fa\",\"#FFA15A\",\"#19d3f3\",\"#FF6692\",\"#B6E880\",\"#FF97FF\",\"#FECB52\"],\"font\":{\"color\":\"#2a3f5f\"},\"hovermode\":\"closest\",\"hoverlabel\":{\"align\":\"left\"},\"paper_bgcolor\":\"white\",\"plot_bgcolor\":\"#E5ECF6\",\"polar\":{\"bgcolor\":\"#E5ECF6\",\"angularaxis\":{\"gridcolor\":\"white\",\"linecolor\":\"white\",\"ticks\":\"\"},\"radialaxis\":{\"gridcolor\":\"white\",\"linecolor\":\"white\",\"ticks\":\"\"}},\"ternary\":{\"bgcolor\":\"#E5ECF6\",\"aaxis\":{\"gridcolor\":\"white\",\"linecolor\":\"white\",\"ticks\":\"\"},\"baxis\":{\"gridcolor\":\"white\",\"linecolor\":\"white\",\"ticks\":\"\"},\"caxis\":{\"gridcolor\":\"white\",\"linecolor\":\"white\",\"ticks\":\"\"}},\"coloraxis\":{\"colorbar\":{\"outlinewidth\":0,\"ticks\":\"\"}},\"colorscale\":{\"sequential\":[[0.0,\"#0d0887\"],[0.1111111111111111,\"#46039f\"],[0.2222222222222222,\"#7201a8\"],[0.3333333333333333,\"#9c179e\"],[0.4444444444444444,\"#bd3786\"],[0.5555555555555556,\"#d8576b\"],[0.6666666666666666,\"#ed7953\"],[0.7777777777777778,\"#fb9f3a\"],[0.8888888888888888,\"#fdca26\"],[1.0,\"#f0f921\"]],\"sequentialminus\":[[0.0,\"#0d0887\"],[0.1111111111111111,\"#46039f\"],[0.2222222222222222,\"#7201a8\"],[0.3333333333333333,\"#9c179e\"],[0.4444444444444444,\"#bd3786\"],[0.5555555555555556,\"#d8576b\"],[0.6666666666666666,\"#ed7953\"],[0.7777777777777778,\"#fb9f3a\"],[0.8888888888888888,\"#fdca26\"],[1.0,\"#f0f921\"]],\"diverging\":[[0,\"#8e0152\"],[0.1,\"#c51b7d\"],[0.2,\"#de77ae\"],[0.3,\"#f1b6da\"],[0.4,\"#fde0ef\"],[0.5,\"#f7f7f7\"],[0.6,\"#e6f5d0\"],[0.7,\"#b8e186\"],[0.8,\"#7fbc41\"],[0.9,\"#4d9221\"],[1,\"#276419\"]]},\"xaxis\":{\"gridcolor\":\"white\",\"linecolor\":\"white\",\"ticks\":\"\",\"title\":{\"standoff\":15},\"zerolinecolor\":\"white\",\"automargin\":true,\"zerolinewidth\":2},\"yaxis\":{\"gridcolor\":\"white\",\"linecolor\":\"white\",\"ticks\":\"\",\"title\":{\"standoff\":15},\"zerolinecolor\":\"white\",\"automargin\":true,\"zerolinewidth\":2},\"scene\":{\"xaxis\":{\"backgroundcolor\":\"#E5ECF6\",\"gridcolor\":\"white\",\"linecolor\":\"white\",\"showbackground\":true,\"ticks\":\"\",\"zerolinecolor\":\"white\",\"gridwidth\":2},\"yaxis\":{\"backgroundcolor\":\"#E5ECF6\",\"gridcolor\":\"white\",\"linecolor\":\"white\",\"showbackground\":true,\"ticks\":\"\",\"zerolinecolor\":\"white\",\"gridwidth\":2},\"zaxis\":{\"backgroundcolor\":\"#E5ECF6\",\"gridcolor\":\"white\",\"linecolor\":\"white\",\"showbackground\":true,\"ticks\":\"\",\"zerolinecolor\":\"white\",\"gridwidth\":2}},\"shapedefaults\":{\"line\":{\"color\":\"#2a3f5f\"}},\"annotationdefaults\":{\"arrowcolor\":\"#2a3f5f\",\"arrowhead\":0,\"arrowwidth\":1},\"geo\":{\"bgcolor\":\"white\",\"landcolor\":\"#E5ECF6\",\"subunitcolor\":\"white\",\"showland\":true,\"showlakes\":true,\"lakecolor\":\"white\"},\"title\":{\"x\":0.05},\"mapbox\":{\"style\":\"light\"}}},\"xaxis\":{\"anchor\":\"y\",\"domain\":[0.0,1.0],\"title\":{\"text\":\"Brasil\"}},\"yaxis\":{\"anchor\":\"x\",\"domain\":[0.0,1.0],\"title\":{\"text\":\"Mortes\"}},\"legend\":{\"tracegroupgap\":0,\"title\":{\"text\":\"<b>COVID-19</b>\"},\"x\":0.75,\"y\":0.5},\"margin\":{\"t\":60},\"boxmode\":\"group\",\"title\":{\"text\":\"COVID-19 in Brazil: Boxplot casos\"},\"width\":900,\"height\":600},                        {\"responsive\": true}                    ).then(function(){\n",
       "                            \n",
       "var gd = document.getElementById('f2b5aa83-3da6-4cbe-9930-17f394a76725');\n",
       "var x = new MutationObserver(function (mutations, observer) {{\n",
       "        var display = window.getComputedStyle(gd).display;\n",
       "        if (!display || display === 'none') {{\n",
       "            console.log([gd, 'removed!']);\n",
       "            Plotly.purge(gd);\n",
       "            observer.disconnect();\n",
       "        }}\n",
       "}});\n",
       "\n",
       "// Listen for the removal of the full notebook cells\n",
       "var notebookContainer = gd.closest('#notebook-container');\n",
       "if (notebookContainer) {{\n",
       "    x.observe(notebookContainer, {childList: true});\n",
       "}}\n",
       "\n",
       "// Listen for the clearing of the current output cell\n",
       "var outputEl = gd.closest('.output');\n",
       "if (outputEl) {{\n",
       "    x.observe(outputEl, {childList: true});\n",
       "}}\n",
       "\n",
       "                        })                };                });            </script>        </div>"
      ]
     },
     "metadata": {},
     "output_type": "display_data"
    }
   ],
   "source": [
    "fig = px.box(ultimo['deaths'])\n",
    "fig.update_layout( title=\"COVID-19 in Brazil: Boxplot mortes\", \n",
    "                  xaxis_title=\"Brasil\", yaxis_title=\"Mortes\", legend_title='<b>COVID-19</b>',\n",
    "                  legend=dict(x=0.75,y=0.5), width=900, height=600)\n",
    "fig.show()"
   ]
  },
  {
   "cell_type": "markdown",
   "id": "acb7edb0",
   "metadata": {},
   "source": [
    "MEDIA PARA MORTOS E CONFIRMADOS"
   ]
  },
  {
   "cell_type": "code",
   "execution_count": 121,
   "id": "1fb9c2eb",
   "metadata": {},
   "outputs": [
    {
     "data": {
      "text/plain": [
       "confirmed    1.105546e+06\n",
       "deaths       2.441330e+04\n",
       "dtype: float64"
      ]
     },
     "execution_count": 121,
     "metadata": {},
     "output_type": "execute_result"
    }
   ],
   "source": [
    "quant[['confirmed', 'deaths']].mean()"
   ]
  },
  {
   "cell_type": "markdown",
   "id": "3cd9fdb3",
   "metadata": {},
   "source": [
    "INDICE DE MORTALIDADE PARA CONFIRMADOS"
   ]
  },
  {
   "cell_type": "code",
   "execution_count": 122,
   "id": "4f01a014",
   "metadata": {},
   "outputs": [
    {
     "data": {
      "text/plain": [
       "2.2082570903465157"
      ]
     },
     "execution_count": 122,
     "metadata": {},
     "output_type": "execute_result"
    }
   ],
   "source": [
    " (quant['deaths'].sum() * 100)/ quant['confirmed'].sum() "
   ]
  },
  {
   "cell_type": "markdown",
   "id": "3cde7bea",
   "metadata": {},
   "source": [
    "INDICE DE MORTALIDADE PARA POPULAÇÃO ESTIMADA"
   ]
  },
  {
   "cell_type": "code",
   "execution_count": 123,
   "id": "23e36119",
   "metadata": {},
   "outputs": [
    {
     "data": {
      "text/plain": [
       "0.3112827777021455"
      ]
     },
     "execution_count": 123,
     "metadata": {},
     "output_type": "execute_result"
    }
   ],
   "source": [
    "(quant['deaths'].sum() * 100)/quant['estimated_population'].sum()"
   ]
  }
 ],
 "metadata": {
  "kernelspec": {
   "display_name": "Python 3 (ipykernel)",
   "language": "python",
   "name": "python3"
  },
  "language_info": {
   "codemirror_mode": {
    "name": "ipython",
    "version": 3
   },
   "file_extension": ".py",
   "mimetype": "text/x-python",
   "name": "python",
   "nbconvert_exporter": "python",
   "pygments_lexer": "ipython3",
   "version": "3.9.13"
  }
 },
 "nbformat": 4,
 "nbformat_minor": 5
}
